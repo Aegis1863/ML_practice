{
 "cells": [
  {
   "cell_type": "markdown",
   "id": "cf2faade",
   "metadata": {},
   "source": [
    "# 数据情况概览"
   ]
  },
  {
   "cell_type": "code",
   "execution_count": 1,
   "id": "be0f6007",
   "metadata": {
    "ExecuteTime": {
     "end_time": "2022-01-12T14:57:14.168836Z",
     "start_time": "2022-01-12T14:57:02.460837Z"
    }
   },
   "outputs": [],
   "source": [
    "import pandas as pd\n",
    "import numpy as np\n",
    "\n",
    "x = pd.read_excel(r'C:\\Users\\hasee\\OneDrive\\桌面\\2021年MathorCup大数据竞赛赛道A\\附件\\附件1：估价训练数据.xlsx')"
   ]
  },
  {
   "cell_type": "code",
   "execution_count": 2,
   "id": "4cafae5c",
   "metadata": {
    "ExecuteTime": {
     "end_time": "2022-01-12T14:57:14.216464Z",
     "start_time": "2022-01-12T14:57:14.170547Z"
    }
   },
   "outputs": [
    {
     "data": {
      "text/html": [
       "<div>\n",
       "<style scoped>\n",
       "    .dataframe tbody tr th:only-of-type {\n",
       "        vertical-align: middle;\n",
       "    }\n",
       "\n",
       "    .dataframe tbody tr th {\n",
       "        vertical-align: top;\n",
       "    }\n",
       "\n",
       "    .dataframe thead th {\n",
       "        text-align: right;\n",
       "    }\n",
       "</style>\n",
       "<table border=\"1\" class=\"dataframe\">\n",
       "  <thead>\n",
       "    <tr style=\"text-align: right;\">\n",
       "      <th></th>\n",
       "      <th>carid</th>\n",
       "      <th>tradeTime</th>\n",
       "      <th>brand</th>\n",
       "      <th>serial</th>\n",
       "      <th>model</th>\n",
       "      <th>mileage</th>\n",
       "      <th>color</th>\n",
       "      <th>cityId</th>\n",
       "      <th>carCode</th>\n",
       "      <th>transferCount</th>\n",
       "      <th>...</th>\n",
       "      <th>af7</th>\n",
       "      <th>af8</th>\n",
       "      <th>af9</th>\n",
       "      <th>af10</th>\n",
       "      <th>af11</th>\n",
       "      <th>af12</th>\n",
       "      <th>af13</th>\n",
       "      <th>af14</th>\n",
       "      <th>af15</th>\n",
       "      <th>price</th>\n",
       "    </tr>\n",
       "  </thead>\n",
       "  <tbody>\n",
       "    <tr>\n",
       "      <th>0</th>\n",
       "      <td>1</td>\n",
       "      <td>2021-06-28</td>\n",
       "      <td>1</td>\n",
       "      <td>1</td>\n",
       "      <td>1</td>\n",
       "      <td>4.01</td>\n",
       "      <td>1</td>\n",
       "      <td>1</td>\n",
       "      <td>1.0</td>\n",
       "      <td>0</td>\n",
       "      <td>...</td>\n",
       "      <td>NaT</td>\n",
       "      <td>1.0</td>\n",
       "      <td>5.0</td>\n",
       "      <td>2.0</td>\n",
       "      <td>1</td>\n",
       "      <td>4220*1740*1625</td>\n",
       "      <td>201709.0</td>\n",
       "      <td>1</td>\n",
       "      <td>NaT</td>\n",
       "      <td>4.24</td>\n",
       "    </tr>\n",
       "    <tr>\n",
       "      <th>1</th>\n",
       "      <td>2</td>\n",
       "      <td>2021-06-25</td>\n",
       "      <td>2</td>\n",
       "      <td>2</td>\n",
       "      <td>2</td>\n",
       "      <td>8.60</td>\n",
       "      <td>1</td>\n",
       "      <td>2</td>\n",
       "      <td>1.0</td>\n",
       "      <td>0</td>\n",
       "      <td>...</td>\n",
       "      <td>NaT</td>\n",
       "      <td>2.0</td>\n",
       "      <td>4.0</td>\n",
       "      <td>3.0</td>\n",
       "      <td>1+2</td>\n",
       "      <td>4630*1775*1480</td>\n",
       "      <td>201609.0</td>\n",
       "      <td>2</td>\n",
       "      <td>NaT</td>\n",
       "      <td>7.38</td>\n",
       "    </tr>\n",
       "    <tr>\n",
       "      <th>2</th>\n",
       "      <td>5</td>\n",
       "      <td>2021-06-19</td>\n",
       "      <td>5</td>\n",
       "      <td>5</td>\n",
       "      <td>5</td>\n",
       "      <td>15.56</td>\n",
       "      <td>1</td>\n",
       "      <td>2</td>\n",
       "      <td>3.0</td>\n",
       "      <td>0</td>\n",
       "      <td>...</td>\n",
       "      <td>NaT</td>\n",
       "      <td>NaN</td>\n",
       "      <td>NaN</td>\n",
       "      <td>NaN</td>\n",
       "      <td>NaN</td>\n",
       "      <td>4515*1725*1445</td>\n",
       "      <td>NaN</td>\n",
       "      <td>2</td>\n",
       "      <td>NaT</td>\n",
       "      <td>1.00</td>\n",
       "    </tr>\n",
       "    <tr>\n",
       "      <th>3</th>\n",
       "      <td>6</td>\n",
       "      <td>2021-06-29</td>\n",
       "      <td>6</td>\n",
       "      <td>6</td>\n",
       "      <td>6</td>\n",
       "      <td>6.04</td>\n",
       "      <td>1</td>\n",
       "      <td>3</td>\n",
       "      <td>1.0</td>\n",
       "      <td>3</td>\n",
       "      <td>...</td>\n",
       "      <td>2018-08-18</td>\n",
       "      <td>2.0</td>\n",
       "      <td>5.0</td>\n",
       "      <td>2.0</td>\n",
       "      <td>1</td>\n",
       "      <td>4500*1834*1707</td>\n",
       "      <td>201608.0</td>\n",
       "      <td>2</td>\n",
       "      <td>NaT</td>\n",
       "      <td>4.38</td>\n",
       "    </tr>\n",
       "    <tr>\n",
       "      <th>4</th>\n",
       "      <td>7</td>\n",
       "      <td>2021-06-30</td>\n",
       "      <td>7</td>\n",
       "      <td>7</td>\n",
       "      <td>7</td>\n",
       "      <td>5.70</td>\n",
       "      <td>4</td>\n",
       "      <td>1</td>\n",
       "      <td>2.0</td>\n",
       "      <td>2</td>\n",
       "      <td>...</td>\n",
       "      <td>2020-09-20</td>\n",
       "      <td>1.0</td>\n",
       "      <td>5.0</td>\n",
       "      <td>2.0</td>\n",
       "      <td>1</td>\n",
       "      <td>4315*1783*1606</td>\n",
       "      <td>201204.0</td>\n",
       "      <td>1</td>\n",
       "      <td>NaT</td>\n",
       "      <td>5.90</td>\n",
       "    </tr>\n",
       "  </tbody>\n",
       "</table>\n",
       "<p>5 rows × 36 columns</p>\n",
       "</div>"
      ],
      "text/plain": [
       "   carid  tradeTime  brand  serial  model  mileage  color  cityId  carCode  \\\n",
       "0      1 2021-06-28      1       1      1     4.01      1       1      1.0   \n",
       "1      2 2021-06-25      2       2      2     8.60      1       2      1.0   \n",
       "2      5 2021-06-19      5       5      5    15.56      1       2      3.0   \n",
       "3      6 2021-06-29      6       6      6     6.04      1       3      1.0   \n",
       "4      7 2021-06-30      7       7      7     5.70      4       1      2.0   \n",
       "\n",
       "   transferCount  ...        af7  af8  af9  af10  af11            af12  \\\n",
       "0              0  ...        NaT  1.0  5.0   2.0     1  4220*1740*1625   \n",
       "1              0  ...        NaT  2.0  4.0   3.0   1+2  4630*1775*1480   \n",
       "2              0  ...        NaT  NaN  NaN   NaN   NaN  4515*1725*1445   \n",
       "3              3  ... 2018-08-18  2.0  5.0   2.0     1  4500*1834*1707   \n",
       "4              2  ... 2020-09-20  1.0  5.0   2.0     1  4315*1783*1606   \n",
       "\n",
       "       af13  af14  af15  price  \n",
       "0  201709.0     1   NaT   4.24  \n",
       "1  201609.0     2   NaT   7.38  \n",
       "2       NaN     2   NaT   1.00  \n",
       "3  201608.0     2   NaT   4.38  \n",
       "4  201204.0     1   NaT   5.90  \n",
       "\n",
       "[5 rows x 36 columns]"
      ]
     },
     "execution_count": 2,
     "metadata": {},
     "output_type": "execute_result"
    }
   ],
   "source": [
    "x.head()  # 预览数据"
   ]
  },
  {
   "cell_type": "code",
   "execution_count": 3,
   "id": "0b22eddd",
   "metadata": {
    "ExecuteTime": {
     "end_time": "2022-01-12T14:57:14.312169Z",
     "start_time": "2022-01-12T14:57:14.217421Z"
    }
   },
   "outputs": [
    {
     "data": {
      "text/html": [
       "<div>\n",
       "<style scoped>\n",
       "    .dataframe tbody tr th:only-of-type {\n",
       "        vertical-align: middle;\n",
       "    }\n",
       "\n",
       "    .dataframe tbody tr th {\n",
       "        vertical-align: top;\n",
       "    }\n",
       "\n",
       "    .dataframe thead th {\n",
       "        text-align: right;\n",
       "    }\n",
       "</style>\n",
       "<table border=\"1\" class=\"dataframe\">\n",
       "  <thead>\n",
       "    <tr style=\"text-align: right;\">\n",
       "      <th></th>\n",
       "      <th>carid</th>\n",
       "      <th>brand</th>\n",
       "      <th>serial</th>\n",
       "      <th>model</th>\n",
       "      <th>mileage</th>\n",
       "      <th>color</th>\n",
       "      <th>cityId</th>\n",
       "      <th>carCode</th>\n",
       "      <th>transferCount</th>\n",
       "      <th>seatings</th>\n",
       "      <th>...</th>\n",
       "      <th>af3</th>\n",
       "      <th>af4</th>\n",
       "      <th>af5</th>\n",
       "      <th>af6</th>\n",
       "      <th>af8</th>\n",
       "      <th>af9</th>\n",
       "      <th>af10</th>\n",
       "      <th>af13</th>\n",
       "      <th>af14</th>\n",
       "      <th>price</th>\n",
       "    </tr>\n",
       "  </thead>\n",
       "  <tbody>\n",
       "    <tr>\n",
       "      <th>count</th>\n",
       "      <td>30000.000000</td>\n",
       "      <td>30000.000000</td>\n",
       "      <td>30000.000000</td>\n",
       "      <td>30000.000000</td>\n",
       "      <td>30000.000000</td>\n",
       "      <td>30000.000000</td>\n",
       "      <td>30000.000000</td>\n",
       "      <td>29991.000000</td>\n",
       "      <td>30000.000000</td>\n",
       "      <td>30000.000000</td>\n",
       "      <td>...</td>\n",
       "      <td>30000.000000</td>\n",
       "      <td>17892.000000</td>\n",
       "      <td>30000.000000</td>\n",
       "      <td>30000.000000</td>\n",
       "      <td>26225.000000</td>\n",
       "      <td>26256.000000</td>\n",
       "      <td>23759.000000</td>\n",
       "      <td>28381.000000</td>\n",
       "      <td>30000.000000</td>\n",
       "      <td>30000.000000</td>\n",
       "    </tr>\n",
       "    <tr>\n",
       "      <th>mean</th>\n",
       "      <td>37099.253567</td>\n",
       "      <td>19.228300</td>\n",
       "      <td>237.707733</td>\n",
       "      <td>5312.047767</td>\n",
       "      <td>7.144473</td>\n",
       "      <td>2.786700</td>\n",
       "      <td>7.683000</td>\n",
       "      <td>1.612184</td>\n",
       "      <td>0.510900</td>\n",
       "      <td>5.110000</td>\n",
       "      <td>...</td>\n",
       "      <td>2.031067</td>\n",
       "      <td>215.428683</td>\n",
       "      <td>26.313867</td>\n",
       "      <td>2.299467</td>\n",
       "      <td>1.582307</td>\n",
       "      <td>4.418761</td>\n",
       "      <td>2.507934</td>\n",
       "      <td>201449.680631</td>\n",
       "      <td>1.398133</td>\n",
       "      <td>18.062224</td>\n",
       "    </tr>\n",
       "    <tr>\n",
       "      <th>std</th>\n",
       "      <td>21423.562842</td>\n",
       "      <td>18.009168</td>\n",
       "      <td>233.329093</td>\n",
       "      <td>4055.789248</td>\n",
       "      <td>4.383048</td>\n",
       "      <td>2.037599</td>\n",
       "      <td>9.294335</td>\n",
       "      <td>0.809380</td>\n",
       "      <td>0.796347</td>\n",
       "      <td>0.671204</td>\n",
       "      <td>...</td>\n",
       "      <td>0.424548</td>\n",
       "      <td>196.882864</td>\n",
       "      <td>25.557234</td>\n",
       "      <td>1.718687</td>\n",
       "      <td>0.767380</td>\n",
       "      <td>0.614021</td>\n",
       "      <td>0.500200</td>\n",
       "      <td>282.230336</td>\n",
       "      <td>0.496486</td>\n",
       "      <td>629.444049</td>\n",
       "    </tr>\n",
       "    <tr>\n",
       "      <th>min</th>\n",
       "      <td>1.000000</td>\n",
       "      <td>1.000000</td>\n",
       "      <td>1.000000</td>\n",
       "      <td>1.000000</td>\n",
       "      <td>0.010000</td>\n",
       "      <td>1.000000</td>\n",
       "      <td>1.000000</td>\n",
       "      <td>1.000000</td>\n",
       "      <td>0.000000</td>\n",
       "      <td>2.000000</td>\n",
       "      <td>...</td>\n",
       "      <td>1.000000</td>\n",
       "      <td>1.000000</td>\n",
       "      <td>1.000000</td>\n",
       "      <td>1.000000</td>\n",
       "      <td>1.000000</td>\n",
       "      <td>2.000000</td>\n",
       "      <td>1.000000</td>\n",
       "      <td>200606.000000</td>\n",
       "      <td>1.000000</td>\n",
       "      <td>0.050000</td>\n",
       "    </tr>\n",
       "    <tr>\n",
       "      <th>25%</th>\n",
       "      <td>18622.750000</td>\n",
       "      <td>8.000000</td>\n",
       "      <td>76.000000</td>\n",
       "      <td>1171.000000</td>\n",
       "      <td>3.907500</td>\n",
       "      <td>1.000000</td>\n",
       "      <td>1.000000</td>\n",
       "      <td>1.000000</td>\n",
       "      <td>0.000000</td>\n",
       "      <td>5.000000</td>\n",
       "      <td>...</td>\n",
       "      <td>2.000000</td>\n",
       "      <td>68.000000</td>\n",
       "      <td>9.000000</td>\n",
       "      <td>1.000000</td>\n",
       "      <td>1.000000</td>\n",
       "      <td>4.000000</td>\n",
       "      <td>2.000000</td>\n",
       "      <td>201211.000000</td>\n",
       "      <td>1.000000</td>\n",
       "      <td>6.100000</td>\n",
       "    </tr>\n",
       "    <tr>\n",
       "      <th>50%</th>\n",
       "      <td>36951.500000</td>\n",
       "      <td>13.000000</td>\n",
       "      <td>162.000000</td>\n",
       "      <td>4920.500000</td>\n",
       "      <td>6.540000</td>\n",
       "      <td>2.000000</td>\n",
       "      <td>4.000000</td>\n",
       "      <td>1.000000</td>\n",
       "      <td>0.000000</td>\n",
       "      <td>5.000000</td>\n",
       "      <td>...</td>\n",
       "      <td>2.000000</td>\n",
       "      <td>156.000000</td>\n",
       "      <td>19.000000</td>\n",
       "      <td>2.000000</td>\n",
       "      <td>1.000000</td>\n",
       "      <td>4.000000</td>\n",
       "      <td>3.000000</td>\n",
       "      <td>201504.000000</td>\n",
       "      <td>1.000000</td>\n",
       "      <td>10.479900</td>\n",
       "    </tr>\n",
       "    <tr>\n",
       "      <th>75%</th>\n",
       "      <td>55728.500000</td>\n",
       "      <td>23.000000</td>\n",
       "      <td>312.000000</td>\n",
       "      <td>8976.000000</td>\n",
       "      <td>9.540000</td>\n",
       "      <td>5.000000</td>\n",
       "      <td>14.000000</td>\n",
       "      <td>2.000000</td>\n",
       "      <td>1.000000</td>\n",
       "      <td>5.000000</td>\n",
       "      <td>...</td>\n",
       "      <td>2.000000</td>\n",
       "      <td>310.000000</td>\n",
       "      <td>34.000000</td>\n",
       "      <td>2.000000</td>\n",
       "      <td>2.000000</td>\n",
       "      <td>5.000000</td>\n",
       "      <td>3.000000</td>\n",
       "      <td>201702.000000</td>\n",
       "      <td>2.000000</td>\n",
       "      <td>18.000000</td>\n",
       "    </tr>\n",
       "    <tr>\n",
       "      <th>max</th>\n",
       "      <td>74156.000000</td>\n",
       "      <td>133.000000</td>\n",
       "      <td>1248.000000</td>\n",
       "      <td>12735.000000</td>\n",
       "      <td>44.740000</td>\n",
       "      <td>10.000000</td>\n",
       "      <td>93.000000</td>\n",
       "      <td>6.000000</td>\n",
       "      <td>10.000000</td>\n",
       "      <td>9.000000</td>\n",
       "      <td>...</td>\n",
       "      <td>11.000000</td>\n",
       "      <td>1037.000000</td>\n",
       "      <td>177.000000</td>\n",
       "      <td>15.000000</td>\n",
       "      <td>8.000000</td>\n",
       "      <td>6.000000</td>\n",
       "      <td>3.000000</td>\n",
       "      <td>202105.000000</td>\n",
       "      <td>3.000000</td>\n",
       "      <td>109000.000000</td>\n",
       "    </tr>\n",
       "  </tbody>\n",
       "</table>\n",
       "<p>8 rows × 29 columns</p>\n",
       "</div>"
      ],
      "text/plain": [
       "              carid         brand        serial         model       mileage  \\\n",
       "count  30000.000000  30000.000000  30000.000000  30000.000000  30000.000000   \n",
       "mean   37099.253567     19.228300    237.707733   5312.047767      7.144473   \n",
       "std    21423.562842     18.009168    233.329093   4055.789248      4.383048   \n",
       "min        1.000000      1.000000      1.000000      1.000000      0.010000   \n",
       "25%    18622.750000      8.000000     76.000000   1171.000000      3.907500   \n",
       "50%    36951.500000     13.000000    162.000000   4920.500000      6.540000   \n",
       "75%    55728.500000     23.000000    312.000000   8976.000000      9.540000   \n",
       "max    74156.000000    133.000000   1248.000000  12735.000000     44.740000   \n",
       "\n",
       "              color        cityId       carCode  transferCount      seatings  \\\n",
       "count  30000.000000  30000.000000  29991.000000   30000.000000  30000.000000   \n",
       "mean       2.786700      7.683000      1.612184       0.510900      5.110000   \n",
       "std        2.037599      9.294335      0.809380       0.796347      0.671204   \n",
       "min        1.000000      1.000000      1.000000       0.000000      2.000000   \n",
       "25%        1.000000      1.000000      1.000000       0.000000      5.000000   \n",
       "50%        2.000000      4.000000      1.000000       0.000000      5.000000   \n",
       "75%        5.000000     14.000000      2.000000       1.000000      5.000000   \n",
       "max       10.000000     93.000000      6.000000      10.000000      9.000000   \n",
       "\n",
       "       ...           af3           af4           af5           af6  \\\n",
       "count  ...  30000.000000  17892.000000  30000.000000  30000.000000   \n",
       "mean   ...      2.031067    215.428683     26.313867      2.299467   \n",
       "std    ...      0.424548    196.882864     25.557234      1.718687   \n",
       "min    ...      1.000000      1.000000      1.000000      1.000000   \n",
       "25%    ...      2.000000     68.000000      9.000000      1.000000   \n",
       "50%    ...      2.000000    156.000000     19.000000      2.000000   \n",
       "75%    ...      2.000000    310.000000     34.000000      2.000000   \n",
       "max    ...     11.000000   1037.000000    177.000000     15.000000   \n",
       "\n",
       "                af8           af9          af10           af13          af14  \\\n",
       "count  26225.000000  26256.000000  23759.000000   28381.000000  30000.000000   \n",
       "mean       1.582307      4.418761      2.507934  201449.680631      1.398133   \n",
       "std        0.767380      0.614021      0.500200     282.230336      0.496486   \n",
       "min        1.000000      2.000000      1.000000  200606.000000      1.000000   \n",
       "25%        1.000000      4.000000      2.000000  201211.000000      1.000000   \n",
       "50%        1.000000      4.000000      3.000000  201504.000000      1.000000   \n",
       "75%        2.000000      5.000000      3.000000  201702.000000      2.000000   \n",
       "max        8.000000      6.000000      3.000000  202105.000000      3.000000   \n",
       "\n",
       "               price  \n",
       "count   30000.000000  \n",
       "mean       18.062224  \n",
       "std       629.444049  \n",
       "min         0.050000  \n",
       "25%         6.100000  \n",
       "50%        10.479900  \n",
       "75%        18.000000  \n",
       "max    109000.000000  \n",
       "\n",
       "[8 rows x 29 columns]"
      ]
     },
     "execution_count": 3,
     "metadata": {},
     "output_type": "execute_result"
    }
   ],
   "source": [
    "x.describe()  # 描述统计"
   ]
  },
  {
   "cell_type": "code",
   "execution_count": 4,
   "id": "95ab6983",
   "metadata": {
    "ExecuteTime": {
     "end_time": "2022-01-12T14:57:14.343123Z",
     "start_time": "2022-01-12T14:57:14.314163Z"
    }
   },
   "outputs": [
    {
     "name": "stdout",
     "output_type": "stream",
     "text": [
      "<class 'pandas.core.frame.DataFrame'>\n",
      "RangeIndex: 30000 entries, 0 to 29999\n",
      "Data columns (total 36 columns):\n",
      " #   Column         Non-Null Count  Dtype         \n",
      "---  ------         --------------  -----         \n",
      " 0   carid          30000 non-null  int64         \n",
      " 1   tradeTime      30000 non-null  datetime64[ns]\n",
      " 2   brand          30000 non-null  int64         \n",
      " 3   serial         30000 non-null  int64         \n",
      " 4   model          30000 non-null  int64         \n",
      " 5   mileage        30000 non-null  float64       \n",
      " 6   color          30000 non-null  int64         \n",
      " 7   cityId         30000 non-null  int64         \n",
      " 8   carCode        29991 non-null  float64       \n",
      " 9   transferCount  30000 non-null  int64         \n",
      " 10  seatings       30000 non-null  int64         \n",
      " 11  registerDate   30000 non-null  datetime64[ns]\n",
      " 12  lincenseDate   30000 non-null  datetime64[ns]\n",
      " 13  country        26243 non-null  float64       \n",
      " 14  maketype       26359 non-null  float64       \n",
      " 15  modelyear      29688 non-null  float64       \n",
      " 16  displacement   30000 non-null  float64       \n",
      " 17  gearbox        29999 non-null  float64       \n",
      " 18  oiltype        30000 non-null  int64         \n",
      " 19  newprice       30000 non-null  float64       \n",
      " 20  af1            28418 non-null  float64       \n",
      " 21  af2            30000 non-null  int64         \n",
      " 22  af3            30000 non-null  int64         \n",
      " 23  af4            17892 non-null  float64       \n",
      " 24  af5            30000 non-null  int64         \n",
      " 25  af6            30000 non-null  int64         \n",
      " 26  af7            11956 non-null  datetime64[ns]\n",
      " 27  af8            26225 non-null  float64       \n",
      " 28  af9            26256 non-null  float64       \n",
      " 29  af10           23759 non-null  float64       \n",
      " 30  af11           29539 non-null  object        \n",
      " 31  af12           30000 non-null  object        \n",
      " 32  af13           28381 non-null  float64       \n",
      " 33  af14           30000 non-null  int64         \n",
      " 34  af15           2420 non-null   datetime64[ns]\n",
      " 35  price          30000 non-null  float64       \n",
      "dtypes: datetime64[ns](5), float64(15), int64(14), object(2)\n",
      "memory usage: 8.2+ MB\n"
     ]
    }
   ],
   "source": [
    "x.info()"
   ]
  },
  {
   "cell_type": "code",
   "execution_count": 5,
   "id": "fab7ddeb",
   "metadata": {
    "ExecuteTime": {
     "end_time": "2022-01-12T14:57:14.359044Z",
     "start_time": "2022-01-12T14:57:14.344083Z"
    }
   },
   "outputs": [
    {
     "data": {
      "text/plain": [
       "af15             91.93%\n",
       "af7              60.15%\n",
       "af4              40.36%\n",
       "af10             20.80%\n",
       "af8              12.58%\n",
       "country          12.52%\n",
       "af9              12.48%\n",
       "maketype         12.14%\n",
       "af13              5.40%\n",
       "af1               5.27%\n",
       "af11              1.54%\n",
       "modelyear         1.04%\n",
       "carCode           0.03%\n",
       "gearbox           0.00%\n",
       "af2               0.00%\n",
       "af6               0.00%\n",
       "af12              0.00%\n",
       "af5               0.00%\n",
       "af14              0.00%\n",
       "af3               0.00%\n",
       "carid             0.00%\n",
       "oiltype           0.00%\n",
       "newprice          0.00%\n",
       "tradeTime         0.00%\n",
       "displacement      0.00%\n",
       "lincenseDate      0.00%\n",
       "registerDate      0.00%\n",
       "seatings          0.00%\n",
       "transferCount     0.00%\n",
       "cityId            0.00%\n",
       "color             0.00%\n",
       "mileage           0.00%\n",
       "model             0.00%\n",
       "serial            0.00%\n",
       "brand             0.00%\n",
       "price             0.00%\n",
       "dtype: object"
      ]
     },
     "execution_count": 5,
     "metadata": {},
     "output_type": "execute_result"
    }
   ],
   "source": [
    "def loss_rate(x):  # 传入DF数据表\n",
    "    table = ((x.isnull().sum())/x.shape[0]).sort_values(ascending=False).map(lambda i:\"{:.2%}\".format(i))\n",
    "    return table\n",
    "#  缺失比例排序，变成百分比输出\n",
    "loss_rate(x)"
   ]
  },
  {
   "cell_type": "markdown",
   "id": "1b024ed8",
   "metadata": {},
   "source": [
    "# 数据处理"
   ]
  },
  {
   "cell_type": "markdown",
   "id": "e58faee1",
   "metadata": {},
   "source": [
    "## 处理缺失值"
   ]
  },
  {
   "cell_type": "markdown",
   "id": "939b30f2",
   "metadata": {},
   "source": [
    "> 该阶段无需进行标准化， 全部处理完再标准化"
   ]
  },
  {
   "cell_type": "markdown",
   "id": "31837958",
   "metadata": {},
   "source": [
    "### 处理缺失量太大的字段"
   ]
  },
  {
   "cell_type": "code",
   "execution_count": 6,
   "id": "5ca06248",
   "metadata": {
    "ExecuteTime": {
     "end_time": "2022-01-12T14:57:14.375043Z",
     "start_time": "2022-01-12T14:57:14.361038Z"
    }
   },
   "outputs": [],
   "source": [
    "x_dp = x.drop(['af15', 'af7', 'af4'], axis=1)  # 删除缺失量达40%以上的变量"
   ]
  },
  {
   "cell_type": "markdown",
   "id": "d88f01df",
   "metadata": {},
   "source": [
    "> 删除变量不改变数据总量，后续操作将改变数据量，每删除一次，就会导致剩余的缺失值的比例扩大，因此要删一次分析一次"
   ]
  },
  {
   "cell_type": "markdown",
   "id": "d9732051",
   "metadata": {},
   "source": [
    "### 处理af10"
   ]
  },
  {
   "cell_type": "code",
   "execution_count": 7,
   "id": "55b406b4",
   "metadata": {
    "ExecuteTime": {
     "end_time": "2022-01-12T14:57:14.390996Z",
     "start_time": "2022-01-12T14:57:14.375998Z"
    }
   },
   "outputs": [
    {
     "data": {
      "text/plain": [
       "6241"
      ]
     },
     "execution_count": 7,
     "metadata": {},
     "output_type": "execute_result"
    }
   ],
   "source": [
    "x_dp['af10'].isnull().sum()  # af10缺失的有接近五分之一"
   ]
  },
  {
   "cell_type": "code",
   "execution_count": 8,
   "id": "b37e5e0c",
   "metadata": {
    "ExecuteTime": {
     "end_time": "2022-01-12T14:57:14.406950Z",
     "start_time": "2022-01-12T14:57:14.391956Z"
    },
    "scrolled": true
   },
   "outputs": [
    {
     "name": "stdout",
     "output_type": "stream",
     "text": [
      "【特征统计】：\n",
      "count    23759.000000\n",
      "mean         2.507934\n",
      "std          0.500200\n",
      "min          1.000000\n",
      "25%          2.000000\n",
      "50%          3.000000\n",
      "75%          3.000000\n",
      "max          3.000000\n",
      "Name: af10, dtype: float64\n",
      "\n",
      "【类别统计】：\n",
      "3.0    12071\n",
      "2.0    11685\n",
      "1.0        3\n",
      "Name: af10, dtype: int64\n",
      "\n",
      "【缺失比例】：0.208033\n",
      "【缺失数量】：6241\n"
     ]
    }
   ],
   "source": [
    "def some_info(x):  # 传入字段名称即可，字符串，调用该函数查看信息，作为处理决策依据\n",
    "    print('【特征统计】：')\n",
    "    print(x_dp[x].describe(), end='\\n\\n')\n",
    "    print('【类别统计】：')\n",
    "    print(x_dp[x].value_counts(),end='\\n\\n')\n",
    "    print('【缺失比例】：%f'%((x_dp[x].isnull().sum())/x_dp[x].shape[0]))\n",
    "    print('【缺失数量】：%d'%x_dp[x].isnull().sum())\n",
    "some_info('af10')\n",
    "#  这里我考虑用平均数填补"
   ]
  },
  {
   "cell_type": "code",
   "execution_count": 9,
   "id": "eb27e8ad",
   "metadata": {
    "ExecuteTime": {
     "end_time": "2022-01-12T14:57:14.422872Z",
     "start_time": "2022-01-12T14:57:14.407913Z"
    }
   },
   "outputs": [],
   "source": [
    "x_dp['af10'] = x_dp['af10'].fillna(x_dp['af10'].mean())  # 填补x_dp['af10']"
   ]
  },
  {
   "cell_type": "code",
   "execution_count": 10,
   "id": "4a49b930",
   "metadata": {
    "ExecuteTime": {
     "end_time": "2022-01-12T14:57:14.438873Z",
     "start_time": "2022-01-12T14:57:14.425903Z"
    }
   },
   "outputs": [
    {
     "data": {
      "text/plain": [
       "af8              12.58%\n",
       "country          12.52%\n",
       "af9              12.48%\n",
       "maketype         12.14%\n",
       "af13              5.40%\n",
       "af1               5.27%\n",
       "af11              1.54%\n",
       "modelyear         1.04%\n",
       "carCode           0.03%\n",
       "gearbox           0.00%\n",
       "af10              0.00%\n",
       "newprice          0.00%\n",
       "af6               0.00%\n",
       "af5               0.00%\n",
       "af3               0.00%\n",
       "af12              0.00%\n",
       "af14              0.00%\n",
       "af2               0.00%\n",
       "carid             0.00%\n",
       "displacement      0.00%\n",
       "oiltype           0.00%\n",
       "tradeTime         0.00%\n",
       "lincenseDate      0.00%\n",
       "registerDate      0.00%\n",
       "seatings          0.00%\n",
       "transferCount     0.00%\n",
       "cityId            0.00%\n",
       "color             0.00%\n",
       "mileage           0.00%\n",
       "model             0.00%\n",
       "serial            0.00%\n",
       "brand             0.00%\n",
       "price             0.00%\n",
       "dtype: object"
      ]
     },
     "execution_count": 10,
     "metadata": {},
     "output_type": "execute_result"
    }
   ],
   "source": [
    "loss_rate(x_dp)  # 可见af10已经全部填充"
   ]
  },
  {
   "cell_type": "markdown",
   "id": "0511267e",
   "metadata": {},
   "source": [
    "### 处理af8"
   ]
  },
  {
   "cell_type": "code",
   "execution_count": 11,
   "id": "4c43f5f3",
   "metadata": {
    "ExecuteTime": {
     "end_time": "2022-01-12T14:57:14.454817Z",
     "start_time": "2022-01-12T14:57:14.439847Z"
    }
   },
   "outputs": [
    {
     "name": "stdout",
     "output_type": "stream",
     "text": [
      "【特征统计】：\n",
      "count    26225.000000\n",
      "mean         1.582307\n",
      "std          0.767380\n",
      "min          1.000000\n",
      "25%          1.000000\n",
      "50%          1.000000\n",
      "75%          2.000000\n",
      "max          8.000000\n",
      "Name: af8, dtype: float64\n",
      "\n",
      "【类别统计】：\n",
      "1.0    13319\n",
      "2.0    12002\n",
      "4.0      454\n",
      "5.0      371\n",
      "6.0       65\n",
      "8.0       14\n",
      "Name: af8, dtype: int64\n",
      "\n",
      "【缺失比例】：0.125833\n",
      "【缺失数量】：3775\n"
     ]
    }
   ],
   "source": [
    "some_info('af8')  # af8 暂不好提出解决办法（类别比较多，并且分布不均匀），姑且用平均数填"
   ]
  },
  {
   "cell_type": "code",
   "execution_count": 12,
   "id": "d6901d41",
   "metadata": {
    "ExecuteTime": {
     "end_time": "2022-01-12T14:57:14.470743Z",
     "start_time": "2022-01-12T14:57:14.455786Z"
    }
   },
   "outputs": [],
   "source": [
    "x_dp['af8'] = x_dp['af8'].fillna(x_dp['af8'].mean())  # 填补af8"
   ]
  },
  {
   "cell_type": "code",
   "execution_count": 13,
   "id": "1d6fd7c8",
   "metadata": {
    "ExecuteTime": {
     "end_time": "2022-01-12T14:57:14.500703Z",
     "start_time": "2022-01-12T14:57:14.471740Z"
    }
   },
   "outputs": [
    {
     "data": {
      "text/plain": [
       "country          12.52%\n",
       "af9              12.48%\n",
       "maketype         12.14%\n",
       "af13              5.40%\n",
       "af1               5.27%\n",
       "af11              1.54%\n",
       "modelyear         1.04%\n",
       "carCode           0.03%\n",
       "gearbox           0.00%\n",
       "af3               0.00%\n",
       "af2               0.00%\n",
       "carid             0.00%\n",
       "af5               0.00%\n",
       "af6               0.00%\n",
       "newprice          0.00%\n",
       "af10              0.00%\n",
       "af12              0.00%\n",
       "af14              0.00%\n",
       "af8               0.00%\n",
       "displacement      0.00%\n",
       "oiltype           0.00%\n",
       "tradeTime         0.00%\n",
       "lincenseDate      0.00%\n",
       "registerDate      0.00%\n",
       "seatings          0.00%\n",
       "transferCount     0.00%\n",
       "cityId            0.00%\n",
       "color             0.00%\n",
       "mileage           0.00%\n",
       "model             0.00%\n",
       "serial            0.00%\n",
       "brand             0.00%\n",
       "price             0.00%\n",
       "dtype: object"
      ]
     },
     "execution_count": 13,
     "metadata": {},
     "output_type": "execute_result"
    }
   ],
   "source": [
    "loss_rate(x_dp)  # af8已经填补"
   ]
  },
  {
   "cell_type": "markdown",
   "id": "a980609a",
   "metadata": {},
   "source": [
    "### 处理country"
   ]
  },
  {
   "cell_type": "code",
   "execution_count": 14,
   "id": "e9976372",
   "metadata": {
    "ExecuteTime": {
     "end_time": "2022-01-12T14:57:14.516620Z",
     "start_time": "2022-01-12T14:57:14.501663Z"
    }
   },
   "outputs": [
    {
     "name": "stdout",
     "output_type": "stream",
     "text": [
      "【特征统计】：\n",
      "count     26243.000000\n",
      "mean     777394.286667\n",
      "std       39624.220431\n",
      "min           0.000000\n",
      "25%      779412.000000\n",
      "50%      779413.000000\n",
      "75%      779415.000000\n",
      "max      779421.000000\n",
      "Name: country, dtype: float64\n",
      "\n",
      "【类别统计】：\n",
      "779412.0    10054\n",
      "779415.0     5809\n",
      "779416.0     3773\n",
      "779413.0     3094\n",
      "779419.0     1174\n",
      "779411.0      870\n",
      "779414.0      737\n",
      "779418.0      314\n",
      "779421.0      274\n",
      "779417.0       76\n",
      "0.0            68\n",
      "Name: country, dtype: int64\n",
      "\n",
      "【缺失比例】：0.125233\n",
      "【缺失数量】：3757\n"
     ]
    }
   ],
   "source": [
    "some_info('country')  # 'country'感觉只能删除缺失的，标记为0的也要删除"
   ]
  },
  {
   "cell_type": "code",
   "execution_count": 15,
   "id": "1cf32263",
   "metadata": {
    "ExecuteTime": {
     "end_time": "2022-01-12T14:57:14.532578Z",
     "start_time": "2022-01-12T14:57:14.517620Z"
    }
   },
   "outputs": [],
   "source": [
    "x_dp.dropna(subset=['country'], how='all', inplace=True)  # 不再保留删除空值之前的数据"
   ]
  },
  {
   "cell_type": "code",
   "execution_count": 16,
   "id": "12beb4a4",
   "metadata": {
    "ExecuteTime": {
     "end_time": "2022-01-12T14:57:14.609373Z",
     "start_time": "2022-01-12T14:57:14.533576Z"
    }
   },
   "outputs": [
    {
     "data": {
      "text/html": [
       "<div>\n",
       "<style scoped>\n",
       "    .dataframe tbody tr th:only-of-type {\n",
       "        vertical-align: middle;\n",
       "    }\n",
       "\n",
       "    .dataframe tbody tr th {\n",
       "        vertical-align: top;\n",
       "    }\n",
       "\n",
       "    .dataframe thead th {\n",
       "        text-align: right;\n",
       "    }\n",
       "</style>\n",
       "<table border=\"1\" class=\"dataframe\">\n",
       "  <thead>\n",
       "    <tr style=\"text-align: right;\">\n",
       "      <th></th>\n",
       "      <th>carid</th>\n",
       "      <th>brand</th>\n",
       "      <th>serial</th>\n",
       "      <th>model</th>\n",
       "      <th>mileage</th>\n",
       "      <th>color</th>\n",
       "      <th>cityId</th>\n",
       "      <th>carCode</th>\n",
       "      <th>transferCount</th>\n",
       "      <th>seatings</th>\n",
       "      <th>...</th>\n",
       "      <th>af2</th>\n",
       "      <th>af3</th>\n",
       "      <th>af5</th>\n",
       "      <th>af6</th>\n",
       "      <th>af8</th>\n",
       "      <th>af9</th>\n",
       "      <th>af10</th>\n",
       "      <th>af13</th>\n",
       "      <th>af14</th>\n",
       "      <th>price</th>\n",
       "    </tr>\n",
       "  </thead>\n",
       "  <tbody>\n",
       "    <tr>\n",
       "      <th>count</th>\n",
       "      <td>26243.000000</td>\n",
       "      <td>26243.000000</td>\n",
       "      <td>26243.000000</td>\n",
       "      <td>26243.000000</td>\n",
       "      <td>26243.000000</td>\n",
       "      <td>26243.000000</td>\n",
       "      <td>26243.000000</td>\n",
       "      <td>26236.000000</td>\n",
       "      <td>26243.000000</td>\n",
       "      <td>26243.000000</td>\n",
       "      <td>...</td>\n",
       "      <td>26243.000000</td>\n",
       "      <td>26243.000000</td>\n",
       "      <td>26243.000000</td>\n",
       "      <td>26243.000000</td>\n",
       "      <td>26243.000000</td>\n",
       "      <td>26149.000000</td>\n",
       "      <td>26243.000000</td>\n",
       "      <td>24750.000000</td>\n",
       "      <td>26243.00000</td>\n",
       "      <td>26243.000000</td>\n",
       "    </tr>\n",
       "    <tr>\n",
       "      <th>mean</th>\n",
       "      <td>37041.185764</td>\n",
       "      <td>18.651374</td>\n",
       "      <td>226.123804</td>\n",
       "      <td>5199.101970</td>\n",
       "      <td>7.604320</td>\n",
       "      <td>2.834203</td>\n",
       "      <td>7.593796</td>\n",
       "      <td>1.590601</td>\n",
       "      <td>0.529017</td>\n",
       "      <td>5.108143</td>\n",
       "      <td>...</td>\n",
       "      <td>5.243151</td>\n",
       "      <td>2.024426</td>\n",
       "      <td>25.681363</td>\n",
       "      <td>2.289449</td>\n",
       "      <td>1.581137</td>\n",
       "      <td>4.416383</td>\n",
       "      <td>2.509114</td>\n",
       "      <td>201412.184768</td>\n",
       "      <td>1.39321</td>\n",
       "      <td>17.687348</td>\n",
       "    </tr>\n",
       "    <tr>\n",
       "      <th>std</th>\n",
       "      <td>21444.625906</td>\n",
       "      <td>17.242950</td>\n",
       "      <td>224.910549</td>\n",
       "      <td>4069.665127</td>\n",
       "      <td>4.286582</td>\n",
       "      <td>2.056159</td>\n",
       "      <td>9.248213</td>\n",
       "      <td>0.732892</td>\n",
       "      <td>0.813363</td>\n",
       "      <td>0.668664</td>\n",
       "      <td>...</td>\n",
       "      <td>3.346350</td>\n",
       "      <td>0.389997</td>\n",
       "      <td>24.773918</td>\n",
       "      <td>1.688958</td>\n",
       "      <td>0.766595</td>\n",
       "      <td>0.614147</td>\n",
       "      <td>0.475306</td>\n",
       "      <td>268.958271</td>\n",
       "      <td>0.49552</td>\n",
       "      <td>672.916997</td>\n",
       "    </tr>\n",
       "    <tr>\n",
       "      <th>min</th>\n",
       "      <td>1.000000</td>\n",
       "      <td>1.000000</td>\n",
       "      <td>1.000000</td>\n",
       "      <td>1.000000</td>\n",
       "      <td>0.010000</td>\n",
       "      <td>1.000000</td>\n",
       "      <td>1.000000</td>\n",
       "      <td>1.000000</td>\n",
       "      <td>0.000000</td>\n",
       "      <td>2.000000</td>\n",
       "      <td>...</td>\n",
       "      <td>1.000000</td>\n",
       "      <td>1.000000</td>\n",
       "      <td>1.000000</td>\n",
       "      <td>1.000000</td>\n",
       "      <td>1.000000</td>\n",
       "      <td>2.000000</td>\n",
       "      <td>1.000000</td>\n",
       "      <td>200606.000000</td>\n",
       "      <td>1.00000</td>\n",
       "      <td>0.050000</td>\n",
       "    </tr>\n",
       "    <tr>\n",
       "      <th>25%</th>\n",
       "      <td>18538.000000</td>\n",
       "      <td>8.000000</td>\n",
       "      <td>71.000000</td>\n",
       "      <td>1084.000000</td>\n",
       "      <td>4.480000</td>\n",
       "      <td>1.000000</td>\n",
       "      <td>1.000000</td>\n",
       "      <td>1.000000</td>\n",
       "      <td>0.000000</td>\n",
       "      <td>5.000000</td>\n",
       "      <td>...</td>\n",
       "      <td>2.000000</td>\n",
       "      <td>2.000000</td>\n",
       "      <td>8.000000</td>\n",
       "      <td>1.000000</td>\n",
       "      <td>1.000000</td>\n",
       "      <td>4.000000</td>\n",
       "      <td>2.000000</td>\n",
       "      <td>201208.000000</td>\n",
       "      <td>1.00000</td>\n",
       "      <td>5.880000</td>\n",
       "    </tr>\n",
       "    <tr>\n",
       "      <th>50%</th>\n",
       "      <td>36858.000000</td>\n",
       "      <td>12.000000</td>\n",
       "      <td>156.000000</td>\n",
       "      <td>4730.000000</td>\n",
       "      <td>7.000000</td>\n",
       "      <td>2.000000</td>\n",
       "      <td>4.000000</td>\n",
       "      <td>1.000000</td>\n",
       "      <td>0.000000</td>\n",
       "      <td>5.000000</td>\n",
       "      <td>...</td>\n",
       "      <td>5.000000</td>\n",
       "      <td>2.000000</td>\n",
       "      <td>19.000000</td>\n",
       "      <td>2.000000</td>\n",
       "      <td>1.000000</td>\n",
       "      <td>4.000000</td>\n",
       "      <td>2.507934</td>\n",
       "      <td>201410.000000</td>\n",
       "      <td>1.00000</td>\n",
       "      <td>9.880000</td>\n",
       "    </tr>\n",
       "    <tr>\n",
       "      <th>75%</th>\n",
       "      <td>55786.500000</td>\n",
       "      <td>23.000000</td>\n",
       "      <td>290.000000</td>\n",
       "      <td>8918.000000</td>\n",
       "      <td>9.910000</td>\n",
       "      <td>5.000000</td>\n",
       "      <td>14.000000</td>\n",
       "      <td>2.000000</td>\n",
       "      <td>1.000000</td>\n",
       "      <td>5.000000</td>\n",
       "      <td>...</td>\n",
       "      <td>6.000000</td>\n",
       "      <td>2.000000</td>\n",
       "      <td>31.000000</td>\n",
       "      <td>2.000000</td>\n",
       "      <td>2.000000</td>\n",
       "      <td>5.000000</td>\n",
       "      <td>3.000000</td>\n",
       "      <td>201609.000000</td>\n",
       "      <td>2.00000</td>\n",
       "      <td>17.300000</td>\n",
       "    </tr>\n",
       "    <tr>\n",
       "      <th>max</th>\n",
       "      <td>74156.000000</td>\n",
       "      <td>133.000000</td>\n",
       "      <td>1248.000000</td>\n",
       "      <td>12735.000000</td>\n",
       "      <td>44.740000</td>\n",
       "      <td>10.000000</td>\n",
       "      <td>93.000000</td>\n",
       "      <td>6.000000</td>\n",
       "      <td>10.000000</td>\n",
       "      <td>9.000000</td>\n",
       "      <td>...</td>\n",
       "      <td>18.000000</td>\n",
       "      <td>11.000000</td>\n",
       "      <td>177.000000</td>\n",
       "      <td>15.000000</td>\n",
       "      <td>8.000000</td>\n",
       "      <td>6.000000</td>\n",
       "      <td>3.000000</td>\n",
       "      <td>202010.000000</td>\n",
       "      <td>3.00000</td>\n",
       "      <td>109000.000000</td>\n",
       "    </tr>\n",
       "  </tbody>\n",
       "</table>\n",
       "<p>8 rows × 28 columns</p>\n",
       "</div>"
      ],
      "text/plain": [
       "              carid         brand        serial         model       mileage  \\\n",
       "count  26243.000000  26243.000000  26243.000000  26243.000000  26243.000000   \n",
       "mean   37041.185764     18.651374    226.123804   5199.101970      7.604320   \n",
       "std    21444.625906     17.242950    224.910549   4069.665127      4.286582   \n",
       "min        1.000000      1.000000      1.000000      1.000000      0.010000   \n",
       "25%    18538.000000      8.000000     71.000000   1084.000000      4.480000   \n",
       "50%    36858.000000     12.000000    156.000000   4730.000000      7.000000   \n",
       "75%    55786.500000     23.000000    290.000000   8918.000000      9.910000   \n",
       "max    74156.000000    133.000000   1248.000000  12735.000000     44.740000   \n",
       "\n",
       "              color        cityId       carCode  transferCount      seatings  \\\n",
       "count  26243.000000  26243.000000  26236.000000   26243.000000  26243.000000   \n",
       "mean       2.834203      7.593796      1.590601       0.529017      5.108143   \n",
       "std        2.056159      9.248213      0.732892       0.813363      0.668664   \n",
       "min        1.000000      1.000000      1.000000       0.000000      2.000000   \n",
       "25%        1.000000      1.000000      1.000000       0.000000      5.000000   \n",
       "50%        2.000000      4.000000      1.000000       0.000000      5.000000   \n",
       "75%        5.000000     14.000000      2.000000       1.000000      5.000000   \n",
       "max       10.000000     93.000000      6.000000      10.000000      9.000000   \n",
       "\n",
       "       ...           af2           af3           af5           af6  \\\n",
       "count  ...  26243.000000  26243.000000  26243.000000  26243.000000   \n",
       "mean   ...      5.243151      2.024426     25.681363      2.289449   \n",
       "std    ...      3.346350      0.389997     24.773918      1.688958   \n",
       "min    ...      1.000000      1.000000      1.000000      1.000000   \n",
       "25%    ...      2.000000      2.000000      8.000000      1.000000   \n",
       "50%    ...      5.000000      2.000000     19.000000      2.000000   \n",
       "75%    ...      6.000000      2.000000     31.000000      2.000000   \n",
       "max    ...     18.000000     11.000000    177.000000     15.000000   \n",
       "\n",
       "                af8           af9          af10           af13         af14  \\\n",
       "count  26243.000000  26149.000000  26243.000000   24750.000000  26243.00000   \n",
       "mean       1.581137      4.416383      2.509114  201412.184768      1.39321   \n",
       "std        0.766595      0.614147      0.475306     268.958271      0.49552   \n",
       "min        1.000000      2.000000      1.000000  200606.000000      1.00000   \n",
       "25%        1.000000      4.000000      2.000000  201208.000000      1.00000   \n",
       "50%        1.000000      4.000000      2.507934  201410.000000      1.00000   \n",
       "75%        2.000000      5.000000      3.000000  201609.000000      2.00000   \n",
       "max        8.000000      6.000000      3.000000  202010.000000      3.00000   \n",
       "\n",
       "               price  \n",
       "count   26243.000000  \n",
       "mean       17.687348  \n",
       "std       672.916997  \n",
       "min         0.050000  \n",
       "25%         5.880000  \n",
       "50%         9.880000  \n",
       "75%        17.300000  \n",
       "max    109000.000000  \n",
       "\n",
       "[8 rows x 28 columns]"
      ]
     },
     "execution_count": 16,
     "metadata": {},
     "output_type": "execute_result"
    }
   ],
   "source": [
    "x_dp.describe()"
   ]
  },
  {
   "cell_type": "code",
   "execution_count": 17,
   "id": "fc8730c0",
   "metadata": {
    "ExecuteTime": {
     "end_time": "2022-01-12T14:57:14.625373Z",
     "start_time": "2022-01-12T14:57:14.610371Z"
    }
   },
   "outputs": [],
   "source": [
    "x_dp.drop(x_dp[x_dp['country'] == 0].index, inplace=True)  # 不再保留包含0值的数据"
   ]
  },
  {
   "cell_type": "code",
   "execution_count": 18,
   "id": "53abe4b4",
   "metadata": {
    "ExecuteTime": {
     "end_time": "2022-01-12T14:57:14.641327Z",
     "start_time": "2022-01-12T14:57:14.626334Z"
    },
    "scrolled": false
   },
   "outputs": [
    {
     "data": {
      "text/plain": [
       "af13             5.70%\n",
       "af1              5.00%\n",
       "af11             1.66%\n",
       "modelyear        1.10%\n",
       "af9              0.36%\n",
       "carCode          0.03%\n",
       "gearbox          0.00%\n",
       "af5              0.00%\n",
       "newprice         0.00%\n",
       "af2              0.00%\n",
       "af3              0.00%\n",
       "carid            0.00%\n",
       "af6              0.00%\n",
       "oiltype          0.00%\n",
       "af10             0.00%\n",
       "af12             0.00%\n",
       "af14             0.00%\n",
       "af8              0.00%\n",
       "displacement     0.00%\n",
       "tradeTime        0.00%\n",
       "maketype         0.00%\n",
       "country          0.00%\n",
       "lincenseDate     0.00%\n",
       "registerDate     0.00%\n",
       "seatings         0.00%\n",
       "transferCount    0.00%\n",
       "cityId           0.00%\n",
       "color            0.00%\n",
       "mileage          0.00%\n",
       "model            0.00%\n",
       "serial           0.00%\n",
       "brand            0.00%\n",
       "price            0.00%\n",
       "dtype: object"
      ]
     },
     "execution_count": 18,
     "metadata": {},
     "output_type": "execute_result"
    }
   ],
   "source": [
    "loss_rate(x_dp)"
   ]
  },
  {
   "cell_type": "code",
   "execution_count": 19,
   "id": "4dc56b0b",
   "metadata": {
    "ExecuteTime": {
     "end_time": "2022-01-12T14:57:14.737033Z",
     "start_time": "2022-01-12T14:57:14.642287Z"
    }
   },
   "outputs": [
    {
     "data": {
      "text/html": [
       "<div>\n",
       "<style scoped>\n",
       "    .dataframe tbody tr th:only-of-type {\n",
       "        vertical-align: middle;\n",
       "    }\n",
       "\n",
       "    .dataframe tbody tr th {\n",
       "        vertical-align: top;\n",
       "    }\n",
       "\n",
       "    .dataframe thead th {\n",
       "        text-align: right;\n",
       "    }\n",
       "</style>\n",
       "<table border=\"1\" class=\"dataframe\">\n",
       "  <thead>\n",
       "    <tr style=\"text-align: right;\">\n",
       "      <th></th>\n",
       "      <th>carid</th>\n",
       "      <th>brand</th>\n",
       "      <th>serial</th>\n",
       "      <th>model</th>\n",
       "      <th>mileage</th>\n",
       "      <th>color</th>\n",
       "      <th>cityId</th>\n",
       "      <th>carCode</th>\n",
       "      <th>transferCount</th>\n",
       "      <th>seatings</th>\n",
       "      <th>...</th>\n",
       "      <th>af2</th>\n",
       "      <th>af3</th>\n",
       "      <th>af5</th>\n",
       "      <th>af6</th>\n",
       "      <th>af8</th>\n",
       "      <th>af9</th>\n",
       "      <th>af10</th>\n",
       "      <th>af13</th>\n",
       "      <th>af14</th>\n",
       "      <th>price</th>\n",
       "    </tr>\n",
       "  </thead>\n",
       "  <tbody>\n",
       "    <tr>\n",
       "      <th>count</th>\n",
       "      <td>26175.000000</td>\n",
       "      <td>26175.000000</td>\n",
       "      <td>26175.000000</td>\n",
       "      <td>26175.000000</td>\n",
       "      <td>26175.000000</td>\n",
       "      <td>26175.000000</td>\n",
       "      <td>26175.000000</td>\n",
       "      <td>26168.000000</td>\n",
       "      <td>26175.000000</td>\n",
       "      <td>26175.000000</td>\n",
       "      <td>...</td>\n",
       "      <td>26175.000000</td>\n",
       "      <td>26175.000000</td>\n",
       "      <td>26175.000000</td>\n",
       "      <td>26175.000000</td>\n",
       "      <td>26175.000000</td>\n",
       "      <td>26081.000000</td>\n",
       "      <td>26175.000000</td>\n",
       "      <td>24682.000000</td>\n",
       "      <td>26175.000000</td>\n",
       "      <td>26175.000000</td>\n",
       "    </tr>\n",
       "    <tr>\n",
       "      <th>mean</th>\n",
       "      <td>37001.973563</td>\n",
       "      <td>18.523171</td>\n",
       "      <td>225.791519</td>\n",
       "      <td>5201.105903</td>\n",
       "      <td>7.612594</td>\n",
       "      <td>2.832130</td>\n",
       "      <td>7.597287</td>\n",
       "      <td>1.591639</td>\n",
       "      <td>0.528940</td>\n",
       "      <td>5.108730</td>\n",
       "      <td>...</td>\n",
       "      <td>5.242407</td>\n",
       "      <td>2.024642</td>\n",
       "      <td>25.545444</td>\n",
       "      <td>2.292798</td>\n",
       "      <td>1.580278</td>\n",
       "      <td>4.417584</td>\n",
       "      <td>2.510165</td>\n",
       "      <td>201411.555222</td>\n",
       "      <td>1.393238</td>\n",
       "      <td>17.703281</td>\n",
       "    </tr>\n",
       "    <tr>\n",
       "      <th>std</th>\n",
       "      <td>21431.604716</td>\n",
       "      <td>17.080645</td>\n",
       "      <td>224.899605</td>\n",
       "      <td>4068.551107</td>\n",
       "      <td>4.286979</td>\n",
       "      <td>2.054228</td>\n",
       "      <td>9.241056</td>\n",
       "      <td>0.732818</td>\n",
       "      <td>0.813884</td>\n",
       "      <td>0.669231</td>\n",
       "      <td>...</td>\n",
       "      <td>3.349539</td>\n",
       "      <td>0.390296</td>\n",
       "      <td>24.661949</td>\n",
       "      <td>1.689869</td>\n",
       "      <td>0.767268</td>\n",
       "      <td>0.613283</td>\n",
       "      <td>0.475360</td>\n",
       "      <td>268.982865</td>\n",
       "      <td>0.495467</td>\n",
       "      <td>673.790436</td>\n",
       "    </tr>\n",
       "    <tr>\n",
       "      <th>min</th>\n",
       "      <td>1.000000</td>\n",
       "      <td>1.000000</td>\n",
       "      <td>1.000000</td>\n",
       "      <td>1.000000</td>\n",
       "      <td>0.010000</td>\n",
       "      <td>1.000000</td>\n",
       "      <td>1.000000</td>\n",
       "      <td>1.000000</td>\n",
       "      <td>0.000000</td>\n",
       "      <td>2.000000</td>\n",
       "      <td>...</td>\n",
       "      <td>1.000000</td>\n",
       "      <td>1.000000</td>\n",
       "      <td>1.000000</td>\n",
       "      <td>1.000000</td>\n",
       "      <td>1.000000</td>\n",
       "      <td>2.000000</td>\n",
       "      <td>1.000000</td>\n",
       "      <td>200606.000000</td>\n",
       "      <td>1.000000</td>\n",
       "      <td>0.050000</td>\n",
       "    </tr>\n",
       "    <tr>\n",
       "      <th>25%</th>\n",
       "      <td>18499.000000</td>\n",
       "      <td>8.000000</td>\n",
       "      <td>71.000000</td>\n",
       "      <td>1089.000000</td>\n",
       "      <td>4.490000</td>\n",
       "      <td>1.000000</td>\n",
       "      <td>1.000000</td>\n",
       "      <td>1.000000</td>\n",
       "      <td>0.000000</td>\n",
       "      <td>5.000000</td>\n",
       "      <td>...</td>\n",
       "      <td>2.000000</td>\n",
       "      <td>2.000000</td>\n",
       "      <td>8.000000</td>\n",
       "      <td>1.000000</td>\n",
       "      <td>1.000000</td>\n",
       "      <td>4.000000</td>\n",
       "      <td>2.000000</td>\n",
       "      <td>201208.000000</td>\n",
       "      <td>1.000000</td>\n",
       "      <td>5.880000</td>\n",
       "    </tr>\n",
       "    <tr>\n",
       "      <th>50%</th>\n",
       "      <td>36826.000000</td>\n",
       "      <td>12.000000</td>\n",
       "      <td>154.000000</td>\n",
       "      <td>4731.000000</td>\n",
       "      <td>7.000000</td>\n",
       "      <td>2.000000</td>\n",
       "      <td>4.000000</td>\n",
       "      <td>1.000000</td>\n",
       "      <td>0.000000</td>\n",
       "      <td>5.000000</td>\n",
       "      <td>...</td>\n",
       "      <td>5.000000</td>\n",
       "      <td>2.000000</td>\n",
       "      <td>19.000000</td>\n",
       "      <td>2.000000</td>\n",
       "      <td>1.000000</td>\n",
       "      <td>4.000000</td>\n",
       "      <td>2.507934</td>\n",
       "      <td>201410.000000</td>\n",
       "      <td>1.000000</td>\n",
       "      <td>9.800000</td>\n",
       "    </tr>\n",
       "    <tr>\n",
       "      <th>75%</th>\n",
       "      <td>55731.500000</td>\n",
       "      <td>23.000000</td>\n",
       "      <td>290.000000</td>\n",
       "      <td>8915.000000</td>\n",
       "      <td>9.930000</td>\n",
       "      <td>5.000000</td>\n",
       "      <td>14.000000</td>\n",
       "      <td>2.000000</td>\n",
       "      <td>1.000000</td>\n",
       "      <td>5.000000</td>\n",
       "      <td>...</td>\n",
       "      <td>6.000000</td>\n",
       "      <td>2.000000</td>\n",
       "      <td>31.000000</td>\n",
       "      <td>2.000000</td>\n",
       "      <td>2.000000</td>\n",
       "      <td>5.000000</td>\n",
       "      <td>3.000000</td>\n",
       "      <td>201609.000000</td>\n",
       "      <td>2.000000</td>\n",
       "      <td>17.300000</td>\n",
       "    </tr>\n",
       "    <tr>\n",
       "      <th>max</th>\n",
       "      <td>74156.000000</td>\n",
       "      <td>133.000000</td>\n",
       "      <td>1248.000000</td>\n",
       "      <td>12735.000000</td>\n",
       "      <td>44.740000</td>\n",
       "      <td>10.000000</td>\n",
       "      <td>93.000000</td>\n",
       "      <td>6.000000</td>\n",
       "      <td>10.000000</td>\n",
       "      <td>9.000000</td>\n",
       "      <td>...</td>\n",
       "      <td>18.000000</td>\n",
       "      <td>11.000000</td>\n",
       "      <td>177.000000</td>\n",
       "      <td>15.000000</td>\n",
       "      <td>8.000000</td>\n",
       "      <td>6.000000</td>\n",
       "      <td>3.000000</td>\n",
       "      <td>202010.000000</td>\n",
       "      <td>3.000000</td>\n",
       "      <td>109000.000000</td>\n",
       "    </tr>\n",
       "  </tbody>\n",
       "</table>\n",
       "<p>8 rows × 28 columns</p>\n",
       "</div>"
      ],
      "text/plain": [
       "              carid         brand        serial         model       mileage  \\\n",
       "count  26175.000000  26175.000000  26175.000000  26175.000000  26175.000000   \n",
       "mean   37001.973563     18.523171    225.791519   5201.105903      7.612594   \n",
       "std    21431.604716     17.080645    224.899605   4068.551107      4.286979   \n",
       "min        1.000000      1.000000      1.000000      1.000000      0.010000   \n",
       "25%    18499.000000      8.000000     71.000000   1089.000000      4.490000   \n",
       "50%    36826.000000     12.000000    154.000000   4731.000000      7.000000   \n",
       "75%    55731.500000     23.000000    290.000000   8915.000000      9.930000   \n",
       "max    74156.000000    133.000000   1248.000000  12735.000000     44.740000   \n",
       "\n",
       "              color        cityId       carCode  transferCount      seatings  \\\n",
       "count  26175.000000  26175.000000  26168.000000   26175.000000  26175.000000   \n",
       "mean       2.832130      7.597287      1.591639       0.528940      5.108730   \n",
       "std        2.054228      9.241056      0.732818       0.813884      0.669231   \n",
       "min        1.000000      1.000000      1.000000       0.000000      2.000000   \n",
       "25%        1.000000      1.000000      1.000000       0.000000      5.000000   \n",
       "50%        2.000000      4.000000      1.000000       0.000000      5.000000   \n",
       "75%        5.000000     14.000000      2.000000       1.000000      5.000000   \n",
       "max       10.000000     93.000000      6.000000      10.000000      9.000000   \n",
       "\n",
       "       ...           af2           af3           af5           af6  \\\n",
       "count  ...  26175.000000  26175.000000  26175.000000  26175.000000   \n",
       "mean   ...      5.242407      2.024642     25.545444      2.292798   \n",
       "std    ...      3.349539      0.390296     24.661949      1.689869   \n",
       "min    ...      1.000000      1.000000      1.000000      1.000000   \n",
       "25%    ...      2.000000      2.000000      8.000000      1.000000   \n",
       "50%    ...      5.000000      2.000000     19.000000      2.000000   \n",
       "75%    ...      6.000000      2.000000     31.000000      2.000000   \n",
       "max    ...     18.000000     11.000000    177.000000     15.000000   \n",
       "\n",
       "                af8           af9          af10           af13          af14  \\\n",
       "count  26175.000000  26081.000000  26175.000000   24682.000000  26175.000000   \n",
       "mean       1.580278      4.417584      2.510165  201411.555222      1.393238   \n",
       "std        0.767268      0.613283      0.475360     268.982865      0.495467   \n",
       "min        1.000000      2.000000      1.000000  200606.000000      1.000000   \n",
       "25%        1.000000      4.000000      2.000000  201208.000000      1.000000   \n",
       "50%        1.000000      4.000000      2.507934  201410.000000      1.000000   \n",
       "75%        2.000000      5.000000      3.000000  201609.000000      2.000000   \n",
       "max        8.000000      6.000000      3.000000  202010.000000      3.000000   \n",
       "\n",
       "               price  \n",
       "count   26175.000000  \n",
       "mean       17.703281  \n",
       "std       673.790436  \n",
       "min         0.050000  \n",
       "25%         5.880000  \n",
       "50%         9.800000  \n",
       "75%        17.300000  \n",
       "max    109000.000000  \n",
       "\n",
       "[8 rows x 28 columns]"
      ]
     },
     "execution_count": 19,
     "metadata": {},
     "output_type": "execute_result"
    }
   ],
   "source": [
    "x_dp.describe()"
   ]
  },
  {
   "cell_type": "markdown",
   "id": "bde24069",
   "metadata": {},
   "source": [
    "### 处理af13"
   ]
  },
  {
   "cell_type": "code",
   "execution_count": 20,
   "id": "b6cf07b4",
   "metadata": {
    "ExecuteTime": {
     "end_time": "2022-01-12T14:57:14.767983Z",
     "start_time": "2022-01-12T14:57:14.739028Z"
    }
   },
   "outputs": [
    {
     "name": "stdout",
     "output_type": "stream",
     "text": [
      "【特征统计】：\n",
      "count     24682.000000\n",
      "mean     201411.555222\n",
      "std         268.982865\n",
      "min      200606.000000\n",
      "25%      201208.000000\n",
      "50%      201410.000000\n",
      "75%      201609.000000\n",
      "max      202010.000000\n",
      "Name: af13, dtype: float64\n",
      "\n",
      "【类别统计】：\n",
      "201609.0    555\n",
      "201604.0    491\n",
      "201202.0    468\n",
      "201603.0    468\n",
      "201309.0    429\n",
      "           ... \n",
      "200706.0      2\n",
      "200808.0      2\n",
      "200803.0      1\n",
      "200612.0      1\n",
      "202010.0      1\n",
      "Name: af13, Length: 160, dtype: int64\n",
      "\n",
      "【缺失比例】：0.057039\n",
      "【缺失数量】：1493\n"
     ]
    }
   ],
   "source": [
    "some_info('af13')  \n",
    "# 可见是年月信息，并且类别相当多（160个），考虑等距分组为顺序数据1，2，3，5等（无须改成热独编码，有顺序之分）\n",
    "# 数字越大代表距今时间越长"
   ]
  },
  {
   "cell_type": "code",
   "execution_count": 21,
   "id": "638c2d67",
   "metadata": {
    "ExecuteTime": {
     "end_time": "2022-01-12T14:57:14.783937Z",
     "start_time": "2022-01-12T14:57:14.768949Z"
    }
   },
   "outputs": [],
   "source": [
    "x_dp.dropna(subset=['af13'], inplace=True) # 删除af13的缺失值"
   ]
  },
  {
   "cell_type": "code",
   "execution_count": 22,
   "id": "d78e0426",
   "metadata": {
    "ExecuteTime": {
     "end_time": "2022-01-12T14:57:15.290591Z",
     "start_time": "2022-01-12T14:57:14.784905Z"
    }
   },
   "outputs": [
    {
     "data": {
      "text/plain": [
       "<AxesSubplot:>"
      ]
     },
     "execution_count": 22,
     "metadata": {},
     "output_type": "execute_result"
    },
    {
     "data": {
      "image/png": "[encoded data removed]",
      "text/plain": [
       "<Figure size 432x288 with 1 Axes>"
      ]
     },
     "metadata": {
      "needs_background": "light"
     },
     "output_type": "display_data"
    }
   ],
   "source": [
    "x_dp['af13'].hist()  # 考虑删除缺失数据（日期没有填补依据）"
   ]
  },
  {
   "cell_type": "code",
   "execution_count": 23,
   "id": "1a55e4f8",
   "metadata": {
    "ExecuteTime": {
     "end_time": "2022-01-12T14:57:15.338463Z",
     "start_time": "2022-01-12T14:57:15.291552Z"
    }
   },
   "outputs": [
    {
     "data": {
      "text/html": [
       "<div>\n",
       "<style scoped>\n",
       "    .dataframe tbody tr th:only-of-type {\n",
       "        vertical-align: middle;\n",
       "    }\n",
       "\n",
       "    .dataframe tbody tr th {\n",
       "        vertical-align: top;\n",
       "    }\n",
       "\n",
       "    .dataframe thead th {\n",
       "        text-align: right;\n",
       "    }\n",
       "</style>\n",
       "<table border=\"1\" class=\"dataframe\">\n",
       "  <thead>\n",
       "    <tr style=\"text-align: right;\">\n",
       "      <th></th>\n",
       "      <th>carid</th>\n",
       "      <th>tradeTime</th>\n",
       "      <th>brand</th>\n",
       "      <th>serial</th>\n",
       "      <th>model</th>\n",
       "      <th>mileage</th>\n",
       "      <th>color</th>\n",
       "      <th>cityId</th>\n",
       "      <th>carCode</th>\n",
       "      <th>transferCount</th>\n",
       "      <th>...</th>\n",
       "      <th>af5</th>\n",
       "      <th>af6</th>\n",
       "      <th>af8</th>\n",
       "      <th>af9</th>\n",
       "      <th>af10</th>\n",
       "      <th>af11</th>\n",
       "      <th>af12</th>\n",
       "      <th>af13</th>\n",
       "      <th>af14</th>\n",
       "      <th>price</th>\n",
       "    </tr>\n",
       "  </thead>\n",
       "  <tbody>\n",
       "    <tr>\n",
       "      <th>0</th>\n",
       "      <td>1</td>\n",
       "      <td>2021-06-28</td>\n",
       "      <td>1</td>\n",
       "      <td>1</td>\n",
       "      <td>1</td>\n",
       "      <td>4.01</td>\n",
       "      <td>1</td>\n",
       "      <td>1</td>\n",
       "      <td>1.0</td>\n",
       "      <td>0</td>\n",
       "      <td>...</td>\n",
       "      <td>1</td>\n",
       "      <td>1</td>\n",
       "      <td>1.0</td>\n",
       "      <td>5.0</td>\n",
       "      <td>2.0</td>\n",
       "      <td>1</td>\n",
       "      <td>4220*1740*1625</td>\n",
       "      <td>201709.0</td>\n",
       "      <td>1</td>\n",
       "      <td>4.24</td>\n",
       "    </tr>\n",
       "    <tr>\n",
       "      <th>1</th>\n",
       "      <td>2</td>\n",
       "      <td>2021-06-25</td>\n",
       "      <td>2</td>\n",
       "      <td>2</td>\n",
       "      <td>2</td>\n",
       "      <td>8.60</td>\n",
       "      <td>1</td>\n",
       "      <td>2</td>\n",
       "      <td>1.0</td>\n",
       "      <td>0</td>\n",
       "      <td>...</td>\n",
       "      <td>2</td>\n",
       "      <td>2</td>\n",
       "      <td>2.0</td>\n",
       "      <td>4.0</td>\n",
       "      <td>3.0</td>\n",
       "      <td>1+2</td>\n",
       "      <td>4630*1775*1480</td>\n",
       "      <td>201609.0</td>\n",
       "      <td>2</td>\n",
       "      <td>7.38</td>\n",
       "    </tr>\n",
       "    <tr>\n",
       "      <th>3</th>\n",
       "      <td>6</td>\n",
       "      <td>2021-06-29</td>\n",
       "      <td>6</td>\n",
       "      <td>6</td>\n",
       "      <td>6</td>\n",
       "      <td>6.04</td>\n",
       "      <td>1</td>\n",
       "      <td>3</td>\n",
       "      <td>1.0</td>\n",
       "      <td>3</td>\n",
       "      <td>...</td>\n",
       "      <td>6</td>\n",
       "      <td>1</td>\n",
       "      <td>2.0</td>\n",
       "      <td>5.0</td>\n",
       "      <td>2.0</td>\n",
       "      <td>1</td>\n",
       "      <td>4500*1834*1707</td>\n",
       "      <td>201608.0</td>\n",
       "      <td>2</td>\n",
       "      <td>4.38</td>\n",
       "    </tr>\n",
       "    <tr>\n",
       "      <th>4</th>\n",
       "      <td>7</td>\n",
       "      <td>2021-06-30</td>\n",
       "      <td>7</td>\n",
       "      <td>7</td>\n",
       "      <td>7</td>\n",
       "      <td>5.70</td>\n",
       "      <td>4</td>\n",
       "      <td>1</td>\n",
       "      <td>2.0</td>\n",
       "      <td>2</td>\n",
       "      <td>...</td>\n",
       "      <td>7</td>\n",
       "      <td>1</td>\n",
       "      <td>1.0</td>\n",
       "      <td>5.0</td>\n",
       "      <td>2.0</td>\n",
       "      <td>1</td>\n",
       "      <td>4315*1783*1606</td>\n",
       "      <td>201204.0</td>\n",
       "      <td>1</td>\n",
       "      <td>5.90</td>\n",
       "    </tr>\n",
       "    <tr>\n",
       "      <th>6</th>\n",
       "      <td>12</td>\n",
       "      <td>2021-06-16</td>\n",
       "      <td>10</td>\n",
       "      <td>12</td>\n",
       "      <td>12</td>\n",
       "      <td>7.03</td>\n",
       "      <td>5</td>\n",
       "      <td>3</td>\n",
       "      <td>2.0</td>\n",
       "      <td>0</td>\n",
       "      <td>...</td>\n",
       "      <td>11</td>\n",
       "      <td>4</td>\n",
       "      <td>1.0</td>\n",
       "      <td>5.0</td>\n",
       "      <td>3.0</td>\n",
       "      <td>NaN</td>\n",
       "      <td>4150*1640*1535</td>\n",
       "      <td>201005.0</td>\n",
       "      <td>2</td>\n",
       "      <td>0.30</td>\n",
       "    </tr>\n",
       "    <tr>\n",
       "      <th>...</th>\n",
       "      <td>...</td>\n",
       "      <td>...</td>\n",
       "      <td>...</td>\n",
       "      <td>...</td>\n",
       "      <td>...</td>\n",
       "      <td>...</td>\n",
       "      <td>...</td>\n",
       "      <td>...</td>\n",
       "      <td>...</td>\n",
       "      <td>...</td>\n",
       "      <td>...</td>\n",
       "      <td>...</td>\n",
       "      <td>...</td>\n",
       "      <td>...</td>\n",
       "      <td>...</td>\n",
       "      <td>...</td>\n",
       "      <td>...</td>\n",
       "      <td>...</td>\n",
       "      <td>...</td>\n",
       "      <td>...</td>\n",
       "      <td>...</td>\n",
       "    </tr>\n",
       "    <tr>\n",
       "      <th>29993</th>\n",
       "      <td>72533</td>\n",
       "      <td>2021-02-04</td>\n",
       "      <td>23</td>\n",
       "      <td>77</td>\n",
       "      <td>12481</td>\n",
       "      <td>6.87</td>\n",
       "      <td>1</td>\n",
       "      <td>1</td>\n",
       "      <td>2.0</td>\n",
       "      <td>1</td>\n",
       "      <td>...</td>\n",
       "      <td>25</td>\n",
       "      <td>1</td>\n",
       "      <td>1.0</td>\n",
       "      <td>5.0</td>\n",
       "      <td>2.0</td>\n",
       "      <td>1+2</td>\n",
       "      <td>4725*1880*1686</td>\n",
       "      <td>201212.0</td>\n",
       "      <td>1</td>\n",
       "      <td>10.40</td>\n",
       "    </tr>\n",
       "    <tr>\n",
       "      <th>29994</th>\n",
       "      <td>27237</td>\n",
       "      <td>2021-04-19</td>\n",
       "      <td>44</td>\n",
       "      <td>249</td>\n",
       "      <td>403</td>\n",
       "      <td>5.79</td>\n",
       "      <td>2</td>\n",
       "      <td>1</td>\n",
       "      <td>1.0</td>\n",
       "      <td>0</td>\n",
       "      <td>...</td>\n",
       "      <td>46</td>\n",
       "      <td>1</td>\n",
       "      <td>1.0</td>\n",
       "      <td>5.0</td>\n",
       "      <td>2.0</td>\n",
       "      <td>1+2</td>\n",
       "      <td>4649*1859*1695</td>\n",
       "      <td>201511.0</td>\n",
       "      <td>1</td>\n",
       "      <td>11.80</td>\n",
       "    </tr>\n",
       "    <tr>\n",
       "      <th>29996</th>\n",
       "      <td>4294</td>\n",
       "      <td>2020-06-03</td>\n",
       "      <td>12</td>\n",
       "      <td>92</td>\n",
       "      <td>1797</td>\n",
       "      <td>11.69</td>\n",
       "      <td>2</td>\n",
       "      <td>1</td>\n",
       "      <td>2.0</td>\n",
       "      <td>2</td>\n",
       "      <td>...</td>\n",
       "      <td>16</td>\n",
       "      <td>2</td>\n",
       "      <td>1.0</td>\n",
       "      <td>4.0</td>\n",
       "      <td>3.0</td>\n",
       "      <td>1+2</td>\n",
       "      <td>4960*1845*1480</td>\n",
       "      <td>201201.0</td>\n",
       "      <td>2</td>\n",
       "      <td>8.30</td>\n",
       "    </tr>\n",
       "    <tr>\n",
       "      <th>29997</th>\n",
       "      <td>20584</td>\n",
       "      <td>2020-09-27</td>\n",
       "      <td>7</td>\n",
       "      <td>113</td>\n",
       "      <td>501</td>\n",
       "      <td>9.87</td>\n",
       "      <td>6</td>\n",
       "      <td>1</td>\n",
       "      <td>2.0</td>\n",
       "      <td>0</td>\n",
       "      <td>...</td>\n",
       "      <td>7</td>\n",
       "      <td>2</td>\n",
       "      <td>1.0</td>\n",
       "      <td>4.0</td>\n",
       "      <td>3.0</td>\n",
       "      <td>1</td>\n",
       "      <td>4665*1700*1510</td>\n",
       "      <td>200904.0</td>\n",
       "      <td>2</td>\n",
       "      <td>5.00</td>\n",
       "    </tr>\n",
       "    <tr>\n",
       "      <th>29998</th>\n",
       "      <td>11490</td>\n",
       "      <td>2020-11-09</td>\n",
       "      <td>45</td>\n",
       "      <td>131</td>\n",
       "      <td>3024</td>\n",
       "      <td>9.57</td>\n",
       "      <td>1</td>\n",
       "      <td>1</td>\n",
       "      <td>1.0</td>\n",
       "      <td>1</td>\n",
       "      <td>...</td>\n",
       "      <td>47</td>\n",
       "      <td>2</td>\n",
       "      <td>1.0</td>\n",
       "      <td>4.0</td>\n",
       "      <td>3.0</td>\n",
       "      <td>3+2</td>\n",
       "      <td>4915*1820*1450</td>\n",
       "      <td>201508.0</td>\n",
       "      <td>1</td>\n",
       "      <td>28.00</td>\n",
       "    </tr>\n",
       "  </tbody>\n",
       "</table>\n",
       "<p>24682 rows × 33 columns</p>\n",
       "</div>"
      ],
      "text/plain": [
       "       carid  tradeTime  brand  serial  model  mileage  color  cityId  \\\n",
       "0          1 2021-06-28      1       1      1     4.01      1       1   \n",
       "1          2 2021-06-25      2       2      2     8.60      1       2   \n",
       "3          6 2021-06-29      6       6      6     6.04      1       3   \n",
       "4          7 2021-06-30      7       7      7     5.70      4       1   \n",
       "6         12 2021-06-16     10      12     12     7.03      5       3   \n",
       "...      ...        ...    ...     ...    ...      ...    ...     ...   \n",
       "29993  72533 2021-02-04     23      77  12481     6.87      1       1   \n",
       "29994  27237 2021-04-19     44     249    403     5.79      2       1   \n",
       "29996   4294 2020-06-03     12      92   1797    11.69      2       1   \n",
       "29997  20584 2020-09-27      7     113    501     9.87      6       1   \n",
       "29998  11490 2020-11-09     45     131   3024     9.57      1       1   \n",
       "\n",
       "       carCode  transferCount  ...  af5 af6  af8  af9  af10  af11  \\\n",
       "0          1.0              0  ...    1   1  1.0  5.0   2.0     1   \n",
       "1          1.0              0  ...    2   2  2.0  4.0   3.0   1+2   \n",
       "3          1.0              3  ...    6   1  2.0  5.0   2.0     1   \n",
       "4          2.0              2  ...    7   1  1.0  5.0   2.0     1   \n",
       "6          2.0              0  ...   11   4  1.0  5.0   3.0   NaN   \n",
       "...        ...            ...  ...  ...  ..  ...  ...   ...   ...   \n",
       "29993      2.0              1  ...   25   1  1.0  5.0   2.0   1+2   \n",
       "29994      1.0              0  ...   46   1  1.0  5.0   2.0   1+2   \n",
       "29996      2.0              2  ...   16   2  1.0  4.0   3.0   1+2   \n",
       "29997      2.0              0  ...    7   2  1.0  4.0   3.0     1   \n",
       "29998      1.0              1  ...   47   2  1.0  4.0   3.0   3+2   \n",
       "\n",
       "                 af12      af13  af14  price  \n",
       "0      4220*1740*1625  201709.0     1   4.24  \n",
       "1      4630*1775*1480  201609.0     2   7.38  \n",
       "3      4500*1834*1707  201608.0     2   4.38  \n",
       "4      4315*1783*1606  201204.0     1   5.90  \n",
       "6      4150*1640*1535  201005.0     2   0.30  \n",
       "...               ...       ...   ...    ...  \n",
       "29993  4725*1880*1686  201212.0     1  10.40  \n",
       "29994  4649*1859*1695  201511.0     1  11.80  \n",
       "29996  4960*1845*1480  201201.0     2   8.30  \n",
       "29997  4665*1700*1510  200904.0     2   5.00  \n",
       "29998  4915*1820*1450  201508.0     1  28.00  \n",
       "\n",
       "[24682 rows x 33 columns]"
      ]
     },
     "execution_count": 23,
     "metadata": {},
     "output_type": "execute_result"
    }
   ],
   "source": [
    "x_dp"
   ]
  },
  {
   "cell_type": "code",
   "execution_count": 24,
   "id": "14fca569",
   "metadata": {
    "ExecuteTime": {
     "end_time": "2022-01-12T14:57:15.354423Z",
     "start_time": "2022-01-12T14:57:15.339424Z"
    }
   },
   "outputs": [
    {
     "data": {
      "text/plain": [
       "af1              5.10%\n",
       "af11             1.54%\n",
       "modelyear        1.02%\n",
       "af9              0.38%\n",
       "carCode          0.03%\n",
       "af6              0.00%\n",
       "af2              0.00%\n",
       "af3              0.00%\n",
       "af5              0.00%\n",
       "carid            0.00%\n",
       "af8              0.00%\n",
       "oiltype          0.00%\n",
       "af10             0.00%\n",
       "af12             0.00%\n",
       "af13             0.00%\n",
       "af14             0.00%\n",
       "newprice         0.00%\n",
       "displacement     0.00%\n",
       "gearbox          0.00%\n",
       "tradeTime        0.00%\n",
       "maketype         0.00%\n",
       "country          0.00%\n",
       "lincenseDate     0.00%\n",
       "registerDate     0.00%\n",
       "seatings         0.00%\n",
       "transferCount    0.00%\n",
       "cityId           0.00%\n",
       "color            0.00%\n",
       "mileage          0.00%\n",
       "model            0.00%\n",
       "serial           0.00%\n",
       "brand            0.00%\n",
       "price            0.00%\n",
       "dtype: object"
      ]
     },
     "execution_count": 24,
     "metadata": {},
     "output_type": "execute_result"
    }
   ],
   "source": [
    "loss_rate(x_dp)"
   ]
  },
  {
   "cell_type": "markdown",
   "id": "557571d4",
   "metadata": {},
   "source": [
    "### 处理af1"
   ]
  },
  {
   "cell_type": "code",
   "execution_count": 25,
   "id": "9db7c59f",
   "metadata": {
    "ExecuteTime": {
     "end_time": "2022-01-12T14:57:15.369380Z",
     "start_time": "2022-01-12T14:57:15.355382Z"
    }
   },
   "outputs": [
    {
     "name": "stdout",
     "output_type": "stream",
     "text": [
      "【特征统计】：\n",
      "count    23422.000000\n",
      "mean         1.001452\n",
      "std          0.053863\n",
      "min          1.000000\n",
      "25%          1.000000\n",
      "50%          1.000000\n",
      "75%          1.000000\n",
      "max          3.000000\n",
      "Name: af1, dtype: float64\n",
      "\n",
      "【类别统计】：\n",
      "1.0    23405\n",
      "3.0       17\n",
      "Name: af1, dtype: int64\n",
      "\n",
      "【缺失比例】：0.051049\n",
      "【缺失数量】：1260\n"
     ]
    }
   ],
   "source": [
    "some_info('af1')  # 用众数填补（只有两类，直接填补感觉影响不大）"
   ]
  },
  {
   "cell_type": "code",
   "execution_count": 26,
   "id": "bacf470f",
   "metadata": {
    "ExecuteTime": {
     "end_time": "2022-01-12T14:57:15.385343Z",
     "start_time": "2022-01-12T14:57:15.371337Z"
    }
   },
   "outputs": [],
   "source": [
    "x_dp['af1'] = x_dp['af1'].fillna(1)"
   ]
  },
  {
   "cell_type": "markdown",
   "id": "ca5ab579",
   "metadata": {},
   "source": [
    "### 处理af11"
   ]
  },
  {
   "cell_type": "code",
   "execution_count": 27,
   "id": "b1cd6c8e",
   "metadata": {
    "ExecuteTime": {
     "end_time": "2022-01-12T14:57:15.401306Z",
     "start_time": "2022-01-12T14:57:15.386297Z"
    }
   },
   "outputs": [
    {
     "name": "stdout",
     "output_type": "stream",
     "text": [
      "【特征统计】：\n",
      "count     24302\n",
      "unique        5\n",
      "top         1+2\n",
      "freq      15770\n",
      "Name: af11, dtype: object\n",
      "\n",
      "【类别统计】：\n",
      "1+2        15770\n",
      "1           5138\n",
      "3+2         2760\n",
      "1+2,4+2      633\n",
      "5              1\n",
      "Name: af11, dtype: int64\n",
      "\n",
      "【缺失比例】：0.015396\n",
      "【缺失数量】：380\n"
     ]
    }
   ],
   "source": [
    "some_info('af11')"
   ]
  },
  {
   "cell_type": "code",
   "execution_count": 28,
   "id": "f45a6850",
   "metadata": {
    "ExecuteTime": {
     "end_time": "2022-01-12T14:57:15.417215Z",
     "start_time": "2022-01-12T14:57:15.405248Z"
    }
   },
   "outputs": [],
   "source": [
    "x_dp.dropna(subset=['af11'], axis=0, inplace=True)  # 就地丢弃"
   ]
  },
  {
   "cell_type": "markdown",
   "id": "9d514f06",
   "metadata": {},
   "source": [
    "### 处理modelyear"
   ]
  },
  {
   "cell_type": "code",
   "execution_count": 29,
   "id": "f9b818a5",
   "metadata": {
    "ExecuteTime": {
     "end_time": "2022-01-12T14:57:15.433215Z",
     "start_time": "2022-01-12T14:57:15.418213Z"
    }
   },
   "outputs": [
    {
     "name": "stdout",
     "output_type": "stream",
     "text": [
      "【特征统计】：\n",
      "count    24052.000000\n",
      "mean      2014.483120\n",
      "std          2.694608\n",
      "min       2005.000000\n",
      "25%       2013.000000\n",
      "50%       2015.000000\n",
      "75%       2017.000000\n",
      "max       2021.000000\n",
      "Name: modelyear, dtype: float64\n",
      "\n",
      "【类别统计】：\n",
      "2016.0    3389\n",
      "2017.0    3249\n",
      "2015.0    2991\n",
      "2013.0    2735\n",
      "2014.0    2708\n",
      "2012.0    2106\n",
      "2018.0    1823\n",
      "2011.0    1820\n",
      "2010.0    1129\n",
      "2019.0     861\n",
      "2009.0     666\n",
      "2020.0     349\n",
      "2008.0     166\n",
      "2007.0      53\n",
      "2021.0       6\n",
      "2005.0       1\n",
      "Name: modelyear, dtype: int64\n",
      "\n",
      "【缺失比例】：0.010287\n",
      "【缺失数量】：250\n"
     ]
    }
   ],
   "source": [
    "some_info('modelyear')  # 年份没有填补依据，且缺失的比较少，直接删除"
   ]
  },
  {
   "cell_type": "code",
   "execution_count": 30,
   "id": "f90282c0",
   "metadata": {
    "ExecuteTime": {
     "end_time": "2022-01-12T14:57:15.449168Z",
     "start_time": "2022-01-12T14:57:15.434187Z"
    }
   },
   "outputs": [],
   "source": [
    "x_dp.dropna(subset = ['modelyear'], axis=0, inplace=True)"
   ]
  },
  {
   "cell_type": "markdown",
   "id": "73d8e050",
   "metadata": {
    "ExecuteTime": {
     "end_time": "2022-01-08T05:34:52.177813Z",
     "start_time": "2022-01-08T05:34:52.160859Z"
    }
   },
   "source": [
    "### 处理af9"
   ]
  },
  {
   "cell_type": "code",
   "execution_count": 31,
   "id": "19b19c2d",
   "metadata": {
    "ExecuteTime": {
     "end_time": "2022-01-12T14:57:15.465087Z",
     "start_time": "2022-01-12T14:57:15.450129Z"
    }
   },
   "outputs": [
    {
     "name": "stdout",
     "output_type": "stream",
     "text": [
      "<class 'pandas.core.frame.DataFrame'>\n",
      "Int64Index: 24052 entries, 0 to 29998\n",
      "Data columns (total 33 columns):\n",
      " #   Column         Non-Null Count  Dtype         \n",
      "---  ------         --------------  -----         \n",
      " 0   carid          24052 non-null  int64         \n",
      " 1   tradeTime      24052 non-null  datetime64[ns]\n",
      " 2   brand          24052 non-null  int64         \n",
      " 3   serial         24052 non-null  int64         \n",
      " 4   model          24052 non-null  int64         \n",
      " 5   mileage        24052 non-null  float64       \n",
      " 6   color          24052 non-null  int64         \n",
      " 7   cityId         24052 non-null  int64         \n",
      " 8   carCode        24045 non-null  float64       \n",
      " 9   transferCount  24052 non-null  int64         \n",
      " 10  seatings       24052 non-null  int64         \n",
      " 11  registerDate   24052 non-null  datetime64[ns]\n",
      " 12  lincenseDate   24052 non-null  datetime64[ns]\n",
      " 13  country        24052 non-null  float64       \n",
      " 14  maketype       24052 non-null  float64       \n",
      " 15  modelyear      24052 non-null  float64       \n",
      " 16  displacement   24052 non-null  float64       \n",
      " 17  gearbox        24052 non-null  float64       \n",
      " 18  oiltype        24052 non-null  int64         \n",
      " 19  newprice       24052 non-null  float64       \n",
      " 20  af1            24052 non-null  float64       \n",
      " 21  af2            24052 non-null  int64         \n",
      " 22  af3            24052 non-null  int64         \n",
      " 23  af5            24052 non-null  int64         \n",
      " 24  af6            24052 non-null  int64         \n",
      " 25  af8            24052 non-null  float64       \n",
      " 26  af9            23979 non-null  float64       \n",
      " 27  af10           24052 non-null  float64       \n",
      " 28  af11           24052 non-null  object        \n",
      " 29  af12           24052 non-null  object        \n",
      " 30  af13           24052 non-null  float64       \n",
      " 31  af14           24052 non-null  int64         \n",
      " 32  price          24052 non-null  float64       \n",
      "dtypes: datetime64[ns](3), float64(14), int64(14), object(2)\n",
      "memory usage: 6.2+ MB\n"
     ]
    }
   ],
   "source": [
    "x_dp.info()"
   ]
  },
  {
   "cell_type": "code",
   "execution_count": 32,
   "id": "6d50e24b",
   "metadata": {
    "ExecuteTime": {
     "end_time": "2022-01-12T14:57:15.481083Z",
     "start_time": "2022-01-12T14:57:15.466084Z"
    }
   },
   "outputs": [
    {
     "name": "stdout",
     "output_type": "stream",
     "text": [
      "【特征统计】：\n",
      "count    23979.000000\n",
      "mean         4.434422\n",
      "std          0.596079\n",
      "min          2.000000\n",
      "25%          4.000000\n",
      "50%          4.000000\n",
      "75%          5.000000\n",
      "max          6.000000\n",
      "Name: af9, dtype: float64\n",
      "\n",
      "【类别统计】：\n",
      "4.0    11930\n",
      "5.0    11383\n",
      "3.0      334\n",
      "2.0      324\n",
      "6.0        8\n",
      "Name: af9, dtype: int64\n",
      "\n",
      "【缺失比例】：0.003035\n",
      "【缺失数量】：73\n"
     ]
    }
   ],
   "source": [
    "some_info('af9')  # 缺失的少，删除"
   ]
  },
  {
   "cell_type": "code",
   "execution_count": 33,
   "id": "45454951",
   "metadata": {
    "ExecuteTime": {
     "end_time": "2022-01-12T14:57:15.496042Z",
     "start_time": "2022-01-12T14:57:15.482065Z"
    }
   },
   "outputs": [],
   "source": [
    "x_dp.dropna(subset = ['af9'], axis=0, inplace=True)"
   ]
  },
  {
   "cell_type": "markdown",
   "id": "be1d06d0",
   "metadata": {},
   "source": [
    "### 处理carCode"
   ]
  },
  {
   "cell_type": "code",
   "execution_count": 34,
   "id": "b5e9cbff",
   "metadata": {
    "ExecuteTime": {
     "end_time": "2022-01-12T14:57:15.511999Z",
     "start_time": "2022-01-12T14:57:15.497002Z"
    }
   },
   "outputs": [
    {
     "name": "stdout",
     "output_type": "stream",
     "text": [
      "【特征统计】：\n",
      "count    23972.000000\n",
      "mean         1.537127\n",
      "std          0.699767\n",
      "min          1.000000\n",
      "25%          1.000000\n",
      "50%          1.000000\n",
      "75%          2.000000\n",
      "max          6.000000\n",
      "Name: carCode, dtype: float64\n",
      "\n",
      "【类别统计】：\n",
      "1.0    13084\n",
      "2.0     9793\n",
      "4.0      883\n",
      "3.0      208\n",
      "6.0        2\n",
      "5.0        2\n",
      "Name: carCode, dtype: int64\n",
      "\n",
      "【缺失比例】：0.000292\n",
      "【缺失数量】：7\n"
     ]
    }
   ],
   "source": [
    "some_info('carCode')  # 缺失的少，直接删除"
   ]
  },
  {
   "cell_type": "code",
   "execution_count": 35,
   "id": "9019f372",
   "metadata": {
    "ExecuteTime": {
     "end_time": "2022-01-12T14:57:15.527919Z",
     "start_time": "2022-01-12T14:57:15.512960Z"
    }
   },
   "outputs": [],
   "source": [
    "x_dp.dropna(subset = ['carCode'], axis=0, inplace=True)"
   ]
  },
  {
   "cell_type": "code",
   "execution_count": 36,
   "id": "8a1cc7fb",
   "metadata": {
    "ExecuteTime": {
     "end_time": "2022-01-12T14:57:15.543876Z",
     "start_time": "2022-01-12T14:57:15.528916Z"
    }
   },
   "outputs": [
    {
     "data": {
      "text/plain": [
       "carid            0.00%\n",
       "gearbox          0.00%\n",
       "af14             0.00%\n",
       "af13             0.00%\n",
       "af12             0.00%\n",
       "af11             0.00%\n",
       "af10             0.00%\n",
       "af9              0.00%\n",
       "af8              0.00%\n",
       "af6              0.00%\n",
       "af5              0.00%\n",
       "af3              0.00%\n",
       "af2              0.00%\n",
       "af1              0.00%\n",
       "newprice         0.00%\n",
       "oiltype          0.00%\n",
       "displacement     0.00%\n",
       "tradeTime        0.00%\n",
       "modelyear        0.00%\n",
       "maketype         0.00%\n",
       "country          0.00%\n",
       "lincenseDate     0.00%\n",
       "registerDate     0.00%\n",
       "seatings         0.00%\n",
       "transferCount    0.00%\n",
       "carCode          0.00%\n",
       "cityId           0.00%\n",
       "color            0.00%\n",
       "mileage          0.00%\n",
       "model            0.00%\n",
       "serial           0.00%\n",
       "brand            0.00%\n",
       "price            0.00%\n",
       "dtype: object"
      ]
     },
     "execution_count": 36,
     "metadata": {},
     "output_type": "execute_result"
    }
   ],
   "source": [
    "loss_rate(x_dp)  # 无缺失"
   ]
  },
  {
   "cell_type": "code",
   "execution_count": 37,
   "id": "6d0cde6d",
   "metadata": {
    "ExecuteTime": {
     "end_time": "2022-01-12T14:57:15.623703Z",
     "start_time": "2022-01-12T14:57:15.545876Z"
    }
   },
   "outputs": [
    {
     "data": {
      "text/html": [
       "<div>\n",
       "<style scoped>\n",
       "    .dataframe tbody tr th:only-of-type {\n",
       "        vertical-align: middle;\n",
       "    }\n",
       "\n",
       "    .dataframe tbody tr th {\n",
       "        vertical-align: top;\n",
       "    }\n",
       "\n",
       "    .dataframe thead th {\n",
       "        text-align: right;\n",
       "    }\n",
       "</style>\n",
       "<table border=\"1\" class=\"dataframe\">\n",
       "  <thead>\n",
       "    <tr style=\"text-align: right;\">\n",
       "      <th></th>\n",
       "      <th>carid</th>\n",
       "      <th>brand</th>\n",
       "      <th>serial</th>\n",
       "      <th>model</th>\n",
       "      <th>mileage</th>\n",
       "      <th>color</th>\n",
       "      <th>cityId</th>\n",
       "      <th>carCode</th>\n",
       "      <th>transferCount</th>\n",
       "      <th>seatings</th>\n",
       "      <th>...</th>\n",
       "      <th>af2</th>\n",
       "      <th>af3</th>\n",
       "      <th>af5</th>\n",
       "      <th>af6</th>\n",
       "      <th>af8</th>\n",
       "      <th>af9</th>\n",
       "      <th>af10</th>\n",
       "      <th>af13</th>\n",
       "      <th>af14</th>\n",
       "      <th>price</th>\n",
       "    </tr>\n",
       "  </thead>\n",
       "  <tbody>\n",
       "    <tr>\n",
       "      <th>count</th>\n",
       "      <td>23972.000000</td>\n",
       "      <td>23972.000000</td>\n",
       "      <td>23972.000000</td>\n",
       "      <td>23972.000000</td>\n",
       "      <td>23972.000000</td>\n",
       "      <td>23972.000000</td>\n",
       "      <td>23972.000000</td>\n",
       "      <td>23972.000000</td>\n",
       "      <td>23972.000000</td>\n",
       "      <td>23972.000000</td>\n",
       "      <td>...</td>\n",
       "      <td>23972.000000</td>\n",
       "      <td>23972.000000</td>\n",
       "      <td>23972.000000</td>\n",
       "      <td>23972.000000</td>\n",
       "      <td>23972.000000</td>\n",
       "      <td>23972.000000</td>\n",
       "      <td>23972.000000</td>\n",
       "      <td>23972.000000</td>\n",
       "      <td>23972.000000</td>\n",
       "      <td>23972.000000</td>\n",
       "    </tr>\n",
       "    <tr>\n",
       "      <th>mean</th>\n",
       "      <td>37007.019731</td>\n",
       "      <td>18.272943</td>\n",
       "      <td>220.621475</td>\n",
       "      <td>5144.857334</td>\n",
       "      <td>7.338553</td>\n",
       "      <td>2.777908</td>\n",
       "      <td>7.537586</td>\n",
       "      <td>1.537127</td>\n",
       "      <td>0.511722</td>\n",
       "      <td>5.119473</td>\n",
       "      <td>...</td>\n",
       "      <td>5.203237</td>\n",
       "      <td>2.026364</td>\n",
       "      <td>25.097864</td>\n",
       "      <td>2.255173</td>\n",
       "      <td>1.613451</td>\n",
       "      <td>4.434382</td>\n",
       "      <td>2.507389</td>\n",
       "      <td>201413.628191</td>\n",
       "      <td>1.391123</td>\n",
       "      <td>18.596214</td>\n",
       "    </tr>\n",
       "    <tr>\n",
       "      <th>std</th>\n",
       "      <td>21486.654119</td>\n",
       "      <td>16.760783</td>\n",
       "      <td>219.155485</td>\n",
       "      <td>4074.820439</td>\n",
       "      <td>4.006316</td>\n",
       "      <td>2.051113</td>\n",
       "      <td>9.242272</td>\n",
       "      <td>0.699767</td>\n",
       "      <td>0.783515</td>\n",
       "      <td>0.635923</td>\n",
       "      <td>...</td>\n",
       "      <td>3.305227</td>\n",
       "      <td>0.399164</td>\n",
       "      <td>24.136989</td>\n",
       "      <td>1.648850</td>\n",
       "      <td>0.777472</td>\n",
       "      <td>0.596031</td>\n",
       "      <td>0.474336</td>\n",
       "      <td>268.225714</td>\n",
       "      <td>0.495225</td>\n",
       "      <td>704.053156</td>\n",
       "    </tr>\n",
       "    <tr>\n",
       "      <th>min</th>\n",
       "      <td>1.000000</td>\n",
       "      <td>1.000000</td>\n",
       "      <td>1.000000</td>\n",
       "      <td>1.000000</td>\n",
       "      <td>0.010000</td>\n",
       "      <td>1.000000</td>\n",
       "      <td>1.000000</td>\n",
       "      <td>1.000000</td>\n",
       "      <td>0.000000</td>\n",
       "      <td>2.000000</td>\n",
       "      <td>...</td>\n",
       "      <td>1.000000</td>\n",
       "      <td>1.000000</td>\n",
       "      <td>1.000000</td>\n",
       "      <td>1.000000</td>\n",
       "      <td>1.000000</td>\n",
       "      <td>2.000000</td>\n",
       "      <td>1.000000</td>\n",
       "      <td>200606.000000</td>\n",
       "      <td>1.000000</td>\n",
       "      <td>0.050000</td>\n",
       "    </tr>\n",
       "    <tr>\n",
       "      <th>25%</th>\n",
       "      <td>18290.750000</td>\n",
       "      <td>8.000000</td>\n",
       "      <td>71.000000</td>\n",
       "      <td>1056.000000</td>\n",
       "      <td>4.390000</td>\n",
       "      <td>1.000000</td>\n",
       "      <td>1.000000</td>\n",
       "      <td>1.000000</td>\n",
       "      <td>0.000000</td>\n",
       "      <td>5.000000</td>\n",
       "      <td>...</td>\n",
       "      <td>2.000000</td>\n",
       "      <td>2.000000</td>\n",
       "      <td>8.000000</td>\n",
       "      <td>1.000000</td>\n",
       "      <td>1.000000</td>\n",
       "      <td>4.000000</td>\n",
       "      <td>2.000000</td>\n",
       "      <td>201208.000000</td>\n",
       "      <td>1.000000</td>\n",
       "      <td>6.380000</td>\n",
       "    </tr>\n",
       "    <tr>\n",
       "      <th>50%</th>\n",
       "      <td>36833.500000</td>\n",
       "      <td>12.000000</td>\n",
       "      <td>153.000000</td>\n",
       "      <td>4581.500000</td>\n",
       "      <td>6.840000</td>\n",
       "      <td>2.000000</td>\n",
       "      <td>4.000000</td>\n",
       "      <td>1.000000</td>\n",
       "      <td>0.000000</td>\n",
       "      <td>5.000000</td>\n",
       "      <td>...</td>\n",
       "      <td>5.000000</td>\n",
       "      <td>2.000000</td>\n",
       "      <td>19.000000</td>\n",
       "      <td>2.000000</td>\n",
       "      <td>2.000000</td>\n",
       "      <td>4.000000</td>\n",
       "      <td>2.507934</td>\n",
       "      <td>201410.000000</td>\n",
       "      <td>1.000000</td>\n",
       "      <td>10.500000</td>\n",
       "    </tr>\n",
       "    <tr>\n",
       "      <th>75%</th>\n",
       "      <td>55905.500000</td>\n",
       "      <td>20.000000</td>\n",
       "      <td>287.250000</td>\n",
       "      <td>8888.500000</td>\n",
       "      <td>9.570000</td>\n",
       "      <td>5.000000</td>\n",
       "      <td>14.000000</td>\n",
       "      <td>2.000000</td>\n",
       "      <td>1.000000</td>\n",
       "      <td>5.000000</td>\n",
       "      <td>...</td>\n",
       "      <td>6.000000</td>\n",
       "      <td>2.000000</td>\n",
       "      <td>30.000000</td>\n",
       "      <td>2.000000</td>\n",
       "      <td>2.000000</td>\n",
       "      <td>5.000000</td>\n",
       "      <td>3.000000</td>\n",
       "      <td>201609.000000</td>\n",
       "      <td>2.000000</td>\n",
       "      <td>17.800000</td>\n",
       "    </tr>\n",
       "    <tr>\n",
       "      <th>max</th>\n",
       "      <td>74156.000000</td>\n",
       "      <td>131.000000</td>\n",
       "      <td>1244.000000</td>\n",
       "      <td>12735.000000</td>\n",
       "      <td>36.580000</td>\n",
       "      <td>10.000000</td>\n",
       "      <td>93.000000</td>\n",
       "      <td>6.000000</td>\n",
       "      <td>10.000000</td>\n",
       "      <td>9.000000</td>\n",
       "      <td>...</td>\n",
       "      <td>18.000000</td>\n",
       "      <td>11.000000</td>\n",
       "      <td>175.000000</td>\n",
       "      <td>15.000000</td>\n",
       "      <td>8.000000</td>\n",
       "      <td>6.000000</td>\n",
       "      <td>3.000000</td>\n",
       "      <td>202010.000000</td>\n",
       "      <td>3.000000</td>\n",
       "      <td>109000.000000</td>\n",
       "    </tr>\n",
       "  </tbody>\n",
       "</table>\n",
       "<p>8 rows × 28 columns</p>\n",
       "</div>"
      ],
      "text/plain": [
       "              carid         brand        serial         model       mileage  \\\n",
       "count  23972.000000  23972.000000  23972.000000  23972.000000  23972.000000   \n",
       "mean   37007.019731     18.272943    220.621475   5144.857334      7.338553   \n",
       "std    21486.654119     16.760783    219.155485   4074.820439      4.006316   \n",
       "min        1.000000      1.000000      1.000000      1.000000      0.010000   \n",
       "25%    18290.750000      8.000000     71.000000   1056.000000      4.390000   \n",
       "50%    36833.500000     12.000000    153.000000   4581.500000      6.840000   \n",
       "75%    55905.500000     20.000000    287.250000   8888.500000      9.570000   \n",
       "max    74156.000000    131.000000   1244.000000  12735.000000     36.580000   \n",
       "\n",
       "              color        cityId       carCode  transferCount      seatings  \\\n",
       "count  23972.000000  23972.000000  23972.000000   23972.000000  23972.000000   \n",
       "mean       2.777908      7.537586      1.537127       0.511722      5.119473   \n",
       "std        2.051113      9.242272      0.699767       0.783515      0.635923   \n",
       "min        1.000000      1.000000      1.000000       0.000000      2.000000   \n",
       "25%        1.000000      1.000000      1.000000       0.000000      5.000000   \n",
       "50%        2.000000      4.000000      1.000000       0.000000      5.000000   \n",
       "75%        5.000000     14.000000      2.000000       1.000000      5.000000   \n",
       "max       10.000000     93.000000      6.000000      10.000000      9.000000   \n",
       "\n",
       "       ...           af2           af3           af5           af6  \\\n",
       "count  ...  23972.000000  23972.000000  23972.000000  23972.000000   \n",
       "mean   ...      5.203237      2.026364     25.097864      2.255173   \n",
       "std    ...      3.305227      0.399164     24.136989      1.648850   \n",
       "min    ...      1.000000      1.000000      1.000000      1.000000   \n",
       "25%    ...      2.000000      2.000000      8.000000      1.000000   \n",
       "50%    ...      5.000000      2.000000     19.000000      2.000000   \n",
       "75%    ...      6.000000      2.000000     30.000000      2.000000   \n",
       "max    ...     18.000000     11.000000    175.000000     15.000000   \n",
       "\n",
       "                af8           af9          af10           af13          af14  \\\n",
       "count  23972.000000  23972.000000  23972.000000   23972.000000  23972.000000   \n",
       "mean       1.613451      4.434382      2.507389  201413.628191      1.391123   \n",
       "std        0.777472      0.596031      0.474336     268.225714      0.495225   \n",
       "min        1.000000      2.000000      1.000000  200606.000000      1.000000   \n",
       "25%        1.000000      4.000000      2.000000  201208.000000      1.000000   \n",
       "50%        2.000000      4.000000      2.507934  201410.000000      1.000000   \n",
       "75%        2.000000      5.000000      3.000000  201609.000000      2.000000   \n",
       "max        8.000000      6.000000      3.000000  202010.000000      3.000000   \n",
       "\n",
       "               price  \n",
       "count   23972.000000  \n",
       "mean       18.596214  \n",
       "std       704.053156  \n",
       "min         0.050000  \n",
       "25%         6.380000  \n",
       "50%        10.500000  \n",
       "75%        17.800000  \n",
       "max    109000.000000  \n",
       "\n",
       "[8 rows x 28 columns]"
      ]
     },
     "execution_count": 37,
     "metadata": {},
     "output_type": "execute_result"
    }
   ],
   "source": [
    "x_dp.describe()  # 还剩23972个数据，剩余率 23972 / 30000 * 100% = 79.91% ，尚可接受"
   ]
  },
  {
   "cell_type": "markdown",
   "id": "6ca921e8",
   "metadata": {},
   "source": [
    "## 处理分类信息"
   ]
  },
  {
   "cell_type": "code",
   "execution_count": 38,
   "id": "9f25fadb",
   "metadata": {
    "ExecuteTime": {
     "end_time": "2022-01-12T14:57:15.655579Z",
     "start_time": "2022-01-12T14:57:15.624661Z"
    }
   },
   "outputs": [
    {
     "data": {
      "text/html": [
       "<div>\n",
       "<style scoped>\n",
       "    .dataframe tbody tr th:only-of-type {\n",
       "        vertical-align: middle;\n",
       "    }\n",
       "\n",
       "    .dataframe tbody tr th {\n",
       "        vertical-align: top;\n",
       "    }\n",
       "\n",
       "    .dataframe thead th {\n",
       "        text-align: right;\n",
       "    }\n",
       "</style>\n",
       "<table border=\"1\" class=\"dataframe\">\n",
       "  <thead>\n",
       "    <tr style=\"text-align: right;\">\n",
       "      <th></th>\n",
       "      <th>carid</th>\n",
       "      <th>tradeTime</th>\n",
       "      <th>brand</th>\n",
       "      <th>serial</th>\n",
       "      <th>model</th>\n",
       "      <th>mileage</th>\n",
       "      <th>color</th>\n",
       "      <th>cityId</th>\n",
       "      <th>carCode</th>\n",
       "      <th>transferCount</th>\n",
       "      <th>...</th>\n",
       "      <th>af5</th>\n",
       "      <th>af6</th>\n",
       "      <th>af8</th>\n",
       "      <th>af9</th>\n",
       "      <th>af10</th>\n",
       "      <th>af11</th>\n",
       "      <th>af12</th>\n",
       "      <th>af13</th>\n",
       "      <th>af14</th>\n",
       "      <th>price</th>\n",
       "    </tr>\n",
       "  </thead>\n",
       "  <tbody>\n",
       "    <tr>\n",
       "      <th>0</th>\n",
       "      <td>1</td>\n",
       "      <td>2021-06-28</td>\n",
       "      <td>1</td>\n",
       "      <td>1</td>\n",
       "      <td>1</td>\n",
       "      <td>4.01</td>\n",
       "      <td>1</td>\n",
       "      <td>1</td>\n",
       "      <td>1.0</td>\n",
       "      <td>0</td>\n",
       "      <td>...</td>\n",
       "      <td>1</td>\n",
       "      <td>1</td>\n",
       "      <td>1.0</td>\n",
       "      <td>5.0</td>\n",
       "      <td>2.000000</td>\n",
       "      <td>1</td>\n",
       "      <td>4220*1740*1625</td>\n",
       "      <td>201709.0</td>\n",
       "      <td>1</td>\n",
       "      <td>4.24</td>\n",
       "    </tr>\n",
       "    <tr>\n",
       "      <th>1</th>\n",
       "      <td>2</td>\n",
       "      <td>2021-06-25</td>\n",
       "      <td>2</td>\n",
       "      <td>2</td>\n",
       "      <td>2</td>\n",
       "      <td>8.60</td>\n",
       "      <td>1</td>\n",
       "      <td>2</td>\n",
       "      <td>1.0</td>\n",
       "      <td>0</td>\n",
       "      <td>...</td>\n",
       "      <td>2</td>\n",
       "      <td>2</td>\n",
       "      <td>2.0</td>\n",
       "      <td>4.0</td>\n",
       "      <td>3.000000</td>\n",
       "      <td>1+2</td>\n",
       "      <td>4630*1775*1480</td>\n",
       "      <td>201609.0</td>\n",
       "      <td>2</td>\n",
       "      <td>7.38</td>\n",
       "    </tr>\n",
       "    <tr>\n",
       "      <th>3</th>\n",
       "      <td>6</td>\n",
       "      <td>2021-06-29</td>\n",
       "      <td>6</td>\n",
       "      <td>6</td>\n",
       "      <td>6</td>\n",
       "      <td>6.04</td>\n",
       "      <td>1</td>\n",
       "      <td>3</td>\n",
       "      <td>1.0</td>\n",
       "      <td>3</td>\n",
       "      <td>...</td>\n",
       "      <td>6</td>\n",
       "      <td>1</td>\n",
       "      <td>2.0</td>\n",
       "      <td>5.0</td>\n",
       "      <td>2.000000</td>\n",
       "      <td>1</td>\n",
       "      <td>4500*1834*1707</td>\n",
       "      <td>201608.0</td>\n",
       "      <td>2</td>\n",
       "      <td>4.38</td>\n",
       "    </tr>\n",
       "    <tr>\n",
       "      <th>4</th>\n",
       "      <td>7</td>\n",
       "      <td>2021-06-30</td>\n",
       "      <td>7</td>\n",
       "      <td>7</td>\n",
       "      <td>7</td>\n",
       "      <td>5.70</td>\n",
       "      <td>4</td>\n",
       "      <td>1</td>\n",
       "      <td>2.0</td>\n",
       "      <td>2</td>\n",
       "      <td>...</td>\n",
       "      <td>7</td>\n",
       "      <td>1</td>\n",
       "      <td>1.0</td>\n",
       "      <td>5.0</td>\n",
       "      <td>2.000000</td>\n",
       "      <td>1</td>\n",
       "      <td>4315*1783*1606</td>\n",
       "      <td>201204.0</td>\n",
       "      <td>1</td>\n",
       "      <td>5.90</td>\n",
       "    </tr>\n",
       "    <tr>\n",
       "      <th>7</th>\n",
       "      <td>13</td>\n",
       "      <td>2021-07-17</td>\n",
       "      <td>6</td>\n",
       "      <td>13</td>\n",
       "      <td>13</td>\n",
       "      <td>4.64</td>\n",
       "      <td>1</td>\n",
       "      <td>3</td>\n",
       "      <td>1.0</td>\n",
       "      <td>0</td>\n",
       "      <td>...</td>\n",
       "      <td>6</td>\n",
       "      <td>2</td>\n",
       "      <td>2.0</td>\n",
       "      <td>4.0</td>\n",
       "      <td>2.507934</td>\n",
       "      <td>1</td>\n",
       "      <td>4680*1785*1460</td>\n",
       "      <td>201808.0</td>\n",
       "      <td>1</td>\n",
       "      <td>5.95</td>\n",
       "    </tr>\n",
       "  </tbody>\n",
       "</table>\n",
       "<p>5 rows × 33 columns</p>\n",
       "</div>"
      ],
      "text/plain": [
       "   carid  tradeTime  brand  serial  model  mileage  color  cityId  carCode  \\\n",
       "0      1 2021-06-28      1       1      1     4.01      1       1      1.0   \n",
       "1      2 2021-06-25      2       2      2     8.60      1       2      1.0   \n",
       "3      6 2021-06-29      6       6      6     6.04      1       3      1.0   \n",
       "4      7 2021-06-30      7       7      7     5.70      4       1      2.0   \n",
       "7     13 2021-07-17      6      13     13     4.64      1       3      1.0   \n",
       "\n",
       "   transferCount  ...  af5 af6  af8  af9      af10  af11            af12  \\\n",
       "0              0  ...    1   1  1.0  5.0  2.000000     1  4220*1740*1625   \n",
       "1              0  ...    2   2  2.0  4.0  3.000000   1+2  4630*1775*1480   \n",
       "3              3  ...    6   1  2.0  5.0  2.000000     1  4500*1834*1707   \n",
       "4              2  ...    7   1  1.0  5.0  2.000000     1  4315*1783*1606   \n",
       "7              0  ...    6   2  2.0  4.0  2.507934     1  4680*1785*1460   \n",
       "\n",
       "       af13  af14  price  \n",
       "0  201709.0     1   4.24  \n",
       "1  201609.0     2   7.38  \n",
       "3  201608.0     2   4.38  \n",
       "4  201204.0     1   5.90  \n",
       "7  201808.0     1   5.95  \n",
       "\n",
       "[5 rows x 33 columns]"
      ]
     },
     "execution_count": 38,
     "metadata": {},
     "output_type": "execute_result"
    }
   ],
   "source": [
    "x_dp.head()"
   ]
  },
  {
   "cell_type": "markdown",
   "id": "2ab40906",
   "metadata": {},
   "source": [
    "### 处理时间数据'af13'"
   ]
  },
  {
   "cell_type": "code",
   "execution_count": 39,
   "id": "bcc0e6d4",
   "metadata": {
    "ExecuteTime": {
     "end_time": "2022-01-12T14:57:15.671573Z",
     "start_time": "2022-01-12T14:57:15.656577Z"
    }
   },
   "outputs": [],
   "source": [
    "x_dp['af13'] = (x_dp['af13'][0:].max() - \n",
    "                x_dp['af13'][0:]).astype('int32')"
   ]
  },
  {
   "cell_type": "markdown",
   "id": "decaaf28",
   "metadata": {},
   "source": [
    "### 处理时间数据'tradeTime'"
   ]
  },
  {
   "cell_type": "code",
   "execution_count": 40,
   "id": "561726f6",
   "metadata": {
    "ExecuteTime": {
     "end_time": "2022-01-12T14:57:15.907945Z",
     "start_time": "2022-01-12T14:57:15.672534Z"
    }
   },
   "outputs": [
    {
     "data": {
      "text/plain": [
       "<AxesSubplot:>"
      ]
     },
     "execution_count": 40,
     "metadata": {},
     "output_type": "execute_result"
    },
    {
     "data": {
      "image/png": "[encoded data removed]",
      "text/plain": [
       "<Figure size 576x360 with 1 Axes>"
      ]
     },
     "metadata": {
      "needs_background": "light"
     },
     "output_type": "display_data"
    }
   ],
   "source": [
    "import matplotlib.pyplot as plt\n",
    "plt.rcParams['font.sans-serif'] = ['Microsoft YaHei']  # 正常显示中文\n",
    "x_dp['tradeTime'].hist(bins=50, figsize=(8,5))  # "
   ]
  },
  {
   "cell_type": "code",
   "execution_count": 41,
   "id": "2fad64a1",
   "metadata": {
    "ExecuteTime": {
     "end_time": "2022-01-12T14:57:15.923860Z",
     "start_time": "2022-01-12T14:57:15.908902Z"
    }
   },
   "outputs": [
    {
     "data": {
      "text/plain": [
       "Timestamp('2020-01-01 00:00:00')"
      ]
     },
     "execution_count": 41,
     "metadata": {},
     "output_type": "execute_result"
    }
   ],
   "source": [
    "x_dp['tradeTime'][0:].min()"
   ]
  },
  {
   "cell_type": "markdown",
   "id": "7ec20a9d",
   "metadata": {},
   "source": [
    "> 用2.1.5中处理af13统一约定的时间处理方案"
   ]
  },
  {
   "cell_type": "code",
   "execution_count": 42,
   "id": "0ec480ff",
   "metadata": {
    "ExecuteTime": {
     "end_time": "2022-01-12T14:57:16.131306Z",
     "start_time": "2022-01-12T14:57:15.924860Z"
    }
   },
   "outputs": [],
   "source": [
    "x_dp['tradeTime'] = (x_dp['tradeTime'][0:].max() - \n",
    "                     x_dp['tradeTime'][0:]).astype('str').apply(lambda x:x[:-5]).astype('int32')\n",
    "# 日期相减是Timedelta格式，先转化为字符串，然后切片取数字部分，最后转整形"
   ]
  },
  {
   "cell_type": "code",
   "execution_count": 43,
   "id": "c0a9ef22",
   "metadata": {
    "ExecuteTime": {
     "end_time": "2022-01-12T14:57:16.304860Z",
     "start_time": "2022-01-12T14:57:16.132303Z"
    }
   },
   "outputs": [
    {
     "data": {
      "text/plain": [
       "<AxesSubplot:>"
      ]
     },
     "execution_count": 43,
     "metadata": {},
     "output_type": "execute_result"
    },
    {
     "data": {
      "image/png": "[encoded data removed]",
      "text/plain": [
       "<Figure size 576x360 with 1 Axes>"
      ]
     },
     "metadata": {
      "needs_background": "light"
     },
     "output_type": "display_data"
    }
   ],
   "source": [
    "x_dp['tradeTime'].hist(bins=50, figsize=(8,5))"
   ]
  },
  {
   "cell_type": "markdown",
   "id": "a83c8d1c",
   "metadata": {
    "ExecuteTime": {
     "end_time": "2022-01-08T06:06:36.299745Z",
     "start_time": "2022-01-08T06:06:36.281793Z"
    }
   },
   "source": [
    "### 处理时间数据'registerDate'"
   ]
  },
  {
   "cell_type": "code",
   "execution_count": 44,
   "id": "7920b87f",
   "metadata": {
    "ExecuteTime": {
     "end_time": "2022-01-12T14:57:16.495395Z",
     "start_time": "2022-01-12T14:57:16.305841Z"
    }
   },
   "outputs": [
    {
     "data": {
      "text/plain": [
       "<AxesSubplot:>"
      ]
     },
     "execution_count": 44,
     "metadata": {},
     "output_type": "execute_result"
    },
    {
     "data": {
      "image/png": "[encoded data removed]",
      "text/plain": [
       "<Figure size 576x360 with 1 Axes>"
      ]
     },
     "metadata": {
      "needs_background": "light"
     },
     "output_type": "display_data"
    }
   ],
   "source": [
    "x_dp['registerDate'].hist(bins=50, figsize=(8,5))"
   ]
  },
  {
   "cell_type": "code",
   "execution_count": 45,
   "id": "8af8f07b",
   "metadata": {
    "ExecuteTime": {
     "end_time": "2022-01-12T14:57:16.669922Z",
     "start_time": "2022-01-12T14:57:16.497328Z"
    }
   },
   "outputs": [],
   "source": [
    "x_dp['registerDate'] = (x_dp['registerDate'][0:].max() - \n",
    "                        x_dp['registerDate'][0:]).astype('str').apply(lambda x:x[:-5]).astype('int32')"
   ]
  },
  {
   "cell_type": "markdown",
   "id": "536f6bf0",
   "metadata": {},
   "source": [
    "### 处理时间数据'lincenseDate'"
   ]
  },
  {
   "cell_type": "code",
   "execution_count": 46,
   "id": "6717e10e",
   "metadata": {
    "ExecuteTime": {
     "end_time": "2022-01-12T14:57:16.858725Z",
     "start_time": "2022-01-12T14:57:16.671865Z"
    }
   },
   "outputs": [
    {
     "data": {
      "text/plain": [
       "<AxesSubplot:>"
      ]
     },
     "execution_count": 46,
     "metadata": {},
     "output_type": "execute_result"
    },
    {
     "data": {
      "image/png": "[encoded data removed]",
      "text/plain": [
       "<Figure size 576x360 with 1 Axes>"
      ]
     },
     "metadata": {
      "needs_background": "light"
     },
     "output_type": "display_data"
    }
   ],
   "source": [
    "x_dp['lincenseDate'].hist(bins=50, figsize=(8,5))"
   ]
  },
  {
   "cell_type": "code",
   "execution_count": 47,
   "id": "16262a01",
   "metadata": {
    "ExecuteTime": {
     "end_time": "2022-01-12T14:57:17.033008Z",
     "start_time": "2022-01-12T14:57:16.860715Z"
    }
   },
   "outputs": [],
   "source": [
    "x_dp['lincenseDate'] = (x_dp['lincenseDate'][0:].max() - \n",
    "                        x_dp['lincenseDate'][0:]).astype('str').apply(lambda x:x[:-5]).astype('int32')"
   ]
  },
  {
   "cell_type": "code",
   "execution_count": 48,
   "id": "8152e23d",
   "metadata": {
    "ExecuteTime": {
     "end_time": "2022-01-12T14:57:17.206430Z",
     "start_time": "2022-01-12T14:57:17.034588Z"
    }
   },
   "outputs": [
    {
     "data": {
      "text/plain": [
       "<AxesSubplot:>"
      ]
     },
     "execution_count": 48,
     "metadata": {},
     "output_type": "execute_result"
    },
    {
     "data": {
      "image/png": "[encoded data removed]",
      "text/plain": [
       "<Figure size 576x360 with 1 Axes>"
      ]
     },
     "metadata": {
      "needs_background": "light"
     },
     "output_type": "display_data"
    }
   ],
   "source": [
    "x_dp['lincenseDate'].hist(bins=50, figsize=(8,5))"
   ]
  },
  {
   "cell_type": "markdown",
   "id": "1636aac9",
   "metadata": {},
   "source": [
    "## 处理（转化）分类数据"
   ]
  },
  {
   "cell_type": "markdown",
   "id": "7dca45e7",
   "metadata": {},
   "source": [
    "### 剔除price字段异常值"
   ]
  },
  {
   "cell_type": "code",
   "execution_count": 49,
   "id": "a01d1725",
   "metadata": {
    "ExecuteTime": {
     "end_time": "2022-01-12T14:57:17.426779Z",
     "start_time": "2022-01-12T14:57:17.208124Z"
    },
    "scrolled": false
   },
   "outputs": [
    {
     "data": {
      "text/plain": [
       "<AxesSubplot:>"
      ]
     },
     "execution_count": 49,
     "metadata": {},
     "output_type": "execute_result"
    },
    {
     "data": {
      "image/png": "[encoded data removed]",
      "text/plain": [
       "<Figure size 432x288 with 1 Axes>"
      ]
     },
     "metadata": {
      "needs_background": "light"
     },
     "output_type": "display_data"
    }
   ],
   "source": [
    "x_dp['price'].hist(bins=100)"
   ]
  },
  {
   "cell_type": "markdown",
   "id": "21f92f4e",
   "metadata": {},
   "source": [
    "> price中有异常值,否则范围不会拉到这么大"
   ]
  },
  {
   "cell_type": "code",
   "execution_count": 50,
   "id": "8da4f943",
   "metadata": {
    "ExecuteTime": {
     "end_time": "2022-01-12T14:57:17.855446Z",
     "start_time": "2022-01-12T14:57:17.427538Z"
    },
    "scrolled": false
   },
   "outputs": [],
   "source": [
    "from sklearn.preprocessing import StandardScaler\n",
    "std_scl = StandardScaler()"
   ]
  },
  {
   "cell_type": "code",
   "execution_count": 51,
   "id": "9c43128f",
   "metadata": {
    "ExecuteTime": {
     "end_time": "2022-01-12T14:57:17.871381Z",
     "start_time": "2022-01-12T14:57:17.856392Z"
    }
   },
   "outputs": [
    {
     "data": {
      "text/plain": [
       "count     23972.000000\n",
       "mean         18.596214\n",
       "std         704.053156\n",
       "min           0.050000\n",
       "25%           6.380000\n",
       "50%          10.500000\n",
       "75%          17.800000\n",
       "max      109000.000000\n",
       "Name: price, dtype: float64"
      ]
     },
     "execution_count": 51,
     "metadata": {},
     "output_type": "execute_result"
    }
   ],
   "source": [
    "x_dp['price'].describe()"
   ]
  },
  {
   "cell_type": "code",
   "execution_count": 52,
   "id": "f8fda180",
   "metadata": {
    "ExecuteTime": {
     "end_time": "2022-01-12T14:57:17.902306Z",
     "start_time": "2022-01-12T14:57:17.872348Z"
    }
   },
   "outputs": [
    {
     "data": {
      "text/html": [
       "<div>\n",
       "<style scoped>\n",
       "    .dataframe tbody tr th:only-of-type {\n",
       "        vertical-align: middle;\n",
       "    }\n",
       "\n",
       "    .dataframe tbody tr th {\n",
       "        vertical-align: top;\n",
       "    }\n",
       "\n",
       "    .dataframe thead th {\n",
       "        text-align: right;\n",
       "    }\n",
       "</style>\n",
       "<table border=\"1\" class=\"dataframe\">\n",
       "  <thead>\n",
       "    <tr style=\"text-align: right;\">\n",
       "      <th></th>\n",
       "      <th>carid</th>\n",
       "      <th>tradeTime</th>\n",
       "      <th>brand</th>\n",
       "      <th>serial</th>\n",
       "      <th>model</th>\n",
       "      <th>mileage</th>\n",
       "      <th>color</th>\n",
       "      <th>cityId</th>\n",
       "      <th>carCode</th>\n",
       "      <th>transferCount</th>\n",
       "      <th>...</th>\n",
       "      <th>af5</th>\n",
       "      <th>af6</th>\n",
       "      <th>af8</th>\n",
       "      <th>af9</th>\n",
       "      <th>af10</th>\n",
       "      <th>af11</th>\n",
       "      <th>af12</th>\n",
       "      <th>af13</th>\n",
       "      <th>af14</th>\n",
       "      <th>price</th>\n",
       "    </tr>\n",
       "  </thead>\n",
       "  <tbody>\n",
       "    <tr>\n",
       "      <th>7793</th>\n",
       "      <td>54999</td>\n",
       "      <td>320</td>\n",
       "      <td>8</td>\n",
       "      <td>208</td>\n",
       "      <td>9962</td>\n",
       "      <td>6.15</td>\n",
       "      <td>3</td>\n",
       "      <td>19</td>\n",
       "      <td>2.0</td>\n",
       "      <td>1</td>\n",
       "      <td>...</td>\n",
       "      <td>8</td>\n",
       "      <td>3</td>\n",
       "      <td>2.0</td>\n",
       "      <td>5.0</td>\n",
       "      <td>2.000000</td>\n",
       "      <td>1+2</td>\n",
       "      <td>4199*1786*1479</td>\n",
       "      <td>808</td>\n",
       "      <td>1</td>\n",
       "      <td>658.0</td>\n",
       "    </tr>\n",
       "    <tr>\n",
       "      <th>22115</th>\n",
       "      <td>49878</td>\n",
       "      <td>478</td>\n",
       "      <td>16</td>\n",
       "      <td>37</td>\n",
       "      <td>695</td>\n",
       "      <td>4.52</td>\n",
       "      <td>8</td>\n",
       "      <td>5</td>\n",
       "      <td>1.0</td>\n",
       "      <td>0</td>\n",
       "      <td>...</td>\n",
       "      <td>18</td>\n",
       "      <td>1</td>\n",
       "      <td>1.0</td>\n",
       "      <td>5.0</td>\n",
       "      <td>2.000000</td>\n",
       "      <td>1+2</td>\n",
       "      <td>4633*1840*1530</td>\n",
       "      <td>404</td>\n",
       "      <td>2</td>\n",
       "      <td>109000.0</td>\n",
       "    </tr>\n",
       "    <tr>\n",
       "      <th>27461</th>\n",
       "      <td>23427</td>\n",
       "      <td>113</td>\n",
       "      <td>100</td>\n",
       "      <td>947</td>\n",
       "      <td>5008</td>\n",
       "      <td>0.43</td>\n",
       "      <td>2</td>\n",
       "      <td>1</td>\n",
       "      <td>1.0</td>\n",
       "      <td>0</td>\n",
       "      <td>...</td>\n",
       "      <td>125</td>\n",
       "      <td>2</td>\n",
       "      <td>5.0</td>\n",
       "      <td>4.0</td>\n",
       "      <td>2.507934</td>\n",
       "      <td>3+2</td>\n",
       "      <td>5825*1926*1541</td>\n",
       "      <td>307</td>\n",
       "      <td>2</td>\n",
       "      <td>596.0</td>\n",
       "    </tr>\n",
       "  </tbody>\n",
       "</table>\n",
       "<p>3 rows × 33 columns</p>\n",
       "</div>"
      ],
      "text/plain": [
       "       carid  tradeTime  brand  serial  model  mileage  color  cityId  \\\n",
       "7793   54999        320      8     208   9962     6.15      3      19   \n",
       "22115  49878        478     16      37    695     4.52      8       5   \n",
       "27461  23427        113    100     947   5008     0.43      2       1   \n",
       "\n",
       "       carCode  transferCount  ...  af5  af6  af8  af9      af10  af11  \\\n",
       "7793       2.0              1  ...    8    3  2.0  5.0  2.000000   1+2   \n",
       "22115      1.0              0  ...   18    1  1.0  5.0  2.000000   1+2   \n",
       "27461      1.0              0  ...  125    2  5.0  4.0  2.507934   3+2   \n",
       "\n",
       "                 af12  af13  af14     price  \n",
       "7793   4199*1786*1479   808     1     658.0  \n",
       "22115  4633*1840*1530   404     2  109000.0  \n",
       "27461  5825*1926*1541   307     2     596.0  \n",
       "\n",
       "[3 rows x 33 columns]"
      ]
     },
     "execution_count": 52,
     "metadata": {},
     "output_type": "execute_result"
    }
   ],
   "source": [
    "x_dp[x_dp['price'] > 300]  # 3个异常值"
   ]
  },
  {
   "cell_type": "code",
   "execution_count": 53,
   "id": "76d231d2",
   "metadata": {
    "ExecuteTime": {
     "end_time": "2022-01-12T14:57:17.918264Z",
     "start_time": "2022-01-12T14:57:17.903267Z"
    }
   },
   "outputs": [],
   "source": [
    "x_dp.drop(x_dp[x_dp['price'] > 300].index, axis=0, inplace=True)  # price大于300的删除"
   ]
  },
  {
   "cell_type": "markdown",
   "id": "00796a78",
   "metadata": {},
   "source": [
    "对于还没分类的一些目前为数值型的分类变量，先看一下他们的散点图关系"
   ]
  },
  {
   "cell_type": "code",
   "execution_count": 54,
   "id": "13c61c1c",
   "metadata": {
    "ExecuteTime": {
     "end_time": "2022-01-12T14:57:30.254260Z",
     "start_time": "2022-01-12T14:57:17.920222Z"
    }
   },
   "outputs": [
    {
     "data": {
      "image/png": "[encoded data removed]",
      "text/plain": [
       "<Figure size 1008x1008 with 121 Axes>"
      ]
     },
     "metadata": {
      "needs_background": "light"
     },
     "output_type": "display_data"
    }
   ],
   "source": [
    "from pandas.plotting import scatter_matrix\n",
    "attributes = ['brand', 'serial', 'model','color', 'cityId', 'country', 'maketype', 'gearbox', 'oiltype', 'af1', 'price']\n",
    "scatter_matrix(pd.DataFrame(std_scl.fit_transform(x_dp[attributes]), columns=x_dp[attributes].columns), figsize=(14, 14))\n",
    "plt.show()"
   ]
  },
  {
   "cell_type": "markdown",
   "id": "f49cbbc9",
   "metadata": {
    "ExecuteTime": {
     "end_time": "2022-01-08T08:21:46.453512Z",
     "start_time": "2022-01-08T08:21:46.229965Z"
    }
   },
   "source": [
    "直接看最后一行散点图，发现存在某些难以描述的关系，考虑color，country，oiltype 三种类型"
   ]
  },
  {
   "cell_type": "code",
   "execution_count": 55,
   "id": "c7acc84e",
   "metadata": {
    "ExecuteTime": {
     "end_time": "2022-01-12T14:57:30.334049Z",
     "start_time": "2022-01-12T14:57:30.255259Z"
    }
   },
   "outputs": [
    {
     "data": {
      "text/plain": [
       "price            1.000000\n",
       "newprice         0.797280\n",
       "displacement     0.574649\n",
       "af2              0.525054\n",
       "af8              0.487720\n",
       "maketype         0.427621\n",
       "modelyear        0.262118\n",
       "af5              0.245364\n",
       "serial           0.171404\n",
       "gearbox          0.138910\n",
       "brand            0.134091\n",
       "model            0.096874\n",
       "transferCount    0.080933\n",
       "seatings         0.045485\n",
       "af6              0.036240\n",
       "carid            0.014786\n",
       "oiltype          0.013378\n",
       "af1              0.005986\n",
       "af3             -0.014383\n",
       "af9             -0.021742\n",
       "af14            -0.025182\n",
       "tradeTime       -0.036786\n",
       "af10            -0.038331\n",
       "color           -0.059754\n",
       "carCode         -0.065444\n",
       "mileage         -0.128726\n",
       "cityId          -0.130504\n",
       "registerDate    -0.244779\n",
       "af13            -0.246824\n",
       "country         -0.248621\n",
       "lincenseDate    -0.271013\n",
       "Name: price, dtype: float64"
      ]
     },
     "execution_count": 55,
     "metadata": {},
     "output_type": "execute_result"
    }
   ],
   "source": [
    "corr_matrix = x_dp.corr()\n",
    "corr_matrix['price'].sort_values(ascending=False)"
   ]
  },
  {
   "cell_type": "markdown",
   "id": "e21e8453",
   "metadata": {},
   "source": [
    "结合散点图和相关系数表，我们考虑删除以下分类变量（依据是相关系数绝对值小于0.2，或者散点图大致为均匀分布的）：\n",
    "\n",
    "'brand', 'serial', 'model', 'color', 'cityId', 'gearbox', 'oiltype', 'af1'\n",
    "\n",
    "仅保留了'country'"
   ]
  },
  {
   "cell_type": "code",
   "execution_count": 56,
   "id": "c3dbc5f3",
   "metadata": {
    "ExecuteTime": {
     "end_time": "2022-01-12T14:57:30.350006Z",
     "start_time": "2022-01-12T14:57:30.335090Z"
    }
   },
   "outputs": [],
   "source": [
    "x_dp.drop(['brand', 'serial', 'model', 'color', 'cityId', 'gearbox', 'oiltype', 'af1'], axis=1, inplace=True)"
   ]
  },
  {
   "cell_type": "code",
   "execution_count": 57,
   "id": "f3178426",
   "metadata": {
    "ExecuteTime": {
     "end_time": "2022-01-12T14:57:30.381922Z",
     "start_time": "2022-01-12T14:57:30.351004Z"
    }
   },
   "outputs": [
    {
     "data": {
      "text/html": [
       "<div>\n",
       "<style scoped>\n",
       "    .dataframe tbody tr th:only-of-type {\n",
       "        vertical-align: middle;\n",
       "    }\n",
       "\n",
       "    .dataframe tbody tr th {\n",
       "        vertical-align: top;\n",
       "    }\n",
       "\n",
       "    .dataframe thead th {\n",
       "        text-align: right;\n",
       "    }\n",
       "</style>\n",
       "<table border=\"1\" class=\"dataframe\">\n",
       "  <thead>\n",
       "    <tr style=\"text-align: right;\">\n",
       "      <th></th>\n",
       "      <th>carid</th>\n",
       "      <th>tradeTime</th>\n",
       "      <th>mileage</th>\n",
       "      <th>carCode</th>\n",
       "      <th>transferCount</th>\n",
       "      <th>seatings</th>\n",
       "      <th>registerDate</th>\n",
       "      <th>lincenseDate</th>\n",
       "      <th>country</th>\n",
       "      <th>maketype</th>\n",
       "      <th>...</th>\n",
       "      <th>af5</th>\n",
       "      <th>af6</th>\n",
       "      <th>af8</th>\n",
       "      <th>af9</th>\n",
       "      <th>af10</th>\n",
       "      <th>af11</th>\n",
       "      <th>af12</th>\n",
       "      <th>af13</th>\n",
       "      <th>af14</th>\n",
       "      <th>price</th>\n",
       "    </tr>\n",
       "  </thead>\n",
       "  <tbody>\n",
       "    <tr>\n",
       "      <th>0</th>\n",
       "      <td>1</td>\n",
       "      <td>33</td>\n",
       "      <td>4.01</td>\n",
       "      <td>1.0</td>\n",
       "      <td>0</td>\n",
       "      <td>5</td>\n",
       "      <td>1217</td>\n",
       "      <td>1256</td>\n",
       "      <td>779413.0</td>\n",
       "      <td>1.0</td>\n",
       "      <td>...</td>\n",
       "      <td>1</td>\n",
       "      <td>1</td>\n",
       "      <td>1.0</td>\n",
       "      <td>5.0</td>\n",
       "      <td>2.000000</td>\n",
       "      <td>1</td>\n",
       "      <td>4220*1740*1625</td>\n",
       "      <td>301</td>\n",
       "      <td>1</td>\n",
       "      <td>4.24</td>\n",
       "    </tr>\n",
       "    <tr>\n",
       "      <th>1</th>\n",
       "      <td>2</td>\n",
       "      <td>36</td>\n",
       "      <td>8.60</td>\n",
       "      <td>1.0</td>\n",
       "      <td>0</td>\n",
       "      <td>5</td>\n",
       "      <td>1582</td>\n",
       "      <td>1567</td>\n",
       "      <td>779415.0</td>\n",
       "      <td>2.0</td>\n",
       "      <td>...</td>\n",
       "      <td>2</td>\n",
       "      <td>2</td>\n",
       "      <td>2.0</td>\n",
       "      <td>4.0</td>\n",
       "      <td>3.000000</td>\n",
       "      <td>1+2</td>\n",
       "      <td>4630*1775*1480</td>\n",
       "      <td>401</td>\n",
       "      <td>2</td>\n",
       "      <td>7.38</td>\n",
       "    </tr>\n",
       "    <tr>\n",
       "      <th>3</th>\n",
       "      <td>6</td>\n",
       "      <td>32</td>\n",
       "      <td>6.04</td>\n",
       "      <td>1.0</td>\n",
       "      <td>3</td>\n",
       "      <td>5</td>\n",
       "      <td>1704</td>\n",
       "      <td>1760</td>\n",
       "      <td>779413.0</td>\n",
       "      <td>1.0</td>\n",
       "      <td>...</td>\n",
       "      <td>6</td>\n",
       "      <td>1</td>\n",
       "      <td>2.0</td>\n",
       "      <td>5.0</td>\n",
       "      <td>2.000000</td>\n",
       "      <td>1</td>\n",
       "      <td>4500*1834*1707</td>\n",
       "      <td>402</td>\n",
       "      <td>2</td>\n",
       "      <td>4.38</td>\n",
       "    </tr>\n",
       "    <tr>\n",
       "      <th>4</th>\n",
       "      <td>7</td>\n",
       "      <td>31</td>\n",
       "      <td>5.70</td>\n",
       "      <td>2.0</td>\n",
       "      <td>2</td>\n",
       "      <td>5</td>\n",
       "      <td>3165</td>\n",
       "      <td>3233</td>\n",
       "      <td>779415.0</td>\n",
       "      <td>2.0</td>\n",
       "      <td>...</td>\n",
       "      <td>7</td>\n",
       "      <td>1</td>\n",
       "      <td>1.0</td>\n",
       "      <td>5.0</td>\n",
       "      <td>2.000000</td>\n",
       "      <td>1</td>\n",
       "      <td>4315*1783*1606</td>\n",
       "      <td>806</td>\n",
       "      <td>1</td>\n",
       "      <td>5.90</td>\n",
       "    </tr>\n",
       "    <tr>\n",
       "      <th>7</th>\n",
       "      <td>13</td>\n",
       "      <td>14</td>\n",
       "      <td>4.64</td>\n",
       "      <td>1.0</td>\n",
       "      <td>0</td>\n",
       "      <td>5</td>\n",
       "      <td>882</td>\n",
       "      <td>923</td>\n",
       "      <td>779413.0</td>\n",
       "      <td>1.0</td>\n",
       "      <td>...</td>\n",
       "      <td>6</td>\n",
       "      <td>2</td>\n",
       "      <td>2.0</td>\n",
       "      <td>4.0</td>\n",
       "      <td>2.507934</td>\n",
       "      <td>1</td>\n",
       "      <td>4680*1785*1460</td>\n",
       "      <td>202</td>\n",
       "      <td>1</td>\n",
       "      <td>5.95</td>\n",
       "    </tr>\n",
       "    <tr>\n",
       "      <th>...</th>\n",
       "      <td>...</td>\n",
       "      <td>...</td>\n",
       "      <td>...</td>\n",
       "      <td>...</td>\n",
       "      <td>...</td>\n",
       "      <td>...</td>\n",
       "      <td>...</td>\n",
       "      <td>...</td>\n",
       "      <td>...</td>\n",
       "      <td>...</td>\n",
       "      <td>...</td>\n",
       "      <td>...</td>\n",
       "      <td>...</td>\n",
       "      <td>...</td>\n",
       "      <td>...</td>\n",
       "      <td>...</td>\n",
       "      <td>...</td>\n",
       "      <td>...</td>\n",
       "      <td>...</td>\n",
       "      <td>...</td>\n",
       "      <td>...</td>\n",
       "    </tr>\n",
       "    <tr>\n",
       "      <th>29993</th>\n",
       "      <td>72533</td>\n",
       "      <td>177</td>\n",
       "      <td>6.87</td>\n",
       "      <td>2.0</td>\n",
       "      <td>1</td>\n",
       "      <td>5</td>\n",
       "      <td>2708</td>\n",
       "      <td>2770</td>\n",
       "      <td>779419.0</td>\n",
       "      <td>2.0</td>\n",
       "      <td>...</td>\n",
       "      <td>25</td>\n",
       "      <td>1</td>\n",
       "      <td>1.0</td>\n",
       "      <td>5.0</td>\n",
       "      <td>2.000000</td>\n",
       "      <td>1+2</td>\n",
       "      <td>4725*1880*1686</td>\n",
       "      <td>798</td>\n",
       "      <td>1</td>\n",
       "      <td>10.40</td>\n",
       "    </tr>\n",
       "    <tr>\n",
       "      <th>29994</th>\n",
       "      <td>27237</td>\n",
       "      <td>103</td>\n",
       "      <td>5.79</td>\n",
       "      <td>1.0</td>\n",
       "      <td>0</td>\n",
       "      <td>5</td>\n",
       "      <td>1857</td>\n",
       "      <td>1830</td>\n",
       "      <td>779416.0</td>\n",
       "      <td>2.0</td>\n",
       "      <td>...</td>\n",
       "      <td>46</td>\n",
       "      <td>1</td>\n",
       "      <td>1.0</td>\n",
       "      <td>5.0</td>\n",
       "      <td>2.000000</td>\n",
       "      <td>1+2</td>\n",
       "      <td>4649*1859*1695</td>\n",
       "      <td>499</td>\n",
       "      <td>1</td>\n",
       "      <td>11.80</td>\n",
       "    </tr>\n",
       "    <tr>\n",
       "      <th>29996</th>\n",
       "      <td>4294</td>\n",
       "      <td>423</td>\n",
       "      <td>11.69</td>\n",
       "      <td>2.0</td>\n",
       "      <td>2</td>\n",
       "      <td>5</td>\n",
       "      <td>3318</td>\n",
       "      <td>3344</td>\n",
       "      <td>779415.0</td>\n",
       "      <td>2.0</td>\n",
       "      <td>...</td>\n",
       "      <td>16</td>\n",
       "      <td>2</td>\n",
       "      <td>1.0</td>\n",
       "      <td>4.0</td>\n",
       "      <td>3.000000</td>\n",
       "      <td>1+2</td>\n",
       "      <td>4960*1845*1480</td>\n",
       "      <td>809</td>\n",
       "      <td>2</td>\n",
       "      <td>8.30</td>\n",
       "    </tr>\n",
       "    <tr>\n",
       "      <th>29997</th>\n",
       "      <td>20584</td>\n",
       "      <td>307</td>\n",
       "      <td>9.87</td>\n",
       "      <td>2.0</td>\n",
       "      <td>0</td>\n",
       "      <td>5</td>\n",
       "      <td>3409</td>\n",
       "      <td>3440</td>\n",
       "      <td>779415.0</td>\n",
       "      <td>2.0</td>\n",
       "      <td>...</td>\n",
       "      <td>7</td>\n",
       "      <td>2</td>\n",
       "      <td>1.0</td>\n",
       "      <td>4.0</td>\n",
       "      <td>3.000000</td>\n",
       "      <td>1</td>\n",
       "      <td>4665*1700*1510</td>\n",
       "      <td>1106</td>\n",
       "      <td>2</td>\n",
       "      <td>5.00</td>\n",
       "    </tr>\n",
       "    <tr>\n",
       "      <th>29998</th>\n",
       "      <td>11490</td>\n",
       "      <td>264</td>\n",
       "      <td>9.57</td>\n",
       "      <td>1.0</td>\n",
       "      <td>1</td>\n",
       "      <td>5</td>\n",
       "      <td>1826</td>\n",
       "      <td>1875</td>\n",
       "      <td>779415.0</td>\n",
       "      <td>3.0</td>\n",
       "      <td>...</td>\n",
       "      <td>47</td>\n",
       "      <td>2</td>\n",
       "      <td>1.0</td>\n",
       "      <td>4.0</td>\n",
       "      <td>3.000000</td>\n",
       "      <td>3+2</td>\n",
       "      <td>4915*1820*1450</td>\n",
       "      <td>502</td>\n",
       "      <td>1</td>\n",
       "      <td>28.00</td>\n",
       "    </tr>\n",
       "  </tbody>\n",
       "</table>\n",
       "<p>23969 rows × 25 columns</p>\n",
       "</div>"
      ],
      "text/plain": [
       "       carid  tradeTime  mileage  carCode  transferCount  seatings  \\\n",
       "0          1         33     4.01      1.0              0         5   \n",
       "1          2         36     8.60      1.0              0         5   \n",
       "3          6         32     6.04      1.0              3         5   \n",
       "4          7         31     5.70      2.0              2         5   \n",
       "7         13         14     4.64      1.0              0         5   \n",
       "...      ...        ...      ...      ...            ...       ...   \n",
       "29993  72533        177     6.87      2.0              1         5   \n",
       "29994  27237        103     5.79      1.0              0         5   \n",
       "29996   4294        423    11.69      2.0              2         5   \n",
       "29997  20584        307     9.87      2.0              0         5   \n",
       "29998  11490        264     9.57      1.0              1         5   \n",
       "\n",
       "       registerDate  lincenseDate   country  maketype  ...  af5  af6  af8  \\\n",
       "0              1217          1256  779413.0       1.0  ...    1    1  1.0   \n",
       "1              1582          1567  779415.0       2.0  ...    2    2  2.0   \n",
       "3              1704          1760  779413.0       1.0  ...    6    1  2.0   \n",
       "4              3165          3233  779415.0       2.0  ...    7    1  1.0   \n",
       "7               882           923  779413.0       1.0  ...    6    2  2.0   \n",
       "...             ...           ...       ...       ...  ...  ...  ...  ...   \n",
       "29993          2708          2770  779419.0       2.0  ...   25    1  1.0   \n",
       "29994          1857          1830  779416.0       2.0  ...   46    1  1.0   \n",
       "29996          3318          3344  779415.0       2.0  ...   16    2  1.0   \n",
       "29997          3409          3440  779415.0       2.0  ...    7    2  1.0   \n",
       "29998          1826          1875  779415.0       3.0  ...   47    2  1.0   \n",
       "\n",
       "       af9      af10  af11            af12  af13  af14  price  \n",
       "0      5.0  2.000000     1  4220*1740*1625   301     1   4.24  \n",
       "1      4.0  3.000000   1+2  4630*1775*1480   401     2   7.38  \n",
       "3      5.0  2.000000     1  4500*1834*1707   402     2   4.38  \n",
       "4      5.0  2.000000     1  4315*1783*1606   806     1   5.90  \n",
       "7      4.0  2.507934     1  4680*1785*1460   202     1   5.95  \n",
       "...    ...       ...   ...             ...   ...   ...    ...  \n",
       "29993  5.0  2.000000   1+2  4725*1880*1686   798     1  10.40  \n",
       "29994  5.0  2.000000   1+2  4649*1859*1695   499     1  11.80  \n",
       "29996  4.0  3.000000   1+2  4960*1845*1480   809     2   8.30  \n",
       "29997  4.0  3.000000     1  4665*1700*1510  1106     2   5.00  \n",
       "29998  4.0  3.000000   3+2  4915*1820*1450   502     1  28.00  \n",
       "\n",
       "[23969 rows x 25 columns]"
      ]
     },
     "execution_count": 57,
     "metadata": {},
     "output_type": "execute_result"
    }
   ],
   "source": [
    "x_dp"
   ]
  },
  {
   "cell_type": "markdown",
   "id": "077f6216",
   "metadata": {
    "ExecuteTime": {
     "end_time": "2022-01-08T08:41:55.804112Z",
     "start_time": "2022-01-08T08:41:55.788156Z"
    }
   },
   "source": [
    "### 转化af12（乘出来变体积）"
   ]
  },
  {
   "cell_type": "code",
   "execution_count": 58,
   "id": "2527abc5",
   "metadata": {
    "ExecuteTime": {
     "end_time": "2022-01-12T14:57:30.556772Z",
     "start_time": "2022-01-12T14:57:30.382918Z"
    }
   },
   "outputs": [],
   "source": [
    "x_dp['af12'] = x_dp['af12'].apply(eval)"
   ]
  },
  {
   "cell_type": "code",
   "execution_count": 59,
   "id": "13ac2a21",
   "metadata": {
    "ExecuteTime": {
     "end_time": "2022-01-12T14:57:30.572759Z",
     "start_time": "2022-01-12T14:57:30.558450Z"
    }
   },
   "outputs": [
    {
     "data": {
      "text/plain": [
       "0        11932050000\n",
       "1        12163010000\n",
       "3        14087871000\n",
       "4        12355993870\n",
       "7        12196548000\n",
       "            ...     \n",
       "29993    14976738000\n",
       "29994    14649022245\n",
       "29996    13543776000\n",
       "29997    11975055000\n",
       "29998    12970685000\n",
       "Name: af12, Length: 23969, dtype: int64"
      ]
     },
     "execution_count": 59,
     "metadata": {},
     "output_type": "execute_result"
    }
   ],
   "source": [
    "x_dp['af12']"
   ]
  },
  {
   "cell_type": "code",
   "execution_count": 60,
   "id": "82e9569b",
   "metadata": {
    "ExecuteTime": {
     "end_time": "2022-01-12T14:57:37.764399Z",
     "start_time": "2022-01-12T14:57:30.574410Z"
    }
   },
   "outputs": [],
   "source": [
    "x_dp.to_excel(r'C:\\Users\\hasee\\OneDrive\\桌面\\2021年MathorCup大数据竞赛赛道A\\附件\\v4.xlsx', index=False)"
   ]
  },
  {
   "cell_type": "markdown",
   "id": "0f7cbc32",
   "metadata": {},
   "source": [
    "## 标准化"
   ]
  },
  {
   "cell_type": "code",
   "execution_count": 61,
   "id": "4d575449",
   "metadata": {
    "ExecuteTime": {
     "end_time": "2022-01-12T14:57:44.307833Z",
     "start_time": "2022-01-12T14:57:37.766001Z"
    }
   },
   "outputs": [],
   "source": [
    "x_dp = pd.read_excel(r'C:\\Users\\hasee\\OneDrive\\桌面\\2021年MathorCup大数据竞赛赛道A\\附件\\v4.xlsx')"
   ]
  },
  {
   "cell_type": "code",
   "execution_count": 62,
   "id": "64cb8499",
   "metadata": {
    "ExecuteTime": {
     "end_time": "2022-01-12T14:57:46.257308Z",
     "start_time": "2022-01-12T14:57:44.309516Z"
    }
   },
   "outputs": [],
   "source": [
    "x_t = pd.read_excel(r'C:\\Users\\hasee\\OneDrive\\桌面\\2021年MathorCup大数据竞赛赛道A\\附件\\附件2：估价验证数据.xlsx')"
   ]
  },
  {
   "cell_type": "code",
   "execution_count": 63,
   "id": "af450c9e",
   "metadata": {
    "ExecuteTime": {
     "end_time": "2022-01-12T14:57:46.273267Z",
     "start_time": "2022-01-12T14:57:46.259303Z"
    }
   },
   "outputs": [
    {
     "data": {
      "text/plain": [
       "1+2        15549\n",
       "1           5075\n",
       "3+2         2728\n",
       "1+2,4+2      616\n",
       "5              1\n",
       "Name: af11, dtype: int64"
      ]
     },
     "execution_count": 63,
     "metadata": {},
     "output_type": "execute_result"
    }
   ],
   "source": [
    "x_dp.af11.value_counts()"
   ]
  },
  {
   "cell_type": "code",
   "execution_count": 64,
   "id": "9dfa2be5",
   "metadata": {
    "ExecuteTime": {
     "end_time": "2022-01-12T14:57:46.288228Z",
     "start_time": "2022-01-12T14:57:46.275270Z"
    }
   },
   "outputs": [
    {
     "data": {
      "text/plain": [
       "1+2        3057\n",
       "1          1143\n",
       "3+2         571\n",
       "1+2,4+2     156\n",
       "Name: af11, dtype: int64"
      ]
     },
     "execution_count": 64,
     "metadata": {},
     "output_type": "execute_result"
    }
   ],
   "source": [
    "x_t.af11.value_counts()  # 可见需要验证的数据里面没有“5”，因此从训练集删掉这一类"
   ]
  },
  {
   "cell_type": "code",
   "execution_count": 65,
   "id": "812f512d",
   "metadata": {
    "ExecuteTime": {
     "end_time": "2022-01-12T14:57:46.304200Z",
     "start_time": "2022-01-12T14:57:46.290231Z"
    }
   },
   "outputs": [],
   "source": [
    "x_dp.drop(x_dp[x_dp['af11']==5].index, inplace=True)"
   ]
  },
  {
   "cell_type": "code",
   "execution_count": 66,
   "id": "d44cfbd3",
   "metadata": {
    "ExecuteTime": {
     "end_time": "2022-01-12T14:57:46.320183Z",
     "start_time": "2022-01-12T14:57:46.305182Z"
    }
   },
   "outputs": [],
   "source": [
    "x_dp.reset_index(inplace=True, drop=True)"
   ]
  },
  {
   "cell_type": "markdown",
   "id": "922eca35",
   "metadata": {
    "ExecuteTime": {
     "end_time": "2022-01-08T08:48:07.237989Z",
     "start_time": "2022-01-08T08:48:07.227018Z"
    }
   },
   "source": [
    "### af11，country转化为独热编码"
   ]
  },
  {
   "cell_type": "code",
   "execution_count": 67,
   "id": "6fd0fc64",
   "metadata": {
    "ExecuteTime": {
     "end_time": "2022-01-12T14:57:46.384012Z",
     "start_time": "2022-01-12T14:57:46.322138Z"
    }
   },
   "outputs": [],
   "source": [
    "from sklearn.preprocessing import OneHotEncoder\n",
    "ohe = OneHotEncoder()\n",
    "x_num = x_dp.drop(['country', 'af11', 'price'], axis=1)\n",
    "x_num_1 = pd.DataFrame(std_scl.fit_transform(x_num), columns=x_num.columns)\n",
    "x_2 = pd.concat([x_num_1, pd.DataFrame(ohe.fit_transform(x_dp[['country']]).toarray())], axis=1)\n",
    "x_2 = pd.concat([x_2, pd.DataFrame(ohe.fit_transform(x_dp[['af11']].astype(str)).toarray())], axis=1)\n",
    "x_2['price'] = x_dp['price']\n",
    "x_2.drop(['carid'], axis=1, inplace=True)"
   ]
  },
  {
   "cell_type": "code",
   "execution_count": 68,
   "id": "975f3a9d",
   "metadata": {
    "ExecuteTime": {
     "end_time": "2022-01-12T14:57:56.454359Z",
     "start_time": "2022-01-12T14:57:46.384970Z"
    }
   },
   "outputs": [],
   "source": [
    "x_2.to_excel(r'C:\\Users\\hasee\\OneDrive\\桌面\\2021年MathorCup大数据竞赛赛道A\\附件\\v5.xlsx', index=False)  \n",
    "# 训练集处理完毕"
   ]
  },
  {
   "cell_type": "markdown",
   "id": "6aa5a3be",
   "metadata": {},
   "source": [
    "# 数据处理实例（弃用）"
   ]
  },
  {
   "cell_type": "markdown",
   "id": "08ae4421",
   "metadata": {},
   "source": [
    "用一个类整合前面全部数据处理过程"
   ]
  },
  {
   "cell_type": "code",
   "execution_count": 69,
   "id": "d480d795",
   "metadata": {
    "ExecuteTime": {
     "end_time": "2022-01-12T14:57:56.485284Z",
     "start_time": "2022-01-12T14:57:56.456058Z"
    }
   },
   "outputs": [],
   "source": [
    "from sklearn.pipeline import Pipeline\n",
    "from sklearn.preprocessing import StandardScaler  # 标准化函数\n",
    "from sklearn.preprocessing import OneHotEncoder\n",
    "from sklearn.base import BaseEstimator, TransformerMixin\n",
    "import pandas as pd\n",
    "\n",
    "class wholl_process(BaseEstimator, TransformerMixin):\n",
    "        def __init__(self):\n",
    "            return None\n",
    "        def fit(self, X, y=None):\n",
    "            return self\n",
    "        def transform(self, X):\n",
    "            X.drop(['af15', 'af7', 'af4'], axis=1, inplace=True)\n",
    "            X['af10'] = X['af10'].fillna(X['af10'].mean())\n",
    "            X['af8'] = X['af8'].fillna(X['af8'].mean())\n",
    "            X.dropna(subset=['country'], how='all', inplace=True)\n",
    "            X.drop(X[X['country'] == 0].index, inplace=True)  # 不再保留包含0值的数据\n",
    "            X.dropna(subset=['af12', 'af13', 'af11', 'modelyear', 'af9', 'carCode'], axis=0, inplace=True)\n",
    "            X['af1'] = X['af1'].fillna(1)\n",
    "            X['af13'] = (X['af13'][0:].max() - \n",
    "                         X['af13'][0:]).astype('int32')\n",
    "            X['tradeTime'] = (X['tradeTime'][0:].max() - \n",
    "                                 X['tradeTime'][0:]).astype('str').apply(lambda x:x[:-5]).astype('int32')\n",
    "            X['registerDate'] = (X['registerDate'][0:].max() - \n",
    "                                 X['registerDate'][0:]).astype('str').apply(lambda x:x[:-5]).astype('int32')\n",
    "            X['lincenseDate'] = (X['lincenseDate'][0:].max() - \n",
    "                                 X['lincenseDate'][0:]).astype('str').apply(lambda x:x[:-5]).astype('int32')\n",
    "            \n",
    "            X.drop(['brand', 'serial', 'model', 'color', 'cityId', 'gearbox', 'oiltype', 'af1'], axis =1, inplace=True)\n",
    "            X['af12'] = X['af12'].astype(str).apply(eval)\n",
    "            \n",
    "            std_scl = StandardScaler()\n",
    "            ohe = OneHotEncoder()\n",
    "            \n",
    "            X_num = X.drop(['country', 'af11'], axis=1)\n",
    "            X_num_1 = pd.DataFrame(std_scl.fit_transform(X_num), columns=X_num.columns)\n",
    "            X_2 = pd.concat([X_num_1, pd.DataFrame(ohe.fit_transform(X[['country']]).toarray())], axis=1)\n",
    "            X = pd.concat([X_2, pd.DataFrame(ohe.fit_transform(X[['af11']].astype(str)).toarray())], axis=1)\n",
    "            X.drop(['carid'], axis=1, inplace=True)\n",
    "            return X"
   ]
  },
  {
   "cell_type": "markdown",
   "id": "3d20c936",
   "metadata": {},
   "source": [
    "# 机器学习"
   ]
  },
  {
   "cell_type": "markdown",
   "id": "87c42378",
   "metadata": {},
   "source": [
    "## 划分数据集"
   ]
  },
  {
   "cell_type": "code",
   "execution_count": 74,
   "id": "50713fe2",
   "metadata": {
    "ExecuteTime": {
     "end_time": "2022-01-12T14:57:56.737305Z",
     "start_time": "2022-01-12T14:57:56.691428Z"
    }
   },
   "outputs": [],
   "source": [
    "import pandas as pf\n",
    "import numpy as np\n",
    "from sklearn.model_selection import train_test_split\n",
    "\n",
    "train_set, test_set = train_test_split(x_2, test_size=0.2, random_state=42)  # 数据分割为训练集和测试集"
   ]
  },
  {
   "cell_type": "markdown",
   "id": "753ef33a",
   "metadata": {},
   "source": [
    "## 线性回归"
   ]
  },
  {
   "cell_type": "code",
   "execution_count": 75,
   "id": "ad3fedf7",
   "metadata": {
    "ExecuteTime": {
     "end_time": "2022-01-12T14:57:56.753303Z",
     "start_time": "2022-01-12T14:57:56.738302Z"
    }
   },
   "outputs": [],
   "source": [
    "x_train = train_set.drop(['price'], axis=1)\n",
    "x_train_labels = train_set['price']\n",
    "x_test = test_set.drop(['price'], axis=1)\n",
    "x_test_labels = test_set['price']"
   ]
  },
  {
   "cell_type": "code",
   "execution_count": 76,
   "id": "37b3af09",
   "metadata": {
    "ExecuteTime": {
     "end_time": "2022-01-12T14:57:56.817091Z",
     "start_time": "2022-01-12T14:57:56.754261Z"
    }
   },
   "outputs": [
    {
     "data": {
      "text/plain": [
       "LinearRegression()"
      ]
     },
     "execution_count": 76,
     "metadata": {},
     "output_type": "execute_result"
    }
   ],
   "source": [
    "from sklearn.linear_model import LinearRegression\n",
    "line_model = LinearRegression()\n",
    "line_model.fit(x_train, x_train_labels)"
   ]
  },
  {
   "cell_type": "markdown",
   "id": "19ec9aeb",
   "metadata": {},
   "source": [
    "### 简单评估"
   ]
  },
  {
   "cell_type": "code",
   "execution_count": 77,
   "id": "07fde374",
   "metadata": {
    "ExecuteTime": {
     "end_time": "2022-01-12T14:57:56.832051Z",
     "start_time": "2022-01-12T14:57:56.819086Z"
    }
   },
   "outputs": [],
   "source": [
    "some_data = x_train[:5]\n",
    "some_labels = x_train_labels[:5]"
   ]
  },
  {
   "cell_type": "code",
   "execution_count": 78,
   "id": "23e6b598",
   "metadata": {
    "ExecuteTime": {
     "end_time": "2022-01-12T14:57:56.848008Z",
     "start_time": "2022-01-12T14:57:56.833072Z"
    }
   },
   "outputs": [
    {
     "name": "stdout",
     "output_type": "stream",
     "text": [
      "预测： [35.94567773 15.61743598  6.75662441 17.65294924  9.34030762]\n",
      "实际： [50.8  11.    7.88 18.    6.48]\n"
     ]
    }
   ],
   "source": [
    "print('预测：',line_model.predict(some_data))\n",
    "print('实际：', some_labels.values)"
   ]
  },
  {
   "cell_type": "code",
   "execution_count": 79,
   "id": "9ae40258",
   "metadata": {
    "ExecuteTime": {
     "end_time": "2022-01-12T14:57:56.878927Z",
     "start_time": "2022-01-12T14:57:56.850004Z"
    }
   },
   "outputs": [
    {
     "name": "stdout",
     "output_type": "stream",
     "text": [
      "标准差： 5.863933946275425\n",
      "R2： 0.7946078553812701\n"
     ]
    },
    {
     "data": {
      "text/plain": [
       "count    19174.000000\n",
       "mean        14.022629\n",
       "std         12.939231\n",
       "min          0.050000\n",
       "25%          6.380000\n",
       "50%         10.500000\n",
       "75%         17.880000\n",
       "max        276.000000\n",
       "Name: price, dtype: float64"
      ]
     },
     "execution_count": 79,
     "metadata": {},
     "output_type": "execute_result"
    }
   ],
   "source": [
    "from sklearn.metrics import mean_squared_error, r2_score  # 计算均方差\n",
    "\n",
    "price_predictions = line_model.predict(x_train)\n",
    "lin_mse = mean_squared_error(x_train_labels, price_predictions)\n",
    "print('标准差：', np.sqrt(lin_mse))\n",
    "print('R2：', r2_score(x_train_labels, price_predictions))\n",
    "x_train_labels.describe()"
   ]
  },
  {
   "cell_type": "code",
   "execution_count": 80,
   "id": "96870d43",
   "metadata": {
    "ExecuteTime": {
     "end_time": "2022-01-12T14:57:57.134296Z",
     "start_time": "2022-01-12T14:57:56.879925Z"
    }
   },
   "outputs": [
    {
     "data": {
      "image/png": "[encoded data removed]",
      "text/plain": [
       "<Figure size 432x288 with 1 Axes>"
      ]
     },
     "metadata": {
      "needs_background": "light"
     },
     "output_type": "display_data"
    }
   ],
   "source": [
    "import matplotlib.pyplot as plt\n",
    "plt.hist(x_train_labels, bins=100, edgecolor = 'k')  # 价格（标准化后）的分布图\n",
    "plt.show()"
   ]
  },
  {
   "cell_type": "code",
   "execution_count": 81,
   "id": "3f8e3696",
   "metadata": {
    "ExecuteTime": {
     "end_time": "2022-01-12T14:57:57.353659Z",
     "start_time": "2022-01-12T14:57:57.136241Z"
    }
   },
   "outputs": [
    {
     "data": {
      "text/plain": [
       "<matplotlib.collections.PathCollection at 0x1c091b93850>"
      ]
     },
     "execution_count": 81,
     "metadata": {},
     "output_type": "execute_result"
    },
    {
     "data": {
      "image/png": "[encoded data removed]",
      "text/plain": [
       "<Figure size 432x288 with 1 Axes>"
      ]
     },
     "metadata": {
      "needs_background": "light"
     },
     "output_type": "display_data"
    }
   ],
   "source": [
    "plt.scatter(range(len(x_train_labels-price_predictions)), list((x_train_labels-price_predictions)))  # 残差图"
   ]
  },
  {
   "cell_type": "markdown",
   "id": "32bffaeb",
   "metadata": {},
   "source": [
    "残差基本正常"
   ]
  },
  {
   "cell_type": "markdown",
   "id": "82ed03cd",
   "metadata": {
    "ExecuteTime": {
     "end_time": "2022-01-08T14:38:59.955214Z",
     "start_time": "2022-01-08T14:38:59.947238Z"
    }
   },
   "source": [
    "### K折交叉验证"
   ]
  },
  {
   "cell_type": "code",
   "execution_count": 82,
   "id": "fa3c1806",
   "metadata": {
    "ExecuteTime": {
     "end_time": "2022-01-12T14:57:57.545145Z",
     "start_time": "2022-01-12T14:57:57.360675Z"
    }
   },
   "outputs": [],
   "source": [
    "from sklearn.model_selection import cross_val_score\n",
    "scores = cross_val_score(line_model, x_train, x_train_labels, scoring='neg_mean_squared_error', cv=10)"
   ]
  },
  {
   "cell_type": "code",
   "execution_count": 83,
   "id": "63b78747",
   "metadata": {
    "ExecuteTime": {
     "end_time": "2022-01-12T14:57:57.561103Z",
     "start_time": "2022-01-12T14:57:57.546144Z"
    }
   },
   "outputs": [
    {
     "data": {
      "text/plain": [
       "array([-31.63051983, -33.32850794, -30.6035274 , -47.79834271,\n",
       "       -42.98286044, -31.74441968, -25.68661612, -38.63198212,\n",
       "       -34.55248281, -29.71893624])"
      ]
     },
     "execution_count": 83,
     "metadata": {},
     "output_type": "execute_result"
    }
   ],
   "source": [
    "scores"
   ]
  },
  {
   "cell_type": "code",
   "execution_count": 84,
   "id": "70ed6113",
   "metadata": {
    "ExecuteTime": {
     "end_time": "2022-01-12T14:57:57.577060Z",
     "start_time": "2022-01-12T14:57:57.563098Z"
    }
   },
   "outputs": [],
   "source": [
    "lin_rmse_socres = np.sqrt(-scores)"
   ]
  },
  {
   "cell_type": "code",
   "execution_count": 85,
   "id": "b0238d74",
   "metadata": {
    "ExecuteTime": {
     "end_time": "2022-01-12T14:57:57.593018Z",
     "start_time": "2022-01-12T14:57:57.578059Z"
    }
   },
   "outputs": [
    {
     "data": {
      "text/plain": [
       "array([5.62410169, 5.77308479, 5.5320455 , 6.91363455, 6.55613151,\n",
       "       5.63421864, 5.06819654, 6.21546315, 5.878136  , 5.4515077 ])"
      ]
     },
     "execution_count": 85,
     "metadata": {},
     "output_type": "execute_result"
    }
   ],
   "source": [
    "lin_rmse_socres  # 标准差比较稳定"
   ]
  },
  {
   "cell_type": "markdown",
   "id": "7de9ee01",
   "metadata": {},
   "source": [
    "### 在验证集评估"
   ]
  },
  {
   "cell_type": "code",
   "execution_count": 86,
   "id": "55c15afe",
   "metadata": {
    "ExecuteTime": {
     "end_time": "2022-01-12T14:57:57.608976Z",
     "start_time": "2022-01-12T14:57:57.594016Z"
    }
   },
   "outputs": [
    {
     "name": "stdout",
     "output_type": "stream",
     "text": [
      "5.6043864273151955\n"
     ]
    }
   ],
   "source": [
    "x_lin_predict = line_model.predict(x_test)\n",
    "line_predict_mse = mean_squared_error(x_test_labels, x_lin_predict)\n",
    "print(np.sqrt(line_predict_mse))  # 输出标准差"
   ]
  },
  {
   "cell_type": "markdown",
   "id": "60a51655",
   "metadata": {},
   "source": [
    "## 随机森林"
   ]
  },
  {
   "cell_type": "code",
   "execution_count": 87,
   "id": "a88b1839",
   "metadata": {
    "ExecuteTime": {
     "end_time": "2022-01-12T14:58:10.647136Z",
     "start_time": "2022-01-12T14:57:57.609973Z"
    }
   },
   "outputs": [
    {
     "data": {
      "text/plain": [
       "RandomForestRegressor()"
      ]
     },
     "execution_count": 87,
     "metadata": {},
     "output_type": "execute_result"
    }
   ],
   "source": [
    "from sklearn.ensemble import RandomForestRegressor\n",
    "forest_reg = RandomForestRegressor()\n",
    "forest_reg.fit(x_train, x_train_labels)  # 训练有素"
   ]
  },
  {
   "cell_type": "code",
   "execution_count": 88,
   "id": "ef0c6953",
   "metadata": {
    "ExecuteTime": {
     "end_time": "2022-01-12T14:58:10.679051Z",
     "start_time": "2022-01-12T14:58:10.648133Z"
    }
   },
   "outputs": [
    {
     "name": "stdout",
     "output_type": "stream",
     "text": [
      "预测： [55.2498   11.4949    7.9264   18.404997  6.8796  ]\n",
      "实际： [50.8  11.    7.88 18.    6.48]\n"
     ]
    }
   ],
   "source": [
    "print('预测：', forest_reg.predict(some_data))\n",
    "print('实际：', some_labels.values)"
   ]
  },
  {
   "cell_type": "markdown",
   "id": "f3130c7f",
   "metadata": {},
   "source": [
    "### 简单评估"
   ]
  },
  {
   "cell_type": "code",
   "execution_count": 89,
   "id": "739c53ef",
   "metadata": {
    "ExecuteTime": {
     "end_time": "2022-01-12T14:58:11.155087Z",
     "start_time": "2022-01-12T14:58:10.681045Z"
    }
   },
   "outputs": [],
   "source": [
    "price_predictions = forest_reg.predict(x_train)"
   ]
  },
  {
   "cell_type": "code",
   "execution_count": 90,
   "id": "8fd44e41",
   "metadata": {
    "ExecuteTime": {
     "end_time": "2022-01-12T14:58:11.378183Z",
     "start_time": "2022-01-12T14:58:11.155777Z"
    }
   },
   "outputs": [
    {
     "data": {
      "text/plain": [
       "<matplotlib.collections.PathCollection at 0x1c094b365e0>"
      ]
     },
     "execution_count": 90,
     "metadata": {},
     "output_type": "execute_result"
    },
    {
     "data": {
      "image/png": "[encoded data removed]",
      "text/plain": [
       "<Figure size 432x288 with 1 Axes>"
      ]
     },
     "metadata": {
      "needs_background": "light"
     },
     "output_type": "display_data"
    }
   ],
   "source": [
    "plt.scatter(range(len(x_train_labels-price_predictions)), list((x_train_labels-price_predictions)))  # 残差图"
   ]
  },
  {
   "cell_type": "markdown",
   "id": "533137aa",
   "metadata": {},
   "source": [
    "存在一些异常值，大体稳定"
   ]
  },
  {
   "cell_type": "code",
   "execution_count": 91,
   "id": "4510a11f",
   "metadata": {
    "ExecuteTime": {
     "end_time": "2022-01-12T14:58:11.839988Z",
     "start_time": "2022-01-12T14:58:11.379180Z"
    }
   },
   "outputs": [
    {
     "name": "stdout",
     "output_type": "stream",
     "text": [
      "1.076616892892414\n"
     ]
    }
   ],
   "source": [
    "forest_predictions = forest_reg.predict(x_train)\n",
    "forest_mse = mean_squared_error(x_train_labels, forest_predictions)\n",
    "forest_rmse = np.sqrt(forest_mse)\n",
    "print(forest_rmse)  # 训练集的标准差"
   ]
  },
  {
   "cell_type": "markdown",
   "id": "6d82a953",
   "metadata": {
    "ExecuteTime": {
     "end_time": "2022-01-08T14:50:13.807619Z",
     "start_time": "2022-01-08T14:50:13.798644Z"
    }
   },
   "source": [
    "### K折交叉验证"
   ]
  },
  {
   "cell_type": "code",
   "execution_count": 92,
   "id": "6d3d6573",
   "metadata": {
    "ExecuteTime": {
     "end_time": "2022-01-12T14:58:11.855906Z",
     "start_time": "2022-01-12T14:58:11.840947Z"
    }
   },
   "outputs": [],
   "source": [
    "# 编写一个函数用于输出结果\n",
    "def display_scores(scores):\n",
    "    print('标准差情况:', scores)\n",
    "    print('均值:', scores.mean())\n",
    "    print('（标准差的）标准差:', scores.std())"
   ]
  },
  {
   "cell_type": "code",
   "execution_count": 93,
   "id": "4376b4e6",
   "metadata": {
    "ExecuteTime": {
     "end_time": "2022-01-12T14:58:58.750594Z",
     "start_time": "2022-01-12T14:58:11.856903Z"
    }
   },
   "outputs": [
    {
     "name": "stdout",
     "output_type": "stream",
     "text": [
      "标准差情况: [2.70298827 2.90427364 3.0150235  3.14265405 2.4942151 ]\n",
      "均值: 2.851830914145989\n",
      "（标准差的）标准差: 0.22978396866111525\n"
     ]
    }
   ],
   "source": [
    "scores = cross_val_score(forest_reg, x_train, x_train_labels, scoring='neg_mean_squared_error', cv=5)\n",
    "forest_rmse_socres = np.sqrt(-scores)\n",
    "display_scores(forest_rmse_socres)  # 查看得分情况"
   ]
  },
  {
   "cell_type": "markdown",
   "id": "c432d746",
   "metadata": {},
   "source": [
    "### 验证集评估"
   ]
  },
  {
   "cell_type": "code",
   "execution_count": 94,
   "id": "fc78cd83",
   "metadata": {
    "ExecuteTime": {
     "end_time": "2022-01-12T14:58:58.892216Z",
     "start_time": "2022-01-12T14:58:58.752589Z"
    }
   },
   "outputs": [
    {
     "name": "stdout",
     "output_type": "stream",
     "text": [
      "3.2316216777930102\n"
     ]
    }
   ],
   "source": [
    "x_test_forest_predict = forest_reg.predict(x_test)\n",
    "line_predict_mse = mean_squared_error(x_test_labels, x_test_forest_predict)\n",
    "print(np.sqrt(line_predict_mse))  # 输出标准差"
   ]
  },
  {
   "cell_type": "markdown",
   "id": "91304e12",
   "metadata": {},
   "source": [
    "比线性回归误差小"
   ]
  },
  {
   "cell_type": "markdown",
   "id": "89230f4e",
   "metadata": {},
   "source": [
    "# 精度评价"
   ]
  },
  {
   "cell_type": "code",
   "execution_count": 95,
   "id": "788d3474",
   "metadata": {
    "ExecuteTime": {
     "end_time": "2022-01-12T14:58:58.908174Z",
     "start_time": "2022-01-12T14:58:58.893214Z"
    }
   },
   "outputs": [],
   "source": [
    "def Accuracy(y_true, y_pred):\n",
    "    n = len(y_true)\n",
    "    mape = sum(np.abs((y_true - y_pred)/y_true))/n\n",
    "    Apexi = pd.DataFrame(abs(y_true - y_pred)/y_true)\n",
    "    Accuracy = (Apexi[Apexi <= 0.5].count() /Apexi.count())*0.8+0.2*(1-mape)\n",
    "    return Accuracy"
   ]
  },
  {
   "cell_type": "code",
   "execution_count": 96,
   "id": "76455ff2",
   "metadata": {
    "ExecuteTime": {
     "end_time": "2022-01-12T14:58:58.924166Z",
     "start_time": "2022-01-12T14:58:58.909170Z"
    }
   },
   "outputs": [
    {
     "data": {
      "text/plain": [
       "price    0.974913\n",
       "dtype: float64"
      ]
     },
     "execution_count": 96,
     "metadata": {},
     "output_type": "execute_result"
    }
   ],
   "source": [
    "Accuracy(x_test_labels, x_test_forest_predict)"
   ]
  },
  {
   "cell_type": "code",
   "execution_count": 97,
   "id": "0c375c9b",
   "metadata": {
    "ExecuteTime": {
     "end_time": "2022-01-12T14:58:58.940086Z",
     "start_time": "2022-01-12T14:58:58.926125Z"
    }
   },
   "outputs": [
    {
     "data": {
      "text/plain": [
       "price    0.784039\n",
       "dtype: float64"
      ]
     },
     "execution_count": 97,
     "metadata": {},
     "output_type": "execute_result"
    }
   ],
   "source": [
    "Accuracy(x_test_labels, x_lin_predict)"
   ]
  },
  {
   "cell_type": "markdown",
   "id": "b4f5233e",
   "metadata": {},
   "source": [
    "随机森林在测试集精度97%  \n",
    "线性回归精度78%"
   ]
  },
  {
   "cell_type": "code",
   "execution_count": 118,
   "id": "3e73417e",
   "metadata": {
    "ExecuteTime": {
     "end_time": "2022-01-12T15:18:19.615996Z",
     "start_time": "2022-01-12T15:18:19.356751Z"
    }
   },
   "outputs": [],
   "source": [
    "import joblib\n",
    "joblib.dump(forest_reg, 'forest_model.pkl')  # 保存模型（在程序同一目录）\n",
    "forest_reg = joblib.load('forest_model.pkl')  # 读取模型\n",
    "\n",
    "# forest_reg.predict( 预测数据 ) 即可得到预测值"
   ]
  },
  {
   "cell_type": "code",
   "execution_count": null,
   "id": "95bcfc65",
   "metadata": {},
   "outputs": [],
   "source": []
  }
 ],
 "metadata": {
  "kernelspec": {
   "display_name": "Python 3 (ipykernel)",
   "language": "python",
   "name": "python3"
  },
  "language_info": {
   "codemirror_mode": {
    "name": "ipython",
    "version": 3
   },
   "file_extension": ".py",
   "mimetype": "text/x-python",
   "name": "python",
   "nbconvert_exporter": "python",
   "pygments_lexer": "ipython3",
   "version": "3.9.7"
  },
  "toc": {
   "base_numbering": 1,
   "nav_menu": {},
   "number_sections": true,
   "sideBar": true,
   "skip_h1_title": false,
   "title_cell": "Table of Contents",
   "title_sidebar": "Contents",
   "toc_cell": false,
   "toc_position": {
    "height": "556.8px",
    "left": "81px",
    "top": "110.062px",
    "width": "303.675px"
   },
   "toc_section_display": true,
   "toc_window_display": true
  }
 },
 "nbformat": 4,
 "nbformat_minor": 5
}
