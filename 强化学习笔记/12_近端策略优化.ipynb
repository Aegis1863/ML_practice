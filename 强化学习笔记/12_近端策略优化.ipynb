{
 "cells": [
  {
   "attachments": {},
   "cell_type": "markdown",
   "metadata": {},
   "source": [
    "# 导入包"
   ]
  },
  {
   "cell_type": "code",
   "execution_count": 1,
   "metadata": {},
   "outputs": [],
   "source": [
    "import gymnasium as gym\n",
    "import torch\n",
    "import torch.nn.functional as F\n",
    "import numpy as np\n",
    "import rl_utils\n",
    "import os"
   ]
  },
  {
   "attachments": {},
   "cell_type": "markdown",
   "metadata": {},
   "source": [
    "# 策略网络/演员"
   ]
  },
  {
   "cell_type": "markdown",
   "metadata": {},
   "source": [
    "## 离散动作"
   ]
  },
  {
   "cell_type": "code",
   "execution_count": 2,
   "metadata": {},
   "outputs": [],
   "source": [
    "class PolicyNet(torch.nn.Module):\n",
    "    def __init__(self, state_dim, hidden_dim, action_dim):\n",
    "        super(PolicyNet, self).__init__()\n",
    "        self.fc1 = torch.nn.Linear(state_dim, hidden_dim)\n",
    "        self.fc2 = torch.nn.Linear(hidden_dim, action_dim)\n",
    "\n",
    "    def forward(self, x):\n",
    "        x = F.relu(self.fc1(x))\n",
    "        return F.softmax(self.fc2(x), dim=1)"
   ]
  },
  {
   "cell_type": "markdown",
   "metadata": {},
   "source": [
    "## 连续动作\n",
    "\n",
    "输出正态分布的均值和方差"
   ]
  },
  {
   "cell_type": "code",
   "execution_count": 3,
   "metadata": {},
   "outputs": [],
   "source": [
    "class PolicyNetContinuous(torch.nn.Module):\n",
    "    def __init__(self, state_dim, hidden_dim, action_dim):\n",
    "        super().__init__()\n",
    "        self.fc1 = torch.nn.Linear(state_dim, hidden_dim)\n",
    "        self.fc_mu = torch.nn.Linear(hidden_dim, action_dim)\n",
    "        self.fc_std = torch.nn.Linear(hidden_dim, action_dim)\n",
    "\n",
    "    def forward(self, x):\n",
    "        # 也可以直接用tanh激活输出一个固定值, 再缩放为所需动作值\n",
    "        # 输出均值方差的好处是可以创建一个正态分布, 再采采样一次, 还有探索空间\n",
    "        x = F.relu(self.fc1(x))\n",
    "        mu = 2.0 * torch.tanh(self.fc_mu(x))\n",
    "        std = F.softplus(self.fc_std(x))\n",
    "        return mu, std"
   ]
  },
  {
   "attachments": {},
   "cell_type": "markdown",
   "metadata": {},
   "source": [
    "# 价值网络 V"
   ]
  },
  {
   "cell_type": "code",
   "execution_count": 4,
   "metadata": {},
   "outputs": [],
   "source": [
    "class ValueNet(torch.nn.Module):\n",
    "    def __init__(self, state_dim, hidden_dim):\n",
    "        super().__init__()\n",
    "        self.fc1 = torch.nn.Linear(state_dim, hidden_dim)\n",
    "        self.fc2 = torch.nn.Linear(hidden_dim, 1)\n",
    "\n",
    "    def forward(self, x):\n",
    "        x = F.relu(self.fc1(x))\n",
    "        return self.fc2(x)"
   ]
  },
  {
   "attachments": {},
   "cell_type": "markdown",
   "metadata": {},
   "source": [
    "# PPO 裁剪算法"
   ]
  },
  {
   "cell_type": "code",
   "execution_count": 5,
   "metadata": {},
   "outputs": [],
   "source": [
    "class PPO:\n",
    "    ''' PPO算法,采用截断方式 '''\n",
    "    def __init__(self, cod: str, state_dim: int, hidden_dim: int, action_dim: int, \n",
    "                 actor_lr: float, critic_lr: float, gamma: float, lmbda: float, \n",
    "                 epochs: int, eps: float, device: str):\n",
    "        '''\n",
    "        `cod`: 连续'c', 离散'd'\\\\\n",
    "        `state_dim`: 状态空间大小\\\\\n",
    "        `hidden_dim`: 隐藏层神经元数量, 若要改隐藏层数量, 需要同步改网络\\\\\n",
    "        `action_dim`: 动作空间, 如果是连续动作, 注意调整初始化参数中的action_space\\\\\n",
    "        `actor_lr`: 演员梯度上升学习率\\\\\n",
    "        `critic_lr`: 评论员梯度上升学习率\\\\\n",
    "        `gamma`: 似乎可以去掉，这一项仅用于调整计算优势advantage时，额外调整折算奖励的系数\\\\\n",
    "        `lmbda`: # 时序差分学习率，也作为折算奖励的系数之一\\\\\n",
    "        `epochs`: PPO内迭代训练多少次\\\\\n",
    "        `eps`: 截断范围, 一般0.1或0.2\\\\\n",
    "        `device`: 设备, 'cuda'或'cpu'\\\\\n",
    "        '''\n",
    "        \n",
    "        assert cod in ['d', 'c'], '动作类型错误'\n",
    "        self.cod = cod\n",
    "        if self.cod == 'd':  # 离散网络\n",
    "            self.actor = PolicyNet(state_dim, hidden_dim, action_dim).to(device)\n",
    "        elif self.cod == 'c':  # 连续网络\n",
    "            self.actor = PolicyNetContinuous(state_dim, hidden_dim, action_dim).to(device)\n",
    "        \n",
    "        self.critic = ValueNet(state_dim, hidden_dim).to(device)\n",
    "        self.actor_optimizer = torch.optim.Adam(self.actor.parameters(), lr=actor_lr)\n",
    "        self.critic_optimizer = torch.optim.Adam(self.critic.parameters(), lr=critic_lr)\n",
    "        self.gamma = gamma  # 时序差分学习率\n",
    "        self.lmbda = lmbda\n",
    "        self.epochs = epochs  # 一条序列的数据用来训练轮数\n",
    "        self.eps = eps  # PPO中截断范围的参数\n",
    "        self.device = device\n",
    "\n",
    "    def take_action(self, state):\n",
    "        state = torch.tensor(np.array(state), dtype=torch.float).to(self.device)\n",
    "        if self.cod == 'd':  # 离散动作用分类概率分布\n",
    "            probs = self.actor(state)\n",
    "            action_dist = torch.distributions.Categorical(probs)\n",
    "        elif self.cod == 'c':  # 连续动作用正态分布\n",
    "            mu, sigma = self.actor(state)\n",
    "            action_dist = torch.distributions.Normal(mu, sigma)\n",
    "        action = action_dist.sample()\n",
    "        return [action.item()]\n",
    "\n",
    "    def update(self, transition_dict):\n",
    "        states = torch.tensor(np.array(transition_dict['states']), dtype=torch.float).to(self.device)\n",
    "        if self.cod == 'd':  # 动作是整数\n",
    "            actions = torch.tensor(np.array(transition_dict['actions']), \n",
    "                                   dtype=torch.int).view(-1, 1).to(self.device)\n",
    "        elif self.cod == 'c':  # 动作是浮点数\n",
    "            actions = torch.tensor(np.array(transition_dict['actions']), \n",
    "                                   dtype=torch.float).view(-1, 1).to(self.device)\n",
    "        rewards = torch.tensor(np.array(transition_dict['rewards']), dtype=torch.float).view(-1, 1).to(self.device)\n",
    "        next_states = torch.tensor(np.array(transition_dict['next_states']), dtype=torch.float).to(self.device)\n",
    "        dones = torch.tensor(np.array(transition_dict['dones']), dtype=torch.int).view(-1, 1).to(self.device)\n",
    "        truncated = torch.tensor(np.array(transition_dict['truncated']), dtype=torch.int).view(-1, 1).to(self.device)\n",
    "        \n",
    "        if self.cod == 'd':\n",
    "            td_target = rewards + self.gamma * self.critic(next_states) * (1 - dones | truncated)\n",
    "            td_delta = td_target - self.critic(states)\n",
    "            advantage = rl_utils.compute_advantage(self.gamma, self.lmbda, td_delta.cpu()).to(self.device)\n",
    "            # 所谓的另一个演员就是原来的演员的初始状态\n",
    "            old_log_probs = torch.log(self.actor(states).gather(1, actions)).detach()\n",
    "        elif self.cod == 'c':\n",
    "            rewards = (rewards + 8.0) / 8.0  # 和TRPO一样,对奖励进行修改,方便训练\n",
    "            td_target = rewards + self.gamma * self.critic(next_states) * (1 - dones | truncated)\n",
    "            td_delta = td_target - self.critic(states)\n",
    "            advantage = rl_utils.compute_advantage(self.gamma, self.lmbda, td_delta.cpu()).to(self.device)\n",
    "            mu, std = self.actor(states)\n",
    "            action_dists = torch.distributions.Normal(mu.detach(), std.detach())\n",
    "            # 动作是正态分布\n",
    "            old_log_probs = action_dists.log_prob(actions)\n",
    "\n",
    "        # 因为每次更新是有限度的，不允许一次更新很远，因此需要多次更新才能达到较好效果，这样调整更精细\n",
    "        for _ in range(self.epochs):\n",
    "            if self.cod == 'd':\n",
    "                log_probs = torch.log(self.actor(states).gather(1, actions))\n",
    "            elif self.cod == 'c':\n",
    "                mu, std = self.actor(states)\n",
    "                action_dists = torch.distributions.Normal(mu, std)\n",
    "                log_probs = action_dists.log_prob(actions)\n",
    "            \n",
    "            # 重要性, 本来是概率直接相除, 但是取e为底, 自然对数概率相减的幂, 结果是一样的\n",
    "            ratio = torch.exp(log_probs - old_log_probs)  # 重要性采样系数\n",
    "            surr1 = ratio * advantage # 重要性采样\n",
    "            surr2 = torch.clamp(ratio, 1 - self.eps, 1 + self.eps) * advantage # 截断的重要性采样\n",
    "            # PPO损失函数，取上面两者的最小值，加负号，取均值就是损失\n",
    "            actor_loss = torch.mean(-torch.min(surr1, surr2)) \n",
    "            # 评论员更新目标当作标签常数，加.detach()\n",
    "            critic_loss = torch.mean(F.mse_loss(self.critic(states), td_target.detach()))\n",
    "            \n",
    "            self.actor_optimizer.zero_grad()\n",
    "            self.critic_optimizer.zero_grad()\n",
    "            actor_loss.backward()\n",
    "            critic_loss.backward()\n",
    "            self.actor_optimizer.step()\n",
    "            self.critic_optimizer.step()"
   ]
  },
  {
   "cell_type": "markdown",
   "metadata": {},
   "source": [
    "# ✅PPO裁剪原理 "
   ]
  },
  {
   "cell_type": "markdown",
   "metadata": {},
   "source": [
    "PPO限制了更新的大小，因此对于同一批数据可以多次训练，这样参数更新会更精确"
   ]
  },
  {
   "cell_type": "markdown",
   "metadata": {},
   "source": [
    "演员/策略网络损失函数如下（未取均值），应取使其最大化，因此代码中加了负号\n",
    "\n",
    "![](https://s2.loli.net/2023/07/23/6YZFnoAxfiwX57q.png)"
   ]
  },
  {
   "cell_type": "markdown",
   "metadata": {},
   "source": [
    "原本是重要性乘以优势函数再乘以演员动作概率的对数，但是与环境交互的演员变成另一个演员了，这个演员在代码中就是原本那个每次训练刚开始时候的初始状态的演员，相当于一个原始副本。"
   ]
  },
  {
   "cell_type": "markdown",
   "metadata": {},
   "source": [
    "根据A的正负不同，有如下图示，蓝色虚线表示裁剪范围，红色表示最终最小值输出\n",
    "\n",
    "![](https://datawhalechina.github.io/easy-rl/img/ch5/5.3.png)"
   ]
  },
  {
   "cell_type": "markdown",
   "metadata": {},
   "source": [
    "# 离散动作环境"
   ]
  },
  {
   "attachments": {},
   "cell_type": "markdown",
   "metadata": {},
   "source": [
    "## 初始化参数"
   ]
  },
  {
   "cell_type": "code",
   "execution_count": 6,
   "metadata": {},
   "outputs": [
    {
     "name": "stdout",
     "output_type": "stream",
     "text": [
      "device: cuda\n"
     ]
    }
   ],
   "source": [
    "# PPO相关\n",
    "actor_lr = 1e-3\n",
    "critic_lr = 1e-2\n",
    "lmbda = 0.95  # 似乎可以去掉，这一项仅用于调整计算优势advantage时，额外调整折算奖励的系数\n",
    "gamma = 0.98  # 时序差分学习率，也作为折算奖励的系数之一\n",
    "total_epochs = 10  # 迭代轮数\n",
    "total_episodes = 500  # 一轮训练多少次游戏\n",
    "\n",
    "eps = 0.2  # 截断范围参数, 1-eps ~ 1+eps\n",
    "epochs = 10  # PPO中一条序列训练多少轮，和迭代算法无关\n",
    "device = torch.device(\"cuda\") if torch.cuda.is_available() else torch.device(\"cpu\")\n",
    "print('device:', device)\n",
    "\n",
    "# 环境相关\n",
    "env_name = 'CartPole-v1'\n",
    "env = gym.make(env_name)\n",
    "torch.manual_seed(0)\n",
    "\n",
    "# 神经网络相关\n",
    "hidden_dim = 128\n",
    "state_dim = env.observation_space.shape[0]\n",
    "action_dim = env.action_space.n\n",
    "\n",
    "\n",
    "agent = PPO('d' ,state_dim, hidden_dim, action_dim, actor_lr, critic_lr, gamma, lmbda, epochs, eps, device)"
   ]
  },
  {
   "attachments": {},
   "cell_type": "markdown",
   "metadata": {},
   "source": [
    "## 检查点函数"
   ]
  },
  {
   "cell_type": "code",
   "execution_count": 6,
   "metadata": {},
   "outputs": [],
   "source": [
    "def read_ckp(ckp_path):\n",
    "    if os.path.exists(ckp_path):\n",
    "        checkpoint = torch.load(ckp_path)\n",
    "        s_epoch = checkpoint['epoch']\n",
    "        s_episode = checkpoint['episode']\n",
    "        agent.actor.load_state_dict(checkpoint['actor_best_weight'])\n",
    "        agent.critic.load_state_dict(checkpoint['critic_best_weight'])\n",
    "        return_list = checkpoint['return_list']\n",
    "        return s_epoch, s_episode, return_list\n",
    "    else:\n",
    "        s_epoch = 0\n",
    "        s_episode = 0\n",
    "        return_list = []\n",
    "        return s_epoch, s_episode, return_list"
   ]
  },
  {
   "cell_type": "markdown",
   "metadata": {},
   "source": [
    "### 读取检查点"
   ]
  },
  {
   "cell_type": "code",
   "execution_count": 8,
   "metadata": {},
   "outputs": [],
   "source": [
    "CKP_PATH = 'checkpoints/ckpt_PPO_CPv1_2.pt'\n",
    "s_epoch, s_episode, return_list = read_ckp(CKP_PATH)"
   ]
  },
  {
   "attachments": {},
   "cell_type": "markdown",
   "metadata": {},
   "source": [
    "## 训练"
   ]
  },
  {
   "cell_type": "code",
   "execution_count": null,
   "metadata": {},
   "outputs": [],
   "source": [
    "rl_utils.train_on_policy_agent(env, agent, s_epoch, total_epochs, s_episode, total_episodes, return_list, CKP_PATH)"
   ]
  },
  {
   "attachments": {},
   "cell_type": "markdown",
   "metadata": {},
   "source": [
    "## 作图"
   ]
  },
  {
   "cell_type": "code",
   "execution_count": 9,
   "metadata": {},
   "outputs": [
    {
     "data": {
      "image/png": "[encoded data removed]",
      "text/plain": [
       "<Figure size 640x480 with 1 Axes>"
      ]
     },
     "metadata": {},
     "output_type": "display_data"
    }
   ],
   "source": [
    "rl_utils.picture_return(return_list, 'PPO', env_name, 9)"
   ]
  },
  {
   "cell_type": "code",
   "execution_count": 9,
   "metadata": {},
   "outputs": [
    {
     "data": {
      "text/plain": [
       "[500.0, 500.0, 500.0, 500.0, 500.0, 500.0, 500.0, 500.0, 500.0, 500.0]"
      ]
     },
     "execution_count": 9,
     "metadata": {},
     "output_type": "execute_result"
    }
   ],
   "source": [
    "rl_utils.show_gym_policy(env_name, agent, 'AC', steps=500)"
   ]
  },
  {
   "cell_type": "markdown",
   "metadata": {},
   "source": [
    "# 连续动作环境"
   ]
  },
  {
   "cell_type": "markdown",
   "metadata": {},
   "source": [
    "## 初始化参数"
   ]
  },
  {
   "cell_type": "code",
   "execution_count": 9,
   "metadata": {},
   "outputs": [
    {
     "name": "stdout",
     "output_type": "stream",
     "text": [
      "device: cuda\n"
     ]
    }
   ],
   "source": [
    "# PPO相关\n",
    "actor_lr = 1e-4\n",
    "critic_lr = 5e-3\n",
    "lmbda = 0.9  # 似乎可以去掉，这一项仅用于调整计算优势advantage时，额外调整折算奖励的系数\n",
    "gamma = 0.9  # 时序差分学习率，也作为折算奖励的系数之一\n",
    "total_epochs = 20  # 迭代轮数\n",
    "total_episodes = 200  # 一轮训练多少次游戏\n",
    "\n",
    "eps = 0.2  # 截断范围参数, 1-eps ~ 1+eps\n",
    "epochs = 10  # PPO中一条序列训练多少轮，和迭代算法无关\n",
    "device = torch.device(\"cuda\") if torch.cuda.is_available() else torch.device(\"cpu\")\n",
    "print('device:', device)\n",
    "\n",
    "# 环境相关\n",
    "env_name = 'Pendulum-v1'\n",
    "env = gym.make(env_name)\n",
    "torch.manual_seed(0)\n",
    "\n",
    "# 神经网络相关\n",
    "hidden_dim = 128\n",
    "state_dim = env.observation_space.shape[0]\n",
    "action_dim = env.action_space.shape[0]  # 连续动作空间\n",
    "\n",
    "agent = PPO('c' ,state_dim, hidden_dim, action_dim, actor_lr, critic_lr, gamma, lmbda, epochs, eps, device)"
   ]
  },
  {
   "cell_type": "markdown",
   "metadata": {},
   "source": [
    "## 读取检查点"
   ]
  },
  {
   "cell_type": "code",
   "execution_count": 10,
   "metadata": {},
   "outputs": [],
   "source": [
    "CKP_PATH = 'checkpoints/ckpt_PPO_PDv1.pt'\n",
    "s_epoch, s_episode, return_list = read_ckp(CKP_PATH)"
   ]
  },
  {
   "cell_type": "markdown",
   "metadata": {},
   "source": [
    "## 训练"
   ]
  },
  {
   "cell_type": "code",
   "execution_count": 12,
   "metadata": {},
   "outputs": [
    {
     "name": "stderr",
     "output_type": "stream",
     "text": [
      "                                                                                                \r"
     ]
    }
   ],
   "source": [
    "rl_utils.train_on_policy_agent(env, agent, s_epoch, total_epochs, s_episode, total_episodes, return_list, CKP_PATH)"
   ]
  },
  {
   "cell_type": "code",
   "execution_count": 11,
   "metadata": {},
   "outputs": [
    {
     "data": {
      "image/png": "[encoded data removed]",
      "text/plain": [
       "<Figure size 640x480 with 1 Axes>"
      ]
     },
     "metadata": {},
     "output_type": "display_data"
    }
   ],
   "source": [
    "s_epoch, s_episode, return_list = read_ckp(CKP_PATH)\n",
    "rl_utils.picture_return(return_list, 'PPO', env_name, 9)"
   ]
  },
  {
   "cell_type": "code",
   "execution_count": 13,
   "metadata": {},
   "outputs": [
    {
     "data": {
      "text/plain": [
       "[-1000.9469103590377,\n",
       " -385.09941986469727,\n",
       " -1042.9916223346227,\n",
       " -130.53942858880572,\n",
       " -3.401886510396139,\n",
       " -259.49128598665396,\n",
       " -1.2331297759506024,\n",
       " -415.9270599356487,\n",
       " -413.8672071130356,\n",
       " -2.277555719552864]"
      ]
     },
     "execution_count": 13,
     "metadata": {},
     "output_type": "execute_result"
    }
   ],
   "source": [
    "rl_utils.show_gym_policy(env_name, agent, 'AC', steps=500)"
   ]
  }
 ],
 "metadata": {
  "kernelspec": {
   "display_name": "torch-2.0.1",
   "language": "python",
   "name": "python3"
  },
  "language_info": {
   "codemirror_mode": {
    "name": "ipython",
    "version": 3
   },
   "file_extension": ".py",
   "mimetype": "text/x-python",
   "name": "python",
   "nbconvert_exporter": "python",
   "pygments_lexer": "ipython3",
   "version": "3.10.12"
  },
  "orig_nbformat": 4,
  "vscode": {
   "interpreter": {
    "hash": "86978ba11fa8499f5b8af011dc68ef5a86fbba390eeec1631ee031c831a1c46b"
   }
  }
 },
 "nbformat": 4,
 "nbformat_minor": 2
}
