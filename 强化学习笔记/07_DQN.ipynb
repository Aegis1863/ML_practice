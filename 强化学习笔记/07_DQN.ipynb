{
 "cells": [
  {
   "cell_type": "markdown",
   "metadata": {},
   "source": [
    "# 导入包"
   ]
  },
  {
   "cell_type": "code",
   "execution_count": 1,
   "metadata": {},
   "outputs": [],
   "source": [
    "import rl_utils\n",
    "import numpy as np\n",
    "import random\n",
    "import gymnasium as gym\n",
    "import collections\n",
    "import tqdm\n",
    "import torch\n",
    "import torch.nn.functional as F\n",
    "import matplotlib.pyplot as plt\n",
    "import os"
   ]
  },
  {
   "cell_type": "markdown",
   "metadata": {},
   "source": [
    "# 经验缓存"
   ]
  },
  {
   "cell_type": "code",
   "execution_count": 2,
   "metadata": {},
   "outputs": [],
   "source": [
    "class ReplayBuffer:\n",
    "    def __init__(self, capacity):\n",
    "        self.buffer = collections.deque(maxlen=capacity)\n",
    "        \n",
    "    def add(self, state, action, reward, next_state, done, truncated):\n",
    "        self.buffer.append((state, action, reward, next_state, done, truncated))\n",
    "    \n",
    "    def sample(self, batch_size):\n",
    "        transitions = random.sample(self.buffer, batch_size)\n",
    "        state, action, reward, next_state, done, truncated = zip(*transitions)\n",
    "        return np.array(state), action, reward, np.array(next_state), done, truncated  # 多返回了一个state(?)"
   ]
  },
  {
   "cell_type": "markdown",
   "metadata": {},
   "source": [
    "# Q网络"
   ]
  },
  {
   "cell_type": "code",
   "execution_count": 3,
   "metadata": {},
   "outputs": [],
   "source": [
    "class Qnet(torch.nn.Module):\n",
    "    def __init__(self, state_dim=4, hidden_dim_1=32, hidden_dim_2=32, action_dim=2):\n",
    "        super().__init__()\n",
    "        self.fc1 = torch.nn.Linear(state_dim, hidden_dim_1)\n",
    "        self.fc2 = torch.nn.Linear(hidden_dim_1, hidden_dim_1)\n",
    "        self.fc3 = torch.nn.Linear(hidden_dim_2, action_dim)\n",
    "    \n",
    "    def forward(self, x):\n",
    "        x = F.elu(self.fc1(x))\n",
    "        x = F.elu(self.fc2(x))\n",
    "        return self.fc3(x)"
   ]
  },
  {
   "cell_type": "markdown",
   "metadata": {},
   "source": [
    "# DQN算法"
   ]
  },
  {
   "cell_type": "code",
   "execution_count": 4,
   "metadata": {},
   "outputs": [],
   "source": [
    "class DQN:\n",
    "    ''' DQN算法 '''\n",
    "    def __init__(self, state_dim, hidden_dim_1, hidden_dim_2, action_dim, learning_rate, gamma,\n",
    "                 epsilon, target_update, device):\n",
    "        self.action_dim = action_dim\n",
    "        self.q_net = Qnet(state_dim, hidden_dim_1, hidden_dim_2, self.action_dim).to(device)  # Q网络\n",
    "        # 目标网络\n",
    "        self.target_q_net = Qnet(state_dim, hidden_dim_1, hidden_dim_2, self.action_dim).to(device)\n",
    "        # 使用Adam优化器\n",
    "        self.optimizer = torch.optim.Adam(self.q_net.parameters(), lr=learning_rate)\n",
    "        self.gamma = gamma  # 折扣因子\n",
    "        self.epsilon = epsilon  # epsilon-贪婪策略\n",
    "        self.target_update = target_update  # 目标网络更新频率\n",
    "        self.count = 0  # 计数器,记录更新次数\n",
    "        self.device = device\n",
    "\n",
    "    def take_action(self, state):  # epsilon-贪婪策略采取动作\n",
    "        if np.random.random() < self.epsilon:\n",
    "            action = np.random.randint(self.action_dim)\n",
    "        else:\n",
    "            state = torch.tensor(state, dtype=torch.float).to(self.device)\n",
    "            action = self.q_net(state).argmax().item() # 转动作序号\n",
    "        return action\n",
    "\n",
    "    def update(self, transition_dict):\n",
    "        states = torch.tensor(transition_dict['states'], dtype=torch.float).to(self.device)\n",
    "        actions = torch.tensor(transition_dict['actions']).view(-1, 1).to(self.device)\n",
    "        rewards = torch.tensor(transition_dict['rewards'], dtype=torch.float).view(-1, 1).to(self.device)\n",
    "        next_states = torch.tensor(transition_dict['next_states'], dtype=torch.float).to(self.device)\n",
    "        dones = torch.tensor(transition_dict['dones'], dtype=torch.int).view(-1, 1).to(self.device)\n",
    "        truncated = torch.tensor(transition_dict['truncated'], dtype=torch.int).view(-1, 1).to(self.device)\n",
    "\n",
    "        q_values = self.q_net(states).gather(1, actions)  # 模型预测本状态Q值\n",
    "        # 👆 tensor.gather(1, actions) 按行取, 索引为动作序号\n",
    "        max_next_q_values = self.target_q_net(next_states).max(1)[0].view(-1, 1) # 下个状态的最大Q值\n",
    "        # 👆 tensor.max(1)[0], (1)是指按行取最大,(0)按列; [0]是取值,[1]取序号,等于argmax\n",
    "        q_targets = rewards + self.gamma * max_next_q_values * (1 - (dones | truncated))  # TD误差目标\n",
    "        dqn_loss = torch.mean(F.mse_loss(q_values, q_targets))  # 均方误差损失函数\n",
    "        self.optimizer.zero_grad()  # 🟠 PyTorch中默认梯度会积累,比如多次求梯度会加总,这里需要显式将梯度置为0\n",
    "        dqn_loss.backward()  # 反向传播更新参数\n",
    "        self.optimizer.step()  # 执行优化\n",
    "\n",
    "        if self.count % self.target_update == 0:\n",
    "            self.target_q_net.load_state_dict(self.q_net.state_dict())  # 更新目标网络\n",
    "        self.count += 1"
   ]
  },
  {
   "cell_type": "markdown",
   "metadata": {},
   "source": [
    "# 初始化超参数"
   ]
  },
  {
   "cell_type": "code",
   "execution_count": 5,
   "metadata": {},
   "outputs": [
    {
     "data": {
      "text/plain": [
       "<torch._C.Generator at 0x2f7a08c7190>"
      ]
     },
     "execution_count": 5,
     "metadata": {},
     "output_type": "execute_result"
    }
   ],
   "source": [
    "# 环境相关\n",
    "env_name = 'CartPole-v1'\n",
    "env = gym.make(env_name, render_mode='rgb_array')\n",
    "\n",
    "# DQN相关\n",
    "total_epoch = 2  # 迭代数\n",
    "s_epoch = 0 # 默认开始位置\n",
    "total_episode = 70  # 每次迭代最大游戏轮数\n",
    "max_step = 500\n",
    "gamma = 0.98\n",
    "epsilon = 1  # 刚开始随机动作,更新中线性降低\n",
    "target_update = 20  # 若干回合更新一次目标网络\n",
    "buffer_size = 10000  # 经验大小\n",
    "minimal_size = 1000  # 最小经验数\n",
    "batch_size = 128\n",
    "best_score = 0  # 每回合中的最佳分数\n",
    "replay_buffer = ReplayBuffer(buffer_size)\n",
    "reward_list = []\n",
    "best_weight = 0\n",
    "\n",
    "# 神经网络相关\n",
    "lr = 2e-3\n",
    "hidden_dim_1 = 32\n",
    "hidden_dim_2 = 32\n",
    "state_dim = env.observation_space.shape[0]  # 状态空间大小\n",
    "action_dim = env.action_space.n  # 动作空间大小\n",
    "device = torch.device(\"cuda\") if torch.cuda.is_available() else torch.device(\"cpu\")\n",
    "agent = DQN(state_dim, hidden_dim_1, hidden_dim_2, action_dim, lr, gamma, epsilon,\n",
    "            target_update, device)\n",
    "\n",
    "# 随机数种子\n",
    "random.seed(0)\n",
    "np.random.seed(0)\n",
    "torch.manual_seed(0)"
   ]
  },
  {
   "cell_type": "markdown",
   "metadata": {},
   "source": [
    "# 读取检查点"
   ]
  },
  {
   "cell_type": "code",
   "execution_count": 6,
   "metadata": {},
   "outputs": [],
   "source": [
    "if os.path.exists('checkpoints/ckpt_dqn.pt'):\n",
    "    checkpoint = torch.load('checkpoints/ckpt_dqn.pt')\n",
    "    s_epoch = checkpoint['epoch']\n",
    "    epsilon = checkpoint['epsilon']\n",
    "    agent.q_net.load_state_dict(checkpoint['best_weight'])\n",
    "    reward_list = checkpoint['reward_list']\n",
    "else:\n",
    "    s_epoch = 0"
   ]
  },
  {
   "cell_type": "markdown",
   "metadata": {},
   "source": [
    "# 迭代算法"
   ]
  },
  {
   "cell_type": "code",
   "execution_count": null,
   "metadata": {},
   "outputs": [],
   "source": [
    "for epoch in range(s_epoch, total_epoch):\n",
    "    with tqdm.tqdm(total=total_episode, desc='<%d/%d>'%(epoch+1, total_epoch), leave=False) as pbar:\n",
    "        for episode in range(total_episode):\n",
    "            episode_return = 0\n",
    "            state = env.reset()[0]\n",
    "            done = truncated = False\n",
    "            step = 0\n",
    "            while (not (done | truncated)) and step < max_step:  # 执行单次游戏, 最多max_step步\n",
    "                action = agent.take_action(state)\n",
    "                next_state, reward, done, truncated, info = env.step(action)\n",
    "                replay_buffer.add(state, action, reward, next_state, done, truncated)\n",
    "                state = next_state\n",
    "                episode_return += reward\n",
    "                # 当buffer数据的数量超过一定值后,才进行Q网络训练\n",
    "                if len(replay_buffer.buffer) > minimal_size:\n",
    "                    b_s, b_a, b_r, b_ns, b_d, b_t = replay_buffer.sample(batch_size)\n",
    "                    transition_dict = {\n",
    "                        'states': b_s,\n",
    "                        'actions': b_a,\n",
    "                        'next_states': b_ns,\n",
    "                        'rewards': b_r,\n",
    "                        'dones': b_d,\n",
    "                        'truncated': b_t\n",
    "                    }\n",
    "                    agent.update(transition_dict)  # 获得经验中抽取的样本, 拟合网络并且梯度上升\n",
    "                    step += 1 # 步数加一\n",
    "                    \n",
    "                    # 获得最佳权重\n",
    "                    if step > best_score:\n",
    "                        best_weight = agent.q_net.state_dict()\n",
    "                        best_score = step\n",
    "                    \n",
    "            reward_list.append(episode_return)\n",
    "            \n",
    "            if (episode + 1) % 10 == 0:  # 显示过去10次游戏情况\n",
    "                pbar.set_postfix({\n",
    "                    'train_times':\n",
    "                    '%d' % (total_episode * epoch + episode + 1),  # 至今一共训练了多少次游戏\n",
    "                    'recent_reward':\n",
    "                    '%.1f' % np.mean(reward_list[-10:]),\n",
    "                    'episilon':\n",
    "                    '%.2f' % agent.epsilon\n",
    "                })\n",
    "                \n",
    "            # 调整epsilon\n",
    "            agent.epsilon = max(1 - epoch / (total_epoch / 2), 0.01)\n",
    "            \n",
    "            # 保存检查点\n",
    "            torch.save({\n",
    "                'epoch': epoch,\n",
    "                'episode': episode,\n",
    "                'best_weight': best_weight,\n",
    "                'epsilon': epsilon,\n",
    "                'reward_list': reward_list,\n",
    "                }, 'checkpoints/ckpt_dqn.pt')\n",
    "            \n",
    "            pbar.update(1)  # 更新进度条\n",
    "agent.q_net.load_state_dict(best_weight)  # 应用最佳权重"
   ]
  },
  {
   "cell_type": "code",
   "execution_count": 7,
   "metadata": {},
   "outputs": [
    {
     "data": {
      "image/png": "[encoded data removed]",
      "text/plain": [
       "<Figure size 640x480 with 1 Axes>"
      ]
     },
     "metadata": {},
     "output_type": "display_data"
    }
   ],
   "source": [
    "rl_utils.picture_reward(reward_list, 'DQN', env_name, 9)"
   ]
  },
  {
   "cell_type": "code",
   "execution_count": null,
   "metadata": {},
   "outputs": [
    {
     "data": {
      "text/plain": [
       "<All keys matched successfully>"
      ]
     },
     "execution_count": 7,
     "metadata": {},
     "output_type": "execute_result"
    }
   ],
   "source": [
    "net = Qnet().to('cuda')\n",
    "checkpoint = torch.load('checkpoints/ckpt.pt')\n",
    "net.load_state_dict(checkpoint['best_weight'])"
   ]
  },
  {
   "cell_type": "code",
   "execution_count": null,
   "metadata": {},
   "outputs": [
    {
     "data": {
      "text/plain": [
       "[270.0, 500.0, 500.0, 500.0, 281.0]"
      ]
     },
     "execution_count": 8,
     "metadata": {},
     "output_type": "execute_result"
    }
   ],
   "source": [
    "print('测试结果: ', rl_utils.show_gym_policy(env_name, agent.q_net, 'human', epochs=5, steps=500))"
   ]
  },
  {
   "cell_type": "code",
   "execution_count": null,
   "metadata": {},
   "outputs": [],
   "source": [
    "env.close()"
   ]
  }
 ],
 "metadata": {
  "kernelspec": {
   "display_name": "base",
   "language": "python",
   "name": "python3"
  },
  "language_info": {
   "codemirror_mode": {
    "name": "ipython",
    "version": 3
   },
   "file_extension": ".py",
   "mimetype": "text/x-python",
   "name": "python",
   "nbconvert_exporter": "python",
   "pygments_lexer": "ipython3",
   "version": "3.10.12"
  },
  "orig_nbformat": 4
 },
 "nbformat": 4,
 "nbformat_minor": 2
}
