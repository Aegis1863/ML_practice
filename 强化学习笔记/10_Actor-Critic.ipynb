{
 "cells": [
  {
   "cell_type": "markdown",
   "metadata": {},
   "source": [
    "# 待办\n",
    "- [ ] 实现路径衍生梯度策略"
   ]
  },
  {
   "cell_type": "markdown",
   "metadata": {},
   "source": [
    "# 导入包"
   ]
  },
  {
   "cell_type": "code",
   "execution_count": 1,
   "metadata": {},
   "outputs": [],
   "source": [
    "import gymnasium as gym\n",
    "import torch\n",
    "import torch.nn.functional as F\n",
    "import numpy as np\n",
    "import rl_utils\n",
    "import os"
   ]
  },
  {
   "cell_type": "markdown",
   "metadata": {},
   "source": [
    "# 策略网络"
   ]
  },
  {
   "cell_type": "code",
   "execution_count": 2,
   "metadata": {},
   "outputs": [],
   "source": [
    "class PolicyNet(torch.nn.Module):\n",
    "    def __init__(self, state_dim, hidden_dim, action_dim):\n",
    "        super().__init__()\n",
    "        self.fc1 = torch.nn.Linear(state_dim, hidden_dim)\n",
    "        self.fc2 = torch.nn.Linear(hidden_dim, action_dim)  # 输出每个动作对应的概率\n",
    "\n",
    "    def forward(self, x):\n",
    "        x = F.relu(self.fc1(x))\n",
    "        return F.softmax(self.fc2(x), dim=1)"
   ]
  },
  {
   "cell_type": "markdown",
   "metadata": {},
   "source": [
    "# 价值网络"
   ]
  },
  {
   "cell_type": "code",
   "execution_count": 3,
   "metadata": {},
   "outputs": [],
   "source": [
    "class ValueNet(torch.nn.Module):\n",
    "    def __init__(self, state_dim, hidden_dim):\n",
    "        super().__init__()\n",
    "        self.fc1 = torch.nn.Linear(state_dim, hidden_dim)\n",
    "        self.fc2 = torch.nn.Linear(hidden_dim, 1) # 输出状态对应的价值\n",
    "\n",
    "    def forward(self, x):\n",
    "        x = F.relu(self.fc1(x))\n",
    "        return self.fc2(x)"
   ]
  },
  {
   "cell_type": "markdown",
   "metadata": {},
   "source": [
    "# A2C算法\n",
    "\n",
    "优势评论员算法"
   ]
  },
  {
   "cell_type": "code",
   "execution_count": 4,
   "metadata": {},
   "outputs": [],
   "source": [
    "class ActorCritic:\n",
    "    def __init__(self, state_dim, hidden_dim, action_dim, actor_lr, critic_lr, gamma, device):\n",
    "        # 策略网络\n",
    "        self.actor = PolicyNet(state_dim, hidden_dim, action_dim).to(device)\n",
    "        self.critic = ValueNet(state_dim, hidden_dim).to(device)  # 价值网络\n",
    "        # 策略网络优化器\n",
    "        self.actor_optimizer = torch.optim.Adam(self.actor.parameters(), lr=actor_lr)\n",
    "        self.critic_optimizer = torch.optim.Adam(self.critic.parameters(), lr=critic_lr)  # 价值网络优化器\n",
    "        self.gamma = gamma\n",
    "        self.device = device\n",
    "\n",
    "    def take_action(self, state):\n",
    "        state = torch.tensor(state, dtype=torch.float).to(self.device)\n",
    "        probs = self.actor(state.unsqueeze(0))\n",
    "        action_dist = torch.distributions.Categorical(probs)  # 根据给定概率创建一个分类的分布\n",
    "        action = action_dist.sample()  # 从分布中采样一个类别，这里是动作\n",
    "        return action.item()  # 取到的动作序号是tensor, 转成普通python数字\n",
    "\n",
    "    def update(self, transition_dict):\n",
    "        states = torch.tensor(np.array(transition_dict['states']), \n",
    "                              dtype=torch.float).to(self.device)\n",
    "        actions = torch.tensor(np.array(transition_dict['actions']), \n",
    "                               dtype=torch.int64).view(-1, 1).to(self.device)\n",
    "        rewards = torch.tensor(np.array(transition_dict['rewards']), \n",
    "                               dtype=torch.float).view(-1, 1).to(self.device)\n",
    "        next_states = torch.tensor(np.array(transition_dict['next_states']), \n",
    "                                   dtype=torch.float).to(self.device)\n",
    "        dones = torch.tensor(np.array(transition_dict['dones']), \n",
    "                             dtype=torch.int).view(-1, 1).to(self.device)\n",
    "        truncated = torch.tensor(np.array(transition_dict['truncated']), \n",
    "                                 dtype=torch.int).view(-1, 1).to(self.device)\n",
    "\n",
    "        # 时序差分目标\n",
    "        td_target = rewards + self.gamma * self.critic(next_states) * (1 - dones | truncated)\n",
    "        td_delta = td_target - self.critic(states)  # 时序差分误差\n",
    "        log_probs = torch.log(self.actor(states).gather(1, actions))\n",
    "        # 评论员/价值网络均方误差损失函数, td_target仅作为标量\n",
    "        critic_loss = torch.mean(F.mse_loss(self.critic(states), td_target.detach()))  \n",
    "        # 演员/策略网络误差, td_delta是从td_target来的, 因此也.detach(), 仅作为标量\n",
    "        actor_loss = torch.mean(-log_probs * td_delta.detach())  \n",
    "        self.critic_optimizer.zero_grad()\n",
    "        self.actor_optimizer.zero_grad()\n",
    "        critic_loss.backward()  # 计算价值网络的梯度\n",
    "        actor_loss.backward()  # 计算策略网络的梯度\n",
    "        self.critic_optimizer.step()  # 更新价值网络的参数\n",
    "        self.actor_optimizer.step()  # 更新策略网络的参数"
   ]
  },
  {
   "cell_type": "markdown",
   "metadata": {},
   "source": [
    "# ✅怎么理解A2C"
   ]
  },
  {
   "cell_type": "markdown",
   "metadata": {},
   "source": [
    "* 评论员网络，也就是价值网络V，采用类似DQN的方式更新参数，即估计的本轮Q值往(本轮奖励+估计的下一轮Q值)的方向更新\n",
    "\n",
    "* 演员网络，即策略网络，用类似梯度策略的方式更新，即动作的概率乘以优势函数A，优势函数原本是每轮以及后续获得的奖励（折算后的，称为G）减去一个基线b，也就是$A = G-b$，但是$E(G) = Q_{\\pi_{\\theta}}(s^n_t,a^n_t)$，而b一般是状态价值函数$V_{\\pi_{\\theta}}(s_t)$，因此优势函数变成\n",
    "\n",
    "    $Q_{\\pi_{\\theta}}(s^n_t,a^n_t)-V_{\\pi_{\\theta}}(s_t)$\n",
    "\n",
    "    同时有$E(Q_{\\pi}(s^n_t,a^n_t))=V_{\\pi_{\\theta}}(s_t)$, 又$Q$存在$Q_{\\pi}(s^n_t,a^n_t) = r_t^n+Q_{\\pi}(s_{t+1}^n,a_{t+1}^n)$\n",
    "    \n",
    "    因此（后面省去参数$\\theta$角标）\n",
    "\n",
    "    $Q_{\\pi}(s^n_t,a^n_t) = r_t^n+Q_{\\pi}(s_{t+1}^n,a_{t+1}^n) = E(r_t^n+V_{\\pi}(s_{t+1}^n))$\n",
    "\n",
    "    期望值很难算，经过多次实验，去掉期望值容易计算，并且效果好，因此在这里一般就去掉期望，最终优势A就变成\n",
    "\n",
    "    $r_t^n+V_{\\pi}(s_{t+1}^n) - V_{\\pi_{\\theta}}(s_t)$\n",
    "\n",
    "    在代码里面优势G就是`td_delta`, 再乘以负的概率的对数，就等于演员网络的损失，对其参数求梯度，就实现梯度上升"
   ]
  },
  {
   "cell_type": "markdown",
   "metadata": {},
   "source": [
    "# 参数初始化"
   ]
  },
  {
   "cell_type": "code",
   "execution_count": 5,
   "metadata": {},
   "outputs": [
    {
     "name": "stdout",
     "output_type": "stream",
     "text": [
      "device:  cuda\n"
     ]
    }
   ],
   "source": [
    "# A2C相关\n",
    "actor_lr = 1e-3\n",
    "critic_lr = 1e-2\n",
    "total_epochs = 20\n",
    "total_episodes = 100\n",
    "gamma = 0.98\n",
    "device = torch.device(\"cuda\") if torch.cuda.is_available() else torch.device(\"cpu\")\n",
    "print('device: ', device)\n",
    "\n",
    "# 环境相关\n",
    "env_name = 'CartPole-v1'\n",
    "env = gym.make(env_name)\n",
    "torch.manual_seed(0)\n",
    "\n",
    "# 神经网络相关\n",
    "state_dim = env.observation_space.shape[0]\n",
    "hidden_dim = 128\n",
    "action_dim = env.action_space.n\n",
    "\n",
    "agent = ActorCritic(state_dim, hidden_dim, action_dim, actor_lr, critic_lr, gamma, device)"
   ]
  },
  {
   "cell_type": "markdown",
   "metadata": {},
   "source": [
    "# 读取检查点"
   ]
  },
  {
   "cell_type": "code",
   "execution_count": 6,
   "metadata": {},
   "outputs": [],
   "source": [
    "def read_ckp(ckp_path):\n",
    "    if os.path.exists(ckp_path):\n",
    "        checkpoint = torch.load(ckp_path)\n",
    "        s_epoch = checkpoint['epoch']\n",
    "        s_episode = checkpoint['episode']\n",
    "        agent.actor.load_state_dict(checkpoint['actor_best_weight'])\n",
    "        agent.critic.load_state_dict(checkpoint['critic_best_weight'])\n",
    "        return_list = checkpoint['return_list']\n",
    "        return s_epoch, s_episode, return_list\n",
    "    else:\n",
    "        s_epoch = 0\n",
    "        s_episode = 0\n",
    "        return_list = []\n",
    "        return s_epoch, s_episode, return_list"
   ]
  },
  {
   "cell_type": "code",
   "execution_count": 14,
   "metadata": {},
   "outputs": [],
   "source": [
    "CKP_PATH = 'checkpoints/A2C_CPv1.pt'\n",
    "s_epoch, s_episode, return_list = read_ckp(CKP_PATH)"
   ]
  },
  {
   "cell_type": "markdown",
   "metadata": {},
   "source": [
    "# 训练函数"
   ]
  },
  {
   "cell_type": "code",
   "execution_count": 21,
   "metadata": {},
   "outputs": [
    {
     "name": "stderr",
     "output_type": "stream",
     "text": [
      "                                                                                           \r"
     ]
    }
   ],
   "source": [
    "rl_utils.train_on_policy_agent(env, agent, s_epoch, total_epochs, s_episode, total_episodes, return_list, CKP_PATH)"
   ]
  },
  {
   "cell_type": "markdown",
   "metadata": {},
   "source": [
    "# 作图"
   ]
  },
  {
   "cell_type": "code",
   "execution_count": 15,
   "metadata": {},
   "outputs": [
    {
     "data": {
      "image/png": "[encoded data removed]",
      "text/plain": [
       "<Figure size 640x480 with 1 Axes>"
      ]
     },
     "metadata": {},
     "output_type": "display_data"
    }
   ],
   "source": [
    "rl_utils.picture_return(return_list, 'A2C', env_name, 9)"
   ]
  },
  {
   "cell_type": "markdown",
   "metadata": {},
   "source": [
    "# 连续动作"
   ]
  },
  {
   "cell_type": "code",
   "execution_count": null,
   "metadata": {},
   "outputs": [],
   "source": [
    "class PolicyNet(torch.nn.Module):\n",
    "    def __init__(self, state_dim, hidden_dim, action_dim):\n",
    "        super().__init__()\n",
    "        self.fc1 = torch.nn.Linear(state_dim, hidden_dim)\n",
    "        self.fc2 = torch.nn.Linear(hidden_dim, action_dim)  # 输出每个动作对应的概率\n",
    "\n",
    "    def forward(self, x):\n",
    "        x = F.relu(self.fc1(x))\n",
    "        return F.softmax(self.fc2(x), dim=1)"
   ]
  },
  {
   "cell_type": "code",
   "execution_count": null,
   "metadata": {},
   "outputs": [],
   "source": [
    "class ValueNet(torch.nn.Module):\n",
    "    def __init__(self, state_dim, hidden_dim):\n",
    "        super().__init__()\n",
    "        self.fc1 = torch.nn.Linear(state_dim, hidden_dim)\n",
    "        self.fc2 = torch.nn.Linear(hidden_dim, 1) # 输出状态对应的价值\n",
    "\n",
    "    def forward(self, x):\n",
    "        x = F.relu(self.fc1(x))\n",
    "        return self.fc2(x)"
   ]
  },
  {
   "cell_type": "code",
   "execution_count": null,
   "metadata": {},
   "outputs": [],
   "source": [
    "# A2C相关\n",
    "actor_lr = 1e-3\n",
    "critic_lr = 1e-2\n",
    "total_epochs = 20\n",
    "total_episodes = 100\n",
    "gamma = 0.98\n",
    "device = torch.device(\"cuda\") if torch.cuda.is_available() else torch.device(\"cpu\")\n",
    "print('device: ', device)\n",
    "\n",
    "# 环境相关\n",
    "env_name = 'CartPole-v1'\n",
    "env = gym.make(env_name)\n",
    "torch.manual_seed(0)\n",
    "\n",
    "# 神经网络相关\n",
    "state_dim = env.observation_space.shape[0]\n",
    "hidden_dim = 128\n",
    "action_dim = env.action_space.n\n",
    "\n",
    "agent = ActorCritic(state_dim, hidden_dim, action_dim, actor_lr, critic_lr, gamma, device)"
   ]
  },
  {
   "cell_type": "code",
   "execution_count": null,
   "metadata": {},
   "outputs": [],
   "source": [
    "class ActorCritic:\n",
    "    def __init__(self, state_dim, hidden_dim, action_dim, actor_lr, critic_lr, gamma, device):\n",
    "        # 策略网络\n",
    "        self.actor = PolicyNet(state_dim, hidden_dim, action_dim).to(device)\n",
    "        self.critic = ValueNet(state_dim, hidden_dim).to(device)  # 价值网络\n",
    "        # 策略网络优化器\n",
    "        self.actor_optimizer = torch.optim.Adam(self.actor.parameters(), lr=actor_lr)\n",
    "        self.critic_optimizer = torch.optim.Adam(self.critic.parameters(), lr=critic_lr)  # 价值网络优化器\n",
    "        self.gamma = gamma\n",
    "        self.device = device\n",
    "\n",
    "    def take_action(self, state):\n",
    "        state = torch.tensor(state, dtype=torch.float).to(self.device)\n",
    "        probs = self.actor(state.unsqueeze(0))\n",
    "        action_dist = torch.distributions.Categorical(probs)  # 根据给定概率创建一个分类的分布\n",
    "        action = action_dist.sample()  # 从分布中采样一个类别，这里是动作\n",
    "        return action.item()  # 取到的动作序号是tensor, 转成普通python数字\n",
    "\n",
    "    def update(self, transition_dict):\n",
    "        states = torch.tensor(np.array(transition_dict['states']), \n",
    "                              dtype=torch.float).to(self.device)\n",
    "        actions = torch.tensor(np.array(transition_dict['actions']), \n",
    "                               dtype=torch.int64).view(-1, 1).to(self.device)\n",
    "        rewards = torch.tensor(np.array(transition_dict['rewards']), \n",
    "                               dtype=torch.float).view(-1, 1).to(self.device)\n",
    "        next_states = torch.tensor(np.array(transition_dict['next_states']), \n",
    "                                   dtype=torch.float).to(self.device)\n",
    "        dones = torch.tensor(np.array(transition_dict['dones']), \n",
    "                             dtype=torch.int).view(-1, 1).to(self.device)\n",
    "        truncated = torch.tensor(np.array(transition_dict['truncated']), \n",
    "                                 dtype=torch.int).view(-1, 1).to(self.device)\n",
    "\n",
    "        # 时序差分目标\n",
    "        td_target = rewards + self.gamma * self.critic(next_states) * (1 - dones | truncated)\n",
    "        td_delta = td_target - self.critic(states)  # 时序差分误差\n",
    "        log_probs = torch.log(self.actor(states).gather(1, actions))\n",
    "        # 评论员/价值网络均方误差损失函数, td_target仅作为标量\n",
    "        critic_loss = torch.mean(F.mse_loss(self.critic(states), td_target.detach()))  \n",
    "        # 演员/策略网络误差, td_delta是从td_target来的, 因此也.detach(), 仅作为标量\n",
    "        actor_loss = torch.mean(-log_probs * td_delta.detach())  \n",
    "        self.critic_optimizer.zero_grad()\n",
    "        self.actor_optimizer.zero_grad()\n",
    "        critic_loss.backward()  # 计算价值网络的梯度\n",
    "        actor_loss.backward()  # 计算策略网络的梯度\n",
    "        self.critic_optimizer.step()  # 更新价值网络的参数\n",
    "        self.actor_optimizer.step()  # 更新策略网络的参数"
   ]
  },
  {
   "cell_type": "code",
   "execution_count": null,
   "metadata": {},
   "outputs": [],
   "source": [
    "def read_ckp(ckp_path):\n",
    "    if os.path.exists(ckp_path):\n",
    "        checkpoint = torch.load(ckp_path)\n",
    "        s_epoch = checkpoint['epoch']\n",
    "        s_episode = checkpoint['episode']\n",
    "        agent.actor.load_state_dict(checkpoint['actor_best_weight'])\n",
    "        agent.critic.load_state_dict(checkpoint['critic_best_weight'])\n",
    "        return_list = checkpoint['return_list']\n",
    "        return s_epoch, s_episode, return_list\n",
    "    else:\n",
    "        s_epoch = 0\n",
    "        s_episode = 0\n",
    "        return_list = []\n",
    "        return s_epoch, s_episode, return_list"
   ]
  },
  {
   "cell_type": "code",
   "execution_count": null,
   "metadata": {},
   "outputs": [],
   "source": [
    "CKP_PATH = 'checkpoints/A2C_PDv1.pt'\n",
    "s_epoch, s_episode, return_list = read_ckp(CKP_PATH)"
   ]
  }
 ],
 "metadata": {
  "kernelspec": {
   "display_name": "Python 3",
   "language": "python",
   "name": "python3"
  },
  "language_info": {
   "codemirror_mode": {
    "name": "ipython",
    "version": 3
   },
   "file_extension": ".py",
   "mimetype": "text/x-python",
   "name": "python",
   "nbconvert_exporter": "python",
   "pygments_lexer": "ipython3",
   "version": "3.10.12"
  },
  "orig_nbformat": 4,
  "vscode": {
   "interpreter": {
    "hash": "916dbcbb3f70747c44a77c7bcd40155683ae19c65e1c03b4aa3499c5328201f1"
   }
  }
 },
 "nbformat": 4,
 "nbformat_minor": 2
}
