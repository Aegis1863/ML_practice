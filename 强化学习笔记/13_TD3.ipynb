{
 "cells": [
  {
   "cell_type": "markdown",
   "metadata": {},
   "source": [
    "# TD3\n",
    "\n",
    "twin delayed DDPG"
   ]
  },
  {
   "cell_type": "markdown",
   "metadata": {},
   "source": [
    "# 导入库"
   ]
  },
  {
   "cell_type": "code",
   "execution_count": 2,
   "metadata": {},
   "outputs": [],
   "source": [
    "import random\n",
    "import gymnasium as gym\n",
    "import numpy as np\n",
    "import torch\n",
    "import torch.nn.functional as F\n",
    "import rl_utils\n",
    "import os"
   ]
  },
  {
   "cell_type": "markdown",
   "metadata": {},
   "source": [
    "# 网络"
   ]
  },
  {
   "cell_type": "code",
   "execution_count": 3,
   "metadata": {},
   "outputs": [],
   "source": [
    "class PolicyNet(torch.nn.Module):\n",
    "    def __init__(self, state_dim, hidden_dim, action_dim, action_bound):\n",
    "        super().__init__()\n",
    "        self.fc1 = torch.nn.Linear(state_dim, hidden_dim)\n",
    "        self.fc2 = torch.nn.Linear(hidden_dim, action_dim)\n",
    "        self.action_bound = action_bound  # action_bound是环境可以接受的动作最大值\n",
    "\n",
    "    def forward(self, x):\n",
    "        x = F.relu(self.fc1(x))\n",
    "        # 这里直接缩放并输出, 而非像PPO中输出均值方差再采样\n",
    "        return torch.tanh(self.fc2(x)) * self.action_bound  # 缩放到动作空间\n",
    "\n",
    "\n",
    "class QValueNet(torch.nn.Module):\n",
    "    def __init__(self, state_dim, hidden_dim, action_dim):\n",
    "        super().__init__()\n",
    "        self.fc1 = torch.nn.Linear(state_dim + action_dim, hidden_dim)\n",
    "        self.fc2 = torch.nn.Linear(hidden_dim, hidden_dim)\n",
    "        self.fc_out = torch.nn.Linear(hidden_dim, 1)\n",
    "\n",
    "    def forward(self, x, a):\n",
    "        cat = torch.cat([x, a], dim=1)\n",
    "        x = F.relu(self.fc1(cat))\n",
    "        x = F.relu(self.fc2(x))\n",
    "        return self.fc_out(x)"
   ]
  },
  {
   "cell_type": "markdown",
   "metadata": {},
   "source": [
    "# TD3算法"
   ]
  },
  {
   "cell_type": "code",
   "execution_count": 8,
   "metadata": {},
   "outputs": [],
   "source": [
    "class TD3:\n",
    "    ''' DDPG算法 '''\n",
    "\n",
    "    def __init__(self, state_dim, hidden_dim, action_dim, action_space, sigma, actor_lr, critic_lr, tau, gamma, policy_freq, device):\n",
    "\n",
    "        # * 其他参数\n",
    "        self.action_space = action_space\n",
    "        self.action_dim = action_dim\n",
    "        self.sample_count = 0  # 用于计数更新次数, 确定演员更新时间\n",
    "\n",
    "        self.sigma = sigma  # 高斯噪声的标准差, 均值直接设为0\n",
    "        self.tau = tau  # 目标网络软更新参数\n",
    "        self.gamma = gamma  # target学习率\n",
    "        self.policy_freq = policy_freq  # 目标网络更新频率\n",
    "        self.device = device\n",
    "\n",
    "        self.action_scale = torch.tensor((self.action_space.high - self.action_space.low) / 2,\n",
    "                                         device=self.device, dtype=torch.float32).unsqueeze(dim=0)\n",
    "        # * 技巧1: 给了两个critic Q函数, 给出较小Q值的会纳入Q_target计算\n",
    "        self.actor = PolicyNet(state_dim, hidden_dim,\n",
    "                               action_dim, self.action_space.high[0]).to(device)\n",
    "        self.critic_1 = QValueNet(state_dim, hidden_dim, action_dim).to(device)\n",
    "        self.critic_2 = QValueNet(state_dim, hidden_dim, action_dim).to(device)\n",
    "\n",
    "        self.target_actor = PolicyNet(\n",
    "            state_dim, hidden_dim, action_dim, self.action_space.high[0]).to(device)\n",
    "        self.target_critic_1 = QValueNet(\n",
    "            state_dim, hidden_dim, action_dim).to(device)\n",
    "        self.target_critic_2 = QValueNet(\n",
    "            state_dim, hidden_dim, action_dim).to(device)\n",
    "\n",
    "        # 初始化目标价值网络并设置和价值网络相同的参数\n",
    "        self.target_critic_1.load_state_dict(self.critic_1.state_dict())\n",
    "        self.target_critic_2.load_state_dict(self.critic_2.state_dict())\n",
    "        # 初始化目标策略网络并设置和策略相同的参数\n",
    "        self.target_actor.load_state_dict(self.actor.state_dict())\n",
    "        # 设定优化器\n",
    "        self.actor_optimizer = torch.optim.Adam(\n",
    "            self.actor.parameters(), lr=actor_lr)\n",
    "        self.critic_1_optimizer = torch.optim.Adam(\n",
    "            self.critic_1.parameters(), lr=critic_lr)\n",
    "        self.critic_2_optimizer = torch.optim.Adam(\n",
    "            self.critic_2.parameters(), lr=critic_lr)\n",
    "\n",
    "    def take_action(self, state):\n",
    "        self.sample_count += 1\n",
    "        state = torch.tensor(\n",
    "            np.array(state), dtype=torch.float).to(self.device)\n",
    "        action = self.actor(state).item()\n",
    "        # 给动作添加噪声, 增加探索, 加上裁剪\n",
    "        action = action + self.sigma * np.random.randn(self.action_dim)\n",
    "        action = action.clip(\n",
    "            self.action_space.low[0], self.action_space.high[0])\n",
    "        return action\n",
    "\n",
    "    @torch.no_grad()\n",
    "    def predict_action(self, state):\n",
    "        state = torch.tensor(\n",
    "            np.array(state), device=self.device, dtype=torch.float32).item()\n",
    "        action = self.actor(state)\n",
    "        return action\n",
    "\n",
    "    def soft_update(self, net, target_net):\n",
    "        '''将target_net往net方向软更新, 每次更新幅度都很小\n",
    "\n",
    "        参数说明\n",
    "        ----------\n",
    "        net : torch.nn.module\n",
    "        target_net : torch.nn.module\n",
    "        '''\n",
    "        for param_target, param in zip(target_net.parameters(), net.parameters()):\n",
    "            param_target.data.copy_(\n",
    "                param_target.data * (1.0 - self.tau) + param.data * self.tau)\n",
    "\n",
    "    def update(self, transition_dict: dict):\n",
    "        states = torch.tensor(\n",
    "            transition_dict['states'], dtype=torch.float).to(self.device)\n",
    "        actions = torch.tensor(\n",
    "            transition_dict['actions'], dtype=torch.float).view(-1, 1).to(self.device)\n",
    "        rewards = torch.tensor(\n",
    "            transition_dict['rewards'], dtype=torch.float).view(-1, 1).to(self.device)\n",
    "        next_states = torch.tensor(\n",
    "            transition_dict['next_states'], dtype=torch.float).to(self.device)\n",
    "        dones = torch.tensor(\n",
    "            transition_dict['dones'], dtype=torch.int).view(-1, 1).to(self.device)\n",
    "        truncated = torch.tensor(\n",
    "            transition_dict['truncated'], dtype=torch.int).view(-1, 1).to(self.device)\n",
    "\n",
    "        # 评论员还是时序差分更新, 但这次评论员鼠鼠变成Q网络了, 需要输入状态和动作, 动作由演员选择\n",
    "        # * 技巧3: 平滑动作计算, 加入了噪声的目标动作\n",
    "        noise = (torch.randn_like(\n",
    "            actions) * self.policy_noise).clamp(-self.noise_clip, self.noise_clip)  # 构造加入目标动作的噪声\n",
    "        next_action = (self.actor_target(next_states) +\n",
    "                       noise).clamp(-self.action_scale, self.action_scale)\n",
    "        target_q1, target_q2 = self.target_critic_1(next_states, next_action).detach(\n",
    "        ), self.target_critic_2(next_states, next_action).detach()\n",
    "        # 取两个网络较小值\n",
    "        next_q_values = torch.min(target_q1, target_q2)\n",
    "        q_targets = rewards + self.gamma * \\\n",
    "            next_q_values * (1 - (dones | truncated))\n",
    "\n",
    "        # 两个评论员梯度下降\n",
    "        critic_loss_1 = torch.mean(F.mse_loss(\n",
    "            self.critic_1(states, actions), q_targets))\n",
    "        critic_loss_2 = torch.mean(F.mse_loss(\n",
    "            self.critic_2(states, actions), q_targets))\n",
    "        self.critic_1_optimizer.zero_grad()\n",
    "        self.critic_2_optimizer.zero_grad()\n",
    "        critic_loss_1.backward()\n",
    "        critic_loss_2.backward()\n",
    "        self.critic_1_optimizer.step()\n",
    "        self.critic_2_optimizer.step()\n",
    "\n",
    "        # * 技巧2: 延迟更新，actor的更新频率低于critic, 目标网络低于原网络\n",
    "        if self.sample_count % self.policy_freq == 0:\n",
    "            # 演员是梯度策略, 采用梯度上升, 加负号\n",
    "            actor_loss = -torch.mean(self.critic_1(states, self.actor(states)))\n",
    "            self.actor_optimizer.zero_grad()\n",
    "            actor_loss.backward()\n",
    "            self.actor_optimizer.step()\n",
    "            # 评论员目标网络软更新\n",
    "            self.soft_update(self.actor, self.target_actor)\n",
    "            self.soft_update(self.critic_1, self.target_critic_1)\n",
    "            self.soft_update(self.critic_2, self.target_critic_2)"
   ]
  },
  {
   "cell_type": "markdown",
   "metadata": {},
   "source": [
    "# 参数初始化"
   ]
  },
  {
   "cell_type": "code",
   "execution_count": 9,
   "metadata": {},
   "outputs": [],
   "source": [
    "# DDPG算法相关\n",
    "PATH = 'checkpoints/TD3_PDv1.pt'\n",
    "actor_lr = 3e-4\n",
    "critic_lr = 3e-3\n",
    "total_episodes = 200\n",
    "total_epochs = 10\n",
    "gamma = 0.98\n",
    "tau = 0.005  # 软更新参数, tau越小更新幅度越小\n",
    "buffer_size = 10000\n",
    "minimal_size = 1000\n",
    "batch_size = 64\n",
    "sigma = 0.01  # 高斯噪声标准差\n",
    "policy_freq = 3\n",
    "device = torch.device(\n",
    "    \"cuda\") if torch.cuda.is_available() else torch.device(\"cpu\")\n",
    "replay_buffer = rl_utils.ReplayBuffer(buffer_size)\n",
    "\n",
    "\n",
    "# 环境相关\n",
    "env_name = 'Pendulum-v1'\n",
    "env = gym.make(env_name)\n",
    "random.seed(0)\n",
    "np.random.seed(0)\n",
    "torch.manual_seed(0)\n",
    "\n",
    "# 神经网络相关\n",
    "state_dim = env.observation_space.shape[0]\n",
    "hidden_dim = 64\n",
    "action_dim = env.action_space.shape[0]\n",
    "action_space = env.action_space  # 动作最大值\n",
    "\n",
    "agent = TD3(state_dim, hidden_dim, action_dim, action_space,\n",
    "             sigma, actor_lr, critic_lr, tau, gamma, policy_freq, device)"
   ]
  },
  {
   "cell_type": "markdown",
   "metadata": {},
   "source": [
    "# 检查点函数"
   ]
  },
  {
   "cell_type": "code",
   "execution_count": 10,
   "metadata": {},
   "outputs": [],
   "source": [
    "def read_ckp(ckp_path):\n",
    "    if os.path.exists(ckp_path):\n",
    "        checkpoint = torch.load(ckp_path)\n",
    "        s_epoch = checkpoint['epoch']\n",
    "        s_episode = checkpoint['episode']\n",
    "        agent.actor.load_state_dict(checkpoint['actor_best_weight'])\n",
    "        agent.critic_1.load_state_dict(checkpoint['critic_1_best_weight'])\n",
    "        agent.critic_2.load_state_dict(checkpoint['critic_2_best_weight'])\n",
    "        return_list = checkpoint['return_list']\n",
    "        return s_epoch, s_episode, return_list\n",
    "    else:\n",
    "        s_epoch = 0\n",
    "        s_episode = 0\n",
    "        return_list = []\n",
    "        return s_epoch, s_episode, return_list"
   ]
  },
  {
   "cell_type": "markdown",
   "metadata": {},
   "source": [
    "# 读取检查点"
   ]
  },
  {
   "cell_type": "code",
   "execution_count": 11,
   "metadata": {},
   "outputs": [],
   "source": [
    "s_epoch, s_episode, return_list = read_ckp(PATH)"
   ]
  },
  {
   "cell_type": "markdown",
   "metadata": {},
   "source": [
    "# 训练函数"
   ]
  },
  {
   "cell_type": "code",
   "execution_count": null,
   "metadata": {},
   "outputs": [],
   "source": [
    "return_list = rl_utils.train_off_policy_agent(\n",
    "    env, agent, s_epoch, total_epochs, s_episode, total_episodes, replay_buffer, minimal_size, batch_size, return_list, PATH, 'TD3')"
   ]
  },
  {
   "cell_type": "code",
   "execution_count": null,
   "metadata": {},
   "outputs": [],
   "source": [
    "agent."
   ]
  },
  {
   "cell_type": "markdown",
   "metadata": {},
   "source": [
    "# 作图"
   ]
  },
  {
   "cell_type": "code",
   "execution_count": null,
   "metadata": {},
   "outputs": [],
   "source": [
    "s_epoch, s_episode, return_list = read_ckp(PATH)\n",
    "rl_utils.picture_return(return_list, 'TD3', env_name, 9)"
   ]
  },
  {
   "cell_type": "markdown",
   "metadata": {},
   "source": [
    "# 演示策略"
   ]
  },
  {
   "cell_type": "code",
   "execution_count": null,
   "metadata": {},
   "outputs": [],
   "source": [
    "rl_utils.show_gym_policy(env_name, agent, 'AC')"
   ]
  }
 ],
 "metadata": {
  "kernelspec": {
   "display_name": "base",
   "language": "python",
   "name": "python3"
  },
  "language_info": {
   "codemirror_mode": {
    "name": "ipython",
    "version": 3
   },
   "file_extension": ".py",
   "mimetype": "text/x-python",
   "name": "python",
   "nbconvert_exporter": "python",
   "pygments_lexer": "ipython3",
   "version": "3.10.12"
  },
  "orig_nbformat": 4
 },
 "nbformat": 4,
 "nbformat_minor": 2
}
