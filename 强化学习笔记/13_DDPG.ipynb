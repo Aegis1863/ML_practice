{
 "cells": [
  {
   "cell_type": "markdown",
   "metadata": {},
   "source": [
    "# 导入包"
   ]
  },
  {
   "cell_type": "code",
   "execution_count": 1,
   "metadata": {},
   "outputs": [],
   "source": [
    "import random\n",
    "import gymnasium as gym\n",
    "import numpy as np\n",
    "import torch\n",
    "import torch.nn.functional as F\n",
    "import rl_utils\n",
    "import os"
   ]
  },
  {
   "cell_type": "markdown",
   "metadata": {},
   "source": [
    "# 策略网络和Q网络"
   ]
  },
  {
   "cell_type": "code",
   "execution_count": 2,
   "metadata": {},
   "outputs": [],
   "source": [
    "class PolicyNet(torch.nn.Module):\n",
    "    def __init__(self, state_dim, hidden_dim, action_dim, action_bound):\n",
    "        super(PolicyNet, self).__init__()\n",
    "        self.fc1 = torch.nn.Linear(state_dim, hidden_dim)\n",
    "        self.fc2 = torch.nn.Linear(hidden_dim, action_dim)\n",
    "        self.action_bound = action_bound  # action_bound是环境可以接受的动作最大值\n",
    "\n",
    "    def forward(self, x):\n",
    "        x = F.relu(self.fc1(x))\n",
    "        return torch.tanh(self.fc2(x)) * self.action_bound  # 缩放到动作空间\n",
    "\n",
    "\n",
    "class QValueNet(torch.nn.Module):\n",
    "    def __init__(self, state_dim, hidden_dim, action_dim):\n",
    "        super(QValueNet, self).__init__()\n",
    "        self.fc1 = torch.nn.Linear(state_dim + action_dim, hidden_dim)\n",
    "        self.fc2 = torch.nn.Linear(hidden_dim, hidden_dim)\n",
    "        self.fc_out = torch.nn.Linear(hidden_dim, 1)\n",
    "\n",
    "    def forward(self, x, a):\n",
    "        cat = torch.cat([x, a], dim=1)  # 拼接状态和动作\n",
    "        x = F.relu(self.fc1(cat))\n",
    "        x = F.relu(self.fc2(x))\n",
    "        return self.fc_out(x)"
   ]
  },
  {
   "cell_type": "markdown",
   "metadata": {},
   "source": [
    "# DDPG算法"
   ]
  },
  {
   "cell_type": "code",
   "execution_count": 3,
   "metadata": {},
   "outputs": [],
   "source": [
    "class DDPG:\n",
    "    ''' DDPG算法 '''\n",
    "\n",
    "    def __init__(self, state_dim, hidden_dim, action_dim, action_bound,\n",
    "                 sigma, actor_lr, critic_lr, tau, gamma, device):\n",
    "        self.actor = PolicyNet(state_dim, hidden_dim,\n",
    "                               action_dim, action_bound).to(device)\n",
    "        self.critic = QValueNet(state_dim, hidden_dim, action_dim).to(device)\n",
    "        self.target_actor = PolicyNet(\n",
    "            state_dim, hidden_dim, action_dim, action_bound).to(device)\n",
    "        self.target_critic = QValueNet(\n",
    "            state_dim, hidden_dim, action_dim).to(device)\n",
    "        # 初始化目标价值网络并设置和价值网络相同的参数\n",
    "        self.target_critic.load_state_dict(self.critic.state_dict())\n",
    "        # 初始化目标策略网络并设置和策略相同的参数\n",
    "        self.target_actor.load_state_dict(self.actor.state_dict())\n",
    "        self.actor_optimizer = torch.optim.Adam(\n",
    "            self.actor.parameters(), lr=actor_lr)\n",
    "        self.critic_optimizer = torch.optim.Adam(\n",
    "            self.critic.parameters(), lr=critic_lr)\n",
    "        self.gamma = gamma\n",
    "        self.sigma = sigma  # 高斯噪声的标准差, 均值直接设为0\n",
    "        self.tau = tau  # 目标网络软更新参数\n",
    "        self.action_dim = action_dim\n",
    "        self.device = device\n",
    "\n",
    "    def take_action(self, state):\n",
    "        state = torch.tensor(\n",
    "            np.array(state), dtype=torch.float).to(self.device)\n",
    "        action = self.actor(state).item()  # * 在这里和网络分离了, 因此后面不需要.item()\n",
    "        # 给动作添加噪声，增加探索\n",
    "        action = action + self.sigma * np.random.randn(self.action_dim)\n",
    "        return action\n",
    "\n",
    "    def soft_update(self, net, target_net):\n",
    "        '''将target_net往net方向软更新, 每次更新幅度都很小\n",
    "\n",
    "        参数说明\n",
    "        ----------\n",
    "        net : torch.nn.module\n",
    "        target_net : torch.nn.module\n",
    "        '''\n",
    "        for param_target, param in zip(target_net.parameters(), net.parameters()):\n",
    "            param_target.data.copy_(\n",
    "                param_target.data * (1.0 - self.tau) + param.data * self.tau)\n",
    "\n",
    "    def update(self, transition_dict):\n",
    "        states = torch.tensor(\n",
    "            transition_dict['states'], dtype=torch.float).to(self.device)\n",
    "        actions = torch.tensor(\n",
    "            transition_dict['actions'], dtype=torch.float).view(-1, 1).to(self.device)\n",
    "        rewards = torch.tensor(\n",
    "            transition_dict['rewards'], dtype=torch.float).view(-1, 1).to(self.device)\n",
    "        next_states = torch.tensor(\n",
    "            transition_dict['next_states'], dtype=torch.float).to(self.device)\n",
    "        dones = torch.tensor(\n",
    "            transition_dict['dones'], dtype=torch.int).view(-1, 1).to(self.device)\n",
    "        truncated = torch.tensor(\n",
    "            transition_dict['truncated'], dtype=torch.int).view(-1, 1).to(self.device)\n",
    "\n",
    "        # 评论员还是时序差分更新, 但这次评论员鼠鼠变成Q网络了, 需要输入状态和动作, 动作由演员选择\n",
    "        # 之前都是价值网络, 只需要输入状态\n",
    "        next_q_values = self.target_critic(\n",
    "            next_states, self.target_actor(next_states))\n",
    "        q_targets = rewards + self.gamma * \\\n",
    "            next_q_values * (1 - (dones | truncated))\n",
    "        critic_loss = torch.mean(F.mse_loss(\n",
    "            self.critic(states, actions), q_targets))\n",
    "        # 评论员梯度下降\n",
    "        self.critic_optimizer.zero_grad()\n",
    "        critic_loss.backward()\n",
    "        self.critic_optimizer.step()\n",
    "        # * 注意: 演员是梯度策略, 采用梯度上升, 加负号\n",
    "        actor_loss = -torch.mean(self.critic(states, self.actor(states)))\n",
    "        self.actor_optimizer.zero_grad()\n",
    "        actor_loss.backward()\n",
    "        self.actor_optimizer.step()\n",
    "        # 一直更新, 但是缓慢更新\n",
    "        self.soft_update(self.actor, self.target_actor)  # 软更新策略网络\n",
    "        self.soft_update(self.critic, self.target_critic)  # 软更新价值网络\n"
   ]
  },
  {
   "cell_type": "markdown",
   "metadata": {},
   "source": [
    "# 参数初始化"
   ]
  },
  {
   "cell_type": "code",
   "execution_count": 4,
   "metadata": {},
   "outputs": [],
   "source": [
    "# DDPG算法相关\n",
    "PATH = 'checkpoints/DDPG_PDv1.pt'\n",
    "actor_lr = 3e-4\n",
    "critic_lr = 3e-3\n",
    "total_episodes = 200\n",
    "total_epochs = 10\n",
    "gamma = 0.98\n",
    "tau = 0.005  # 软更新参数, tau越小更新幅度越小\n",
    "buffer_size = 10000\n",
    "minimal_size = 1000\n",
    "batch_size = 64\n",
    "sigma = 0.01  # 高斯噪声标准差\n",
    "device = torch.device(\n",
    "    \"cuda\") if torch.cuda.is_available() else torch.device(\"cpu\")\n",
    "replay_buffer = rl_utils.ReplayBuffer(buffer_size)\n",
    "\n",
    "# 环境相关\n",
    "env_name = 'Pendulum-v1'\n",
    "env = gym.make(env_name)\n",
    "random.seed(0)\n",
    "np.random.seed(0)\n",
    "torch.manual_seed(0)\n",
    "\n",
    "# 神经网络相关\n",
    "state_dim = env.observation_space.shape[0]\n",
    "hidden_dim = 64\n",
    "action_dim = env.action_space.shape[0]\n",
    "action_bound = env.action_space.high[0]  # 动作最大值\n",
    "\n",
    "agent = DDPG(state_dim, hidden_dim, action_dim, action_bound,\n",
    "             sigma, actor_lr, critic_lr, tau, gamma, device)"
   ]
  },
  {
   "cell_type": "markdown",
   "metadata": {},
   "source": [
    "# 检查点函数"
   ]
  },
  {
   "cell_type": "code",
   "execution_count": 11,
   "metadata": {},
   "outputs": [],
   "source": [
    "def read_ckp(ckp_path):\n",
    "    if os.path.exists(ckp_path):\n",
    "        checkpoint = torch.load(ckp_path)\n",
    "        s_epoch = checkpoint['epoch']\n",
    "        s_episode = checkpoint['episode']\n",
    "        agent.actor.load_state_dict(checkpoint['actor_best_weight'])\n",
    "        agent.critic.load_state_dict(checkpoint['critic_best_weight'])\n",
    "        return_list = checkpoint['return_list']\n",
    "        return s_epoch, s_episode, return_list\n",
    "    else:\n",
    "        s_epoch = 0\n",
    "        s_episode = 0\n",
    "        return_list = []\n",
    "        return s_epoch, s_episode, return_list"
   ]
  },
  {
   "cell_type": "markdown",
   "metadata": {},
   "source": [
    "## 读取检查点"
   ]
  },
  {
   "cell_type": "code",
   "execution_count": 14,
   "metadata": {},
   "outputs": [],
   "source": [
    "s_epoch, s_episode, return_list = read_ckp(PATH)"
   ]
  },
  {
   "cell_type": "markdown",
   "metadata": {},
   "source": [
    "# 训练函数\n",
    "\n",
    "训练速度变慢了, 可能是因为存在四个网络"
   ]
  },
  {
   "cell_type": "code",
   "execution_count": 15,
   "metadata": {},
   "outputs": [
    {
     "name": "stderr",
     "output_type": "stream",
     "text": [
      "<6/10>:  97%|█████████▋| 194/200 [02:51<00:04,  1.24it/s, episode=1190, recent_return=-113.097]"
     ]
    }
   ],
   "source": [
    "return_list = rl_utils.train_off_policy_agent(\n",
    "    env, agent, s_epoch, total_epochs, s_episode, total_episodes, replay_buffer, minimal_size, batch_size, return_list, PATH)"
   ]
  },
  {
   "cell_type": "markdown",
   "metadata": {},
   "source": [
    "# 作图"
   ]
  },
  {
   "cell_type": "code",
   "execution_count": null,
   "metadata": {},
   "outputs": [],
   "source": [
    "rl_utils.picture_return(return_list, 'DDPG', env_name, 9)"
   ]
  }
 ],
 "metadata": {
  "kernelspec": {
   "display_name": "base",
   "language": "python",
   "name": "python3"
  },
  "language_info": {
   "codemirror_mode": {
    "name": "ipython",
    "version": 3
   },
   "file_extension": ".py",
   "mimetype": "text/x-python",
   "name": "python",
   "nbconvert_exporter": "python",
   "pygments_lexer": "ipython3",
   "version": "3.10.12"
  },
  "orig_nbformat": 4
 },
 "nbformat": 4,
 "nbformat_minor": 2
}
