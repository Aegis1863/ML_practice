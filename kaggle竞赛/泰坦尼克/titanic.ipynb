{
 "cells": [
  {
   "cell_type": "markdown",
   "id": "5c6f82af",
   "metadata": {},
   "source": [
    "# Check data"
   ]
  },
  {
   "cell_type": "code",
   "execution_count": 1,
   "id": "51560d04",
   "metadata": {
    "ExecuteTime": {
     "end_time": "2022-01-12T11:11:00.487827Z",
     "start_time": "2022-01-12T11:10:59.455542Z"
    }
   },
   "outputs": [],
   "source": [
    "import pandas as pd\n",
    "import numpy as np\n",
    "\n",
    "train = pd.read_csv('train.csv')\n",
    "test = pd.read_csv('test.csv')\n",
    "test_id = test['PassengerId']\n",
    "test.drop(['PassengerId'], axis=1, inplace=True)\n",
    "train.drop(['PassengerId'], axis=1, inplace=True)"
   ]
  },
  {
   "cell_type": "code",
   "execution_count": 2,
   "id": "5469d1c9",
   "metadata": {
    "ExecuteTime": {
     "end_time": "2022-01-12T11:11:00.519742Z",
     "start_time": "2022-01-12T11:11:00.489821Z"
    }
   },
   "outputs": [
    {
     "data": {
      "text/html": [
       "<div>\n",
       "<style scoped>\n",
       "    .dataframe tbody tr th:only-of-type {\n",
       "        vertical-align: middle;\n",
       "    }\n",
       "\n",
       "    .dataframe tbody tr th {\n",
       "        vertical-align: top;\n",
       "    }\n",
       "\n",
       "    .dataframe thead th {\n",
       "        text-align: right;\n",
       "    }\n",
       "</style>\n",
       "<table border=\"1\" class=\"dataframe\">\n",
       "  <thead>\n",
       "    <tr style=\"text-align: right;\">\n",
       "      <th></th>\n",
       "      <th>Survived</th>\n",
       "      <th>Pclass</th>\n",
       "      <th>Name</th>\n",
       "      <th>Sex</th>\n",
       "      <th>Age</th>\n",
       "      <th>SibSp</th>\n",
       "      <th>Parch</th>\n",
       "      <th>Ticket</th>\n",
       "      <th>Fare</th>\n",
       "      <th>Cabin</th>\n",
       "      <th>Embarked</th>\n",
       "    </tr>\n",
       "  </thead>\n",
       "  <tbody>\n",
       "    <tr>\n",
       "      <th>0</th>\n",
       "      <td>0</td>\n",
       "      <td>3</td>\n",
       "      <td>Braund, Mr. Owen Harris</td>\n",
       "      <td>male</td>\n",
       "      <td>22.0</td>\n",
       "      <td>1</td>\n",
       "      <td>0</td>\n",
       "      <td>A/5 21171</td>\n",
       "      <td>7.2500</td>\n",
       "      <td>NaN</td>\n",
       "      <td>S</td>\n",
       "    </tr>\n",
       "    <tr>\n",
       "      <th>1</th>\n",
       "      <td>1</td>\n",
       "      <td>1</td>\n",
       "      <td>Cumings, Mrs. John Bradley (Florence Briggs Th...</td>\n",
       "      <td>female</td>\n",
       "      <td>38.0</td>\n",
       "      <td>1</td>\n",
       "      <td>0</td>\n",
       "      <td>PC 17599</td>\n",
       "      <td>71.2833</td>\n",
       "      <td>C85</td>\n",
       "      <td>C</td>\n",
       "    </tr>\n",
       "    <tr>\n",
       "      <th>2</th>\n",
       "      <td>1</td>\n",
       "      <td>3</td>\n",
       "      <td>Heikkinen, Miss. Laina</td>\n",
       "      <td>female</td>\n",
       "      <td>26.0</td>\n",
       "      <td>0</td>\n",
       "      <td>0</td>\n",
       "      <td>STON/O2. 3101282</td>\n",
       "      <td>7.9250</td>\n",
       "      <td>NaN</td>\n",
       "      <td>S</td>\n",
       "    </tr>\n",
       "    <tr>\n",
       "      <th>3</th>\n",
       "      <td>1</td>\n",
       "      <td>1</td>\n",
       "      <td>Futrelle, Mrs. Jacques Heath (Lily May Peel)</td>\n",
       "      <td>female</td>\n",
       "      <td>35.0</td>\n",
       "      <td>1</td>\n",
       "      <td>0</td>\n",
       "      <td>113803</td>\n",
       "      <td>53.1000</td>\n",
       "      <td>C123</td>\n",
       "      <td>S</td>\n",
       "    </tr>\n",
       "    <tr>\n",
       "      <th>4</th>\n",
       "      <td>0</td>\n",
       "      <td>3</td>\n",
       "      <td>Allen, Mr. William Henry</td>\n",
       "      <td>male</td>\n",
       "      <td>35.0</td>\n",
       "      <td>0</td>\n",
       "      <td>0</td>\n",
       "      <td>373450</td>\n",
       "      <td>8.0500</td>\n",
       "      <td>NaN</td>\n",
       "      <td>S</td>\n",
       "    </tr>\n",
       "  </tbody>\n",
       "</table>\n",
       "</div>"
      ],
      "text/plain": [
       "   Survived  Pclass                                               Name  \\\n",
       "0         0       3                            Braund, Mr. Owen Harris   \n",
       "1         1       1  Cumings, Mrs. John Bradley (Florence Briggs Th...   \n",
       "2         1       3                             Heikkinen, Miss. Laina   \n",
       "3         1       1       Futrelle, Mrs. Jacques Heath (Lily May Peel)   \n",
       "4         0       3                           Allen, Mr. William Henry   \n",
       "\n",
       "      Sex   Age  SibSp  Parch            Ticket     Fare Cabin Embarked  \n",
       "0    male  22.0      1      0         A/5 21171   7.2500   NaN        S  \n",
       "1  female  38.0      1      0          PC 17599  71.2833   C85        C  \n",
       "2  female  26.0      0      0  STON/O2. 3101282   7.9250   NaN        S  \n",
       "3  female  35.0      1      0            113803  53.1000  C123        S  \n",
       "4    male  35.0      0      0            373450   8.0500   NaN        S  "
      ]
     },
     "execution_count": 2,
     "metadata": {},
     "output_type": "execute_result"
    }
   ],
   "source": [
    "train.head()"
   ]
  },
  {
   "cell_type": "code",
   "execution_count": 3,
   "id": "13fd8e24",
   "metadata": {
    "ExecuteTime": {
     "end_time": "2022-01-12T11:11:00.551657Z",
     "start_time": "2022-01-12T11:11:00.520740Z"
    }
   },
   "outputs": [
    {
     "data": {
      "text/html": [
       "<div>\n",
       "<style scoped>\n",
       "    .dataframe tbody tr th:only-of-type {\n",
       "        vertical-align: middle;\n",
       "    }\n",
       "\n",
       "    .dataframe tbody tr th {\n",
       "        vertical-align: top;\n",
       "    }\n",
       "\n",
       "    .dataframe thead th {\n",
       "        text-align: right;\n",
       "    }\n",
       "</style>\n",
       "<table border=\"1\" class=\"dataframe\">\n",
       "  <thead>\n",
       "    <tr style=\"text-align: right;\">\n",
       "      <th></th>\n",
       "      <th>Survived</th>\n",
       "      <th>Pclass</th>\n",
       "      <th>Age</th>\n",
       "      <th>SibSp</th>\n",
       "      <th>Parch</th>\n",
       "      <th>Fare</th>\n",
       "    </tr>\n",
       "  </thead>\n",
       "  <tbody>\n",
       "    <tr>\n",
       "      <th>count</th>\n",
       "      <td>891.000000</td>\n",
       "      <td>891.000000</td>\n",
       "      <td>714.000000</td>\n",
       "      <td>891.000000</td>\n",
       "      <td>891.000000</td>\n",
       "      <td>891.000000</td>\n",
       "    </tr>\n",
       "    <tr>\n",
       "      <th>mean</th>\n",
       "      <td>0.383838</td>\n",
       "      <td>2.308642</td>\n",
       "      <td>29.699118</td>\n",
       "      <td>0.523008</td>\n",
       "      <td>0.381594</td>\n",
       "      <td>32.204208</td>\n",
       "    </tr>\n",
       "    <tr>\n",
       "      <th>std</th>\n",
       "      <td>0.486592</td>\n",
       "      <td>0.836071</td>\n",
       "      <td>14.526497</td>\n",
       "      <td>1.102743</td>\n",
       "      <td>0.806057</td>\n",
       "      <td>49.693429</td>\n",
       "    </tr>\n",
       "    <tr>\n",
       "      <th>min</th>\n",
       "      <td>0.000000</td>\n",
       "      <td>1.000000</td>\n",
       "      <td>0.420000</td>\n",
       "      <td>0.000000</td>\n",
       "      <td>0.000000</td>\n",
       "      <td>0.000000</td>\n",
       "    </tr>\n",
       "    <tr>\n",
       "      <th>25%</th>\n",
       "      <td>0.000000</td>\n",
       "      <td>2.000000</td>\n",
       "      <td>20.125000</td>\n",
       "      <td>0.000000</td>\n",
       "      <td>0.000000</td>\n",
       "      <td>7.910400</td>\n",
       "    </tr>\n",
       "    <tr>\n",
       "      <th>50%</th>\n",
       "      <td>0.000000</td>\n",
       "      <td>3.000000</td>\n",
       "      <td>28.000000</td>\n",
       "      <td>0.000000</td>\n",
       "      <td>0.000000</td>\n",
       "      <td>14.454200</td>\n",
       "    </tr>\n",
       "    <tr>\n",
       "      <th>75%</th>\n",
       "      <td>1.000000</td>\n",
       "      <td>3.000000</td>\n",
       "      <td>38.000000</td>\n",
       "      <td>1.000000</td>\n",
       "      <td>0.000000</td>\n",
       "      <td>31.000000</td>\n",
       "    </tr>\n",
       "    <tr>\n",
       "      <th>max</th>\n",
       "      <td>1.000000</td>\n",
       "      <td>3.000000</td>\n",
       "      <td>80.000000</td>\n",
       "      <td>8.000000</td>\n",
       "      <td>6.000000</td>\n",
       "      <td>512.329200</td>\n",
       "    </tr>\n",
       "  </tbody>\n",
       "</table>\n",
       "</div>"
      ],
      "text/plain": [
       "         Survived      Pclass         Age       SibSp       Parch        Fare\n",
       "count  891.000000  891.000000  714.000000  891.000000  891.000000  891.000000\n",
       "mean     0.383838    2.308642   29.699118    0.523008    0.381594   32.204208\n",
       "std      0.486592    0.836071   14.526497    1.102743    0.806057   49.693429\n",
       "min      0.000000    1.000000    0.420000    0.000000    0.000000    0.000000\n",
       "25%      0.000000    2.000000   20.125000    0.000000    0.000000    7.910400\n",
       "50%      0.000000    3.000000   28.000000    0.000000    0.000000   14.454200\n",
       "75%      1.000000    3.000000   38.000000    1.000000    0.000000   31.000000\n",
       "max      1.000000    3.000000   80.000000    8.000000    6.000000  512.329200"
      ]
     },
     "execution_count": 3,
     "metadata": {},
     "output_type": "execute_result"
    }
   ],
   "source": [
    "train.describe()"
   ]
  },
  {
   "cell_type": "code",
   "execution_count": 4,
   "id": "123121a8",
   "metadata": {
    "ExecuteTime": {
     "end_time": "2022-01-12T11:11:00.567615Z",
     "start_time": "2022-01-12T11:11:00.554658Z"
    }
   },
   "outputs": [
    {
     "name": "stdout",
     "output_type": "stream",
     "text": [
      "<class 'pandas.core.frame.DataFrame'>\n",
      "RangeIndex: 891 entries, 0 to 890\n",
      "Data columns (total 11 columns):\n",
      " #   Column    Non-Null Count  Dtype  \n",
      "---  ------    --------------  -----  \n",
      " 0   Survived  891 non-null    int64  \n",
      " 1   Pclass    891 non-null    int64  \n",
      " 2   Name      891 non-null    object \n",
      " 3   Sex       891 non-null    object \n",
      " 4   Age       714 non-null    float64\n",
      " 5   SibSp     891 non-null    int64  \n",
      " 6   Parch     891 non-null    int64  \n",
      " 7   Ticket    891 non-null    object \n",
      " 8   Fare      891 non-null    float64\n",
      " 9   Cabin     204 non-null    object \n",
      " 10  Embarked  889 non-null    object \n",
      "dtypes: float64(2), int64(4), object(5)\n",
      "memory usage: 76.7+ KB\n"
     ]
    }
   ],
   "source": [
    "train.info()"
   ]
  },
  {
   "cell_type": "code",
   "execution_count": 5,
   "id": "86eba28d",
   "metadata": {
    "ExecuteTime": {
     "end_time": "2022-01-12T11:11:00.583571Z",
     "start_time": "2022-01-12T11:11:00.569608Z"
    }
   },
   "outputs": [
    {
     "name": "stdout",
     "output_type": "stream",
     "text": [
      "<class 'pandas.core.frame.DataFrame'>\n",
      "RangeIndex: 418 entries, 0 to 417\n",
      "Data columns (total 10 columns):\n",
      " #   Column    Non-Null Count  Dtype  \n",
      "---  ------    --------------  -----  \n",
      " 0   Pclass    418 non-null    int64  \n",
      " 1   Name      418 non-null    object \n",
      " 2   Sex       418 non-null    object \n",
      " 3   Age       332 non-null    float64\n",
      " 4   SibSp     418 non-null    int64  \n",
      " 5   Parch     418 non-null    int64  \n",
      " 6   Ticket    418 non-null    object \n",
      " 7   Fare      417 non-null    float64\n",
      " 8   Cabin     91 non-null     object \n",
      " 9   Embarked  418 non-null    object \n",
      "dtypes: float64(2), int64(3), object(5)\n",
      "memory usage: 32.8+ KB\n"
     ]
    }
   ],
   "source": [
    "test.info()"
   ]
  },
  {
   "cell_type": "markdown",
   "id": "9650e7b6",
   "metadata": {},
   "source": [
    "# Process data"
   ]
  },
  {
   "cell_type": "code",
   "execution_count": 6,
   "id": "b2340d85",
   "metadata": {
    "ExecuteTime": {
     "end_time": "2022-01-12T11:11:00.599530Z",
     "start_time": "2022-01-12T11:11:00.584569Z"
    }
   },
   "outputs": [],
   "source": [
    "def loss_rate(x):  # x is DataFrmae type\n",
    "    table = ((x.isnull().sum())/x.shape[0]).sort_values(ascending=False).map(lambda i:\"{:.2%}\".format(i))\n",
    "    return table"
   ]
  },
  {
   "cell_type": "code",
   "execution_count": 7,
   "id": "9c3317d8",
   "metadata": {
    "ExecuteTime": {
     "end_time": "2022-01-12T11:11:00.615486Z",
     "start_time": "2022-01-12T11:11:00.600528Z"
    }
   },
   "outputs": [
    {
     "data": {
      "text/plain": [
       "Cabin       77.10%\n",
       "Age         19.87%\n",
       "Embarked     0.22%\n",
       "Survived     0.00%\n",
       "Pclass       0.00%\n",
       "Name         0.00%\n",
       "Sex          0.00%\n",
       "SibSp        0.00%\n",
       "Parch        0.00%\n",
       "Ticket       0.00%\n",
       "Fare         0.00%\n",
       "dtype: object"
      ]
     },
     "execution_count": 7,
     "metadata": {},
     "output_type": "execute_result"
    }
   ],
   "source": [
    "loss_rate(train)"
   ]
  },
  {
   "cell_type": "code",
   "execution_count": 8,
   "id": "dbf79df2",
   "metadata": {
    "ExecuteTime": {
     "end_time": "2022-01-12T11:11:00.631443Z",
     "start_time": "2022-01-12T11:11:00.616484Z"
    }
   },
   "outputs": [
    {
     "data": {
      "text/plain": [
       "Cabin       78.23%\n",
       "Age         20.57%\n",
       "Fare         0.24%\n",
       "Pclass       0.00%\n",
       "Name         0.00%\n",
       "Sex          0.00%\n",
       "SibSp        0.00%\n",
       "Parch        0.00%\n",
       "Ticket       0.00%\n",
       "Embarked     0.00%\n",
       "dtype: object"
      ]
     },
     "execution_count": 8,
     "metadata": {},
     "output_type": "execute_result"
    }
   ],
   "source": [
    "loss_rate(test)"
   ]
  },
  {
   "cell_type": "markdown",
   "id": "6a32e725",
   "metadata": {},
   "source": [
    "## Cabin"
   ]
  },
  {
   "cell_type": "markdown",
   "id": "9bacc1c4",
   "metadata": {
    "ExecuteTime": {
     "end_time": "2022-01-12T04:08:26.739655Z",
     "start_time": "2022-01-12T04:08:26.729682Z"
    }
   },
   "source": [
    "Process Cabin first. The Cabin data is far more less then other data, but I think that Cabin is still related to thier survival. Cause the Cabin types may related to thier economy condition and so on.\n",
    "\n",
    "I decide to drop the specific room number, only remain the cabin type."
   ]
  },
  {
   "cell_type": "code",
   "execution_count": 9,
   "id": "da473afb",
   "metadata": {
    "ExecuteTime": {
     "end_time": "2022-01-12T11:11:00.647442Z",
     "start_time": "2022-01-12T11:11:00.632441Z"
    }
   },
   "outputs": [
    {
     "data": {
      "text/plain": [
       "B96 B98        4\n",
       "G6             4\n",
       "C23 C25 C27    4\n",
       "C22 C26        3\n",
       "F33            3\n",
       "              ..\n",
       "E34            1\n",
       "C7             1\n",
       "C54            1\n",
       "E36            1\n",
       "C148           1\n",
       "Name: Cabin, Length: 147, dtype: int64"
      ]
     },
     "execution_count": 9,
     "metadata": {},
     "output_type": "execute_result"
    }
   ],
   "source": [
    "train.Cabin.value_counts()\n",
    "# there are many multiple rooms info"
   ]
  },
  {
   "cell_type": "code",
   "execution_count": 10,
   "id": "61858e32",
   "metadata": {
    "ExecuteTime": {
     "end_time": "2022-01-12T11:11:00.663359Z",
     "start_time": "2022-01-12T11:11:00.650393Z"
    },
    "scrolled": true
   },
   "outputs": [],
   "source": [
    "ls = []\n",
    "for i in train.Cabin:\n",
    "    if i is np.nan:  # remain nan\n",
    "        ls.append(np.nan)\n",
    "    elif len(i.split()) > 1:  # remain mutiple rooms info, waiting further process\n",
    "        ls.append(i)\n",
    "    else:\n",
    "        ls.append(i[:1])"
   ]
  },
  {
   "cell_type": "code",
   "execution_count": 11,
   "id": "21ae6a5a",
   "metadata": {
    "ExecuteTime": {
     "end_time": "2022-01-12T11:11:00.679316Z",
     "start_time": "2022-01-12T11:11:00.664356Z"
    }
   },
   "outputs": [],
   "source": [
    "train.Cabin = ls"
   ]
  },
  {
   "cell_type": "code",
   "execution_count": 12,
   "id": "4d4500d7",
   "metadata": {
    "ExecuteTime": {
     "end_time": "2022-01-12T11:11:00.695273Z",
     "start_time": "2022-01-12T11:11:00.680313Z"
    }
   },
   "outputs": [
    {
     "data": {
      "text/plain": [
       "C                  51\n",
       "B                  36\n",
       "D                  32\n",
       "E                  32\n",
       "A                  15\n",
       "F                   9\n",
       "G                   4\n",
       "C23 C25 C27         4\n",
       "B96 B98             4\n",
       "C22 C26             3\n",
       "B51 B53 B55         2\n",
       "B57 B59 B63 B66     2\n",
       "B58 B60             2\n",
       "F G73               2\n",
       "F E69               1\n",
       "T                   1\n",
       "D10 D12             1\n",
       "F G63               1\n",
       "C62 C64             1\n",
       "B82 B84             1\n",
       "Name: Cabin, dtype: int64"
      ]
     },
     "execution_count": 12,
     "metadata": {},
     "output_type": "execute_result"
    }
   ],
   "source": [
    "train.Cabin.value_counts()"
   ]
  },
  {
   "cell_type": "markdown",
   "id": "220e74db",
   "metadata": {},
   "source": [
    "Multiple rooms are in same type cabin, so I will merge them, \"C23 C25 C27\" to \"C\".  \n",
    "\n",
    "There are some special info such as \"F G73\" and \"T\", I think that is special cabin for crews or captain or some kinds of people. In test.csv, Cabin categories contain \"ABCDEFG\" and \"F E\", \"F G\", without \"T\", so we need to merge all data but \"T\"(delete).  \n",
    "\n",
    "As for NaN data, turn it to U('Unknow')."
   ]
  },
  {
   "cell_type": "code",
   "execution_count": 13,
   "id": "2c0dfee5",
   "metadata": {
    "ExecuteTime": {
     "end_time": "2022-01-12T11:11:00.711230Z",
     "start_time": "2022-01-12T11:11:00.696271Z"
    }
   },
   "outputs": [],
   "source": [
    "ls = []\n",
    "for i in train.Cabin:\n",
    "    if i is np.nan:  # remain nan\n",
    "        ls.append('U')\n",
    "    elif i[:3] in [\"F E\", \"F G\"]:\n",
    "        ls.append(i[:3].replace(' ',''))  # remove blank\n",
    "    else:\n",
    "        ls.append(i[:1])"
   ]
  },
  {
   "cell_type": "code",
   "execution_count": 14,
   "id": "b2bc5980",
   "metadata": {
    "ExecuteTime": {
     "end_time": "2022-01-12T11:11:00.727188Z",
     "start_time": "2022-01-12T11:11:00.713226Z"
    }
   },
   "outputs": [
    {
     "data": {
      "text/plain": [
       "U     687\n",
       "C      59\n",
       "B      47\n",
       "D      33\n",
       "E      32\n",
       "A      15\n",
       "F       9\n",
       "G       4\n",
       "FG      3\n",
       "FE      1\n",
       "Name: Cabin, dtype: int64"
      ]
     },
     "execution_count": 14,
     "metadata": {},
     "output_type": "execute_result"
    }
   ],
   "source": [
    "train.Cabin = ls\n",
    "train.drop(train[train.Cabin == 'T'].index, inplace=True)  # delete \"T\"\n",
    "train.Cabin.value_counts()"
   ]
  },
  {
   "cell_type": "markdown",
   "id": "79a56852",
   "metadata": {},
   "source": [
    "All right!"
   ]
  },
  {
   "cell_type": "code",
   "execution_count": 15,
   "id": "e1a7f5d9",
   "metadata": {
    "ExecuteTime": {
     "end_time": "2022-01-12T11:11:00.759102Z",
     "start_time": "2022-01-12T11:11:00.728185Z"
    }
   },
   "outputs": [
    {
     "data": {
      "text/html": [
       "<div>\n",
       "<style scoped>\n",
       "    .dataframe tbody tr th:only-of-type {\n",
       "        vertical-align: middle;\n",
       "    }\n",
       "\n",
       "    .dataframe tbody tr th {\n",
       "        vertical-align: top;\n",
       "    }\n",
       "\n",
       "    .dataframe thead th {\n",
       "        text-align: right;\n",
       "    }\n",
       "</style>\n",
       "<table border=\"1\" class=\"dataframe\">\n",
       "  <thead>\n",
       "    <tr style=\"text-align: right;\">\n",
       "      <th></th>\n",
       "      <th>Survived</th>\n",
       "      <th>Pclass</th>\n",
       "      <th>Name</th>\n",
       "      <th>Sex</th>\n",
       "      <th>Age</th>\n",
       "      <th>SibSp</th>\n",
       "      <th>Parch</th>\n",
       "      <th>Ticket</th>\n",
       "      <th>Fare</th>\n",
       "      <th>Cabin</th>\n",
       "      <th>Embarked</th>\n",
       "    </tr>\n",
       "  </thead>\n",
       "  <tbody>\n",
       "    <tr>\n",
       "      <th>0</th>\n",
       "      <td>0</td>\n",
       "      <td>3</td>\n",
       "      <td>Braund, Mr. Owen Harris</td>\n",
       "      <td>male</td>\n",
       "      <td>22.0</td>\n",
       "      <td>1</td>\n",
       "      <td>0</td>\n",
       "      <td>A/5 21171</td>\n",
       "      <td>7.2500</td>\n",
       "      <td>U</td>\n",
       "      <td>S</td>\n",
       "    </tr>\n",
       "    <tr>\n",
       "      <th>1</th>\n",
       "      <td>1</td>\n",
       "      <td>1</td>\n",
       "      <td>Cumings, Mrs. John Bradley (Florence Briggs Th...</td>\n",
       "      <td>female</td>\n",
       "      <td>38.0</td>\n",
       "      <td>1</td>\n",
       "      <td>0</td>\n",
       "      <td>PC 17599</td>\n",
       "      <td>71.2833</td>\n",
       "      <td>C</td>\n",
       "      <td>C</td>\n",
       "    </tr>\n",
       "    <tr>\n",
       "      <th>2</th>\n",
       "      <td>1</td>\n",
       "      <td>3</td>\n",
       "      <td>Heikkinen, Miss. Laina</td>\n",
       "      <td>female</td>\n",
       "      <td>26.0</td>\n",
       "      <td>0</td>\n",
       "      <td>0</td>\n",
       "      <td>STON/O2. 3101282</td>\n",
       "      <td>7.9250</td>\n",
       "      <td>U</td>\n",
       "      <td>S</td>\n",
       "    </tr>\n",
       "    <tr>\n",
       "      <th>3</th>\n",
       "      <td>1</td>\n",
       "      <td>1</td>\n",
       "      <td>Futrelle, Mrs. Jacques Heath (Lily May Peel)</td>\n",
       "      <td>female</td>\n",
       "      <td>35.0</td>\n",
       "      <td>1</td>\n",
       "      <td>0</td>\n",
       "      <td>113803</td>\n",
       "      <td>53.1000</td>\n",
       "      <td>C</td>\n",
       "      <td>S</td>\n",
       "    </tr>\n",
       "    <tr>\n",
       "      <th>4</th>\n",
       "      <td>0</td>\n",
       "      <td>3</td>\n",
       "      <td>Allen, Mr. William Henry</td>\n",
       "      <td>male</td>\n",
       "      <td>35.0</td>\n",
       "      <td>0</td>\n",
       "      <td>0</td>\n",
       "      <td>373450</td>\n",
       "      <td>8.0500</td>\n",
       "      <td>U</td>\n",
       "      <td>S</td>\n",
       "    </tr>\n",
       "  </tbody>\n",
       "</table>\n",
       "</div>"
      ],
      "text/plain": [
       "   Survived  Pclass                                               Name  \\\n",
       "0         0       3                            Braund, Mr. Owen Harris   \n",
       "1         1       1  Cumings, Mrs. John Bradley (Florence Briggs Th...   \n",
       "2         1       3                             Heikkinen, Miss. Laina   \n",
       "3         1       1       Futrelle, Mrs. Jacques Heath (Lily May Peel)   \n",
       "4         0       3                           Allen, Mr. William Henry   \n",
       "\n",
       "      Sex   Age  SibSp  Parch            Ticket     Fare Cabin Embarked  \n",
       "0    male  22.0      1      0         A/5 21171   7.2500     U        S  \n",
       "1  female  38.0      1      0          PC 17599  71.2833     C        C  \n",
       "2  female  26.0      0      0  STON/O2. 3101282   7.9250     U        S  \n",
       "3  female  35.0      1      0            113803  53.1000     C        S  \n",
       "4    male  35.0      0      0            373450   8.0500     U        S  "
      ]
     },
     "execution_count": 15,
     "metadata": {},
     "output_type": "execute_result"
    }
   ],
   "source": [
    "train.head()"
   ]
  },
  {
   "cell_type": "code",
   "execution_count": 16,
   "id": "63cddedd",
   "metadata": {
    "ExecuteTime": {
     "end_time": "2022-01-12T11:11:00.775059Z",
     "start_time": "2022-01-12T11:11:00.760101Z"
    }
   },
   "outputs": [
    {
     "data": {
      "text/html": [
       "<div>\n",
       "<style scoped>\n",
       "    .dataframe tbody tr th:only-of-type {\n",
       "        vertical-align: middle;\n",
       "    }\n",
       "\n",
       "    .dataframe tbody tr th {\n",
       "        vertical-align: top;\n",
       "    }\n",
       "\n",
       "    .dataframe thead th {\n",
       "        text-align: right;\n",
       "    }\n",
       "</style>\n",
       "<table border=\"1\" class=\"dataframe\">\n",
       "  <thead>\n",
       "    <tr style=\"text-align: right;\">\n",
       "      <th></th>\n",
       "      <th>Survived</th>\n",
       "      <th>Pclass</th>\n",
       "      <th>Age</th>\n",
       "      <th>SibSp</th>\n",
       "      <th>Parch</th>\n",
       "      <th>Fare</th>\n",
       "    </tr>\n",
       "  </thead>\n",
       "  <tbody>\n",
       "    <tr>\n",
       "      <th>Survived</th>\n",
       "      <td>1.000000</td>\n",
       "      <td>-0.340458</td>\n",
       "      <td>-0.076094</td>\n",
       "      <td>-0.035760</td>\n",
       "      <td>0.081248</td>\n",
       "      <td>0.257456</td>\n",
       "    </tr>\n",
       "    <tr>\n",
       "      <th>Pclass</th>\n",
       "      <td>-0.340458</td>\n",
       "      <td>1.000000</td>\n",
       "      <td>-0.367893</td>\n",
       "      <td>0.082370</td>\n",
       "      <td>0.017636</td>\n",
       "      <td>-0.550143</td>\n",
       "    </tr>\n",
       "    <tr>\n",
       "      <th>Age</th>\n",
       "      <td>-0.076094</td>\n",
       "      <td>-0.367893</td>\n",
       "      <td>1.000000</td>\n",
       "      <td>-0.307737</td>\n",
       "      <td>-0.188552</td>\n",
       "      <td>0.096119</td>\n",
       "    </tr>\n",
       "    <tr>\n",
       "      <th>SibSp</th>\n",
       "      <td>-0.035760</td>\n",
       "      <td>0.082370</td>\n",
       "      <td>-0.307737</td>\n",
       "      <td>1.000000</td>\n",
       "      <td>0.414690</td>\n",
       "      <td>0.159707</td>\n",
       "    </tr>\n",
       "    <tr>\n",
       "      <th>Parch</th>\n",
       "      <td>0.081248</td>\n",
       "      <td>0.017636</td>\n",
       "      <td>-0.188552</td>\n",
       "      <td>0.414690</td>\n",
       "      <td>1.000000</td>\n",
       "      <td>0.216288</td>\n",
       "    </tr>\n",
       "    <tr>\n",
       "      <th>Fare</th>\n",
       "      <td>0.257456</td>\n",
       "      <td>-0.550143</td>\n",
       "      <td>0.096119</td>\n",
       "      <td>0.159707</td>\n",
       "      <td>0.216288</td>\n",
       "      <td>1.000000</td>\n",
       "    </tr>\n",
       "  </tbody>\n",
       "</table>\n",
       "</div>"
      ],
      "text/plain": [
       "          Survived    Pclass       Age     SibSp     Parch      Fare\n",
       "Survived  1.000000 -0.340458 -0.076094 -0.035760  0.081248  0.257456\n",
       "Pclass   -0.340458  1.000000 -0.367893  0.082370  0.017636 -0.550143\n",
       "Age      -0.076094 -0.367893  1.000000 -0.307737 -0.188552  0.096119\n",
       "SibSp    -0.035760  0.082370 -0.307737  1.000000  0.414690  0.159707\n",
       "Parch     0.081248  0.017636 -0.188552  0.414690  1.000000  0.216288\n",
       "Fare      0.257456 -0.550143  0.096119  0.159707  0.216288  1.000000"
      ]
     },
     "execution_count": 16,
     "metadata": {},
     "output_type": "execute_result"
    }
   ],
   "source": [
    "train.corr()"
   ]
  },
  {
   "cell_type": "code",
   "execution_count": 17,
   "id": "93915d48",
   "metadata": {
    "ExecuteTime": {
     "end_time": "2022-01-12T11:11:00.791017Z",
     "start_time": "2022-01-12T11:11:00.776057Z"
    }
   },
   "outputs": [],
   "source": [
    "train.reset_index(inplace=True, drop=True)"
   ]
  },
  {
   "cell_type": "code",
   "execution_count": 18,
   "id": "0dbb967c",
   "metadata": {
    "ExecuteTime": {
     "end_time": "2022-01-12T11:11:00.822972Z",
     "start_time": "2022-01-12T11:11:00.793013Z"
    }
   },
   "outputs": [
    {
     "data": {
      "text/html": [
       "<div>\n",
       "<style scoped>\n",
       "    .dataframe tbody tr th:only-of-type {\n",
       "        vertical-align: middle;\n",
       "    }\n",
       "\n",
       "    .dataframe tbody tr th {\n",
       "        vertical-align: top;\n",
       "    }\n",
       "\n",
       "    .dataframe thead th {\n",
       "        text-align: right;\n",
       "    }\n",
       "</style>\n",
       "<table border=\"1\" class=\"dataframe\">\n",
       "  <thead>\n",
       "    <tr style=\"text-align: right;\">\n",
       "      <th></th>\n",
       "      <th>Survived</th>\n",
       "      <th>Pclass</th>\n",
       "      <th>Name</th>\n",
       "      <th>Sex</th>\n",
       "      <th>Age</th>\n",
       "      <th>SibSp</th>\n",
       "      <th>Parch</th>\n",
       "      <th>Ticket</th>\n",
       "      <th>Fare</th>\n",
       "      <th>Cabin</th>\n",
       "      <th>Embarked</th>\n",
       "    </tr>\n",
       "  </thead>\n",
       "  <tbody>\n",
       "    <tr>\n",
       "      <th>0</th>\n",
       "      <td>0</td>\n",
       "      <td>3</td>\n",
       "      <td>Braund, Mr. Owen Harris</td>\n",
       "      <td>male</td>\n",
       "      <td>22.0</td>\n",
       "      <td>1</td>\n",
       "      <td>0</td>\n",
       "      <td>A/5 21171</td>\n",
       "      <td>7.2500</td>\n",
       "      <td>U</td>\n",
       "      <td>S</td>\n",
       "    </tr>\n",
       "    <tr>\n",
       "      <th>1</th>\n",
       "      <td>1</td>\n",
       "      <td>1</td>\n",
       "      <td>Cumings, Mrs. John Bradley (Florence Briggs Th...</td>\n",
       "      <td>female</td>\n",
       "      <td>38.0</td>\n",
       "      <td>1</td>\n",
       "      <td>0</td>\n",
       "      <td>PC 17599</td>\n",
       "      <td>71.2833</td>\n",
       "      <td>C</td>\n",
       "      <td>C</td>\n",
       "    </tr>\n",
       "    <tr>\n",
       "      <th>2</th>\n",
       "      <td>1</td>\n",
       "      <td>3</td>\n",
       "      <td>Heikkinen, Miss. Laina</td>\n",
       "      <td>female</td>\n",
       "      <td>26.0</td>\n",
       "      <td>0</td>\n",
       "      <td>0</td>\n",
       "      <td>STON/O2. 3101282</td>\n",
       "      <td>7.9250</td>\n",
       "      <td>U</td>\n",
       "      <td>S</td>\n",
       "    </tr>\n",
       "    <tr>\n",
       "      <th>3</th>\n",
       "      <td>1</td>\n",
       "      <td>1</td>\n",
       "      <td>Futrelle, Mrs. Jacques Heath (Lily May Peel)</td>\n",
       "      <td>female</td>\n",
       "      <td>35.0</td>\n",
       "      <td>1</td>\n",
       "      <td>0</td>\n",
       "      <td>113803</td>\n",
       "      <td>53.1000</td>\n",
       "      <td>C</td>\n",
       "      <td>S</td>\n",
       "    </tr>\n",
       "    <tr>\n",
       "      <th>4</th>\n",
       "      <td>0</td>\n",
       "      <td>3</td>\n",
       "      <td>Allen, Mr. William Henry</td>\n",
       "      <td>male</td>\n",
       "      <td>35.0</td>\n",
       "      <td>0</td>\n",
       "      <td>0</td>\n",
       "      <td>373450</td>\n",
       "      <td>8.0500</td>\n",
       "      <td>U</td>\n",
       "      <td>S</td>\n",
       "    </tr>\n",
       "    <tr>\n",
       "      <th>...</th>\n",
       "      <td>...</td>\n",
       "      <td>...</td>\n",
       "      <td>...</td>\n",
       "      <td>...</td>\n",
       "      <td>...</td>\n",
       "      <td>...</td>\n",
       "      <td>...</td>\n",
       "      <td>...</td>\n",
       "      <td>...</td>\n",
       "      <td>...</td>\n",
       "      <td>...</td>\n",
       "    </tr>\n",
       "    <tr>\n",
       "      <th>885</th>\n",
       "      <td>0</td>\n",
       "      <td>2</td>\n",
       "      <td>Montvila, Rev. Juozas</td>\n",
       "      <td>male</td>\n",
       "      <td>27.0</td>\n",
       "      <td>0</td>\n",
       "      <td>0</td>\n",
       "      <td>211536</td>\n",
       "      <td>13.0000</td>\n",
       "      <td>U</td>\n",
       "      <td>S</td>\n",
       "    </tr>\n",
       "    <tr>\n",
       "      <th>886</th>\n",
       "      <td>1</td>\n",
       "      <td>1</td>\n",
       "      <td>Graham, Miss. Margaret Edith</td>\n",
       "      <td>female</td>\n",
       "      <td>19.0</td>\n",
       "      <td>0</td>\n",
       "      <td>0</td>\n",
       "      <td>112053</td>\n",
       "      <td>30.0000</td>\n",
       "      <td>B</td>\n",
       "      <td>S</td>\n",
       "    </tr>\n",
       "    <tr>\n",
       "      <th>887</th>\n",
       "      <td>0</td>\n",
       "      <td>3</td>\n",
       "      <td>Johnston, Miss. Catherine Helen \"Carrie\"</td>\n",
       "      <td>female</td>\n",
       "      <td>NaN</td>\n",
       "      <td>1</td>\n",
       "      <td>2</td>\n",
       "      <td>W./C. 6607</td>\n",
       "      <td>23.4500</td>\n",
       "      <td>U</td>\n",
       "      <td>S</td>\n",
       "    </tr>\n",
       "    <tr>\n",
       "      <th>888</th>\n",
       "      <td>1</td>\n",
       "      <td>1</td>\n",
       "      <td>Behr, Mr. Karl Howell</td>\n",
       "      <td>male</td>\n",
       "      <td>26.0</td>\n",
       "      <td>0</td>\n",
       "      <td>0</td>\n",
       "      <td>111369</td>\n",
       "      <td>30.0000</td>\n",
       "      <td>C</td>\n",
       "      <td>C</td>\n",
       "    </tr>\n",
       "    <tr>\n",
       "      <th>889</th>\n",
       "      <td>0</td>\n",
       "      <td>3</td>\n",
       "      <td>Dooley, Mr. Patrick</td>\n",
       "      <td>male</td>\n",
       "      <td>32.0</td>\n",
       "      <td>0</td>\n",
       "      <td>0</td>\n",
       "      <td>370376</td>\n",
       "      <td>7.7500</td>\n",
       "      <td>U</td>\n",
       "      <td>Q</td>\n",
       "    </tr>\n",
       "  </tbody>\n",
       "</table>\n",
       "<p>890 rows × 11 columns</p>\n",
       "</div>"
      ],
      "text/plain": [
       "     Survived  Pclass                                               Name  \\\n",
       "0           0       3                            Braund, Mr. Owen Harris   \n",
       "1           1       1  Cumings, Mrs. John Bradley (Florence Briggs Th...   \n",
       "2           1       3                             Heikkinen, Miss. Laina   \n",
       "3           1       1       Futrelle, Mrs. Jacques Heath (Lily May Peel)   \n",
       "4           0       3                           Allen, Mr. William Henry   \n",
       "..        ...     ...                                                ...   \n",
       "885         0       2                              Montvila, Rev. Juozas   \n",
       "886         1       1                       Graham, Miss. Margaret Edith   \n",
       "887         0       3           Johnston, Miss. Catherine Helen \"Carrie\"   \n",
       "888         1       1                              Behr, Mr. Karl Howell   \n",
       "889         0       3                                Dooley, Mr. Patrick   \n",
       "\n",
       "        Sex   Age  SibSp  Parch            Ticket     Fare Cabin Embarked  \n",
       "0      male  22.0      1      0         A/5 21171   7.2500     U        S  \n",
       "1    female  38.0      1      0          PC 17599  71.2833     C        C  \n",
       "2    female  26.0      0      0  STON/O2. 3101282   7.9250     U        S  \n",
       "3    female  35.0      1      0            113803  53.1000     C        S  \n",
       "4      male  35.0      0      0            373450   8.0500     U        S  \n",
       "..      ...   ...    ...    ...               ...      ...   ...      ...  \n",
       "885    male  27.0      0      0            211536  13.0000     U        S  \n",
       "886  female  19.0      0      0            112053  30.0000     B        S  \n",
       "887  female   NaN      1      2        W./C. 6607  23.4500     U        S  \n",
       "888    male  26.0      0      0            111369  30.0000     C        C  \n",
       "889    male  32.0      0      0            370376   7.7500     U        Q  \n",
       "\n",
       "[890 rows x 11 columns]"
      ]
     },
     "execution_count": 18,
     "metadata": {},
     "output_type": "execute_result"
    }
   ],
   "source": [
    "train"
   ]
  },
  {
   "cell_type": "markdown",
   "id": "370dddb1",
   "metadata": {},
   "source": [
    "## Ticket"
   ]
  },
  {
   "cell_type": "markdown",
   "id": "b240bf12",
   "metadata": {},
   "source": [
    "I don't think that ticket related to thier survival, so I just delete this atrribute."
   ]
  },
  {
   "cell_type": "code",
   "execution_count": 19,
   "id": "609a1e73",
   "metadata": {
    "ExecuteTime": {
     "end_time": "2022-01-12T11:11:00.838921Z",
     "start_time": "2022-01-12T11:11:00.824927Z"
    }
   },
   "outputs": [],
   "source": [
    "train.drop(['Ticket'], axis=1, inplace=True)"
   ]
  },
  {
   "cell_type": "markdown",
   "id": "81c7d81f",
   "metadata": {},
   "source": [
    "## Name"
   ]
  },
  {
   "cell_type": "markdown",
   "id": "233b3bbc",
   "metadata": {},
   "source": [
    "I don't think that name related to survival."
   ]
  },
  {
   "cell_type": "code",
   "execution_count": 20,
   "id": "ef21a050",
   "metadata": {
    "ExecuteTime": {
     "end_time": "2022-01-12T11:11:00.854848Z",
     "start_time": "2022-01-12T11:11:00.839887Z"
    }
   },
   "outputs": [],
   "source": [
    "train.drop(['Name'], axis=1, inplace=True)"
   ]
  },
  {
   "cell_type": "code",
   "execution_count": 21,
   "id": "1ea113d9",
   "metadata": {
    "ExecuteTime": {
     "end_time": "2022-01-12T11:11:00.870804Z",
     "start_time": "2022-01-12T11:11:00.855846Z"
    }
   },
   "outputs": [
    {
     "data": {
      "text/html": [
       "<div>\n",
       "<style scoped>\n",
       "    .dataframe tbody tr th:only-of-type {\n",
       "        vertical-align: middle;\n",
       "    }\n",
       "\n",
       "    .dataframe tbody tr th {\n",
       "        vertical-align: top;\n",
       "    }\n",
       "\n",
       "    .dataframe thead th {\n",
       "        text-align: right;\n",
       "    }\n",
       "</style>\n",
       "<table border=\"1\" class=\"dataframe\">\n",
       "  <thead>\n",
       "    <tr style=\"text-align: right;\">\n",
       "      <th></th>\n",
       "      <th>Survived</th>\n",
       "      <th>Pclass</th>\n",
       "      <th>Sex</th>\n",
       "      <th>Age</th>\n",
       "      <th>SibSp</th>\n",
       "      <th>Parch</th>\n",
       "      <th>Fare</th>\n",
       "      <th>Cabin</th>\n",
       "      <th>Embarked</th>\n",
       "    </tr>\n",
       "  </thead>\n",
       "  <tbody>\n",
       "    <tr>\n",
       "      <th>0</th>\n",
       "      <td>0</td>\n",
       "      <td>3</td>\n",
       "      <td>male</td>\n",
       "      <td>22.0</td>\n",
       "      <td>1</td>\n",
       "      <td>0</td>\n",
       "      <td>7.2500</td>\n",
       "      <td>U</td>\n",
       "      <td>S</td>\n",
       "    </tr>\n",
       "    <tr>\n",
       "      <th>1</th>\n",
       "      <td>1</td>\n",
       "      <td>1</td>\n",
       "      <td>female</td>\n",
       "      <td>38.0</td>\n",
       "      <td>1</td>\n",
       "      <td>0</td>\n",
       "      <td>71.2833</td>\n",
       "      <td>C</td>\n",
       "      <td>C</td>\n",
       "    </tr>\n",
       "    <tr>\n",
       "      <th>2</th>\n",
       "      <td>1</td>\n",
       "      <td>3</td>\n",
       "      <td>female</td>\n",
       "      <td>26.0</td>\n",
       "      <td>0</td>\n",
       "      <td>0</td>\n",
       "      <td>7.9250</td>\n",
       "      <td>U</td>\n",
       "      <td>S</td>\n",
       "    </tr>\n",
       "    <tr>\n",
       "      <th>3</th>\n",
       "      <td>1</td>\n",
       "      <td>1</td>\n",
       "      <td>female</td>\n",
       "      <td>35.0</td>\n",
       "      <td>1</td>\n",
       "      <td>0</td>\n",
       "      <td>53.1000</td>\n",
       "      <td>C</td>\n",
       "      <td>S</td>\n",
       "    </tr>\n",
       "    <tr>\n",
       "      <th>4</th>\n",
       "      <td>0</td>\n",
       "      <td>3</td>\n",
       "      <td>male</td>\n",
       "      <td>35.0</td>\n",
       "      <td>0</td>\n",
       "      <td>0</td>\n",
       "      <td>8.0500</td>\n",
       "      <td>U</td>\n",
       "      <td>S</td>\n",
       "    </tr>\n",
       "  </tbody>\n",
       "</table>\n",
       "</div>"
      ],
      "text/plain": [
       "   Survived  Pclass     Sex   Age  SibSp  Parch     Fare Cabin Embarked\n",
       "0         0       3    male  22.0      1      0   7.2500     U        S\n",
       "1         1       1  female  38.0      1      0  71.2833     C        C\n",
       "2         1       3  female  26.0      0      0   7.9250     U        S\n",
       "3         1       1  female  35.0      1      0  53.1000     C        S\n",
       "4         0       3    male  35.0      0      0   8.0500     U        S"
      ]
     },
     "execution_count": 21,
     "metadata": {},
     "output_type": "execute_result"
    }
   ],
   "source": [
    "train.head()"
   ]
  },
  {
   "cell_type": "code",
   "execution_count": 22,
   "id": "a554799f",
   "metadata": {
    "ExecuteTime": {
     "end_time": "2022-01-12T11:11:00.886762Z",
     "start_time": "2022-01-12T11:11:00.871803Z"
    }
   },
   "outputs": [
    {
     "name": "stdout",
     "output_type": "stream",
     "text": [
      "<class 'pandas.core.frame.DataFrame'>\n",
      "RangeIndex: 890 entries, 0 to 889\n",
      "Data columns (total 9 columns):\n",
      " #   Column    Non-Null Count  Dtype  \n",
      "---  ------    --------------  -----  \n",
      " 0   Survived  890 non-null    int64  \n",
      " 1   Pclass    890 non-null    int64  \n",
      " 2   Sex       890 non-null    object \n",
      " 3   Age       713 non-null    float64\n",
      " 4   SibSp     890 non-null    int64  \n",
      " 5   Parch     890 non-null    int64  \n",
      " 6   Fare      890 non-null    float64\n",
      " 7   Cabin     890 non-null    object \n",
      " 8   Embarked  888 non-null    object \n",
      "dtypes: float64(2), int64(4), object(3)\n",
      "memory usage: 62.7+ KB\n"
     ]
    }
   ],
   "source": [
    "train.info()"
   ]
  },
  {
   "cell_type": "markdown",
   "id": "62c89d23",
   "metadata": {},
   "source": [
    "## Age"
   ]
  },
  {
   "cell_type": "code",
   "execution_count": 23,
   "id": "e23a053b",
   "metadata": {
    "ExecuteTime": {
     "end_time": "2022-01-12T11:11:02.107500Z",
     "start_time": "2022-01-12T11:11:00.887759Z"
    }
   },
   "outputs": [
    {
     "data": {
      "text/plain": [
       "<AxesSubplot:>"
      ]
     },
     "execution_count": 23,
     "metadata": {},
     "output_type": "execute_result"
    },
    {
     "data": {
      "image/png": "[encoded data removed]",
      "text/plain": [
       "<Figure size 432x288 with 1 Axes>"
      ]
     },
     "metadata": {
      "needs_background": "light"
     },
     "output_type": "display_data"
    }
   ],
   "source": [
    "train.Age.hist()"
   ]
  },
  {
   "cell_type": "code",
   "execution_count": 24,
   "id": "22d6f7e6",
   "metadata": {
    "ExecuteTime": {
     "end_time": "2022-01-12T11:11:02.123496Z",
     "start_time": "2022-01-12T11:11:02.108498Z"
    }
   },
   "outputs": [
    {
     "data": {
      "text/plain": [
       "count    713.000000\n",
       "mean      29.677658\n",
       "std       14.525365\n",
       "min        0.420000\n",
       "25%       20.000000\n",
       "50%       28.000000\n",
       "75%       38.000000\n",
       "max       80.000000\n",
       "Name: Age, dtype: float64"
      ]
     },
     "execution_count": 24,
     "metadata": {},
     "output_type": "execute_result"
    }
   ],
   "source": [
    "train.Age.describe()"
   ]
  },
  {
   "cell_type": "markdown",
   "id": "a692215c",
   "metadata": {},
   "source": [
    "I think the missing values should be filled with the average."
   ]
  },
  {
   "cell_type": "code",
   "execution_count": 25,
   "id": "afc807e6",
   "metadata": {
    "ExecuteTime": {
     "end_time": "2022-01-12T11:11:02.138456Z",
     "start_time": "2022-01-12T11:11:02.125453Z"
    }
   },
   "outputs": [],
   "source": [
    "train.Age.fillna(train.Age.mean(), inplace=True)"
   ]
  },
  {
   "cell_type": "code",
   "execution_count": 26,
   "id": "b1fe86b6",
   "metadata": {
    "ExecuteTime": {
     "end_time": "2022-01-12T11:11:02.154422Z",
     "start_time": "2022-01-12T11:11:02.139415Z"
    }
   },
   "outputs": [
    {
     "data": {
      "text/plain": [
       "count    890.000000\n",
       "mean      29.677658\n",
       "std       12.999186\n",
       "min        0.420000\n",
       "25%       22.000000\n",
       "50%       29.677658\n",
       "75%       35.000000\n",
       "max       80.000000\n",
       "Name: Age, dtype: float64"
      ]
     },
     "execution_count": 26,
     "metadata": {},
     "output_type": "execute_result"
    }
   ],
   "source": [
    "train.Age.describe()"
   ]
  },
  {
   "cell_type": "markdown",
   "id": "93cb0fe3",
   "metadata": {},
   "source": [
    "## Embarked"
   ]
  },
  {
   "cell_type": "code",
   "execution_count": 27,
   "id": "878cdc3b",
   "metadata": {
    "ExecuteTime": {
     "end_time": "2022-01-12T11:11:02.170333Z",
     "start_time": "2022-01-12T11:11:02.155374Z"
    }
   },
   "outputs": [
    {
     "data": {
      "text/plain": [
       "S    643\n",
       "C    168\n",
       "Q     77\n",
       "Name: Embarked, dtype: int64"
      ]
     },
     "execution_count": 27,
     "metadata": {},
     "output_type": "execute_result"
    }
   ],
   "source": [
    "train.Embarked.value_counts()"
   ]
  },
  {
   "cell_type": "markdown",
   "id": "c18fe355",
   "metadata": {},
   "source": [
    "It has no special value. I will not process this attribute, cause one-hot encoder will group them together."
   ]
  },
  {
   "cell_type": "markdown",
   "id": "938016a0",
   "metadata": {},
   "source": [
    "## Standardization"
   ]
  },
  {
   "cell_type": "code",
   "execution_count": 28,
   "id": "b951fea6",
   "metadata": {
    "ExecuteTime": {
     "end_time": "2022-01-12T11:11:02.186289Z",
     "start_time": "2022-01-12T11:11:02.174323Z"
    },
    "scrolled": true
   },
   "outputs": [
    {
     "name": "stdout",
     "output_type": "stream",
     "text": [
      "<class 'pandas.core.frame.DataFrame'>\n",
      "RangeIndex: 890 entries, 0 to 889\n",
      "Data columns (total 9 columns):\n",
      " #   Column    Non-Null Count  Dtype  \n",
      "---  ------    --------------  -----  \n",
      " 0   Survived  890 non-null    int64  \n",
      " 1   Pclass    890 non-null    int64  \n",
      " 2   Sex       890 non-null    object \n",
      " 3   Age       890 non-null    float64\n",
      " 4   SibSp     890 non-null    int64  \n",
      " 5   Parch     890 non-null    int64  \n",
      " 6   Fare      890 non-null    float64\n",
      " 7   Cabin     890 non-null    object \n",
      " 8   Embarked  888 non-null    object \n",
      "dtypes: float64(2), int64(4), object(3)\n",
      "memory usage: 62.7+ KB\n"
     ]
    }
   ],
   "source": [
    "train.info()"
   ]
  },
  {
   "cell_type": "code",
   "execution_count": 29,
   "id": "0125b891",
   "metadata": {
    "ExecuteTime": {
     "end_time": "2022-01-12T11:11:02.202247Z",
     "start_time": "2022-01-12T11:11:02.187288Z"
    }
   },
   "outputs": [],
   "source": [
    "attrs_cat = ['Survived', 'Sex', 'Cabin', 'Embarked']\n",
    "x_cat = train[attrs_cat]"
   ]
  },
  {
   "cell_type": "code",
   "execution_count": 30,
   "id": "1327050e",
   "metadata": {
    "ExecuteTime": {
     "end_time": "2022-01-12T11:11:02.662017Z",
     "start_time": "2022-01-12T11:11:02.204245Z"
    }
   },
   "outputs": [],
   "source": [
    "from sklearn.preprocessing import StandardScaler\n",
    "attrs_num = ['Pclass', 'Age', 'SibSp' ,'Parch', 'Fare']\n",
    "scl = StandardScaler()\n",
    "x_num = pd.DataFrame(scl.fit_transform(train[attrs_num]), columns=attrs_num)"
   ]
  },
  {
   "cell_type": "code",
   "execution_count": 31,
   "id": "d00b0230",
   "metadata": {
    "ExecuteTime": {
     "end_time": "2022-01-12T11:11:02.677975Z",
     "start_time": "2022-01-12T11:11:02.663015Z"
    }
   },
   "outputs": [],
   "source": [
    "x = pd.concat([x_cat, x_num], axis=1)"
   ]
  },
  {
   "cell_type": "code",
   "execution_count": 32,
   "id": "a0c9b7fc",
   "metadata": {
    "ExecuteTime": {
     "end_time": "2022-01-12T11:11:02.693932Z",
     "start_time": "2022-01-12T11:11:02.678973Z"
    }
   },
   "outputs": [
    {
     "name": "stdout",
     "output_type": "stream",
     "text": [
      "<class 'pandas.core.frame.DataFrame'>\n",
      "RangeIndex: 890 entries, 0 to 889\n",
      "Data columns (total 9 columns):\n",
      " #   Column    Non-Null Count  Dtype  \n",
      "---  ------    --------------  -----  \n",
      " 0   Survived  890 non-null    int64  \n",
      " 1   Sex       890 non-null    object \n",
      " 2   Cabin     890 non-null    object \n",
      " 3   Embarked  888 non-null    object \n",
      " 4   Pclass    890 non-null    float64\n",
      " 5   Age       890 non-null    float64\n",
      " 6   SibSp     890 non-null    float64\n",
      " 7   Parch     890 non-null    float64\n",
      " 8   Fare      890 non-null    float64\n",
      "dtypes: float64(5), int64(1), object(3)\n",
      "memory usage: 62.7+ KB\n"
     ]
    }
   ],
   "source": [
    "x.info()"
   ]
  },
  {
   "cell_type": "markdown",
   "id": "1d29aae0",
   "metadata": {},
   "source": [
    "## One-hot encoding"
   ]
  },
  {
   "cell_type": "code",
   "execution_count": 33,
   "id": "cc7fc6ca",
   "metadata": {
    "ExecuteTime": {
     "end_time": "2022-01-12T11:11:02.725848Z",
     "start_time": "2022-01-12T11:11:02.694930Z"
    }
   },
   "outputs": [
    {
     "name": "stdout",
     "output_type": "stream",
     "text": [
      "<class 'pandas.core.frame.DataFrame'>\n",
      "RangeIndex: 890 entries, 0 to 889\n",
      "Data columns (total 21 columns):\n",
      " #   Column      Non-Null Count  Dtype  \n",
      "---  ------      --------------  -----  \n",
      " 0   Survived    890 non-null    int64  \n",
      " 1   Pclass      890 non-null    float64\n",
      " 2   Age         890 non-null    float64\n",
      " 3   SibSp       890 non-null    float64\n",
      " 4   Parch       890 non-null    float64\n",
      " 5   Fare        890 non-null    float64\n",
      " 6   Sex_female  890 non-null    uint8  \n",
      " 7   Sex_male    890 non-null    uint8  \n",
      " 8   Cabin_A     890 non-null    uint8  \n",
      " 9   Cabin_B     890 non-null    uint8  \n",
      " 10  Cabin_C     890 non-null    uint8  \n",
      " 11  Cabin_D     890 non-null    uint8  \n",
      " 12  Cabin_E     890 non-null    uint8  \n",
      " 13  Cabin_F     890 non-null    uint8  \n",
      " 14  Cabin_FE    890 non-null    uint8  \n",
      " 15  Cabin_FG    890 non-null    uint8  \n",
      " 16  Cabin_G     890 non-null    uint8  \n",
      " 17  Cabin_U     890 non-null    uint8  \n",
      " 18  Embarked_C  890 non-null    uint8  \n",
      " 19  Embarked_Q  890 non-null    uint8  \n",
      " 20  Embarked_S  890 non-null    uint8  \n",
      "dtypes: float64(5), int64(1), uint8(15)\n",
      "memory usage: 54.9 KB\n"
     ]
    }
   ],
   "source": [
    "pd.get_dummies(x).info()"
   ]
  },
  {
   "cell_type": "code",
   "execution_count": 34,
   "id": "e790eab6",
   "metadata": {
    "ExecuteTime": {
     "end_time": "2022-01-12T11:11:02.757802Z",
     "start_time": "2022-01-12T11:11:02.726846Z"
    }
   },
   "outputs": [
    {
     "data": {
      "text/html": [
       "<div>\n",
       "<style scoped>\n",
       "    .dataframe tbody tr th:only-of-type {\n",
       "        vertical-align: middle;\n",
       "    }\n",
       "\n",
       "    .dataframe tbody tr th {\n",
       "        vertical-align: top;\n",
       "    }\n",
       "\n",
       "    .dataframe thead th {\n",
       "        text-align: right;\n",
       "    }\n",
       "</style>\n",
       "<table border=\"1\" class=\"dataframe\">\n",
       "  <thead>\n",
       "    <tr style=\"text-align: right;\">\n",
       "      <th></th>\n",
       "      <th>Survived</th>\n",
       "      <th>Sex</th>\n",
       "      <th>Cabin</th>\n",
       "      <th>Embarked</th>\n",
       "      <th>Pclass</th>\n",
       "      <th>Age</th>\n",
       "      <th>SibSp</th>\n",
       "      <th>Parch</th>\n",
       "      <th>Fare</th>\n",
       "    </tr>\n",
       "  </thead>\n",
       "  <tbody>\n",
       "    <tr>\n",
       "      <th>0</th>\n",
       "      <td>0</td>\n",
       "      <td>male</td>\n",
       "      <td>U</td>\n",
       "      <td>S</td>\n",
       "      <td>0.826293</td>\n",
       "      <td>-5.909581e-01</td>\n",
       "      <td>0.432072</td>\n",
       "      <td>-0.473999</td>\n",
       "      <td>-0.502090</td>\n",
       "    </tr>\n",
       "    <tr>\n",
       "      <th>1</th>\n",
       "      <td>1</td>\n",
       "      <td>female</td>\n",
       "      <td>C</td>\n",
       "      <td>C</td>\n",
       "      <td>-1.569150</td>\n",
       "      <td>6.405802e-01</td>\n",
       "      <td>0.432072</td>\n",
       "      <td>-0.473999</td>\n",
       "      <td>0.786480</td>\n",
       "    </tr>\n",
       "    <tr>\n",
       "      <th>2</th>\n",
       "      <td>1</td>\n",
       "      <td>female</td>\n",
       "      <td>U</td>\n",
       "      <td>S</td>\n",
       "      <td>0.826293</td>\n",
       "      <td>-2.830735e-01</td>\n",
       "      <td>-0.474872</td>\n",
       "      <td>-0.473999</td>\n",
       "      <td>-0.488507</td>\n",
       "    </tr>\n",
       "    <tr>\n",
       "      <th>3</th>\n",
       "      <td>1</td>\n",
       "      <td>female</td>\n",
       "      <td>C</td>\n",
       "      <td>S</td>\n",
       "      <td>-1.569150</td>\n",
       "      <td>4.096668e-01</td>\n",
       "      <td>0.432072</td>\n",
       "      <td>-0.473999</td>\n",
       "      <td>0.420570</td>\n",
       "    </tr>\n",
       "    <tr>\n",
       "      <th>4</th>\n",
       "      <td>0</td>\n",
       "      <td>male</td>\n",
       "      <td>U</td>\n",
       "      <td>S</td>\n",
       "      <td>0.826293</td>\n",
       "      <td>4.096668e-01</td>\n",
       "      <td>-0.474872</td>\n",
       "      <td>-0.473999</td>\n",
       "      <td>-0.485991</td>\n",
       "    </tr>\n",
       "    <tr>\n",
       "      <th>...</th>\n",
       "      <td>...</td>\n",
       "      <td>...</td>\n",
       "      <td>...</td>\n",
       "      <td>...</td>\n",
       "      <td>...</td>\n",
       "      <td>...</td>\n",
       "      <td>...</td>\n",
       "      <td>...</td>\n",
       "      <td>...</td>\n",
       "    </tr>\n",
       "    <tr>\n",
       "      <th>885</th>\n",
       "      <td>0</td>\n",
       "      <td>male</td>\n",
       "      <td>U</td>\n",
       "      <td>S</td>\n",
       "      <td>-0.371428</td>\n",
       "      <td>-2.061024e-01</td>\n",
       "      <td>-0.474872</td>\n",
       "      <td>-0.473999</td>\n",
       "      <td>-0.386380</td>\n",
       "    </tr>\n",
       "    <tr>\n",
       "      <th>886</th>\n",
       "      <td>1</td>\n",
       "      <td>female</td>\n",
       "      <td>B</td>\n",
       "      <td>S</td>\n",
       "      <td>-1.569150</td>\n",
       "      <td>-8.218716e-01</td>\n",
       "      <td>-0.474872</td>\n",
       "      <td>-0.473999</td>\n",
       "      <td>-0.044282</td>\n",
       "    </tr>\n",
       "    <tr>\n",
       "      <th>887</th>\n",
       "      <td>0</td>\n",
       "      <td>female</td>\n",
       "      <td>U</td>\n",
       "      <td>S</td>\n",
       "      <td>0.826293</td>\n",
       "      <td>-2.734564e-16</td>\n",
       "      <td>0.432072</td>\n",
       "      <td>2.007527</td>\n",
       "      <td>-0.176090</td>\n",
       "    </tr>\n",
       "    <tr>\n",
       "      <th>888</th>\n",
       "      <td>1</td>\n",
       "      <td>male</td>\n",
       "      <td>C</td>\n",
       "      <td>C</td>\n",
       "      <td>-1.569150</td>\n",
       "      <td>-2.830735e-01</td>\n",
       "      <td>-0.474872</td>\n",
       "      <td>-0.473999</td>\n",
       "      <td>-0.044282</td>\n",
       "    </tr>\n",
       "    <tr>\n",
       "      <th>889</th>\n",
       "      <td>0</td>\n",
       "      <td>male</td>\n",
       "      <td>U</td>\n",
       "      <td>Q</td>\n",
       "      <td>0.826293</td>\n",
       "      <td>1.787533e-01</td>\n",
       "      <td>-0.474872</td>\n",
       "      <td>-0.473999</td>\n",
       "      <td>-0.492028</td>\n",
       "    </tr>\n",
       "  </tbody>\n",
       "</table>\n",
       "<p>890 rows × 9 columns</p>\n",
       "</div>"
      ],
      "text/plain": [
       "     Survived     Sex Cabin Embarked    Pclass           Age     SibSp  \\\n",
       "0           0    male     U        S  0.826293 -5.909581e-01  0.432072   \n",
       "1           1  female     C        C -1.569150  6.405802e-01  0.432072   \n",
       "2           1  female     U        S  0.826293 -2.830735e-01 -0.474872   \n",
       "3           1  female     C        S -1.569150  4.096668e-01  0.432072   \n",
       "4           0    male     U        S  0.826293  4.096668e-01 -0.474872   \n",
       "..        ...     ...   ...      ...       ...           ...       ...   \n",
       "885         0    male     U        S -0.371428 -2.061024e-01 -0.474872   \n",
       "886         1  female     B        S -1.569150 -8.218716e-01 -0.474872   \n",
       "887         0  female     U        S  0.826293 -2.734564e-16  0.432072   \n",
       "888         1    male     C        C -1.569150 -2.830735e-01 -0.474872   \n",
       "889         0    male     U        Q  0.826293  1.787533e-01 -0.474872   \n",
       "\n",
       "        Parch      Fare  \n",
       "0   -0.473999 -0.502090  \n",
       "1   -0.473999  0.786480  \n",
       "2   -0.473999 -0.488507  \n",
       "3   -0.473999  0.420570  \n",
       "4   -0.473999 -0.485991  \n",
       "..        ...       ...  \n",
       "885 -0.473999 -0.386380  \n",
       "886 -0.473999 -0.044282  \n",
       "887  2.007527 -0.176090  \n",
       "888 -0.473999 -0.044282  \n",
       "889 -0.473999 -0.492028  \n",
       "\n",
       "[890 rows x 9 columns]"
      ]
     },
     "execution_count": 34,
     "metadata": {},
     "output_type": "execute_result"
    }
   ],
   "source": [
    "x"
   ]
  },
  {
   "cell_type": "code",
   "execution_count": 35,
   "id": "8f3d835c",
   "metadata": {
    "ExecuteTime": {
     "end_time": "2022-01-12T11:11:02.773720Z",
     "start_time": "2022-01-12T11:11:02.758760Z"
    }
   },
   "outputs": [],
   "source": [
    "x = pd.get_dummies(x)"
   ]
  },
  {
   "cell_type": "code",
   "execution_count": 36,
   "id": "dceec3a2",
   "metadata": {
    "ExecuteTime": {
     "end_time": "2022-01-12T11:11:02.805675Z",
     "start_time": "2022-01-12T11:11:02.774718Z"
    }
   },
   "outputs": [
    {
     "data": {
      "text/html": [
       "<div>\n",
       "<style scoped>\n",
       "    .dataframe tbody tr th:only-of-type {\n",
       "        vertical-align: middle;\n",
       "    }\n",
       "\n",
       "    .dataframe tbody tr th {\n",
       "        vertical-align: top;\n",
       "    }\n",
       "\n",
       "    .dataframe thead th {\n",
       "        text-align: right;\n",
       "    }\n",
       "</style>\n",
       "<table border=\"1\" class=\"dataframe\">\n",
       "  <thead>\n",
       "    <tr style=\"text-align: right;\">\n",
       "      <th></th>\n",
       "      <th>Survived</th>\n",
       "      <th>Pclass</th>\n",
       "      <th>Age</th>\n",
       "      <th>SibSp</th>\n",
       "      <th>Parch</th>\n",
       "      <th>Fare</th>\n",
       "      <th>Sex_female</th>\n",
       "      <th>Sex_male</th>\n",
       "      <th>Cabin_A</th>\n",
       "      <th>Cabin_B</th>\n",
       "      <th>...</th>\n",
       "      <th>Cabin_D</th>\n",
       "      <th>Cabin_E</th>\n",
       "      <th>Cabin_F</th>\n",
       "      <th>Cabin_FE</th>\n",
       "      <th>Cabin_FG</th>\n",
       "      <th>Cabin_G</th>\n",
       "      <th>Cabin_U</th>\n",
       "      <th>Embarked_C</th>\n",
       "      <th>Embarked_Q</th>\n",
       "      <th>Embarked_S</th>\n",
       "    </tr>\n",
       "  </thead>\n",
       "  <tbody>\n",
       "    <tr>\n",
       "      <th>0</th>\n",
       "      <td>0</td>\n",
       "      <td>0.826293</td>\n",
       "      <td>-0.590958</td>\n",
       "      <td>0.432072</td>\n",
       "      <td>-0.473999</td>\n",
       "      <td>-0.502090</td>\n",
       "      <td>0</td>\n",
       "      <td>1</td>\n",
       "      <td>0</td>\n",
       "      <td>0</td>\n",
       "      <td>...</td>\n",
       "      <td>0</td>\n",
       "      <td>0</td>\n",
       "      <td>0</td>\n",
       "      <td>0</td>\n",
       "      <td>0</td>\n",
       "      <td>0</td>\n",
       "      <td>1</td>\n",
       "      <td>0</td>\n",
       "      <td>0</td>\n",
       "      <td>1</td>\n",
       "    </tr>\n",
       "    <tr>\n",
       "      <th>1</th>\n",
       "      <td>1</td>\n",
       "      <td>-1.569150</td>\n",
       "      <td>0.640580</td>\n",
       "      <td>0.432072</td>\n",
       "      <td>-0.473999</td>\n",
       "      <td>0.786480</td>\n",
       "      <td>1</td>\n",
       "      <td>0</td>\n",
       "      <td>0</td>\n",
       "      <td>0</td>\n",
       "      <td>...</td>\n",
       "      <td>0</td>\n",
       "      <td>0</td>\n",
       "      <td>0</td>\n",
       "      <td>0</td>\n",
       "      <td>0</td>\n",
       "      <td>0</td>\n",
       "      <td>0</td>\n",
       "      <td>1</td>\n",
       "      <td>0</td>\n",
       "      <td>0</td>\n",
       "    </tr>\n",
       "    <tr>\n",
       "      <th>2</th>\n",
       "      <td>1</td>\n",
       "      <td>0.826293</td>\n",
       "      <td>-0.283074</td>\n",
       "      <td>-0.474872</td>\n",
       "      <td>-0.473999</td>\n",
       "      <td>-0.488507</td>\n",
       "      <td>1</td>\n",
       "      <td>0</td>\n",
       "      <td>0</td>\n",
       "      <td>0</td>\n",
       "      <td>...</td>\n",
       "      <td>0</td>\n",
       "      <td>0</td>\n",
       "      <td>0</td>\n",
       "      <td>0</td>\n",
       "      <td>0</td>\n",
       "      <td>0</td>\n",
       "      <td>1</td>\n",
       "      <td>0</td>\n",
       "      <td>0</td>\n",
       "      <td>1</td>\n",
       "    </tr>\n",
       "    <tr>\n",
       "      <th>3</th>\n",
       "      <td>1</td>\n",
       "      <td>-1.569150</td>\n",
       "      <td>0.409667</td>\n",
       "      <td>0.432072</td>\n",
       "      <td>-0.473999</td>\n",
       "      <td>0.420570</td>\n",
       "      <td>1</td>\n",
       "      <td>0</td>\n",
       "      <td>0</td>\n",
       "      <td>0</td>\n",
       "      <td>...</td>\n",
       "      <td>0</td>\n",
       "      <td>0</td>\n",
       "      <td>0</td>\n",
       "      <td>0</td>\n",
       "      <td>0</td>\n",
       "      <td>0</td>\n",
       "      <td>0</td>\n",
       "      <td>0</td>\n",
       "      <td>0</td>\n",
       "      <td>1</td>\n",
       "    </tr>\n",
       "    <tr>\n",
       "      <th>4</th>\n",
       "      <td>0</td>\n",
       "      <td>0.826293</td>\n",
       "      <td>0.409667</td>\n",
       "      <td>-0.474872</td>\n",
       "      <td>-0.473999</td>\n",
       "      <td>-0.485991</td>\n",
       "      <td>0</td>\n",
       "      <td>1</td>\n",
       "      <td>0</td>\n",
       "      <td>0</td>\n",
       "      <td>...</td>\n",
       "      <td>0</td>\n",
       "      <td>0</td>\n",
       "      <td>0</td>\n",
       "      <td>0</td>\n",
       "      <td>0</td>\n",
       "      <td>0</td>\n",
       "      <td>1</td>\n",
       "      <td>0</td>\n",
       "      <td>0</td>\n",
       "      <td>1</td>\n",
       "    </tr>\n",
       "  </tbody>\n",
       "</table>\n",
       "<p>5 rows × 21 columns</p>\n",
       "</div>"
      ],
      "text/plain": [
       "   Survived    Pclass       Age     SibSp     Parch      Fare  Sex_female  \\\n",
       "0         0  0.826293 -0.590958  0.432072 -0.473999 -0.502090           0   \n",
       "1         1 -1.569150  0.640580  0.432072 -0.473999  0.786480           1   \n",
       "2         1  0.826293 -0.283074 -0.474872 -0.473999 -0.488507           1   \n",
       "3         1 -1.569150  0.409667  0.432072 -0.473999  0.420570           1   \n",
       "4         0  0.826293  0.409667 -0.474872 -0.473999 -0.485991           0   \n",
       "\n",
       "   Sex_male  Cabin_A  Cabin_B  ...  Cabin_D  Cabin_E  Cabin_F  Cabin_FE  \\\n",
       "0         1        0        0  ...        0        0        0         0   \n",
       "1         0        0        0  ...        0        0        0         0   \n",
       "2         0        0        0  ...        0        0        0         0   \n",
       "3         0        0        0  ...        0        0        0         0   \n",
       "4         1        0        0  ...        0        0        0         0   \n",
       "\n",
       "   Cabin_FG  Cabin_G  Cabin_U  Embarked_C  Embarked_Q  Embarked_S  \n",
       "0         0        0        1           0           0           1  \n",
       "1         0        0        0           1           0           0  \n",
       "2         0        0        1           0           0           1  \n",
       "3         0        0        0           0           0           1  \n",
       "4         0        0        1           0           0           1  \n",
       "\n",
       "[5 rows x 21 columns]"
      ]
     },
     "execution_count": 36,
     "metadata": {},
     "output_type": "execute_result"
    }
   ],
   "source": [
    "x.head()"
   ]
  },
  {
   "cell_type": "markdown",
   "id": "fb99a152",
   "metadata": {},
   "source": [
    "Train set finished."
   ]
  },
  {
   "cell_type": "markdown",
   "id": "321dc51c",
   "metadata": {},
   "source": [
    "# Test_set converter"
   ]
  },
  {
   "cell_type": "code",
   "execution_count": 37,
   "id": "3f6a218a",
   "metadata": {
    "ExecuteTime": {
     "end_time": "2022-01-12T11:11:02.821592Z",
     "start_time": "2022-01-12T11:11:02.806632Z"
    }
   },
   "outputs": [],
   "source": [
    "from sklearn.base import BaseEstimator, TransformerMixin\n",
    "class pocess(BaseEstimator, TransformerMixin):\n",
    "    def __init__(self):\n",
    "        pass\n",
    "    def fit(self, X, y=None):\n",
    "        return self\n",
    "    def transform(self, X):\n",
    "        ls = []\n",
    "        for i in X.Cabin:\n",
    "            if i is np.nan:  # remain nan\n",
    "                ls.append('U')\n",
    "            elif i[:3] in [\"F E\", \"F G\"]:\n",
    "                ls.append(i[:3].replace(' ',''))  # remove blank\n",
    "            else:\n",
    "                ls.append(i[:1])\n",
    "        X.Cabin = ls\n",
    "        X.drop(['Ticket'], axis=1, inplace=True)\n",
    "        X.drop(['Name'], axis=1, inplace=True)\n",
    "        X.Age.fillna(train.Age.mean(), inplace=True)\n",
    "        \n",
    "        attrs_cat = ['Sex', 'Cabin', 'Embarked']\n",
    "        X_cat = X[attrs_cat]\n",
    "        attrs_num = ['Pclass', 'Age', 'SibSp' ,'Parch', 'Fare']\n",
    "        scl = StandardScaler()\n",
    "        X_num = pd.DataFrame(scl.fit_transform(X[attrs_num]), columns=attrs_num)\n",
    "        X = pd.concat([X_cat, X_num], axis=1)\n",
    "\n",
    "        X = pd.get_dummies(X)\n",
    "        return X"
   ]
  },
  {
   "cell_type": "code",
   "execution_count": 38,
   "id": "d7c2e068",
   "metadata": {
    "ExecuteTime": {
     "end_time": "2022-01-12T11:11:02.852509Z",
     "start_time": "2022-01-12T11:11:02.822590Z"
    }
   },
   "outputs": [
    {
     "data": {
      "text/html": [
       "<div>\n",
       "<style scoped>\n",
       "    .dataframe tbody tr th:only-of-type {\n",
       "        vertical-align: middle;\n",
       "    }\n",
       "\n",
       "    .dataframe tbody tr th {\n",
       "        vertical-align: top;\n",
       "    }\n",
       "\n",
       "    .dataframe thead th {\n",
       "        text-align: right;\n",
       "    }\n",
       "</style>\n",
       "<table border=\"1\" class=\"dataframe\">\n",
       "  <thead>\n",
       "    <tr style=\"text-align: right;\">\n",
       "      <th></th>\n",
       "      <th>Pclass</th>\n",
       "      <th>Name</th>\n",
       "      <th>Sex</th>\n",
       "      <th>Age</th>\n",
       "      <th>SibSp</th>\n",
       "      <th>Parch</th>\n",
       "      <th>Ticket</th>\n",
       "      <th>Fare</th>\n",
       "      <th>Cabin</th>\n",
       "      <th>Embarked</th>\n",
       "    </tr>\n",
       "  </thead>\n",
       "  <tbody>\n",
       "    <tr>\n",
       "      <th>0</th>\n",
       "      <td>3</td>\n",
       "      <td>Kelly, Mr. James</td>\n",
       "      <td>male</td>\n",
       "      <td>34.5</td>\n",
       "      <td>0</td>\n",
       "      <td>0</td>\n",
       "      <td>330911</td>\n",
       "      <td>7.8292</td>\n",
       "      <td>NaN</td>\n",
       "      <td>Q</td>\n",
       "    </tr>\n",
       "    <tr>\n",
       "      <th>1</th>\n",
       "      <td>3</td>\n",
       "      <td>Wilkes, Mrs. James (Ellen Needs)</td>\n",
       "      <td>female</td>\n",
       "      <td>47.0</td>\n",
       "      <td>1</td>\n",
       "      <td>0</td>\n",
       "      <td>363272</td>\n",
       "      <td>7.0000</td>\n",
       "      <td>NaN</td>\n",
       "      <td>S</td>\n",
       "    </tr>\n",
       "    <tr>\n",
       "      <th>2</th>\n",
       "      <td>2</td>\n",
       "      <td>Myles, Mr. Thomas Francis</td>\n",
       "      <td>male</td>\n",
       "      <td>62.0</td>\n",
       "      <td>0</td>\n",
       "      <td>0</td>\n",
       "      <td>240276</td>\n",
       "      <td>9.6875</td>\n",
       "      <td>NaN</td>\n",
       "      <td>Q</td>\n",
       "    </tr>\n",
       "    <tr>\n",
       "      <th>3</th>\n",
       "      <td>3</td>\n",
       "      <td>Wirz, Mr. Albert</td>\n",
       "      <td>male</td>\n",
       "      <td>27.0</td>\n",
       "      <td>0</td>\n",
       "      <td>0</td>\n",
       "      <td>315154</td>\n",
       "      <td>8.6625</td>\n",
       "      <td>NaN</td>\n",
       "      <td>S</td>\n",
       "    </tr>\n",
       "    <tr>\n",
       "      <th>4</th>\n",
       "      <td>3</td>\n",
       "      <td>Hirvonen, Mrs. Alexander (Helga E Lindqvist)</td>\n",
       "      <td>female</td>\n",
       "      <td>22.0</td>\n",
       "      <td>1</td>\n",
       "      <td>1</td>\n",
       "      <td>3101298</td>\n",
       "      <td>12.2875</td>\n",
       "      <td>NaN</td>\n",
       "      <td>S</td>\n",
       "    </tr>\n",
       "    <tr>\n",
       "      <th>...</th>\n",
       "      <td>...</td>\n",
       "      <td>...</td>\n",
       "      <td>...</td>\n",
       "      <td>...</td>\n",
       "      <td>...</td>\n",
       "      <td>...</td>\n",
       "      <td>...</td>\n",
       "      <td>...</td>\n",
       "      <td>...</td>\n",
       "      <td>...</td>\n",
       "    </tr>\n",
       "    <tr>\n",
       "      <th>413</th>\n",
       "      <td>3</td>\n",
       "      <td>Spector, Mr. Woolf</td>\n",
       "      <td>male</td>\n",
       "      <td>NaN</td>\n",
       "      <td>0</td>\n",
       "      <td>0</td>\n",
       "      <td>A.5. 3236</td>\n",
       "      <td>8.0500</td>\n",
       "      <td>NaN</td>\n",
       "      <td>S</td>\n",
       "    </tr>\n",
       "    <tr>\n",
       "      <th>414</th>\n",
       "      <td>1</td>\n",
       "      <td>Oliva y Ocana, Dona. Fermina</td>\n",
       "      <td>female</td>\n",
       "      <td>39.0</td>\n",
       "      <td>0</td>\n",
       "      <td>0</td>\n",
       "      <td>PC 17758</td>\n",
       "      <td>108.9000</td>\n",
       "      <td>C105</td>\n",
       "      <td>C</td>\n",
       "    </tr>\n",
       "    <tr>\n",
       "      <th>415</th>\n",
       "      <td>3</td>\n",
       "      <td>Saether, Mr. Simon Sivertsen</td>\n",
       "      <td>male</td>\n",
       "      <td>38.5</td>\n",
       "      <td>0</td>\n",
       "      <td>0</td>\n",
       "      <td>SOTON/O.Q. 3101262</td>\n",
       "      <td>7.2500</td>\n",
       "      <td>NaN</td>\n",
       "      <td>S</td>\n",
       "    </tr>\n",
       "    <tr>\n",
       "      <th>416</th>\n",
       "      <td>3</td>\n",
       "      <td>Ware, Mr. Frederick</td>\n",
       "      <td>male</td>\n",
       "      <td>NaN</td>\n",
       "      <td>0</td>\n",
       "      <td>0</td>\n",
       "      <td>359309</td>\n",
       "      <td>8.0500</td>\n",
       "      <td>NaN</td>\n",
       "      <td>S</td>\n",
       "    </tr>\n",
       "    <tr>\n",
       "      <th>417</th>\n",
       "      <td>3</td>\n",
       "      <td>Peter, Master. Michael J</td>\n",
       "      <td>male</td>\n",
       "      <td>NaN</td>\n",
       "      <td>1</td>\n",
       "      <td>1</td>\n",
       "      <td>2668</td>\n",
       "      <td>22.3583</td>\n",
       "      <td>NaN</td>\n",
       "      <td>C</td>\n",
       "    </tr>\n",
       "  </tbody>\n",
       "</table>\n",
       "<p>418 rows × 10 columns</p>\n",
       "</div>"
      ],
      "text/plain": [
       "     Pclass                                          Name     Sex   Age  \\\n",
       "0         3                              Kelly, Mr. James    male  34.5   \n",
       "1         3              Wilkes, Mrs. James (Ellen Needs)  female  47.0   \n",
       "2         2                     Myles, Mr. Thomas Francis    male  62.0   \n",
       "3         3                              Wirz, Mr. Albert    male  27.0   \n",
       "4         3  Hirvonen, Mrs. Alexander (Helga E Lindqvist)  female  22.0   \n",
       "..      ...                                           ...     ...   ...   \n",
       "413       3                            Spector, Mr. Woolf    male   NaN   \n",
       "414       1                  Oliva y Ocana, Dona. Fermina  female  39.0   \n",
       "415       3                  Saether, Mr. Simon Sivertsen    male  38.5   \n",
       "416       3                           Ware, Mr. Frederick    male   NaN   \n",
       "417       3                      Peter, Master. Michael J    male   NaN   \n",
       "\n",
       "     SibSp  Parch              Ticket      Fare Cabin Embarked  \n",
       "0        0      0              330911    7.8292   NaN        Q  \n",
       "1        1      0              363272    7.0000   NaN        S  \n",
       "2        0      0              240276    9.6875   NaN        Q  \n",
       "3        0      0              315154    8.6625   NaN        S  \n",
       "4        1      1             3101298   12.2875   NaN        S  \n",
       "..     ...    ...                 ...       ...   ...      ...  \n",
       "413      0      0           A.5. 3236    8.0500   NaN        S  \n",
       "414      0      0            PC 17758  108.9000  C105        C  \n",
       "415      0      0  SOTON/O.Q. 3101262    7.2500   NaN        S  \n",
       "416      0      0              359309    8.0500   NaN        S  \n",
       "417      1      1                2668   22.3583   NaN        C  \n",
       "\n",
       "[418 rows x 10 columns]"
      ]
     },
     "execution_count": 38,
     "metadata": {},
     "output_type": "execute_result"
    }
   ],
   "source": [
    "test"
   ]
  },
  {
   "cell_type": "code",
   "execution_count": 39,
   "id": "390f2579",
   "metadata": {
    "ExecuteTime": {
     "end_time": "2022-01-12T11:11:02.868467Z",
     "start_time": "2022-01-12T11:11:02.853508Z"
    }
   },
   "outputs": [],
   "source": [
    "processor = pocess()"
   ]
  },
  {
   "cell_type": "code",
   "execution_count": 40,
   "id": "b159df60",
   "metadata": {
    "ExecuteTime": {
     "end_time": "2022-01-12T11:11:02.884423Z",
     "start_time": "2022-01-12T11:11:02.869464Z"
    }
   },
   "outputs": [],
   "source": [
    "y_copy = test.copy()"
   ]
  },
  {
   "cell_type": "code",
   "execution_count": 41,
   "id": "9fde210c",
   "metadata": {
    "ExecuteTime": {
     "end_time": "2022-01-12T11:11:02.915342Z",
     "start_time": "2022-01-12T11:11:02.885420Z"
    }
   },
   "outputs": [],
   "source": [
    "y_pre = processor.fit_transform(y_copy)"
   ]
  },
  {
   "cell_type": "markdown",
   "id": "1d023687",
   "metadata": {},
   "source": [
    "# Machine Learning"
   ]
  },
  {
   "cell_type": "markdown",
   "id": "06538cb8",
   "metadata": {},
   "source": [
    "## Prepare data"
   ]
  },
  {
   "cell_type": "code",
   "execution_count": 42,
   "id": "5d8f82c6",
   "metadata": {
    "ExecuteTime": {
     "end_time": "2022-01-12T11:11:02.930301Z",
     "start_time": "2022-01-12T11:11:02.916340Z"
    }
   },
   "outputs": [
    {
     "name": "stdout",
     "output_type": "stream",
     "text": [
      "<class 'pandas.core.frame.DataFrame'>\n",
      "RangeIndex: 890 entries, 0 to 889\n",
      "Data columns (total 21 columns):\n",
      " #   Column      Non-Null Count  Dtype  \n",
      "---  ------      --------------  -----  \n",
      " 0   Survived    890 non-null    int64  \n",
      " 1   Pclass      890 non-null    float64\n",
      " 2   Age         890 non-null    float64\n",
      " 3   SibSp       890 non-null    float64\n",
      " 4   Parch       890 non-null    float64\n",
      " 5   Fare        890 non-null    float64\n",
      " 6   Sex_female  890 non-null    uint8  \n",
      " 7   Sex_male    890 non-null    uint8  \n",
      " 8   Cabin_A     890 non-null    uint8  \n",
      " 9   Cabin_B     890 non-null    uint8  \n",
      " 10  Cabin_C     890 non-null    uint8  \n",
      " 11  Cabin_D     890 non-null    uint8  \n",
      " 12  Cabin_E     890 non-null    uint8  \n",
      " 13  Cabin_F     890 non-null    uint8  \n",
      " 14  Cabin_FE    890 non-null    uint8  \n",
      " 15  Cabin_FG    890 non-null    uint8  \n",
      " 16  Cabin_G     890 non-null    uint8  \n",
      " 17  Cabin_U     890 non-null    uint8  \n",
      " 18  Embarked_C  890 non-null    uint8  \n",
      " 19  Embarked_Q  890 non-null    uint8  \n",
      " 20  Embarked_S  890 non-null    uint8  \n",
      "dtypes: float64(5), int64(1), uint8(15)\n",
      "memory usage: 54.9 KB\n"
     ]
    }
   ],
   "source": [
    "x.info()"
   ]
  },
  {
   "cell_type": "code",
   "execution_count": 43,
   "id": "4f836483",
   "metadata": {
    "ExecuteTime": {
     "end_time": "2022-01-12T11:11:02.962215Z",
     "start_time": "2022-01-12T11:11:02.931299Z"
    }
   },
   "outputs": [],
   "source": [
    "from sklearn.model_selection import train_test_split\n",
    "x_train, x_test = train_test_split(x, test_size = 0.2, random_state=42)"
   ]
  },
  {
   "cell_type": "code",
   "execution_count": 44,
   "id": "53d87d65",
   "metadata": {
    "ExecuteTime": {
     "end_time": "2022-01-12T11:11:02.977176Z",
     "start_time": "2022-01-12T11:11:02.963213Z"
    }
   },
   "outputs": [],
   "source": [
    "x_pre = x_train.drop(['Survived'], axis=1)\n",
    "x_labels = x_train['Survived']"
   ]
  },
  {
   "cell_type": "markdown",
   "id": "e9de6b4c",
   "metadata": {},
   "source": [
    "## LogisticRegression"
   ]
  },
  {
   "cell_type": "code",
   "execution_count": 45,
   "id": "62ef5b5a",
   "metadata": {
    "ExecuteTime": {
     "end_time": "2022-01-12T11:11:03.056964Z",
     "start_time": "2022-01-12T11:11:02.978173Z"
    }
   },
   "outputs": [
    {
     "data": {
      "text/plain": [
       "LogisticRegression(max_iter=10000)"
      ]
     },
     "execution_count": 45,
     "metadata": {},
     "output_type": "execute_result"
    }
   ],
   "source": [
    "from sklearn.linear_model import LogisticRegression\n",
    "logic_reg = LogisticRegression(solver='lbfgs', max_iter=10000)\n",
    "logic_reg.fit(x_pre, x_labels)"
   ]
  },
  {
   "cell_type": "code",
   "execution_count": 46,
   "id": "d6827238",
   "metadata": {
    "ExecuteTime": {
     "end_time": "2022-01-12T11:11:03.072920Z",
     "start_time": "2022-01-12T11:11:03.057962Z"
    }
   },
   "outputs": [],
   "source": [
    "x_predict = logic_reg.predict(x_pre)"
   ]
  },
  {
   "cell_type": "markdown",
   "id": "a3952e51",
   "metadata": {},
   "source": [
    "### Confusion matrix"
   ]
  },
  {
   "cell_type": "code",
   "execution_count": 47,
   "id": "3bf74e90",
   "metadata": {
    "ExecuteTime": {
     "end_time": "2022-01-12T11:11:03.088879Z",
     "start_time": "2022-01-12T11:11:03.074914Z"
    }
   },
   "outputs": [
    {
     "data": {
      "text/plain": [
       "array([[392,  58],\n",
       "       [ 80, 182]], dtype=int64)"
      ]
     },
     "execution_count": 47,
     "metadata": {},
     "output_type": "execute_result"
    }
   ],
   "source": [
    "from sklearn.metrics import confusion_matrix\n",
    "confusion_matrix(x_labels, x_predict)"
   ]
  },
  {
   "cell_type": "markdown",
   "id": "a27ff561",
   "metadata": {},
   "source": [
    "### K-fold cross validation"
   ]
  },
  {
   "cell_type": "code",
   "execution_count": 48,
   "id": "aa105551",
   "metadata": {
    "ExecuteTime": {
     "end_time": "2022-01-12T11:11:03.324248Z",
     "start_time": "2022-01-12T11:11:03.090871Z"
    }
   },
   "outputs": [
    {
     "data": {
      "text/plain": [
       "array([0.77777778, 0.875     , 0.74647887, 0.84507042, 0.85915493,\n",
       "       0.78873239, 0.70422535, 0.73239437, 0.78873239, 0.81690141])"
      ]
     },
     "execution_count": 48,
     "metadata": {},
     "output_type": "execute_result"
    }
   ],
   "source": [
    "from sklearn.model_selection import cross_val_score\n",
    "cross_val_score(logic_reg, x_pre, x_labels, cv=10, scoring='accuracy')  # 10折交叉验证"
   ]
  },
  {
   "cell_type": "markdown",
   "id": "95371c18",
   "metadata": {},
   "source": [
    "### PR curve"
   ]
  },
  {
   "cell_type": "code",
   "execution_count": 49,
   "id": "48e9403f",
   "metadata": {
    "ExecuteTime": {
     "end_time": "2022-01-12T11:11:03.579566Z",
     "start_time": "2022-01-12T11:11:03.325245Z"
    }
   },
   "outputs": [
    {
     "data": {
      "image/png": "[encoded data removed]",
      "text/plain": [
       "<Figure size 432x288 with 1 Axes>"
      ]
     },
     "metadata": {
      "needs_background": "light"
     },
     "output_type": "display_data"
    }
   ],
   "source": [
    "import matplotlib.pyplot as plt\n",
    "from sklearn.model_selection import cross_val_predict\n",
    "y_logic_scores = cross_val_predict(logic_reg, x_pre, x_labels, cv=5, method='decision_function')  \n",
    "from sklearn.metrics import precision_recall_curve\n",
    "precisions_logic, recalls_logic, thresholds_logic = precision_recall_curve(x_labels, y_logic_scores)\n",
    "def plot_precision_recall_vs_threshold(precisions, recalls, thresholds):\n",
    "    plt.plot(thresholds, precisions[:-1], 'b--', label='precision')\n",
    "    plt.plot(thresholds, recalls[:-1], 'g-', label='recall')\n",
    "    plt.xlabel('threshold')\n",
    "    plt.legend()\n",
    "    plt.grid()\n",
    "    plt.title('PR curve')\n",
    "    plt.show()\n",
    "plot_precision_recall_vs_threshold(precisions_logic, recalls_logic, thresholds_logic)"
   ]
  },
  {
   "cell_type": "markdown",
   "id": "d31952fa",
   "metadata": {},
   "source": [
    "### ROC curve"
   ]
  },
  {
   "cell_type": "code",
   "execution_count": 50,
   "id": "fae82156",
   "metadata": {
    "ExecuteTime": {
     "end_time": "2022-01-12T11:11:03.595525Z",
     "start_time": "2022-01-12T11:11:03.580563Z"
    }
   },
   "outputs": [],
   "source": [
    "def plot_roc_curve(fpr, tpr, label=None):\n",
    "    plt.plot(fpr, tpr, linewidth=2, label=label)\n",
    "    plt.plot([0, 1],[0, 1], 'k--')  \n",
    "    plt.xlabel('FPR')\n",
    "    plt.ylabel('TPR')\n",
    "    plt.title('ROC')\n",
    "    plt.legend()\n",
    "    plt.grid()\n",
    "    plt.show()"
   ]
  },
  {
   "cell_type": "code",
   "execution_count": 51,
   "id": "45908dfa",
   "metadata": {
    "ExecuteTime": {
     "end_time": "2022-01-12T11:11:03.611481Z",
     "start_time": "2022-01-12T11:11:03.596520Z"
    }
   },
   "outputs": [],
   "source": [
    "x_scores = logic_reg.decision_function(x_pre)"
   ]
  },
  {
   "cell_type": "code",
   "execution_count": 52,
   "id": "1d5788c4",
   "metadata": {
    "ExecuteTime": {
     "end_time": "2022-01-12T11:11:03.627439Z",
     "start_time": "2022-01-12T11:11:03.612478Z"
    }
   },
   "outputs": [],
   "source": [
    "from sklearn.metrics import roc_curve\n",
    "fpr, tpr, thresholds = roc_curve(x_labels, x_scores)"
   ]
  },
  {
   "cell_type": "code",
   "execution_count": 53,
   "id": "fcb6d68f",
   "metadata": {
    "ExecuteTime": {
     "end_time": "2022-01-12T11:11:03.770056Z",
     "start_time": "2022-01-12T11:11:03.628437Z"
    }
   },
   "outputs": [
    {
     "data": {
      "image/png": "[encoded data removed]",
      "text/plain": [
       "<Figure size 432x288 with 1 Axes>"
      ]
     },
     "metadata": {
      "needs_background": "light"
     },
     "output_type": "display_data"
    }
   ],
   "source": [
    "plot_roc_curve(fpr, tpr, 'Logic')"
   ]
  },
  {
   "cell_type": "code",
   "execution_count": 54,
   "id": "4a732a21",
   "metadata": {
    "ExecuteTime": {
     "end_time": "2022-01-12T11:11:03.786015Z",
     "start_time": "2022-01-12T11:11:03.771055Z"
    }
   },
   "outputs": [
    {
     "data": {
      "text/plain": [
       "0.8476759966072944"
      ]
     },
     "execution_count": 54,
     "metadata": {},
     "output_type": "execute_result"
    }
   ],
   "source": [
    "from sklearn.metrics import roc_auc_score\n",
    "roc_auc_score(x_labels, x_scores)"
   ]
  },
  {
   "cell_type": "markdown",
   "id": "b9ba17d4",
   "metadata": {},
   "source": [
    "I think it's ok."
   ]
  },
  {
   "cell_type": "markdown",
   "id": "0400a728",
   "metadata": {},
   "source": [
    "## RandomForest"
   ]
  },
  {
   "cell_type": "code",
   "execution_count": 55,
   "id": "6106a24e",
   "metadata": {
    "ExecuteTime": {
     "end_time": "2022-01-12T11:11:04.766394Z",
     "start_time": "2022-01-12T11:11:03.788011Z"
    }
   },
   "outputs": [],
   "source": [
    "from sklearn.ensemble import RandomForestClassifier\n",
    "forest_clf = RandomForestClassifier(random_state=42)\n",
    "x_probas_forest = cross_val_predict(forest_clf, x_pre, x_labels, cv=5, method='predict_proba')"
   ]
  },
  {
   "cell_type": "code",
   "execution_count": 56,
   "id": "b19bc58a",
   "metadata": {
    "ExecuteTime": {
     "end_time": "2022-01-12T11:11:04.782352Z",
     "start_time": "2022-01-12T11:11:04.767399Z"
    }
   },
   "outputs": [
    {
     "data": {
      "text/plain": [
       "array([[0.65      , 0.35      ],\n",
       "       [0.93      , 0.07      ],\n",
       "       [0.82866667, 0.17133333],\n",
       "       ...,\n",
       "       [0.93766667, 0.06233333],\n",
       "       [0.87      , 0.13      ],\n",
       "       [0.4       , 0.6       ]])"
      ]
     },
     "execution_count": 56,
     "metadata": {},
     "output_type": "execute_result"
    }
   ],
   "source": [
    "x_probas_forest"
   ]
  },
  {
   "cell_type": "code",
   "execution_count": 57,
   "id": "b340aa6e",
   "metadata": {
    "ExecuteTime": {
     "end_time": "2022-01-12T11:11:04.797312Z",
     "start_time": "2022-01-12T11:11:04.783355Z"
    }
   },
   "outputs": [],
   "source": [
    "x_scores_forest = x_probas_forest[:, 1]\n",
    "fpr_forest, tpr_forest, threshold = roc_curve(x_labels, x_scores_forest)"
   ]
  },
  {
   "cell_type": "code",
   "execution_count": 58,
   "id": "7f4e14e5",
   "metadata": {
    "ExecuteTime": {
     "end_time": "2022-01-12T11:11:04.940929Z",
     "start_time": "2022-01-12T11:11:04.799307Z"
    }
   },
   "outputs": [
    {
     "data": {
      "image/png": "[encoded data removed]",
      "text/plain": [
       "<Figure size 432x288 with 1 Axes>"
      ]
     },
     "metadata": {
      "needs_background": "light"
     },
     "output_type": "display_data"
    }
   ],
   "source": [
    "plt.plot(fpr, tpr, 'r:', label='Logic')\n",
    "plot_roc_curve(fpr_forest, tpr_forest,'Randomforest')"
   ]
  },
  {
   "cell_type": "markdown",
   "id": "f7057d8e",
   "metadata": {
    "ExecuteTime": {
     "end_time": "2022-01-12T08:11:21.920686Z",
     "start_time": "2022-01-12T08:11:21.915699Z"
    }
   },
   "source": [
    "Little difference."
   ]
  },
  {
   "cell_type": "markdown",
   "id": "13877a65",
   "metadata": {},
   "source": [
    "## SGDClassifier"
   ]
  },
  {
   "cell_type": "code",
   "execution_count": 59,
   "id": "38a8e5a2",
   "metadata": {
    "ExecuteTime": {
     "end_time": "2022-01-12T11:11:04.956926Z",
     "start_time": "2022-01-12T11:11:04.941927Z"
    }
   },
   "outputs": [
    {
     "data": {
      "text/plain": [
       "SGDClassifier(random_state=42)"
      ]
     },
     "execution_count": 59,
     "metadata": {},
     "output_type": "execute_result"
    }
   ],
   "source": [
    "from sklearn.linear_model import SGDClassifier\n",
    "\n",
    "sgd_clf = SGDClassifier(random_state = 42)  \n",
    "sgd_clf.fit(x_pre, x_labels)"
   ]
  },
  {
   "cell_type": "code",
   "execution_count": 60,
   "id": "ba3badbf",
   "metadata": {
    "ExecuteTime": {
     "end_time": "2022-01-12T11:11:04.972883Z",
     "start_time": "2022-01-12T11:11:04.957884Z"
    }
   },
   "outputs": [],
   "source": [
    "x_SDG_predict = sgd_clf.predict(x_pre)"
   ]
  },
  {
   "cell_type": "markdown",
   "id": "c4cc4cbc",
   "metadata": {
    "ExecuteTime": {
     "end_time": "2022-01-12T08:13:18.031081Z",
     "start_time": "2022-01-12T08:13:18.016121Z"
    }
   },
   "source": [
    "### Confusion matrix"
   ]
  },
  {
   "cell_type": "code",
   "execution_count": 61,
   "id": "2ea4feab",
   "metadata": {
    "ExecuteTime": {
     "end_time": "2022-01-12T11:11:04.988840Z",
     "start_time": "2022-01-12T11:11:04.973842Z"
    }
   },
   "outputs": [
    {
     "data": {
      "text/plain": [
       "array([[331, 119],\n",
       "       [ 58, 204]], dtype=int64)"
      ]
     },
     "execution_count": 61,
     "metadata": {},
     "output_type": "execute_result"
    }
   ],
   "source": [
    "confusion_matrix(x_labels, x_SDG_predict)"
   ]
  },
  {
   "cell_type": "markdown",
   "id": "953907a9",
   "metadata": {},
   "source": [
    "### ROC curve"
   ]
  },
  {
   "cell_type": "code",
   "execution_count": 62,
   "id": "43f7bc69",
   "metadata": {
    "ExecuteTime": {
     "end_time": "2022-01-12T11:11:05.051673Z",
     "start_time": "2022-01-12T11:11:04.989799Z"
    }
   },
   "outputs": [
    {
     "data": {
      "text/plain": [
       "array([1.        , 0.98611111, 1.        , 0.97183099, 0.98591549,\n",
       "       0.98591549, 0.98591549, 1.        , 0.94366197, 0.97183099])"
      ]
     },
     "execution_count": 62,
     "metadata": {},
     "output_type": "execute_result"
    }
   ],
   "source": [
    "cross_val_score(sgd_clf, x_pre, x_SDG_predict, cv=10) "
   ]
  },
  {
   "cell_type": "code",
   "execution_count": 63,
   "id": "1d52947e",
   "metadata": {
    "ExecuteTime": {
     "end_time": "2022-01-12T11:11:05.067589Z",
     "start_time": "2022-01-12T11:11:05.052630Z"
    }
   },
   "outputs": [],
   "source": [
    "x_sgd_scores = sgd_clf.decision_function(x_pre)\n",
    "fpr_sgd, tpr_sgd, thresholds_sgd = roc_curve(x_labels, x_sgd_scores)"
   ]
  },
  {
   "cell_type": "code",
   "execution_count": 64,
   "id": "46bd6930",
   "metadata": {
    "ExecuteTime": {
     "end_time": "2022-01-12T11:11:05.210209Z",
     "start_time": "2022-01-12T11:11:05.068587Z"
    }
   },
   "outputs": [
    {
     "data": {
      "image/png": "[encoded data removed]",
      "text/plain": [
       "<Figure size 432x288 with 1 Axes>"
      ]
     },
     "metadata": {
      "needs_background": "light"
     },
     "output_type": "display_data"
    }
   ],
   "source": [
    "plt.plot(fpr, tpr, 'r:', label='Logic')\n",
    "plt.plot(fpr_forest, tpr_forest, 'g-', label='RandomForest')\n",
    "plot_roc_curve(fpr_sgd, tpr_sgd, 'SGD')"
   ]
  },
  {
   "cell_type": "code",
   "execution_count": 65,
   "id": "57ade92b",
   "metadata": {
    "ExecuteTime": {
     "end_time": "2022-01-12T11:11:05.383126Z",
     "start_time": "2022-01-12T11:11:05.211206Z"
    }
   },
   "outputs": [
    {
     "data": {
      "image/png": "[encoded data removed]",
      "text/plain": [
       "<Figure size 432x288 with 1 Axes>"
      ]
     },
     "metadata": {
      "needs_background": "light"
     },
     "output_type": "display_data"
    }
   ],
   "source": [
    "y_SGD_score = cross_val_predict(sgd_clf, x_pre, x_labels, cv=5, method='decision_function')  \n",
    "precisions_SGD, recalls_SGD, thresholds_SGD = precision_recall_curve(x_labels, y_SGD_score)\n",
    "plot_precision_recall_vs_threshold(precisions_SGD, recalls_SGD, thresholds_SGD)"
   ]
  },
  {
   "cell_type": "markdown",
   "id": "efb18f39",
   "metadata": {},
   "source": [
    "## SVM"
   ]
  },
  {
   "cell_type": "code",
   "execution_count": 66,
   "id": "7a904c12",
   "metadata": {
    "ExecuteTime": {
     "end_time": "2022-01-12T11:11:05.415095Z",
     "start_time": "2022-01-12T11:11:05.384090Z"
    }
   },
   "outputs": [
    {
     "data": {
      "text/plain": [
       "SVC()"
      ]
     },
     "execution_count": 66,
     "metadata": {},
     "output_type": "execute_result"
    }
   ],
   "source": [
    "from sklearn.svm import SVC\n",
    "svc = SVC()\n",
    "svc.fit(x_pre, x_labels)"
   ]
  },
  {
   "cell_type": "code",
   "execution_count": 75,
   "id": "f4bffd88",
   "metadata": {
    "ExecuteTime": {
     "end_time": "2022-01-12T11:11:46.516120Z",
     "start_time": "2022-01-12T11:11:46.478220Z"
    }
   },
   "outputs": [],
   "source": [
    "x_svc_predict = svc.predict(x_pre)"
   ]
  },
  {
   "cell_type": "markdown",
   "id": "96ff860b",
   "metadata": {},
   "source": [
    "### Confusion matrix"
   ]
  },
  {
   "cell_type": "code",
   "execution_count": 76,
   "id": "6ea6bbfc",
   "metadata": {
    "ExecuteTime": {
     "end_time": "2022-01-12T11:12:10.038764Z",
     "start_time": "2022-01-12T11:12:10.025764Z"
    }
   },
   "outputs": [
    {
     "data": {
      "text/plain": [
       "array([[407,  43],\n",
       "       [ 77, 185]], dtype=int64)"
      ]
     },
     "execution_count": 76,
     "metadata": {},
     "output_type": "execute_result"
    }
   ],
   "source": [
    "confusion_matrix(x_labels, x_svc_predict)"
   ]
  },
  {
   "cell_type": "markdown",
   "id": "e6cbe550",
   "metadata": {},
   "source": [
    "### K-fold cross validation"
   ]
  },
  {
   "cell_type": "code",
   "execution_count": 77,
   "id": "2db9ec73",
   "metadata": {
    "ExecuteTime": {
     "end_time": "2022-01-12T11:13:49.784417Z",
     "start_time": "2022-01-12T11:13:49.589449Z"
    }
   },
   "outputs": [
    {
     "data": {
      "text/plain": [
       "array([0.79166667, 0.86111111, 0.77464789, 0.81690141, 0.81690141,\n",
       "       0.78873239, 0.73239437, 0.83098592, 0.8028169 , 0.84507042])"
      ]
     },
     "execution_count": 77,
     "metadata": {},
     "output_type": "execute_result"
    }
   ],
   "source": [
    "cross_val_score(svc, x_pre, x_labels, cv=10, scoring='accuracy')  # 10折交叉验证"
   ]
  },
  {
   "cell_type": "markdown",
   "id": "57e98604",
   "metadata": {},
   "source": [
    "### PR curve"
   ]
  },
  {
   "cell_type": "code",
   "execution_count": 79,
   "id": "37a8caa0",
   "metadata": {
    "ExecuteTime": {
     "end_time": "2022-01-12T11:15:19.912843Z",
     "start_time": "2022-01-12T11:15:19.704373Z"
    }
   },
   "outputs": [
    {
     "data": {
      "image/png": "[encoded data removed]",
      "text/plain": [
       "<Figure size 432x288 with 1 Axes>"
      ]
     },
     "metadata": {
      "needs_background": "light"
     },
     "output_type": "display_data"
    }
   ],
   "source": [
    "y_svc_scores = cross_val_predict(svc, x_pre, x_labels, cv=5, method='decision_function')\n",
    "precisions_svc, recalls_svc, thresholds_svc = precision_recall_curve(x_labels, y_svc_scores)\n",
    "plot_precision_recall_vs_threshold(precisions_svc, recalls_svc, thresholds_svc)"
   ]
  },
  {
   "cell_type": "markdown",
   "id": "46e7e406",
   "metadata": {},
   "source": [
    "### ROC curve"
   ]
  },
  {
   "cell_type": "code",
   "execution_count": 81,
   "id": "8fd2ced8",
   "metadata": {
    "ExecuteTime": {
     "end_time": "2022-01-12T11:17:10.799644Z",
     "start_time": "2022-01-12T11:17:10.759751Z"
    }
   },
   "outputs": [],
   "source": [
    "x_svc_scores = svc.decision_function(x_pre)\n",
    "fpr_svc, tpr_svc, thresholds_svc = roc_curve(x_labels, x_svc_scores)"
   ]
  },
  {
   "cell_type": "code",
   "execution_count": 97,
   "id": "15cee158",
   "metadata": {
    "ExecuteTime": {
     "end_time": "2022-01-12T11:50:47.679888Z",
     "start_time": "2022-01-12T11:50:47.522268Z"
    }
   },
   "outputs": [
    {
     "data": {
      "image/png": "[encoded data removed]",
      "text/plain": [
       "<Figure size 576x504 with 1 Axes>"
      ]
     },
     "metadata": {
      "needs_background": "light"
     },
     "output_type": "display_data"
    }
   ],
   "source": [
    "%matplotlib inline\n",
    "plt.rcParams['font.sans-serif'] = ['Microsoft YaHei']\n",
    "plt.figure(figsize=[8,7])\n",
    "plt.rcParams.update({\"font.size\":15})\n",
    "plt.plot(fpr, tpr, 'r:', label='Logic回归')\n",
    "plt.plot(fpr_forest, tpr_forest, 'g-', label='随机森林')\n",
    "plt.plot(fpr_sgd, tpr_sgd, label='梯度下降分类')\n",
    "plot_roc_curve(fpr_svc, tpr_svc, '支持向量机分类')"
   ]
  },
  {
   "cell_type": "markdown",
   "id": "a977223e",
   "metadata": {},
   "source": [
    "SVC looks good."
   ]
  },
  {
   "cell_type": "markdown",
   "id": "14d9c6ae",
   "metadata": {},
   "source": [
    "# Predict test set"
   ]
  },
  {
   "cell_type": "markdown",
   "id": "1f440a1b",
   "metadata": {},
   "source": [
    "I choose LogisticRegression."
   ]
  },
  {
   "cell_type": "code",
   "execution_count": 69,
   "id": "d8af39c7",
   "metadata": {
    "ExecuteTime": {
     "end_time": "2022-01-12T11:11:05.461554Z",
     "start_time": "2022-01-12T11:11:05.447593Z"
    }
   },
   "outputs": [
    {
     "data": {
      "text/plain": [
       "Fare          0.24%\n",
       "Pclass        0.00%\n",
       "Cabin_E       0.00%\n",
       "Embarked_Q    0.00%\n",
       "Embarked_C    0.00%\n",
       "Cabin_U       0.00%\n",
       "Cabin_G       0.00%\n",
       "Cabin_FG      0.00%\n",
       "Cabin_FE      0.00%\n",
       "Cabin_F       0.00%\n",
       "Cabin_D       0.00%\n",
       "Age           0.00%\n",
       "Cabin_C       0.00%\n",
       "Cabin_B       0.00%\n",
       "Cabin_A       0.00%\n",
       "Sex_male      0.00%\n",
       "Sex_female    0.00%\n",
       "Parch         0.00%\n",
       "SibSp         0.00%\n",
       "Embarked_S    0.00%\n",
       "dtype: object"
      ]
     },
     "execution_count": 69,
     "metadata": {},
     "output_type": "execute_result"
    }
   ],
   "source": [
    "loss_rate(y_pre)"
   ]
  },
  {
   "cell_type": "markdown",
   "id": "3a36a53e",
   "metadata": {},
   "source": [
    "Need to fill \"Fare\", with the use of average."
   ]
  },
  {
   "cell_type": "code",
   "execution_count": 70,
   "id": "fa491fb7",
   "metadata": {
    "ExecuteTime": {
     "end_time": "2022-01-12T11:11:05.477790Z",
     "start_time": "2022-01-12T11:11:05.462553Z"
    }
   },
   "outputs": [],
   "source": [
    "y_pre['Fare'] = y_pre['Fare'].fillna(y_pre['Fare'].mean())"
   ]
  },
  {
   "cell_type": "code",
   "execution_count": 71,
   "id": "38ca4516",
   "metadata": {
    "ExecuteTime": {
     "end_time": "2022-01-12T11:11:05.493533Z",
     "start_time": "2022-01-12T11:11:05.478510Z"
    }
   },
   "outputs": [
    {
     "data": {
      "text/plain": [
       "Pclass        0.00%\n",
       "Age           0.00%\n",
       "Embarked_Q    0.00%\n",
       "Embarked_C    0.00%\n",
       "Cabin_U       0.00%\n",
       "Cabin_G       0.00%\n",
       "Cabin_FG      0.00%\n",
       "Cabin_FE      0.00%\n",
       "Cabin_F       0.00%\n",
       "Cabin_E       0.00%\n",
       "Cabin_D       0.00%\n",
       "Cabin_C       0.00%\n",
       "Cabin_B       0.00%\n",
       "Cabin_A       0.00%\n",
       "Sex_male      0.00%\n",
       "Sex_female    0.00%\n",
       "Fare          0.00%\n",
       "Parch         0.00%\n",
       "SibSp         0.00%\n",
       "Embarked_S    0.00%\n",
       "dtype: object"
      ]
     },
     "execution_count": 71,
     "metadata": {},
     "output_type": "execute_result"
    }
   ],
   "source": [
    "loss_rate(y_pre)"
   ]
  },
  {
   "cell_type": "code",
   "execution_count": 85,
   "id": "00b28c21",
   "metadata": {
    "ExecuteTime": {
     "end_time": "2022-01-12T11:18:50.378679Z",
     "start_time": "2022-01-12T11:18:50.347768Z"
    }
   },
   "outputs": [],
   "source": [
    "y_predict = svc.predict(y_pre)"
   ]
  },
  {
   "cell_type": "code",
   "execution_count": 86,
   "id": "098bbc00",
   "metadata": {
    "ExecuteTime": {
     "end_time": "2022-01-12T11:18:50.771092Z",
     "start_time": "2022-01-12T11:18:50.764111Z"
    }
   },
   "outputs": [],
   "source": [
    "submission = pd.DataFrame(np.c_[test_id, y_predict], columns=['PassengerId', 'Survived'])"
   ]
  },
  {
   "cell_type": "code",
   "execution_count": 87,
   "id": "f4ec5958",
   "metadata": {
    "ExecuteTime": {
     "end_time": "2022-01-12T11:18:54.777853Z",
     "start_time": "2022-01-12T11:18:54.768878Z"
    }
   },
   "outputs": [],
   "source": [
    "submission.to_csv(r'E:\\kaggle竞赛\\泰坦尼克\\submission.csv', index = False)"
   ]
  }
 ],
 "metadata": {
  "kernelspec": {
   "display_name": "Python 3 (ipykernel)",
   "language": "python",
   "name": "python3"
  },
  "language_info": {
   "codemirror_mode": {
    "name": "ipython",
    "version": 3
   },
   "file_extension": ".py",
   "mimetype": "text/x-python",
   "name": "python",
   "nbconvert_exporter": "python",
   "pygments_lexer": "ipython3",
   "version": "3.9.7"
  },
  "toc": {
   "base_numbering": 1,
   "nav_menu": {},
   "number_sections": true,
   "sideBar": true,
   "skip_h1_title": false,
   "title_cell": "Table of Contents",
   "title_sidebar": "Contents",
   "toc_cell": false,
   "toc_position": {
    "height": "573.6px",
    "left": "1214.72px",
    "top": "136.062px",
    "width": "303.675px"
   },
   "toc_section_display": true,
   "toc_window_display": true
  }
 },
 "nbformat": 4,
 "nbformat_minor": 5
}
