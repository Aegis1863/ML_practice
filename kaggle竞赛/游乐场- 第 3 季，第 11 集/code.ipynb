{
 "cells": [
  {
   "cell_type": "code",
   "execution_count": 96,
   "id": "0eddecb7",
   "metadata": {
    "ExecuteTime": {
     "end_time": "2023-04-03T06:18:25.093476Z",
     "start_time": "2023-04-03T06:18:25.076384Z"
    }
   },
   "outputs": [],
   "source": [
    "import pandas as pd\n",
    "import numpy as np\n",
    "import tensorflow as tf\n",
    "from tensorflow import keras"
   ]
  },
  {
   "cell_type": "code",
   "execution_count": 97,
   "id": "6ef22587",
   "metadata": {
    "ExecuteTime": {
     "end_time": "2023-04-03T06:21:50.478186Z",
     "start_time": "2023-04-03T06:21:50.083823Z"
    }
   },
   "outputs": [],
   "source": [
    "df = pd.read_csv('train.csv')"
   ]
  },
  {
   "cell_type": "code",
   "execution_count": 98,
   "id": "a0d50c0d",
   "metadata": {
    "ExecuteTime": {
     "end_time": "2023-04-03T06:22:00.124600Z",
     "start_time": "2023-04-03T06:22:00.092707Z"
    }
   },
   "outputs": [
    {
     "data": {
      "text/html": [
       "<div>\n",
       "<style scoped>\n",
       "    .dataframe tbody tr th:only-of-type {\n",
       "        vertical-align: middle;\n",
       "    }\n",
       "\n",
       "    .dataframe tbody tr th {\n",
       "        vertical-align: top;\n",
       "    }\n",
       "\n",
       "    .dataframe thead th {\n",
       "        text-align: right;\n",
       "    }\n",
       "</style>\n",
       "<table border=\"1\" class=\"dataframe\">\n",
       "  <thead>\n",
       "    <tr style=\"text-align: right;\">\n",
       "      <th></th>\n",
       "      <th>id</th>\n",
       "      <th>store_sales(in millions)</th>\n",
       "      <th>unit_sales(in millions)</th>\n",
       "      <th>total_children</th>\n",
       "      <th>num_children_at_home</th>\n",
       "      <th>avg_cars_at home(approx).1</th>\n",
       "      <th>gross_weight</th>\n",
       "      <th>recyclable_package</th>\n",
       "      <th>low_fat</th>\n",
       "      <th>units_per_case</th>\n",
       "      <th>store_sqft</th>\n",
       "      <th>coffee_bar</th>\n",
       "      <th>video_store</th>\n",
       "      <th>salad_bar</th>\n",
       "      <th>prepared_food</th>\n",
       "      <th>florist</th>\n",
       "      <th>cost</th>\n",
       "    </tr>\n",
       "  </thead>\n",
       "  <tbody>\n",
       "    <tr>\n",
       "      <th>0</th>\n",
       "      <td>0</td>\n",
       "      <td>8.61</td>\n",
       "      <td>3.0</td>\n",
       "      <td>2.0</td>\n",
       "      <td>2.0</td>\n",
       "      <td>2.0</td>\n",
       "      <td>10.30</td>\n",
       "      <td>1.0</td>\n",
       "      <td>0.0</td>\n",
       "      <td>32.0</td>\n",
       "      <td>36509.0</td>\n",
       "      <td>0.0</td>\n",
       "      <td>0.0</td>\n",
       "      <td>0.0</td>\n",
       "      <td>0.0</td>\n",
       "      <td>0.0</td>\n",
       "      <td>62.09</td>\n",
       "    </tr>\n",
       "    <tr>\n",
       "      <th>1</th>\n",
       "      <td>1</td>\n",
       "      <td>5.00</td>\n",
       "      <td>2.0</td>\n",
       "      <td>4.0</td>\n",
       "      <td>0.0</td>\n",
       "      <td>3.0</td>\n",
       "      <td>6.66</td>\n",
       "      <td>1.0</td>\n",
       "      <td>0.0</td>\n",
       "      <td>1.0</td>\n",
       "      <td>28206.0</td>\n",
       "      <td>1.0</td>\n",
       "      <td>0.0</td>\n",
       "      <td>0.0</td>\n",
       "      <td>0.0</td>\n",
       "      <td>0.0</td>\n",
       "      <td>121.80</td>\n",
       "    </tr>\n",
       "    <tr>\n",
       "      <th>2</th>\n",
       "      <td>2</td>\n",
       "      <td>14.08</td>\n",
       "      <td>4.0</td>\n",
       "      <td>0.0</td>\n",
       "      <td>0.0</td>\n",
       "      <td>3.0</td>\n",
       "      <td>21.30</td>\n",
       "      <td>1.0</td>\n",
       "      <td>0.0</td>\n",
       "      <td>26.0</td>\n",
       "      <td>21215.0</td>\n",
       "      <td>1.0</td>\n",
       "      <td>0.0</td>\n",
       "      <td>0.0</td>\n",
       "      <td>0.0</td>\n",
       "      <td>0.0</td>\n",
       "      <td>83.51</td>\n",
       "    </tr>\n",
       "    <tr>\n",
       "      <th>3</th>\n",
       "      <td>3</td>\n",
       "      <td>4.02</td>\n",
       "      <td>3.0</td>\n",
       "      <td>5.0</td>\n",
       "      <td>0.0</td>\n",
       "      <td>0.0</td>\n",
       "      <td>14.80</td>\n",
       "      <td>0.0</td>\n",
       "      <td>1.0</td>\n",
       "      <td>36.0</td>\n",
       "      <td>21215.0</td>\n",
       "      <td>1.0</td>\n",
       "      <td>0.0</td>\n",
       "      <td>0.0</td>\n",
       "      <td>0.0</td>\n",
       "      <td>0.0</td>\n",
       "      <td>66.78</td>\n",
       "    </tr>\n",
       "    <tr>\n",
       "      <th>4</th>\n",
       "      <td>4</td>\n",
       "      <td>2.13</td>\n",
       "      <td>3.0</td>\n",
       "      <td>5.0</td>\n",
       "      <td>0.0</td>\n",
       "      <td>3.0</td>\n",
       "      <td>17.00</td>\n",
       "      <td>1.0</td>\n",
       "      <td>1.0</td>\n",
       "      <td>20.0</td>\n",
       "      <td>27694.0</td>\n",
       "      <td>1.0</td>\n",
       "      <td>1.0</td>\n",
       "      <td>1.0</td>\n",
       "      <td>1.0</td>\n",
       "      <td>1.0</td>\n",
       "      <td>111.51</td>\n",
       "    </tr>\n",
       "  </tbody>\n",
       "</table>\n",
       "</div>"
      ],
      "text/plain": [
       "   id  store_sales(in millions)  unit_sales(in millions)  total_children  \\\n",
       "0   0                      8.61                      3.0             2.0   \n",
       "1   1                      5.00                      2.0             4.0   \n",
       "2   2                     14.08                      4.0             0.0   \n",
       "3   3                      4.02                      3.0             5.0   \n",
       "4   4                      2.13                      3.0             5.0   \n",
       "\n",
       "   num_children_at_home  avg_cars_at home(approx).1  gross_weight  \\\n",
       "0                   2.0                         2.0         10.30   \n",
       "1                   0.0                         3.0          6.66   \n",
       "2                   0.0                         3.0         21.30   \n",
       "3                   0.0                         0.0         14.80   \n",
       "4                   0.0                         3.0         17.00   \n",
       "\n",
       "   recyclable_package  low_fat  units_per_case  store_sqft  coffee_bar  \\\n",
       "0                 1.0      0.0            32.0     36509.0         0.0   \n",
       "1                 1.0      0.0             1.0     28206.0         1.0   \n",
       "2                 1.0      0.0            26.0     21215.0         1.0   \n",
       "3                 0.0      1.0            36.0     21215.0         1.0   \n",
       "4                 1.0      1.0            20.0     27694.0         1.0   \n",
       "\n",
       "   video_store  salad_bar  prepared_food  florist    cost  \n",
       "0          0.0        0.0            0.0      0.0   62.09  \n",
       "1          0.0        0.0            0.0      0.0  121.80  \n",
       "2          0.0        0.0            0.0      0.0   83.51  \n",
       "3          0.0        0.0            0.0      0.0   66.78  \n",
       "4          1.0        1.0            1.0      1.0  111.51  "
      ]
     },
     "execution_count": 98,
     "metadata": {},
     "output_type": "execute_result"
    }
   ],
   "source": [
    "df.head()"
   ]
  },
  {
   "cell_type": "code",
   "execution_count": 99,
   "id": "139f471a",
   "metadata": {
    "ExecuteTime": {
     "end_time": "2023-04-03T06:22:11.545698Z",
     "start_time": "2023-04-03T06:22:11.504650Z"
    }
   },
   "outputs": [
    {
     "name": "stdout",
     "output_type": "stream",
     "text": [
      "<class 'pandas.core.frame.DataFrame'>\n",
      "RangeIndex: 360336 entries, 0 to 360335\n",
      "Data columns (total 17 columns):\n",
      " #   Column                      Non-Null Count   Dtype  \n",
      "---  ------                      --------------   -----  \n",
      " 0   id                          360336 non-null  int64  \n",
      " 1   store_sales(in millions)    360336 non-null  float64\n",
      " 2   unit_sales(in millions)     360336 non-null  float64\n",
      " 3   total_children              360336 non-null  float64\n",
      " 4   num_children_at_home        360336 non-null  float64\n",
      " 5   avg_cars_at home(approx).1  360336 non-null  float64\n",
      " 6   gross_weight                360336 non-null  float64\n",
      " 7   recyclable_package          360336 non-null  float64\n",
      " 8   low_fat                     360336 non-null  float64\n",
      " 9   units_per_case              360336 non-null  float64\n",
      " 10  store_sqft                  360336 non-null  float64\n",
      " 11  coffee_bar                  360336 non-null  float64\n",
      " 12  video_store                 360336 non-null  float64\n",
      " 13  salad_bar                   360336 non-null  float64\n",
      " 14  prepared_food               360336 non-null  float64\n",
      " 15  florist                     360336 non-null  float64\n",
      " 16  cost                        360336 non-null  float64\n",
      "dtypes: float64(16), int64(1)\n",
      "memory usage: 46.7 MB\n"
     ]
    }
   ],
   "source": [
    "df.info()"
   ]
  },
  {
   "cell_type": "code",
   "execution_count": 100,
   "id": "abdafc8d",
   "metadata": {},
   "outputs": [],
   "source": [
    "df.drop('id', axis=1, inplace=True)"
   ]
  },
  {
   "cell_type": "code",
   "execution_count": 101,
   "id": "1d5eb7b5",
   "metadata": {},
   "outputs": [
    {
     "data": {
      "text/html": [
       "<div>\n",
       "<style scoped>\n",
       "    .dataframe tbody tr th:only-of-type {\n",
       "        vertical-align: middle;\n",
       "    }\n",
       "\n",
       "    .dataframe tbody tr th {\n",
       "        vertical-align: top;\n",
       "    }\n",
       "\n",
       "    .dataframe thead th {\n",
       "        text-align: right;\n",
       "    }\n",
       "</style>\n",
       "<table border=\"1\" class=\"dataframe\">\n",
       "  <thead>\n",
       "    <tr style=\"text-align: right;\">\n",
       "      <th></th>\n",
       "      <th>store_sales(in millions)</th>\n",
       "      <th>unit_sales(in millions)</th>\n",
       "      <th>total_children</th>\n",
       "      <th>num_children_at_home</th>\n",
       "      <th>avg_cars_at home(approx).1</th>\n",
       "      <th>gross_weight</th>\n",
       "      <th>recyclable_package</th>\n",
       "      <th>low_fat</th>\n",
       "      <th>units_per_case</th>\n",
       "      <th>store_sqft</th>\n",
       "      <th>coffee_bar</th>\n",
       "      <th>video_store</th>\n",
       "      <th>salad_bar</th>\n",
       "      <th>prepared_food</th>\n",
       "      <th>florist</th>\n",
       "      <th>cost</th>\n",
       "    </tr>\n",
       "  </thead>\n",
       "  <tbody>\n",
       "    <tr>\n",
       "      <th>count</th>\n",
       "      <td>360336.000000</td>\n",
       "      <td>360336.000000</td>\n",
       "      <td>360336.000000</td>\n",
       "      <td>360336.000000</td>\n",
       "      <td>360336.000000</td>\n",
       "      <td>360336.000000</td>\n",
       "      <td>360336.000000</td>\n",
       "      <td>360336.000000</td>\n",
       "      <td>360336.000000</td>\n",
       "      <td>360336.000000</td>\n",
       "      <td>360336.000000</td>\n",
       "      <td>360336.000000</td>\n",
       "      <td>360336.000000</td>\n",
       "      <td>360336.000000</td>\n",
       "      <td>360336.000000</td>\n",
       "      <td>360336.000000</td>\n",
       "    </tr>\n",
       "    <tr>\n",
       "      <th>mean</th>\n",
       "      <td>6.337376</td>\n",
       "      <td>3.043881</td>\n",
       "      <td>2.456482</td>\n",
       "      <td>0.689390</td>\n",
       "      <td>2.203813</td>\n",
       "      <td>13.822071</td>\n",
       "      <td>0.568086</td>\n",
       "      <td>0.327797</td>\n",
       "      <td>18.972706</td>\n",
       "      <td>28180.333442</td>\n",
       "      <td>0.564839</td>\n",
       "      <td>0.277394</td>\n",
       "      <td>0.504807</td>\n",
       "      <td>0.504832</td>\n",
       "      <td>0.503191</td>\n",
       "      <td>99.614729</td>\n",
       "    </tr>\n",
       "    <tr>\n",
       "      <th>std</th>\n",
       "      <td>3.307980</td>\n",
       "      <td>0.784676</td>\n",
       "      <td>1.488992</td>\n",
       "      <td>1.214732</td>\n",
       "      <td>1.084293</td>\n",
       "      <td>4.614792</td>\n",
       "      <td>0.495343</td>\n",
       "      <td>0.469411</td>\n",
       "      <td>10.212912</td>\n",
       "      <td>5968.874074</td>\n",
       "      <td>0.495779</td>\n",
       "      <td>0.447713</td>\n",
       "      <td>0.499978</td>\n",
       "      <td>0.499977</td>\n",
       "      <td>0.499991</td>\n",
       "      <td>29.939435</td>\n",
       "    </tr>\n",
       "    <tr>\n",
       "      <th>min</th>\n",
       "      <td>0.510000</td>\n",
       "      <td>1.000000</td>\n",
       "      <td>0.000000</td>\n",
       "      <td>0.000000</td>\n",
       "      <td>0.000000</td>\n",
       "      <td>6.000000</td>\n",
       "      <td>0.000000</td>\n",
       "      <td>0.000000</td>\n",
       "      <td>1.000000</td>\n",
       "      <td>20319.000000</td>\n",
       "      <td>0.000000</td>\n",
       "      <td>0.000000</td>\n",
       "      <td>0.000000</td>\n",
       "      <td>0.000000</td>\n",
       "      <td>0.000000</td>\n",
       "      <td>50.790000</td>\n",
       "    </tr>\n",
       "    <tr>\n",
       "      <th>25%</th>\n",
       "      <td>3.720000</td>\n",
       "      <td>3.000000</td>\n",
       "      <td>1.000000</td>\n",
       "      <td>0.000000</td>\n",
       "      <td>1.000000</td>\n",
       "      <td>9.710000</td>\n",
       "      <td>0.000000</td>\n",
       "      <td>0.000000</td>\n",
       "      <td>10.000000</td>\n",
       "      <td>23593.000000</td>\n",
       "      <td>0.000000</td>\n",
       "      <td>0.000000</td>\n",
       "      <td>0.000000</td>\n",
       "      <td>0.000000</td>\n",
       "      <td>0.000000</td>\n",
       "      <td>70.320000</td>\n",
       "    </tr>\n",
       "    <tr>\n",
       "      <th>50%</th>\n",
       "      <td>5.780000</td>\n",
       "      <td>3.000000</td>\n",
       "      <td>2.000000</td>\n",
       "      <td>0.000000</td>\n",
       "      <td>2.000000</td>\n",
       "      <td>13.600000</td>\n",
       "      <td>1.000000</td>\n",
       "      <td>0.000000</td>\n",
       "      <td>20.000000</td>\n",
       "      <td>27694.000000</td>\n",
       "      <td>1.000000</td>\n",
       "      <td>0.000000</td>\n",
       "      <td>1.000000</td>\n",
       "      <td>1.000000</td>\n",
       "      <td>1.000000</td>\n",
       "      <td>98.810000</td>\n",
       "    </tr>\n",
       "    <tr>\n",
       "      <th>75%</th>\n",
       "      <td>8.400000</td>\n",
       "      <td>4.000000</td>\n",
       "      <td>4.000000</td>\n",
       "      <td>1.000000</td>\n",
       "      <td>3.000000</td>\n",
       "      <td>17.700000</td>\n",
       "      <td>1.000000</td>\n",
       "      <td>1.000000</td>\n",
       "      <td>28.000000</td>\n",
       "      <td>33858.000000</td>\n",
       "      <td>1.000000</td>\n",
       "      <td>1.000000</td>\n",
       "      <td>1.000000</td>\n",
       "      <td>1.000000</td>\n",
       "      <td>1.000000</td>\n",
       "      <td>126.620000</td>\n",
       "    </tr>\n",
       "    <tr>\n",
       "      <th>max</th>\n",
       "      <td>22.920000</td>\n",
       "      <td>6.000000</td>\n",
       "      <td>5.000000</td>\n",
       "      <td>5.000000</td>\n",
       "      <td>4.000000</td>\n",
       "      <td>21.900000</td>\n",
       "      <td>1.000000</td>\n",
       "      <td>1.000000</td>\n",
       "      <td>36.000000</td>\n",
       "      <td>39696.000000</td>\n",
       "      <td>1.000000</td>\n",
       "      <td>1.000000</td>\n",
       "      <td>1.000000</td>\n",
       "      <td>1.000000</td>\n",
       "      <td>1.000000</td>\n",
       "      <td>149.750000</td>\n",
       "    </tr>\n",
       "  </tbody>\n",
       "</table>\n",
       "</div>"
      ],
      "text/plain": [
       "       store_sales(in millions)  unit_sales(in millions)  total_children  \\\n",
       "count             360336.000000            360336.000000   360336.000000   \n",
       "mean                   6.337376                 3.043881        2.456482   \n",
       "std                    3.307980                 0.784676        1.488992   \n",
       "min                    0.510000                 1.000000        0.000000   \n",
       "25%                    3.720000                 3.000000        1.000000   \n",
       "50%                    5.780000                 3.000000        2.000000   \n",
       "75%                    8.400000                 4.000000        4.000000   \n",
       "max                   22.920000                 6.000000        5.000000   \n",
       "\n",
       "       num_children_at_home  avg_cars_at home(approx).1   gross_weight  \\\n",
       "count         360336.000000               360336.000000  360336.000000   \n",
       "mean               0.689390                    2.203813      13.822071   \n",
       "std                1.214732                    1.084293       4.614792   \n",
       "min                0.000000                    0.000000       6.000000   \n",
       "25%                0.000000                    1.000000       9.710000   \n",
       "50%                0.000000                    2.000000      13.600000   \n",
       "75%                1.000000                    3.000000      17.700000   \n",
       "max                5.000000                    4.000000      21.900000   \n",
       "\n",
       "       recyclable_package        low_fat  units_per_case     store_sqft  \\\n",
       "count       360336.000000  360336.000000   360336.000000  360336.000000   \n",
       "mean             0.568086       0.327797       18.972706   28180.333442   \n",
       "std              0.495343       0.469411       10.212912    5968.874074   \n",
       "min              0.000000       0.000000        1.000000   20319.000000   \n",
       "25%              0.000000       0.000000       10.000000   23593.000000   \n",
       "50%              1.000000       0.000000       20.000000   27694.000000   \n",
       "75%              1.000000       1.000000       28.000000   33858.000000   \n",
       "max              1.000000       1.000000       36.000000   39696.000000   \n",
       "\n",
       "          coffee_bar    video_store      salad_bar  prepared_food  \\\n",
       "count  360336.000000  360336.000000  360336.000000  360336.000000   \n",
       "mean        0.564839       0.277394       0.504807       0.504832   \n",
       "std         0.495779       0.447713       0.499978       0.499977   \n",
       "min         0.000000       0.000000       0.000000       0.000000   \n",
       "25%         0.000000       0.000000       0.000000       0.000000   \n",
       "50%         1.000000       0.000000       1.000000       1.000000   \n",
       "75%         1.000000       1.000000       1.000000       1.000000   \n",
       "max         1.000000       1.000000       1.000000       1.000000   \n",
       "\n",
       "             florist           cost  \n",
       "count  360336.000000  360336.000000  \n",
       "mean        0.503191      99.614729  \n",
       "std         0.499991      29.939435  \n",
       "min         0.000000      50.790000  \n",
       "25%         0.000000      70.320000  \n",
       "50%         1.000000      98.810000  \n",
       "75%         1.000000     126.620000  \n",
       "max         1.000000     149.750000  "
      ]
     },
     "execution_count": 101,
     "metadata": {},
     "output_type": "execute_result"
    }
   ],
   "source": [
    "df.describe()"
   ]
  },
  {
   "cell_type": "code",
   "execution_count": 102,
   "id": "158bda1e",
   "metadata": {},
   "outputs": [],
   "source": [
    "def loss_rate(x):  # x is DataFrmae type\n",
    "    table = ((x.isnull().sum())/x.shape[0]).sort_values(ascending=False).map(lambda i:\"{:.2%}\".format(i))\n",
    "    return table"
   ]
  },
  {
   "cell_type": "code",
   "execution_count": 103,
   "id": "f4489594",
   "metadata": {},
   "outputs": [
    {
     "data": {
      "text/plain": [
       "store_sales(in millions)      0.00%\n",
       "unit_sales(in millions)       0.00%\n",
       "total_children                0.00%\n",
       "num_children_at_home          0.00%\n",
       "avg_cars_at home(approx).1    0.00%\n",
       "gross_weight                  0.00%\n",
       "recyclable_package            0.00%\n",
       "low_fat                       0.00%\n",
       "units_per_case                0.00%\n",
       "store_sqft                    0.00%\n",
       "coffee_bar                    0.00%\n",
       "video_store                   0.00%\n",
       "salad_bar                     0.00%\n",
       "prepared_food                 0.00%\n",
       "florist                       0.00%\n",
       "cost                          0.00%\n",
       "dtype: object"
      ]
     },
     "execution_count": 103,
     "metadata": {},
     "output_type": "execute_result"
    }
   ],
   "source": [
    "loss_rate(df)"
   ]
  },
  {
   "cell_type": "code",
   "execution_count": 104,
   "id": "fcdc0ca0",
   "metadata": {},
   "outputs": [
    {
     "data": {
      "text/plain": [
       "<Axes: >"
      ]
     },
     "execution_count": 104,
     "metadata": {},
     "output_type": "execute_result"
    },
    {
     "data": {
      "image/png": "[encoded data removed]",
      "text/plain": [
       "<Figure size 640x480 with 1 Axes>"
      ]
     },
     "metadata": {},
     "output_type": "display_data"
    }
   ],
   "source": [
    "df['store_sales(in millions)'].hist()"
   ]
  },
  {
   "cell_type": "code",
   "execution_count": 105,
   "id": "cb48d860",
   "metadata": {},
   "outputs": [],
   "source": [
    "y = df['cost']\n",
    "df.drop('cost', axis=1, inplace=True)"
   ]
  },
  {
   "cell_type": "code",
   "execution_count": 106,
   "id": "c86f57a9",
   "metadata": {},
   "outputs": [
    {
     "name": "stdout",
     "output_type": "stream",
     "text": [
      "0          62.09\n",
      "1         121.80\n",
      "2          83.51\n",
      "3          66.78\n",
      "4         111.51\n",
      "           ...  \n",
      "360331    133.42\n",
      "360332     81.85\n",
      "360333     87.07\n",
      "360334    146.72\n",
      "360335    122.47\n",
      "Name: cost, Length: 360336, dtype: float64\n"
     ]
    },
    {
     "data": {
      "text/html": [
       "<div>\n",
       "<style scoped>\n",
       "    .dataframe tbody tr th:only-of-type {\n",
       "        vertical-align: middle;\n",
       "    }\n",
       "\n",
       "    .dataframe tbody tr th {\n",
       "        vertical-align: top;\n",
       "    }\n",
       "\n",
       "    .dataframe thead th {\n",
       "        text-align: right;\n",
       "    }\n",
       "</style>\n",
       "<table border=\"1\" class=\"dataframe\">\n",
       "  <thead>\n",
       "    <tr style=\"text-align: right;\">\n",
       "      <th></th>\n",
       "      <th>store_sales(in millions)</th>\n",
       "      <th>unit_sales(in millions)</th>\n",
       "      <th>total_children</th>\n",
       "      <th>num_children_at_home</th>\n",
       "      <th>avg_cars_at home(approx).1</th>\n",
       "      <th>gross_weight</th>\n",
       "      <th>recyclable_package</th>\n",
       "      <th>low_fat</th>\n",
       "      <th>units_per_case</th>\n",
       "      <th>store_sqft</th>\n",
       "      <th>coffee_bar</th>\n",
       "      <th>video_store</th>\n",
       "      <th>salad_bar</th>\n",
       "      <th>prepared_food</th>\n",
       "      <th>florist</th>\n",
       "    </tr>\n",
       "  </thead>\n",
       "  <tbody>\n",
       "    <tr>\n",
       "      <th>0</th>\n",
       "      <td>8.61</td>\n",
       "      <td>3.0</td>\n",
       "      <td>2.0</td>\n",
       "      <td>2.0</td>\n",
       "      <td>2.0</td>\n",
       "      <td>10.30</td>\n",
       "      <td>1.0</td>\n",
       "      <td>0.0</td>\n",
       "      <td>32.0</td>\n",
       "      <td>36509.0</td>\n",
       "      <td>0.0</td>\n",
       "      <td>0.0</td>\n",
       "      <td>0.0</td>\n",
       "      <td>0.0</td>\n",
       "      <td>0.0</td>\n",
       "    </tr>\n",
       "    <tr>\n",
       "      <th>1</th>\n",
       "      <td>5.00</td>\n",
       "      <td>2.0</td>\n",
       "      <td>4.0</td>\n",
       "      <td>0.0</td>\n",
       "      <td>3.0</td>\n",
       "      <td>6.66</td>\n",
       "      <td>1.0</td>\n",
       "      <td>0.0</td>\n",
       "      <td>1.0</td>\n",
       "      <td>28206.0</td>\n",
       "      <td>1.0</td>\n",
       "      <td>0.0</td>\n",
       "      <td>0.0</td>\n",
       "      <td>0.0</td>\n",
       "      <td>0.0</td>\n",
       "    </tr>\n",
       "    <tr>\n",
       "      <th>2</th>\n",
       "      <td>14.08</td>\n",
       "      <td>4.0</td>\n",
       "      <td>0.0</td>\n",
       "      <td>0.0</td>\n",
       "      <td>3.0</td>\n",
       "      <td>21.30</td>\n",
       "      <td>1.0</td>\n",
       "      <td>0.0</td>\n",
       "      <td>26.0</td>\n",
       "      <td>21215.0</td>\n",
       "      <td>1.0</td>\n",
       "      <td>0.0</td>\n",
       "      <td>0.0</td>\n",
       "      <td>0.0</td>\n",
       "      <td>0.0</td>\n",
       "    </tr>\n",
       "    <tr>\n",
       "      <th>3</th>\n",
       "      <td>4.02</td>\n",
       "      <td>3.0</td>\n",
       "      <td>5.0</td>\n",
       "      <td>0.0</td>\n",
       "      <td>0.0</td>\n",
       "      <td>14.80</td>\n",
       "      <td>0.0</td>\n",
       "      <td>1.0</td>\n",
       "      <td>36.0</td>\n",
       "      <td>21215.0</td>\n",
       "      <td>1.0</td>\n",
       "      <td>0.0</td>\n",
       "      <td>0.0</td>\n",
       "      <td>0.0</td>\n",
       "      <td>0.0</td>\n",
       "    </tr>\n",
       "    <tr>\n",
       "      <th>4</th>\n",
       "      <td>2.13</td>\n",
       "      <td>3.0</td>\n",
       "      <td>5.0</td>\n",
       "      <td>0.0</td>\n",
       "      <td>3.0</td>\n",
       "      <td>17.00</td>\n",
       "      <td>1.0</td>\n",
       "      <td>1.0</td>\n",
       "      <td>20.0</td>\n",
       "      <td>27694.0</td>\n",
       "      <td>1.0</td>\n",
       "      <td>1.0</td>\n",
       "      <td>1.0</td>\n",
       "      <td>1.0</td>\n",
       "      <td>1.0</td>\n",
       "    </tr>\n",
       "  </tbody>\n",
       "</table>\n",
       "</div>"
      ],
      "text/plain": [
       "   store_sales(in millions)  unit_sales(in millions)  total_children  \\\n",
       "0                      8.61                      3.0             2.0   \n",
       "1                      5.00                      2.0             4.0   \n",
       "2                     14.08                      4.0             0.0   \n",
       "3                      4.02                      3.0             5.0   \n",
       "4                      2.13                      3.0             5.0   \n",
       "\n",
       "   num_children_at_home  avg_cars_at home(approx).1  gross_weight  \\\n",
       "0                   2.0                         2.0         10.30   \n",
       "1                   0.0                         3.0          6.66   \n",
       "2                   0.0                         3.0         21.30   \n",
       "3                   0.0                         0.0         14.80   \n",
       "4                   0.0                         3.0         17.00   \n",
       "\n",
       "   recyclable_package  low_fat  units_per_case  store_sqft  coffee_bar  \\\n",
       "0                 1.0      0.0            32.0     36509.0         0.0   \n",
       "1                 1.0      0.0             1.0     28206.0         1.0   \n",
       "2                 1.0      0.0            26.0     21215.0         1.0   \n",
       "3                 0.0      1.0            36.0     21215.0         1.0   \n",
       "4                 1.0      1.0            20.0     27694.0         1.0   \n",
       "\n",
       "   video_store  salad_bar  prepared_food  florist  \n",
       "0          0.0        0.0            0.0      0.0  \n",
       "1          0.0        0.0            0.0      0.0  \n",
       "2          0.0        0.0            0.0      0.0  \n",
       "3          0.0        0.0            0.0      0.0  \n",
       "4          1.0        1.0            1.0      1.0  "
      ]
     },
     "execution_count": 106,
     "metadata": {},
     "output_type": "execute_result"
    }
   ],
   "source": [
    "print(y)\n",
    "df.head()"
   ]
  },
  {
   "attachments": {},
   "cell_type": "markdown",
   "id": "1abf02a2",
   "metadata": {},
   "source": [
    "# 准备数据 prepare data"
   ]
  },
  {
   "attachments": {},
   "cell_type": "markdown",
   "id": "305424bd",
   "metadata": {},
   "source": [
    "## 分割数据 split data"
   ]
  },
  {
   "cell_type": "code",
   "execution_count": 107,
   "id": "ef506992",
   "metadata": {},
   "outputs": [],
   "source": [
    "from sklearn.model_selection import train_test_split\n",
    "x_train, x_test, y_train, y_test = train_test_split(df, y)"
   ]
  },
  {
   "cell_type": "code",
   "execution_count": 108,
   "id": "843dfdac",
   "metadata": {},
   "outputs": [
    {
     "data": {
      "text/html": [
       "<div>\n",
       "<style scoped>\n",
       "    .dataframe tbody tr th:only-of-type {\n",
       "        vertical-align: middle;\n",
       "    }\n",
       "\n",
       "    .dataframe tbody tr th {\n",
       "        vertical-align: top;\n",
       "    }\n",
       "\n",
       "    .dataframe thead th {\n",
       "        text-align: right;\n",
       "    }\n",
       "</style>\n",
       "<table border=\"1\" class=\"dataframe\">\n",
       "  <thead>\n",
       "    <tr style=\"text-align: right;\">\n",
       "      <th></th>\n",
       "      <th>store_sales(in millions)</th>\n",
       "      <th>unit_sales(in millions)</th>\n",
       "      <th>total_children</th>\n",
       "      <th>num_children_at_home</th>\n",
       "      <th>avg_cars_at home(approx).1</th>\n",
       "      <th>gross_weight</th>\n",
       "      <th>recyclable_package</th>\n",
       "      <th>low_fat</th>\n",
       "      <th>units_per_case</th>\n",
       "      <th>store_sqft</th>\n",
       "      <th>coffee_bar</th>\n",
       "      <th>video_store</th>\n",
       "      <th>salad_bar</th>\n",
       "      <th>prepared_food</th>\n",
       "      <th>florist</th>\n",
       "    </tr>\n",
       "  </thead>\n",
       "  <tbody>\n",
       "    <tr>\n",
       "      <th>151987</th>\n",
       "      <td>3.10</td>\n",
       "      <td>2.0</td>\n",
       "      <td>2.0</td>\n",
       "      <td>0.0</td>\n",
       "      <td>3.0</td>\n",
       "      <td>18.00</td>\n",
       "      <td>0.0</td>\n",
       "      <td>0.0</td>\n",
       "      <td>15.0</td>\n",
       "      <td>23598.0</td>\n",
       "      <td>1.0</td>\n",
       "      <td>0.0</td>\n",
       "      <td>0.0</td>\n",
       "      <td>0.0</td>\n",
       "      <td>1.0</td>\n",
       "    </tr>\n",
       "    <tr>\n",
       "      <th>115705</th>\n",
       "      <td>6.92</td>\n",
       "      <td>4.0</td>\n",
       "      <td>4.0</td>\n",
       "      <td>0.0</td>\n",
       "      <td>1.0</td>\n",
       "      <td>12.80</td>\n",
       "      <td>0.0</td>\n",
       "      <td>1.0</td>\n",
       "      <td>23.0</td>\n",
       "      <td>30584.0</td>\n",
       "      <td>1.0</td>\n",
       "      <td>1.0</td>\n",
       "      <td>1.0</td>\n",
       "      <td>1.0</td>\n",
       "      <td>1.0</td>\n",
       "    </tr>\n",
       "    <tr>\n",
       "      <th>110130</th>\n",
       "      <td>5.18</td>\n",
       "      <td>2.0</td>\n",
       "      <td>2.0</td>\n",
       "      <td>0.0</td>\n",
       "      <td>3.0</td>\n",
       "      <td>11.30</td>\n",
       "      <td>0.0</td>\n",
       "      <td>1.0</td>\n",
       "      <td>2.0</td>\n",
       "      <td>23598.0</td>\n",
       "      <td>0.0</td>\n",
       "      <td>0.0</td>\n",
       "      <td>0.0</td>\n",
       "      <td>0.0</td>\n",
       "      <td>1.0</td>\n",
       "    </tr>\n",
       "    <tr>\n",
       "      <th>27660</th>\n",
       "      <td>1.06</td>\n",
       "      <td>2.0</td>\n",
       "      <td>0.0</td>\n",
       "      <td>0.0</td>\n",
       "      <td>4.0</td>\n",
       "      <td>6.18</td>\n",
       "      <td>1.0</td>\n",
       "      <td>0.0</td>\n",
       "      <td>24.0</td>\n",
       "      <td>30584.0</td>\n",
       "      <td>1.0</td>\n",
       "      <td>1.0</td>\n",
       "      <td>1.0</td>\n",
       "      <td>1.0</td>\n",
       "      <td>1.0</td>\n",
       "    </tr>\n",
       "    <tr>\n",
       "      <th>63344</th>\n",
       "      <td>10.28</td>\n",
       "      <td>4.0</td>\n",
       "      <td>3.0</td>\n",
       "      <td>0.0</td>\n",
       "      <td>3.0</td>\n",
       "      <td>15.20</td>\n",
       "      <td>1.0</td>\n",
       "      <td>0.0</td>\n",
       "      <td>6.0</td>\n",
       "      <td>34791.0</td>\n",
       "      <td>0.0</td>\n",
       "      <td>0.0</td>\n",
       "      <td>1.0</td>\n",
       "      <td>1.0</td>\n",
       "      <td>0.0</td>\n",
       "    </tr>\n",
       "  </tbody>\n",
       "</table>\n",
       "</div>"
      ],
      "text/plain": [
       "        store_sales(in millions)  unit_sales(in millions)  total_children  \\\n",
       "151987                      3.10                      2.0             2.0   \n",
       "115705                      6.92                      4.0             4.0   \n",
       "110130                      5.18                      2.0             2.0   \n",
       "27660                       1.06                      2.0             0.0   \n",
       "63344                      10.28                      4.0             3.0   \n",
       "\n",
       "        num_children_at_home  avg_cars_at home(approx).1  gross_weight  \\\n",
       "151987                   0.0                         3.0         18.00   \n",
       "115705                   0.0                         1.0         12.80   \n",
       "110130                   0.0                         3.0         11.30   \n",
       "27660                    0.0                         4.0          6.18   \n",
       "63344                    0.0                         3.0         15.20   \n",
       "\n",
       "        recyclable_package  low_fat  units_per_case  store_sqft  coffee_bar  \\\n",
       "151987                 0.0      0.0            15.0     23598.0         1.0   \n",
       "115705                 0.0      1.0            23.0     30584.0         1.0   \n",
       "110130                 0.0      1.0             2.0     23598.0         0.0   \n",
       "27660                  1.0      0.0            24.0     30584.0         1.0   \n",
       "63344                  1.0      0.0             6.0     34791.0         0.0   \n",
       "\n",
       "        video_store  salad_bar  prepared_food  florist  \n",
       "151987          0.0        0.0            0.0      1.0  \n",
       "115705          1.0        1.0            1.0      1.0  \n",
       "110130          0.0        0.0            0.0      1.0  \n",
       "27660           1.0        1.0            1.0      1.0  \n",
       "63344           0.0        1.0            1.0      0.0  "
      ]
     },
     "execution_count": 108,
     "metadata": {},
     "output_type": "execute_result"
    }
   ],
   "source": [
    "x_train.head()"
   ]
  },
  {
   "cell_type": "code",
   "execution_count": 109,
   "id": "c7567537",
   "metadata": {},
   "outputs": [
    {
     "data": {
      "text/plain": [
       "151987    101.84\n",
       "115705    141.38\n",
       "110130     83.26\n",
       "27660      87.07\n",
       "63344      69.54\n",
       "Name: cost, dtype: float64"
      ]
     },
     "execution_count": 109,
     "metadata": {},
     "output_type": "execute_result"
    }
   ],
   "source": [
    "y_train.head()"
   ]
  },
  {
   "attachments": {},
   "cell_type": "markdown",
   "id": "689bb9d1",
   "metadata": {},
   "source": [
    "## 标准化 standardize"
   ]
  },
  {
   "cell_type": "code",
   "execution_count": 110,
   "id": "8531905c",
   "metadata": {},
   "outputs": [],
   "source": [
    "from sklearn.preprocessing import StandardScaler\n",
    "scaler = StandardScaler()\n",
    "x_train = scaler.fit_transform(x_train)\n",
    "x_test = scaler.transform(x_test)"
   ]
  },
  {
   "attachments": {},
   "cell_type": "markdown",
   "id": "3cc90d43",
   "metadata": {},
   "source": [
    "# 构建神经网络  build DNN"
   ]
  },
  {
   "cell_type": "code",
   "execution_count": 138,
   "id": "c3521f61",
   "metadata": {},
   "outputs": [],
   "source": [
    " # type: ignore\n",
    "model = keras.models.Sequential([\n",
    "    keras.layers.Dense(50, activation='relu', input_shape=x_train.shape[1:]),\n",
    "    keras.layers.Dense(50, activation='relu'),\n",
    "    keras.layers.Dense(50, activation='relu'),\n",
    "    keras.layers.Dense(1)\n",
    "])"
   ]
  },
  {
   "cell_type": "code",
   "execution_count": 139,
   "id": "a2e3e964",
   "metadata": {},
   "outputs": [
    {
     "name": "stdout",
     "output_type": "stream",
     "text": [
      "Model: \"sequential_5\"\n",
      "_________________________________________________________________\n",
      " Layer (type)                Output Shape              Param #   \n",
      "=================================================================\n",
      " dense_20 (Dense)            (None, 50)                800       \n",
      "                                                                 \n",
      " dense_21 (Dense)            (None, 50)                2550      \n",
      "                                                                 \n",
      " dense_22 (Dense)            (None, 50)                2550      \n",
      "                                                                 \n",
      " dense_23 (Dense)            (None, 1)                 51        \n",
      "                                                                 \n",
      "=================================================================\n",
      "Total params: 5,951\n",
      "Trainable params: 5,951\n",
      "Non-trainable params: 0\n",
      "_________________________________________________________________\n"
     ]
    }
   ],
   "source": [
    "model.summary()"
   ]
  },
  {
   "cell_type": "code",
   "execution_count": 158,
   "id": "f7f1d9bc",
   "metadata": {},
   "outputs": [
    {
     "name": "stdout",
     "output_type": "stream",
     "text": [
      "Epoch 1/50\n",
      "6757/6757 [==============================] - 6s 878us/step - loss: 23.8810 - val_loss: 23.9476\n",
      "Epoch 2/50\n",
      "6757/6757 [==============================] - 10s 1ms/step - loss: 23.8521 - val_loss: 23.9338\n",
      "Epoch 3/50\n",
      "6757/6757 [==============================] - 12s 2ms/step - loss: 23.8272 - val_loss: 23.9822\n",
      "Epoch 4/50\n",
      "6757/6757 [==============================] - 11s 2ms/step - loss: 23.7943 - val_loss: 23.9413\n",
      "Epoch 5/50\n",
      "6757/6757 [==============================] - 9s 1ms/step - loss: 23.7682 - val_loss: 23.8910\n",
      "Epoch 6/50\n",
      "6757/6757 [==============================] - 8s 1ms/step - loss: 23.7403 - val_loss: 23.9155\n",
      "Epoch 7/50\n",
      "6757/6757 [==============================] - 11s 2ms/step - loss: 23.7156 - val_loss: 24.0313\n",
      "Epoch 8/50\n",
      "6757/6757 [==============================] - 8s 1ms/step - loss: 23.6928 - val_loss: 23.8200\n",
      "Epoch 9/50\n",
      "6757/6757 [==============================] - 9s 1ms/step - loss: 23.6799 - val_loss: 23.7512\n",
      "Epoch 10/50\n",
      "6757/6757 [==============================] - 12s 2ms/step - loss: 23.6544 - val_loss: 23.8846\n",
      "Epoch 11/50\n",
      "6757/6757 [==============================] - 12s 2ms/step - loss: 23.6459 - val_loss: 23.7382\n",
      "Epoch 12/50\n",
      "6757/6757 [==============================] - 7s 1ms/step - loss: 23.6185 - val_loss: 23.6875\n",
      "Epoch 13/50\n",
      "6757/6757 [==============================] - 9s 1ms/step - loss: 23.6030 - val_loss: 23.8006\n",
      "Epoch 14/50\n",
      "6757/6757 [==============================] - 12s 2ms/step - loss: 23.5903 - val_loss: 23.6631\n",
      "Epoch 15/50\n",
      "6757/6757 [==============================] - 12s 2ms/step - loss: 23.5715 - val_loss: 23.6640\n",
      "Epoch 16/50\n",
      "6757/6757 [==============================] - 12s 2ms/step - loss: 23.5567 - val_loss: 23.7624\n",
      "Epoch 17/50\n",
      "6757/6757 [==============================] - 11s 2ms/step - loss: 23.5392 - val_loss: 23.7703\n",
      "Epoch 18/50\n",
      "6757/6757 [==============================] - 13s 2ms/step - loss: 23.5275 - val_loss: 23.6269\n",
      "Epoch 19/50\n",
      "6757/6757 [==============================] - 12s 2ms/step - loss: 23.5063 - val_loss: 23.8902\n",
      "Epoch 20/50\n",
      "6757/6757 [==============================] - 12s 2ms/step - loss: 23.5040 - val_loss: 23.6621\n",
      "Epoch 21/50\n",
      "6757/6757 [==============================] - 8s 1ms/step - loss: 23.4862 - val_loss: 23.5698\n",
      "Epoch 22/50\n",
      "6757/6757 [==============================] - 6s 831us/step - loss: 23.4780 - val_loss: 23.5756\n",
      "Epoch 23/50\n",
      "6757/6757 [==============================] - 5s 813us/step - loss: 23.4646 - val_loss: 23.6238\n",
      "Epoch 24/50\n",
      "6757/6757 [==============================] - 6s 817us/step - loss: 23.4552 - val_loss: 23.6662\n",
      "Epoch 25/50\n",
      "6757/6757 [==============================] - 6s 820us/step - loss: 23.4332 - val_loss: 23.5953\n",
      "Epoch 26/50\n",
      "6757/6757 [==============================] - 6s 816us/step - loss: 23.4314 - val_loss: 23.5957\n",
      "Epoch 27/50\n",
      "6757/6757 [==============================] - 6s 828us/step - loss: 23.4066 - val_loss: 23.7372\n",
      "Epoch 28/50\n",
      "6757/6757 [==============================] - 6s 819us/step - loss: 23.4069 - val_loss: 23.6311\n",
      "Epoch 29/50\n",
      "6757/6757 [==============================] - 6s 835us/step - loss: 23.3821 - val_loss: 23.4993\n",
      "Epoch 30/50\n",
      "6757/6757 [==============================] - 6s 822us/step - loss: 23.3720 - val_loss: 23.5081\n",
      "Epoch 31/50\n",
      "6757/6757 [==============================] - 5s 813us/step - loss: 23.3520 - val_loss: 23.5681\n",
      "Epoch 32/50\n",
      "6757/6757 [==============================] - 6s 820us/step - loss: 23.3350 - val_loss: 23.4486\n",
      "Epoch 33/50\n",
      "6757/6757 [==============================] - 6s 824us/step - loss: 23.3265 - val_loss: 23.5370\n",
      "Epoch 34/50\n",
      "6757/6757 [==============================] - 6s 820us/step - loss: 23.3215 - val_loss: 23.4549\n",
      "Epoch 35/50\n",
      "6757/6757 [==============================] - 6s 847us/step - loss: 23.2909 - val_loss: 23.4782\n",
      "Epoch 36/50\n",
      "6757/6757 [==============================] - 6s 851us/step - loss: 23.2768 - val_loss: 23.4416\n",
      "Epoch 37/50\n",
      "6757/6757 [==============================] - 6s 858us/step - loss: 23.2751 - val_loss: 23.5548\n",
      "Epoch 38/50\n",
      "6757/6757 [==============================] - 6s 839us/step - loss: 23.2614 - val_loss: 23.5291\n",
      "Epoch 39/50\n",
      "6757/6757 [==============================] - 6s 882us/step - loss: 23.2479 - val_loss: 23.4721\n",
      "Epoch 40/50\n",
      "6757/6757 [==============================] - 11s 2ms/step - loss: 23.2419 - val_loss: 23.3794\n",
      "Epoch 41/50\n",
      "6757/6757 [==============================] - 9s 1ms/step - loss: 23.2291 - val_loss: 23.4144\n",
      "Epoch 42/50\n",
      "6757/6757 [==============================] - 6s 884us/step - loss: 23.2164 - val_loss: 23.4040\n",
      "Epoch 43/50\n",
      "6757/6757 [==============================] - 7s 974us/step - loss: 23.2011 - val_loss: 23.5990\n",
      "Epoch 44/50\n",
      "6757/6757 [==============================] - 6s 937us/step - loss: 23.2019 - val_loss: 23.3523\n",
      "Epoch 45/50\n",
      "6757/6757 [==============================] - 6s 895us/step - loss: 23.1916 - val_loss: 23.4060\n",
      "Epoch 46/50\n",
      "6757/6757 [==============================] - 6s 919us/step - loss: 23.1911 - val_loss: 23.3216\n",
      "Epoch 47/50\n",
      "6757/6757 [==============================] - 6s 915us/step - loss: 23.1784 - val_loss: 23.3219\n",
      "Epoch 48/50\n",
      "6757/6757 [==============================] - 6s 932us/step - loss: 23.1644 - val_loss: 23.3072\n",
      "Epoch 49/50\n",
      "6757/6757 [==============================] - 7s 984us/step - loss: 23.1549 - val_loss: 23.3781\n",
      "Epoch 50/50\n",
      "6757/6757 [==============================] - 7s 971us/step - loss: 23.1564 - val_loss: 23.3716\n"
     ]
    }
   ],
   "source": [
    "model.compile(loss='mae', optimizer=\"adam\")\n",
    "history = model.fit(x_train, y_train, epochs=50, validation_split=0.2, batch_size=32)"
   ]
  },
  {
   "cell_type": "code",
   "execution_count": 159,
   "id": "6ee429e5",
   "metadata": {},
   "outputs": [
    {
     "name": "stdout",
     "output_type": "stream",
     "text": [
      "2816/2816 [==============================] - 2s 608us/step - loss: 23.2606\n"
     ]
    }
   ],
   "source": [
    "mse_test = model.evaluate(x_test, y_test)"
   ]
  },
  {
   "cell_type": "code",
   "execution_count": 160,
   "id": "bd29ed2d",
   "metadata": {},
   "outputs": [
    {
     "data": {
      "text/html": [
       "<div>\n",
       "<style scoped>\n",
       "    .dataframe tbody tr th:only-of-type {\n",
       "        vertical-align: middle;\n",
       "    }\n",
       "\n",
       "    .dataframe tbody tr th {\n",
       "        vertical-align: top;\n",
       "    }\n",
       "\n",
       "    .dataframe thead th {\n",
       "        text-align: right;\n",
       "    }\n",
       "</style>\n",
       "<table border=\"1\" class=\"dataframe\">\n",
       "  <thead>\n",
       "    <tr style=\"text-align: right;\">\n",
       "      <th></th>\n",
       "      <th>loss</th>\n",
       "      <th>val_loss</th>\n",
       "    </tr>\n",
       "  </thead>\n",
       "  <tbody>\n",
       "    <tr>\n",
       "      <th>0</th>\n",
       "      <td>23.880980</td>\n",
       "      <td>23.947556</td>\n",
       "    </tr>\n",
       "    <tr>\n",
       "      <th>1</th>\n",
       "      <td>23.852079</td>\n",
       "      <td>23.933792</td>\n",
       "    </tr>\n",
       "    <tr>\n",
       "      <th>2</th>\n",
       "      <td>23.827177</td>\n",
       "      <td>23.982155</td>\n",
       "    </tr>\n",
       "    <tr>\n",
       "      <th>3</th>\n",
       "      <td>23.794312</td>\n",
       "      <td>23.941334</td>\n",
       "    </tr>\n",
       "    <tr>\n",
       "      <th>4</th>\n",
       "      <td>23.768171</td>\n",
       "      <td>23.891027</td>\n",
       "    </tr>\n",
       "  </tbody>\n",
       "</table>\n",
       "</div>"
      ],
      "text/plain": [
       "        loss   val_loss\n",
       "0  23.880980  23.947556\n",
       "1  23.852079  23.933792\n",
       "2  23.827177  23.982155\n",
       "3  23.794312  23.941334\n",
       "4  23.768171  23.891027"
      ]
     },
     "execution_count": 160,
     "metadata": {},
     "output_type": "execute_result"
    }
   ],
   "source": [
    "pd.DataFrame(history.history).head()"
   ]
  },
  {
   "cell_type": "code",
   "execution_count": 161,
   "id": "73816d10",
   "metadata": {},
   "outputs": [
    {
     "data": {
      "text/plain": [
       "<Axes: >"
      ]
     },
     "execution_count": 161,
     "metadata": {},
     "output_type": "execute_result"
    },
    {
     "data": {
      "image/png": "[encoded data removed]",
      "text/plain": [
       "<Figure size 640x480 with 1 Axes>"
      ]
     },
     "metadata": {},
     "output_type": "display_data"
    }
   ],
   "source": [
    "pd.DataFrame(history.history).plot(grid=True)"
   ]
  },
  {
   "cell_type": "code",
   "execution_count": 162,
   "id": "fc2906c3",
   "metadata": {},
   "outputs": [],
   "source": [
    "x_new = x_test[:8]"
   ]
  },
  {
   "cell_type": "code",
   "execution_count": 163,
   "metadata": {},
   "outputs": [
    {
     "name": "stdout",
     "output_type": "stream",
     "text": [
      "1/1 [==============================] - 0s 42ms/step\n"
     ]
    }
   ],
   "source": [
    "y_pred = model.predict(x_new)"
   ]
  },
  {
   "cell_type": "code",
   "execution_count": 164,
   "id": "eb3aaa99",
   "metadata": {},
   "outputs": [
    {
     "data": {
      "text/plain": [
       "265946     66.37\n",
       "222203     77.24\n",
       "237413     58.16\n",
       "336298     55.96\n",
       "104945    109.14\n",
       "237363     59.86\n",
       "190946    146.72\n",
       "28338     101.96\n",
       "Name: cost, dtype: float64"
      ]
     },
     "execution_count": 164,
     "metadata": {},
     "output_type": "execute_result"
    }
   ],
   "source": [
    "y_test[:8]"
   ]
  },
  {
   "cell_type": "code",
   "execution_count": 165,
   "id": "df0b1d0c",
   "metadata": {},
   "outputs": [
    {
     "data": {
      "text/plain": [
       "array([[100.79321 ],\n",
       "       [ 95.104034],\n",
       "       [ 85.32041 ],\n",
       "       [ 98.06683 ],\n",
       "       [ 89.958954],\n",
       "       [ 66.41212 ],\n",
       "       [ 87.67026 ],\n",
       "       [ 89.57003 ]], dtype=float32)"
      ]
     },
     "execution_count": 165,
     "metadata": {},
     "output_type": "execute_result"
    }
   ],
   "source": [
    "y_pred[:8]"
   ]
  },
  {
   "attachments": {},
   "cell_type": "markdown",
   "id": "5fbc0d5a",
   "metadata": {},
   "source": [
    "# 预测 predict"
   ]
  },
  {
   "cell_type": "code",
   "execution_count": 166,
   "id": "72bc1924",
   "metadata": {},
   "outputs": [],
   "source": [
    "target = pd.read_csv('test.csv')"
   ]
  },
  {
   "cell_type": "code",
   "execution_count": 167,
   "id": "0dec29f5",
   "metadata": {},
   "outputs": [],
   "source": [
    "x_target = scaler.fit_transform(target.drop('id', axis=1))"
   ]
  },
  {
   "cell_type": "code",
   "execution_count": 168,
   "id": "f697ba39",
   "metadata": {},
   "outputs": [
    {
     "data": {
      "text/plain": [
       "array([[ 0.26794107,  1.22106489, -0.97756259, ..., -1.00883078,\n",
       "        -1.00889798, -1.00363656],\n",
       "       [ 0.16514114, -1.33327669, -0.3052541 , ...,  0.99124652,\n",
       "         0.99118049,  0.99637662],\n",
       "       [ 0.6005291 , -0.0561059 , -1.64987108, ...,  0.99124652,\n",
       "         0.99118049, -1.00363656],\n",
       "       ...,\n",
       "       [-0.01627052, -0.0561059 , -1.64987108, ...,  0.99124652,\n",
       "         0.99118049, -1.00363656],\n",
       "       [ 0.479588  , -1.33327669, -1.64987108, ...,  0.99124652,\n",
       "         0.99118049,  0.99637662],\n",
       "       [ 0.36469395, -0.0561059 , -0.97756259, ..., -1.00883078,\n",
       "        -1.00889798, -1.00363656]])"
      ]
     },
     "execution_count": 168,
     "metadata": {},
     "output_type": "execute_result"
    }
   ],
   "source": [
    "x_target"
   ]
  },
  {
   "cell_type": "code",
   "execution_count": 169,
   "id": "ccb0202f",
   "metadata": {},
   "outputs": [
    {
     "name": "stdout",
     "output_type": "stream",
     "text": [
      "7507/7507 [==============================] - 5s 602us/step\n"
     ]
    }
   ],
   "source": [
    "y_target = model.predict(x_target)"
   ]
  },
  {
   "cell_type": "code",
   "execution_count": 170,
   "id": "e1ee117a",
   "metadata": {},
   "outputs": [
    {
     "data": {
      "text/plain": [
       "array([[114.70466 ],\n",
       "       [ 95.77499 ],\n",
       "       [ 86.742645],\n",
       "       ...,\n",
       "       [ 85.83837 ],\n",
       "       [ 95.62051 ],\n",
       "       [110.77112 ]], dtype=float32)"
      ]
     },
     "execution_count": 170,
     "metadata": {},
     "output_type": "execute_result"
    }
   ],
   "source": [
    "y_target"
   ]
  },
  {
   "cell_type": "code",
   "execution_count": 171,
   "id": "6d8e8b50",
   "metadata": {},
   "outputs": [],
   "source": [
    "submission = pd.DataFrame()"
   ]
  },
  {
   "cell_type": "code",
   "execution_count": 172,
   "id": "b5719ac4",
   "metadata": {},
   "outputs": [],
   "source": [
    "submission['id'] = target['id']"
   ]
  },
  {
   "cell_type": "code",
   "execution_count": 173,
   "id": "b80a0438",
   "metadata": {},
   "outputs": [],
   "source": [
    "submission['cost'] = y_target"
   ]
  },
  {
   "cell_type": "code",
   "execution_count": 174,
   "id": "793faa5f",
   "metadata": {},
   "outputs": [
    {
     "data": {
      "text/html": [
       "<div>\n",
       "<style scoped>\n",
       "    .dataframe tbody tr th:only-of-type {\n",
       "        vertical-align: middle;\n",
       "    }\n",
       "\n",
       "    .dataframe tbody tr th {\n",
       "        vertical-align: top;\n",
       "    }\n",
       "\n",
       "    .dataframe thead th {\n",
       "        text-align: right;\n",
       "    }\n",
       "</style>\n",
       "<table border=\"1\" class=\"dataframe\">\n",
       "  <thead>\n",
       "    <tr style=\"text-align: right;\">\n",
       "      <th></th>\n",
       "      <th>id</th>\n",
       "      <th>cost</th>\n",
       "    </tr>\n",
       "  </thead>\n",
       "  <tbody>\n",
       "    <tr>\n",
       "      <th>0</th>\n",
       "      <td>360336</td>\n",
       "      <td>114.704659</td>\n",
       "    </tr>\n",
       "    <tr>\n",
       "      <th>1</th>\n",
       "      <td>360337</td>\n",
       "      <td>95.774986</td>\n",
       "    </tr>\n",
       "    <tr>\n",
       "      <th>2</th>\n",
       "      <td>360338</td>\n",
       "      <td>86.742645</td>\n",
       "    </tr>\n",
       "    <tr>\n",
       "      <th>3</th>\n",
       "      <td>360339</td>\n",
       "      <td>95.576340</td>\n",
       "    </tr>\n",
       "    <tr>\n",
       "      <th>4</th>\n",
       "      <td>360340</td>\n",
       "      <td>65.696167</td>\n",
       "    </tr>\n",
       "  </tbody>\n",
       "</table>\n",
       "</div>"
      ],
      "text/plain": [
       "       id        cost\n",
       "0  360336  114.704659\n",
       "1  360337   95.774986\n",
       "2  360338   86.742645\n",
       "3  360339   95.576340\n",
       "4  360340   65.696167"
      ]
     },
     "execution_count": 174,
     "metadata": {},
     "output_type": "execute_result"
    }
   ],
   "source": [
    "submission.head()"
   ]
  },
  {
   "cell_type": "code",
   "execution_count": 175,
   "id": "b35dce6f",
   "metadata": {},
   "outputs": [],
   "source": [
    "submission.to_csv('sub.csv', index=False)"
   ]
  },
  {
   "cell_type": "code",
   "execution_count": null,
   "id": "abaf4886",
   "metadata": {},
   "outputs": [],
   "source": []
  }
 ],
 "metadata": {
  "kernelspec": {
   "display_name": "Python 3 (ipykernel)",
   "language": "python",
   "name": "python3"
  },
  "language_info": {
   "codemirror_mode": {
    "name": "ipython",
    "version": 3
   },
   "file_extension": ".py",
   "mimetype": "text/x-python",
   "name": "python",
   "nbconvert_exporter": "python",
   "pygments_lexer": "ipython3",
   "version": "3.9.16"
  },
  "toc": {
   "base_numbering": 1,
   "nav_menu": {},
   "number_sections": true,
   "sideBar": true,
   "skip_h1_title": false,
   "title_cell": "Table of Contents",
   "title_sidebar": "Contents",
   "toc_cell": false,
   "toc_position": {},
   "toc_section_display": true,
   "toc_window_display": false
  }
 },
 "nbformat": 4,
 "nbformat_minor": 5
}
