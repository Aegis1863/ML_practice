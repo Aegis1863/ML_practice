{
 "cells": [
  {
   "cell_type": "markdown",
   "id": "d9d5b99e",
   "metadata": {},
   "source": [
    "支持向量机对居中后的数据效果较好，处理前需要标准化"
   ]
  },
  {
   "cell_type": "markdown",
   "id": "c5f63911",
   "metadata": {},
   "source": [
    "# 线性SVM分类"
   ]
  },
  {
   "cell_type": "code",
   "execution_count": 1,
   "id": "764a024a",
   "metadata": {
    "ExecuteTime": {
     "end_time": "2022-01-14T03:35:06.351298Z",
     "start_time": "2022-01-14T03:34:53.865823Z"
    }
   },
   "outputs": [
    {
     "data": {
      "text/plain": [
       "Pipeline(steps=[('scaler', StandardScaler()),\n",
       "                ('linear_svc', LinearSVC(C=1, loss='hinge'))])"
      ]
     },
     "execution_count": 1,
     "metadata": {},
     "output_type": "execute_result"
    }
   ],
   "source": [
    "import numpy as np\n",
    "from sklearn import datasets\n",
    "from sklearn.pipeline import Pipeline\n",
    "from sklearn.preprocessing import StandardScaler\n",
    "from sklearn.svm import LinearSVC\n",
    "%matplotlib inline\n",
    "\n",
    "iris = datasets.load_iris()\n",
    "x = iris['data'][:, (2,3)]  # 花瓣长和宽两个属性\n",
    "y = (iris['target'] == 2).astype(np.float64)  # 选正例\n",
    "\n",
    "svm_clf = Pipeline([\n",
    "    ('scaler', StandardScaler()),\n",
    "    ('linear_svc', LinearSVC(C=1, loss='hinge')),\n",
    "])\n",
    "\n",
    "svm_clf.fit(x, y)"
   ]
  },
  {
   "cell_type": "code",
   "execution_count": 2,
   "id": "9fde5e63",
   "metadata": {
    "ExecuteTime": {
     "end_time": "2022-01-14T03:35:06.446047Z",
     "start_time": "2022-01-14T03:35:06.352298Z"
    }
   },
   "outputs": [
    {
     "data": {
      "text/plain": [
       "array([1.])"
      ]
     },
     "execution_count": 2,
     "metadata": {},
     "output_type": "execute_result"
    }
   ],
   "source": [
    "svm_clf.predict([[5.5, 1.7]])  # 预测"
   ]
  },
  {
   "cell_type": "markdown",
   "id": "696950f1",
   "metadata": {},
   "source": [
    "# 非线性SVM分类"
   ]
  },
  {
   "cell_type": "markdown",
   "id": "ab7fc22d",
   "metadata": {},
   "source": [
    "通过添加多项式特征实现非线性分类"
   ]
  },
  {
   "cell_type": "code",
   "execution_count": 3,
   "id": "921b5edf",
   "metadata": {
    "ExecuteTime": {
     "end_time": "2022-01-14T03:35:06.476965Z",
     "start_time": "2022-01-14T03:35:06.448040Z"
    }
   },
   "outputs": [
    {
     "data": {
      "text/plain": [
       "Pipeline(steps=[('poly_features', PolynomialFeatures(degree=3)),\n",
       "                ('scaler', StandardScaler()),\n",
       "                ('svm_clf', LinearSVC(C=10, loss='hinge', max_iter=10000))])"
      ]
     },
     "execution_count": 3,
     "metadata": {},
     "output_type": "execute_result"
    }
   ],
   "source": [
    "from sklearn.datasets import make_moons\n",
    "from sklearn.pipeline import Pipeline\n",
    "from sklearn.preprocessing import PolynomialFeatures\n",
    "\n",
    "x, y = make_moons(n_samples=100, noise=0.15)\n",
    "polynomial_svm_clf = Pipeline([\n",
    "    (\"poly_features\", PolynomialFeatures(degree=3)),\n",
    "    (\"scaler\", StandardScaler()),\n",
    "    (\"svm_clf\", LinearSVC(C=10, loss='hinge', max_iter=10000)),\n",
    "])\n",
    "\n",
    "polynomial_svm_clf.fit(x, y)"
   ]
  },
  {
   "cell_type": "code",
   "execution_count": 4,
   "id": "b8224147",
   "metadata": {
    "ExecuteTime": {
     "end_time": "2022-01-14T03:35:06.492951Z",
     "start_time": "2022-01-14T03:35:06.479957Z"
    }
   },
   "outputs": [],
   "source": [
    "import matplotlib.pyplot as plt\n",
    "def plot_dataset(X, y, axes):\n",
    "    plt.plot(X[:, 0][y==0], X[:, 1][y==0], \"bs\")\n",
    "    plt.plot(X[:, 0][y==1], X[:, 1][y==1], \"g^\")\n",
    "    plt.axis(axes)\n",
    "    plt.grid(True, which='both')\n",
    "    plt.xlabel(r\"$x_1$\", fontsize=20)\n",
    "    plt.ylabel(r\"$x_2$\", fontsize=20, rotation=0)\n",
    "\n",
    "def plot_predictions(clf, axes):\n",
    "    x0s = np.linspace(axes[0], axes[1], 100)\n",
    "    x1s = np.linspace(axes[2], axes[3], 100)\n",
    "    x0, x1 = np.meshgrid(x0s, x1s)  # 数据网格化\n",
    "    X = np.c_[x0.ravel(), x1.ravel()]\n",
    "    y_pred = clf.predict(X).reshape(x0.shape)\n",
    "    y_decision = clf.decision_function(X).reshape(x0.shape)\n",
    "    plt.contourf(x0, x1, y_pred, cmap=plt.cm.brg, alpha=0.2)  # 根据预测结果生成等高线\n",
    "    plt.contourf(x0, x1, y_decision, cmap=plt.cm.brg, alpha=0.1)  # 根据预测结果的概率生成等高线"
   ]
  },
  {
   "cell_type": "code",
   "execution_count": 5,
   "id": "4725696a",
   "metadata": {
    "ExecuteTime": {
     "end_time": "2022-01-14T03:35:07.619396Z",
     "start_time": "2022-01-14T03:35:06.493919Z"
    }
   },
   "outputs": [
    {
     "data": {
      "image/png": "[encoded data removed]",
      "text/plain": [
       "<Figure size 432x288 with 1 Axes>"
      ]
     },
     "metadata": {
      "needs_background": "light"
     },
     "output_type": "display_data"
    }
   ],
   "source": [
    "plot_predictions(polynomial_svm_clf, [-1.5, 2.5, -1, 1.5])\n",
    "plot_dataset(x, y, [-1.5, 2.5, -1, 1.5])\n",
    "plt.show()"
   ]
  },
  {
   "cell_type": "markdown",
   "id": "7df5652e",
   "metadata": {
    "ExecuteTime": {
     "end_time": "2022-01-13T08:29:49.767366Z",
     "start_time": "2022-01-13T08:29:49.756397Z"
    }
   },
   "source": [
    "## 多项式内核"
   ]
  },
  {
   "cell_type": "code",
   "execution_count": 6,
   "id": "b701f58e",
   "metadata": {
    "ExecuteTime": {
     "end_time": "2022-01-14T03:35:07.634351Z",
     "start_time": "2022-01-14T03:35:07.620389Z"
    }
   },
   "outputs": [],
   "source": [
    "from sklearn.svm import SVC"
   ]
  },
  {
   "cell_type": "markdown",
   "id": "f4f12b27",
   "metadata": {},
   "source": [
    "### 应用模型"
   ]
  },
  {
   "cell_type": "markdown",
   "id": "13d20d1f",
   "metadata": {},
   "source": [
    "#### 网格搜索参数"
   ]
  },
  {
   "cell_type": "code",
   "execution_count": 7,
   "id": "cf33a636",
   "metadata": {
    "ExecuteTime": {
     "end_time": "2022-01-14T03:35:07.775143Z",
     "start_time": "2022-01-14T03:35:07.635349Z"
    }
   },
   "outputs": [
    {
     "name": "stdout",
     "output_type": "stream",
     "text": [
      "{'C': 3, 'degree': 4}\n"
     ]
    },
    {
     "data": {
      "text/plain": [
       "SVC(C=3, coef0=1, degree=4, kernel='poly')"
      ]
     },
     "execution_count": 7,
     "metadata": {},
     "output_type": "execute_result"
    }
   ],
   "source": [
    "from sklearn.model_selection import GridSearchCV\n",
    "param_grid = [\n",
    "    {'degree': [2, 3, 4, 5], 'C': [ 3, 5, 7]},\n",
    "]\n",
    "\n",
    "scl = StandardScaler()\n",
    "x_s = scl.fit_transform(x)\n",
    "svm_clf = SVC(kernel='poly', degree=3, coef0=1, C=5)  # 核技巧使用多项式\n",
    "\n",
    "grid_search = GridSearchCV(svm_clf, param_grid, cv = 5,\n",
    "                          scoring='neg_mean_squared_error',\n",
    "                          return_train_score=True)\n",
    "grid_search.fit(x_s, y)  # 开始搜索最佳参数\n",
    "\n",
    "print(grid_search.best_params_)  # 输出最佳参数，在属性 .best_params_ 中\n",
    "grid_search.best_estimator_  # 最佳模型"
   ]
  },
  {
   "cell_type": "code",
   "execution_count": 8,
   "id": "91c29890",
   "metadata": {
    "ExecuteTime": {
     "end_time": "2022-01-14T03:35:07.790974Z",
     "start_time": "2022-01-14T03:35:07.776973Z"
    }
   },
   "outputs": [
    {
     "data": {
      "text/plain": [
       "Pipeline(steps=[('scaler', StandardScaler()),\n",
       "                ('svm_clf', SVC(C=3, coef0=1, degree=4, kernel='poly'))])"
      ]
     },
     "execution_count": 8,
     "metadata": {},
     "output_type": "execute_result"
    }
   ],
   "source": [
    "poly_kernel_svm_clf = Pipeline([\n",
    "    ('scaler', StandardScaler()),\n",
    "    ('svm_clf', SVC(C=3, coef0=1, degree=4, kernel='poly')),  # 核为'poly'，三阶多项式，coef0 核函数常数项\n",
    "])\n",
    "poly_kernel_svm_clf.fit(x, y)"
   ]
  },
  {
   "cell_type": "code",
   "execution_count": 9,
   "id": "15765844",
   "metadata": {
    "ExecuteTime": {
     "end_time": "2022-01-14T03:35:07.933557Z",
     "start_time": "2022-01-14T03:35:07.791930Z"
    }
   },
   "outputs": [
    {
     "data": {
      "image/png": "[encoded data removed]",
      "text/plain": [
       "<Figure size 432x288 with 1 Axes>"
      ]
     },
     "metadata": {
      "needs_background": "light"
     },
     "output_type": "display_data"
    }
   ],
   "source": [
    "plot_predictions(poly_kernel_svm_clf, [-1.5, 2.5, -1, 1.5])\n",
    "plot_dataset(x, y, [-1.5, 2.5, -1, 1.5])\n",
    "plt.show()"
   ]
  },
  {
   "cell_type": "markdown",
   "id": "fa0b840a",
   "metadata": {},
   "source": [
    "#### 过拟合情况（degree=10）"
   ]
  },
  {
   "cell_type": "code",
   "execution_count": 10,
   "id": "fd1625a9",
   "metadata": {
    "ExecuteTime": {
     "end_time": "2022-01-14T03:35:08.076212Z",
     "start_time": "2022-01-14T03:35:07.935547Z"
    }
   },
   "outputs": [
    {
     "data": {
      "image/png": "[encoded data removed]",
      "text/plain": [
       "<Figure size 432x288 with 1 Axes>"
      ]
     },
     "metadata": {
      "needs_background": "light"
     },
     "output_type": "display_data"
    }
   ],
   "source": [
    "poly_kernel_svm_clf = Pipeline([\n",
    "    ('scaler', StandardScaler()),\n",
    "    ('svm_clf', SVC(C=3, coef0=1, degree=10, kernel='poly')),  # 核为'poly'，三阶多项式，coef0 核函数常数项\n",
    "])\n",
    "poly_kernel_svm_clf.fit(x, y)\n",
    "plot_predictions(poly_kernel_svm_clf, [-1.5, 2.5, -1, 1.5])\n",
    "plot_dataset(x, y, [-1.5, 2.5, -1, 1.5])\n",
    "plt.show()"
   ]
  },
  {
   "cell_type": "markdown",
   "id": "48641ee2",
   "metadata": {},
   "source": [
    "## 相似特征"
   ]
  },
  {
   "cell_type": "markdown",
   "id": "12e68b86",
   "metadata": {},
   "source": [
    "高斯RBF\n",
    "\n",
    "$\\phi_r(x,l)=e^{(-\\gamma||x-l||^2)}$"
   ]
  },
  {
   "cell_type": "markdown",
   "id": "0b1958f4",
   "metadata": {},
   "source": [
    "## 高斯RBF内核"
   ]
  },
  {
   "cell_type": "markdown",
   "id": "95efccc4",
   "metadata": {},
   "source": [
    "实际上是类似钟形分割"
   ]
  },
  {
   "cell_type": "code",
   "execution_count": 11,
   "id": "42d4193b",
   "metadata": {
    "ExecuteTime": {
     "end_time": "2022-01-14T03:35:08.091544Z",
     "start_time": "2022-01-14T03:35:08.077169Z"
    }
   },
   "outputs": [
    {
     "data": {
      "text/plain": [
       "Pipeline(steps=[('scaler', StandardScaler()),\n",
       "                ('svmclf', SVC(C=1000, gamma=0.1))])"
      ]
     },
     "execution_count": 11,
     "metadata": {},
     "output_type": "execute_result"
    }
   ],
   "source": [
    "rbf_kernel_svm_clf = Pipeline([\n",
    "    ('scaler', StandardScaler()),\n",
    "    ('svmclf', SVC(kernel='rbf', gamma=0.1, C=1000))  # C和gamma都与拟合程度正相关，过拟合时需要降低取值\n",
    "])\n",
    "\n",
    "rbf_kernel_svm_clf.fit(x, y)"
   ]
  },
  {
   "cell_type": "code",
   "execution_count": 12,
   "id": "04f3b512",
   "metadata": {
    "ExecuteTime": {
     "end_time": "2022-01-14T03:35:08.297884Z",
     "start_time": "2022-01-14T03:35:08.093125Z"
    }
   },
   "outputs": [
    {
     "data": {
      "image/png": "[encoded data removed]",
      "text/plain": [
       "<Figure size 432x288 with 1 Axes>"
      ]
     },
     "metadata": {
      "needs_background": "light"
     },
     "output_type": "display_data"
    }
   ],
   "source": [
    "plot_predictions(rbf_kernel_svm_clf, [-1.5, 2.5, -1, 1.5])\n",
    "plot_dataset(x, y, [-1.5, 2.5, -1, 1.5])\n",
    "plt.show()"
   ]
  },
  {
   "cell_type": "markdown",
   "id": "39b1f426",
   "metadata": {},
   "source": [
    "### 选择核函数"
   ]
  },
  {
   "cell_type": "markdown",
   "id": "feff2c90",
   "metadata": {},
   "source": [
    "先尝试线性核函数（ LinearSVC比SVC(kernel='linear)快得多 ），特别是训练集很大时，如果训练集不太大，可以尝试高斯RBF内核，也可以用网格搜索尝试其他核函数。"
   ]
  },
  {
   "cell_type": "markdown",
   "id": "05662a37",
   "metadata": {},
   "source": [
    "## 计算复杂度"
   ]
  },
  {
   "cell_type": "markdown",
   "id": "5dae2c6a",
   "metadata": {},
   "source": [
    "| 类            | 时间复杂度             | 核外支持  | 需要缩放   | 核技巧  |\n",
    "| ------------- | -------------------- | -------- | -------- | ------ |\n",
    "| LinearSVC     | O(m×n)             | 否       | 是       | 否     |\n",
    "| SGDClassifier | O(m×n)             | 是       | 是       | 否     |\n",
    "| SVC           | O(m^2×n)~O(m^3×n) | 否       | 是       | 是     |"
   ]
  },
  {
   "cell_type": "markdown",
   "id": "df85aae5",
   "metadata": {},
   "source": [
    "# SVM回归（SVR）"
   ]
  },
  {
   "cell_type": "markdown",
   "id": "b40af41a",
   "metadata": {},
   "source": [
    "## LinearSVR（更快）"
   ]
  },
  {
   "cell_type": "code",
   "execution_count": 14,
   "id": "8b2b339a",
   "metadata": {
    "ExecuteTime": {
     "end_time": "2022-01-14T03:44:57.255559Z",
     "start_time": "2022-01-14T03:44:57.244575Z"
    }
   },
   "outputs": [
    {
     "data": {
      "text/plain": [
       "LinearSVR(epsilon=1.5)"
      ]
     },
     "execution_count": 14,
     "metadata": {},
     "output_type": "execute_result"
    }
   ],
   "source": [
    "from sklearn.svm import LinearSVR\n",
    "svm_reg = LinearSVR(epsilon=1.5)  # 控制支持向量间的间隔宽度\n",
    "svm_reg.fit(x, y)"
   ]
  },
  {
   "cell_type": "markdown",
   "id": "fd01ba30",
   "metadata": {},
   "source": [
    "## SVR+核技巧"
   ]
  },
  {
   "cell_type": "markdown",
   "id": "aecaa4ec",
   "metadata": {},
   "source": [
    "结果相同，速度较慢"
   ]
  },
  {
   "cell_type": "code",
   "execution_count": 15,
   "id": "36d360be",
   "metadata": {
    "ExecuteTime": {
     "end_time": "2022-01-14T03:50:05.502608Z",
     "start_time": "2022-01-14T03:50:05.484656Z"
    }
   },
   "outputs": [
    {
     "data": {
      "text/plain": [
       "SVR(C=100, degree=2, kernel='poly')"
      ]
     },
     "execution_count": 15,
     "metadata": {},
     "output_type": "execute_result"
    }
   ],
   "source": [
    "from sklearn.svm import SVR\n",
    "svm_poly_reg = SVR(kernel='poly', degree=2, C=100, epsilon=0.1)\n",
    "svm_poly_reg.fit(x, y)"
   ]
  }
 ],
 "metadata": {
  "kernelspec": {
   "display_name": "Python 3 (ipykernel)",
   "language": "python",
   "name": "python3"
  },
  "language_info": {
   "codemirror_mode": {
    "name": "ipython",
    "version": 3
   },
   "file_extension": ".py",
   "mimetype": "text/x-python",
   "name": "python",
   "nbconvert_exporter": "python",
   "pygments_lexer": "ipython3",
   "version": "3.10.12"
  },
  "toc": {
   "base_numbering": 1,
   "nav_menu": {
    "height": "322.99px",
    "width": "342.99px"
   },
   "number_sections": true,
   "sideBar": true,
   "skip_h1_title": false,
   "title_cell": "Table of Contents",
   "title_sidebar": "Contents",
   "toc_cell": false,
   "toc_position": {},
   "toc_section_display": true,
   "toc_window_display": false
  },
  "varInspector": {
   "cols": {
    "lenName": 16,
    "lenType": 16,
    "lenVar": 40
   },
   "kernels_config": {
    "python": {
     "delete_cmd_postfix": "",
     "delete_cmd_prefix": "del ",
     "library": "var_list.py",
     "varRefreshCmd": "print(var_dic_list())"
    },
    "r": {
     "delete_cmd_postfix": ") ",
     "delete_cmd_prefix": "rm(",
     "library": "var_list.r",
     "varRefreshCmd": "cat(var_dic_list()) "
    }
   },
   "position": {
    "height": "579.85px",
    "left": "1165.2px",
    "right": "20px",
    "top": "120px",
    "width": "350px"
   },
   "types_to_exclude": [
    "module",
    "function",
    "builtin_function_or_method",
    "instance",
    "_Feature"
   ],
   "window_display": false
  }
 },
 "nbformat": 4,
 "nbformat_minor": 5
}
