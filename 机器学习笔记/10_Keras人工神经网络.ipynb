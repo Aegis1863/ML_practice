{
 "cells": [
  {
   "cell_type": "code",
   "execution_count": 1,
   "id": "e05ceaa1-1ff0-42c5-90f6-cbcb94542c66",
   "metadata": {},
   "outputs": [],
   "source": [
    "import tensorflow as tf\n",
    "from tensorflow import keras"
   ]
  },
  {
   "cell_type": "code",
   "execution_count": 2,
   "id": "c58f2093-742d-4f25-b75f-adb6baa55569",
   "metadata": {
    "tags": []
   },
   "outputs": [
    {
     "data": {
      "text/plain": [
       "'2.7.0'"
      ]
     },
     "execution_count": 2,
     "metadata": {},
     "output_type": "execute_result"
    }
   ],
   "source": [
    "tf.__version__"
   ]
  },
  {
   "cell_type": "code",
   "execution_count": 134,
   "id": "8b426368-a189-4641-9243-c718c6614295",
   "metadata": {},
   "outputs": [
    {
     "data": {
      "text/plain": [
       "'2.7.0'"
      ]
     },
     "execution_count": 134,
     "metadata": {},
     "output_type": "execute_result"
    }
   ],
   "source": [
    "keras.__version__"
   ]
  },
  {
   "cell_type": "markdown",
   "id": "0b369371-07e8-46bd-8950-070fdb3136c9",
   "metadata": {},
   "source": [
    "# 准备数据"
   ]
  },
  {
   "cell_type": "code",
   "execution_count": 4,
   "id": "b769b130-55d0-4711-bcc2-499be17e4282",
   "metadata": {},
   "outputs": [],
   "source": [
    "fashion_mnist = keras.datasets.fashion_mnist\n",
    "(x_train_full, y_train_full), (x_test, y_test) = fashion_mnist.load_data()"
   ]
  },
  {
   "cell_type": "code",
   "execution_count": 5,
   "id": "dfc1ac56-5cbd-4b38-a656-fab83010aa7a",
   "metadata": {},
   "outputs": [
    {
     "data": {
      "text/plain": [
       "(60000, 28, 28)"
      ]
     },
     "execution_count": 5,
     "metadata": {},
     "output_type": "execute_result"
    }
   ],
   "source": [
    "x_train_full.shape"
   ]
  },
  {
   "cell_type": "code",
   "execution_count": 6,
   "id": "1f017496-accd-40d9-8919-89a5c252419c",
   "metadata": {},
   "outputs": [
    {
     "data": {
      "text/plain": [
       "dtype('uint8')"
      ]
     },
     "execution_count": 6,
     "metadata": {},
     "output_type": "execute_result"
    }
   ],
   "source": [
    "x_train_full.dtype"
   ]
  },
  {
   "cell_type": "markdown",
   "id": "ba667c3f-546d-4d95-bea9-7ab7e6230dd7",
   "metadata": {},
   "source": [
    "## 划分验证集并缩放"
   ]
  },
  {
   "cell_type": "code",
   "execution_count": 7,
   "id": "12e67787-8980-4d05-9f07-044d4fa853bb",
   "metadata": {
    "tags": []
   },
   "outputs": [],
   "source": [
    "x_valid, x_train = x_train_full[:5000] / 255, x_train_full[5000:] / 255\n",
    "y_valid, y_train = y_train_full[:5000], y_train_full[5000:]\n",
    "x_test = x_test / 255"
   ]
  },
  {
   "cell_type": "code",
   "execution_count": 8,
   "id": "35495da5-a8c1-4590-8eb7-00532ab7c71c",
   "metadata": {
    "tags": []
   },
   "outputs": [],
   "source": [
    "class_names = ['T-shirt/top', 'Trouser', 'Pullover', 'Dress', 'Coat', 'Sandal', 'Shirt', 'Snearker', 'Bag', 'Ankle boot']"
   ]
  },
  {
   "cell_type": "code",
   "execution_count": 9,
   "id": "87cffc90-9e3d-4dd4-9407-069c06139703",
   "metadata": {},
   "outputs": [
    {
     "data": {
      "text/plain": [
       "'Coat'"
      ]
     },
     "execution_count": 9,
     "metadata": {},
     "output_type": "execute_result"
    }
   ],
   "source": [
    "class_names[y_train[0]]"
   ]
  },
  {
   "cell_type": "markdown",
   "id": "b5b1272b-a58c-468e-8ee8-07d5c7ffc73d",
   "metadata": {
    "tags": []
   },
   "source": [
    "# 顺序API构建图像分类器"
   ]
  },
  {
   "cell_type": "markdown",
   "id": "edf0af99-5a85-456a-a8e1-b09c29f86ba4",
   "metadata": {
    "tags": []
   },
   "source": [
    "## 基本结构"
   ]
  },
  {
   "cell_type": "code",
   "execution_count": 135,
   "id": "53b0c064-b76b-45f9-9ed0-61ce753ff282",
   "metadata": {},
   "outputs": [],
   "source": [
    "model = keras.models.Sequential([\n",
    "    keras.layers.Flatten(input_shape=[28, 28]),  # 将输入图像转化为一维数组，如果是回归任务则不需要\n",
    "    keras.layers.Dense(300, activation='relu'),\n",
    "    keras.layers.Dense(100, activation='relu'),\n",
    "    keras.layers.Dense(10, activation='softmax')  # 输出层为10个神经元，代表10个类别，分类器输出层有激活函数，回归任务没有\n",
    "])"
   ]
  },
  {
   "cell_type": "code",
   "execution_count": 136,
   "id": "dc787e6e-282a-4673-bbd5-b5204ce78fa0",
   "metadata": {},
   "outputs": [
    {
     "name": "stdout",
     "output_type": "stream",
     "text": [
      "Model: \"sequential_3\"\n",
      "_________________________________________________________________\n",
      " Layer (type)                Output Shape              Param #   \n",
      "=================================================================\n",
      " flatten (Flatten)           (None, 784)               0         \n",
      "                                                                 \n",
      " dense_4 (Dense)             (None, 300)               235500    \n",
      "                                                                 \n",
      " dense_5 (Dense)             (None, 100)               30100     \n",
      "                                                                 \n",
      " dense_6 (Dense)             (None, 10)                1010      \n",
      "                                                                 \n",
      "=================================================================\n",
      "Total params: 266,610\n",
      "Trainable params: 266,610\n",
      "Non-trainable params: 0\n",
      "_________________________________________________________________\n"
     ]
    }
   ],
   "source": [
    "model.summary()"
   ]
  },
  {
   "cell_type": "code",
   "execution_count": 137,
   "id": "950c30ea-c7e9-4837-818b-e5e27a9611c0",
   "metadata": {},
   "outputs": [
    {
     "data": {
      "text/plain": [
       "[<keras.layers.core.flatten.Flatten at 0x2b684565190>,\n",
       " <keras.layers.core.dense.Dense at 0x2b684565790>,\n",
       " <keras.layers.core.dense.Dense at 0x2b684565be0>,\n",
       " <keras.layers.core.dense.Dense at 0x2b69c7a4a60>]"
      ]
     },
     "execution_count": 137,
     "metadata": {},
     "output_type": "execute_result"
    }
   ],
   "source": [
    "model.layers  # 层列表"
   ]
  },
  {
   "cell_type": "code",
   "execution_count": 13,
   "id": "8c8ba2a3-3d21-495a-ad7d-28c9cf0689d8",
   "metadata": {},
   "outputs": [],
   "source": [
    "hidden1 = model.layers[1]"
   ]
  },
  {
   "cell_type": "code",
   "execution_count": 14,
   "id": "613f9350-8bce-4e02-b2b6-133649e2f327",
   "metadata": {},
   "outputs": [
    {
     "data": {
      "text/plain": [
       "<keras.layers.core.dense.Dense at 0x2b6f6ff6df0>"
      ]
     },
     "execution_count": 14,
     "metadata": {},
     "output_type": "execute_result"
    }
   ],
   "source": [
    "hidden1"
   ]
  },
  {
   "cell_type": "code",
   "execution_count": 15,
   "id": "37a39794-66b1-4534-9e3d-7eb76825b05a",
   "metadata": {},
   "outputs": [
    {
     "data": {
      "text/plain": [
       "'dense'"
      ]
     },
     "execution_count": 15,
     "metadata": {},
     "output_type": "execute_result"
    }
   ],
   "source": [
    "hidden1.name"
   ]
  },
  {
   "cell_type": "code",
   "execution_count": 16,
   "id": "a18025f6-8576-4215-a289-5a906023bac2",
   "metadata": {},
   "outputs": [
    {
     "data": {
      "text/plain": [
       "<keras.layers.core.dense.Dense at 0x2b6f6ff6df0>"
      ]
     },
     "execution_count": 16,
     "metadata": {},
     "output_type": "execute_result"
    }
   ],
   "source": [
    "model.get_layer('dense')  # 按名称获取层"
   ]
  },
  {
   "cell_type": "code",
   "execution_count": 17,
   "id": "cbdca0e1-c3e0-4468-a6e0-71c780d00887",
   "metadata": {},
   "outputs": [],
   "source": [
    "weights, biases = hidden1.get_weights()  # 获取权重参数和偏置项参数"
   ]
  },
  {
   "cell_type": "code",
   "execution_count": 18,
   "id": "cdc8e958-5ae2-4a2d-b539-cdeb30ec282b",
   "metadata": {},
   "outputs": [
    {
     "data": {
      "text/plain": [
       "array([[-0.00968239,  0.03461326,  0.05846111, ..., -0.03392325,\n",
       "        -0.00664008, -0.01606906],\n",
       "       [-0.003957  ,  0.01952675, -0.04055088, ..., -0.04858923,\n",
       "         0.01837832, -0.02100547],\n",
       "       [-0.0414397 ,  0.03258554,  0.02129711, ..., -0.07195474,\n",
       "        -0.02195781,  0.03715862],\n",
       "       ...,\n",
       "       [-0.0004601 , -0.06397507,  0.0267387 , ...,  0.0555315 ,\n",
       "         0.02843712,  0.01336448],\n",
       "       [ 0.03069062,  0.05461755,  0.03150493, ..., -0.02510052,\n",
       "        -0.06976874,  0.00923341],\n",
       "       [ 0.02781585, -0.00072756, -0.0319463 , ..., -0.0254439 ,\n",
       "         0.0628563 ,  0.06016944]], dtype=float32)"
      ]
     },
     "execution_count": 18,
     "metadata": {},
     "output_type": "execute_result"
    }
   ],
   "source": [
    "weights"
   ]
  },
  {
   "cell_type": "code",
   "execution_count": 19,
   "id": "2bd652aa-9ec5-4a69-9ecf-576568f09c5b",
   "metadata": {},
   "outputs": [
    {
     "data": {
      "text/plain": [
       "(784, 300)"
      ]
     },
     "execution_count": 19,
     "metadata": {},
     "output_type": "execute_result"
    }
   ],
   "source": [
    "weights.shape"
   ]
  },
  {
   "cell_type": "code",
   "execution_count": 20,
   "id": "71bef3f0-96e4-4ddb-9730-69413d1f86c9",
   "metadata": {},
   "outputs": [
    {
     "data": {
      "text/plain": [
       "array([0., 0., 0., 0., 0., 0., 0., 0., 0., 0., 0., 0., 0., 0., 0., 0., 0.,\n",
       "       0., 0., 0.], dtype=float32)"
      ]
     },
     "execution_count": 20,
     "metadata": {},
     "output_type": "execute_result"
    }
   ],
   "source": [
    "biases[:20]"
   ]
  },
  {
   "cell_type": "code",
   "execution_count": 21,
   "id": "51560eb9-e140-4619-902c-1b2a0970bc27",
   "metadata": {},
   "outputs": [
    {
     "data": {
      "text/plain": [
       "(300,)"
      ]
     },
     "execution_count": 21,
     "metadata": {},
     "output_type": "execute_result"
    }
   ],
   "source": [
    "biases.shape"
   ]
  },
  {
   "cell_type": "markdown",
   "id": "e91ad4e7-6de3-4d76-9ec0-473546334fb0",
   "metadata": {},
   "source": [
    "## 指定损失函数和优化器等"
   ]
  },
  {
   "cell_type": "code",
   "execution_count": 22,
   "id": "926c0082-dc11-4ca1-9eac-b3baa5eaad83",
   "metadata": {},
   "outputs": [],
   "source": [
    "model.compile(loss='sparse_categorical_crossentropy',  # 也可以写 loss = keras.losses.sparse_categorical_crossentropy\n",
    "             optimizer='sgd',  # optimizer = keras.optimizer.SGD(lr=0.01)  可以指定学习率\n",
    "             metrics=['accuracy'])  # metrics = keras.metrics.sparse_categorical_accuracy, 在分类器训练评估中测量'accuracy'很有用"
   ]
  },
  {
   "cell_type": "markdown",
   "id": "c3594cbb-5786-43d4-9b5b-84b539231caa",
   "metadata": {},
   "source": [
    "```\n",
    "model.compile(loss=keras.losses.sparse_categorical_crossentropy,\n",
    "              optimizer=keras.optimizers.SGD(),\n",
    "              metrics=[keras.metrics.sparse_categorical_accuracy])\n",
    "```"
   ]
  },
  {
   "cell_type": "markdown",
   "id": "a947177f-4a83-4a34-b6e8-20a87a242290",
   "metadata": {},
   "source": [
    "## 训练和评估"
   ]
  },
  {
   "cell_type": "code",
   "execution_count": 23,
   "id": "36f64f9b-2ea4-44a4-828b-1dbfce29b4a1",
   "metadata": {
    "collapsed": true,
    "jupyter": {
     "outputs_hidden": true
    },
    "tags": []
   },
   "outputs": [
    {
     "name": "stdout",
     "output_type": "stream",
     "text": [
      "Epoch 1/30\n",
      "1719/1719 [==============================] - 4s 1ms/step - loss: 0.7200 - accuracy: 0.7609 - val_loss: 0.5278 - val_accuracy: 0.8172\n",
      "Epoch 2/30\n",
      "1719/1719 [==============================] - 2s 1ms/step - loss: 0.4891 - accuracy: 0.8307 - val_loss: 0.4442 - val_accuracy: 0.8534\n",
      "Epoch 3/30\n",
      "1719/1719 [==============================] - 2s 1ms/step - loss: 0.4433 - accuracy: 0.8452 - val_loss: 0.4178 - val_accuracy: 0.8556\n",
      "Epoch 4/30\n",
      "1719/1719 [==============================] - 2s 1ms/step - loss: 0.4160 - accuracy: 0.8546 - val_loss: 0.4003 - val_accuracy: 0.8620\n",
      "Epoch 5/30\n",
      "1719/1719 [==============================] - 2s 1ms/step - loss: 0.3956 - accuracy: 0.8609 - val_loss: 0.3793 - val_accuracy: 0.8684\n",
      "Epoch 6/30\n",
      "1719/1719 [==============================] - 2s 1ms/step - loss: 0.3789 - accuracy: 0.8654 - val_loss: 0.3852 - val_accuracy: 0.8630\n",
      "Epoch 7/30\n",
      "1719/1719 [==============================] - 2s 1ms/step - loss: 0.3657 - accuracy: 0.8708 - val_loss: 0.4080 - val_accuracy: 0.8554\n",
      "Epoch 8/30\n",
      "1719/1719 [==============================] - 2s 1ms/step - loss: 0.3554 - accuracy: 0.8739 - val_loss: 0.3681 - val_accuracy: 0.8710\n",
      "Epoch 9/30\n",
      "1719/1719 [==============================] - 2s 1ms/step - loss: 0.3433 - accuracy: 0.8797 - val_loss: 0.3678 - val_accuracy: 0.8674\n",
      "Epoch 10/30\n",
      "1719/1719 [==============================] - 2s 1ms/step - loss: 0.3346 - accuracy: 0.8804 - val_loss: 0.3411 - val_accuracy: 0.8756\n",
      "Epoch 11/30\n",
      "1719/1719 [==============================] - 2s 1ms/step - loss: 0.3263 - accuracy: 0.8847 - val_loss: 0.3404 - val_accuracy: 0.8798\n",
      "Epoch 12/30\n",
      "1719/1719 [==============================] - 2s 1ms/step - loss: 0.3176 - accuracy: 0.8870 - val_loss: 0.3478 - val_accuracy: 0.8776\n",
      "Epoch 13/30\n",
      "1719/1719 [==============================] - 2s 1ms/step - loss: 0.3104 - accuracy: 0.8885 - val_loss: 0.3252 - val_accuracy: 0.8832\n",
      "Epoch 14/30\n",
      "1719/1719 [==============================] - 2s 1ms/step - loss: 0.3032 - accuracy: 0.8907 - val_loss: 0.3287 - val_accuracy: 0.8824\n",
      "Epoch 15/30\n",
      "1719/1719 [==============================] - 2s 1ms/step - loss: 0.2965 - accuracy: 0.8919 - val_loss: 0.3177 - val_accuracy: 0.8840\n",
      "Epoch 16/30\n",
      "1719/1719 [==============================] - 2s 1ms/step - loss: 0.2911 - accuracy: 0.8955 - val_loss: 0.3439 - val_accuracy: 0.8822\n",
      "Epoch 17/30\n",
      "1719/1719 [==============================] - 2s 1ms/step - loss: 0.2843 - accuracy: 0.8978 - val_loss: 0.3301 - val_accuracy: 0.8814\n",
      "Epoch 18/30\n",
      "1719/1719 [==============================] - 2s 1ms/step - loss: 0.2792 - accuracy: 0.8983 - val_loss: 0.3392 - val_accuracy: 0.8774\n",
      "Epoch 19/30\n",
      "1719/1719 [==============================] - 2s 1ms/step - loss: 0.2736 - accuracy: 0.9017 - val_loss: 0.3059 - val_accuracy: 0.8924\n",
      "Epoch 20/30\n",
      "1719/1719 [==============================] - 2s 1ms/step - loss: 0.2687 - accuracy: 0.9034 - val_loss: 0.3232 - val_accuracy: 0.8846\n",
      "Epoch 21/30\n",
      "1719/1719 [==============================] - 2s 1ms/step - loss: 0.2636 - accuracy: 0.9051 - val_loss: 0.3136 - val_accuracy: 0.8850\n",
      "Epoch 22/30\n",
      "1719/1719 [==============================] - 3s 2ms/step - loss: 0.2597 - accuracy: 0.9073 - val_loss: 0.2987 - val_accuracy: 0.8908\n",
      "Epoch 23/30\n",
      "1719/1719 [==============================] - 2s 1ms/step - loss: 0.2559 - accuracy: 0.9082 - val_loss: 0.2990 - val_accuracy: 0.8904\n",
      "Epoch 24/30\n",
      "1719/1719 [==============================] - 2s 1ms/step - loss: 0.2511 - accuracy: 0.9097 - val_loss: 0.2974 - val_accuracy: 0.8932\n",
      "Epoch 25/30\n",
      "1719/1719 [==============================] - 2s 1ms/step - loss: 0.2463 - accuracy: 0.9115 - val_loss: 0.3079 - val_accuracy: 0.8896\n",
      "Epoch 26/30\n",
      "1719/1719 [==============================] - 3s 1ms/step - loss: 0.2423 - accuracy: 0.9135 - val_loss: 0.2965 - val_accuracy: 0.8924\n",
      "Epoch 27/30\n",
      "1719/1719 [==============================] - 2s 1ms/step - loss: 0.2393 - accuracy: 0.9137 - val_loss: 0.2956 - val_accuracy: 0.8914\n",
      "Epoch 28/30\n",
      "1719/1719 [==============================] - 2s 1ms/step - loss: 0.2340 - accuracy: 0.9167 - val_loss: 0.2917 - val_accuracy: 0.8916\n",
      "Epoch 29/30\n",
      "1719/1719 [==============================] - 2s 1ms/step - loss: 0.2309 - accuracy: 0.9173 - val_loss: 0.3025 - val_accuracy: 0.8930\n",
      "Epoch 30/30\n",
      "1719/1719 [==============================] - 2s 1ms/step - loss: 0.2278 - accuracy: 0.9187 - val_loss: 0.2949 - val_accuracy: 0.8898\n"
     ]
    }
   ],
   "source": [
    "history = model.fit(x_train, y_train, epochs=30, validation_data=(x_valid, y_valid)) \n",
    "# validation_data 用于指定验证集，改用validation_split = 0.1 可以指定验证集比例"
   ]
  },
  {
   "cell_type": "code",
   "execution_count": 24,
   "id": "9e20b539-f066-45ca-9dad-f311103dcd2f",
   "metadata": {},
   "outputs": [
    {
     "data": {
      "image/png": "[encoded data removed]",
      "text/plain": [
       "<Figure size 576x360 with 1 Axes>"
      ]
     },
     "metadata": {
      "needs_background": "light"
     },
     "output_type": "display_data"
    }
   ],
   "source": [
    "import pandas as pd\n",
    "import matplotlib.pyplot as plt\n",
    "\n",
    "pd.DataFrame(history.history).plot(figsize=(8, 5))\n",
    "plt.gca().set_ylim(0, 1)\n",
    "plt.gca().set_xlim(0, 29)\n",
    "plt.grid()\n",
    "plt.show()"
   ]
  },
  {
   "cell_type": "markdown",
   "id": "77d056d2-1ac2-4dad-aaff-6a6c4a92b1db",
   "metadata": {},
   "source": [
    "验证误差（绿色）是在每个轮次结束时计算的，训练误差（蓝色）是使用每个轮次的运行平均值计算的，因此训练曲线（蓝色）应该向左移动半个轮次，这样损失曲线几乎重合\n",
    "\n",
    "训练集的性能最终会超过验证性能，验证损失仍然在下降，可以调用fit()继续训练\n",
    "\n",
    "调整超参数，可以调整学习率、优化器、层数、每层神经元数以及激活函数类型、批处理大小（`fit()`中的`batch_size`参数，默认32）"
   ]
  },
  {
   "cell_type": "code",
   "execution_count": 25,
   "id": "8b41af3f-14f2-49ec-bd54-4571044b340d",
   "metadata": {},
   "outputs": [
    {
     "name": "stdout",
     "output_type": "stream",
     "text": [
      "313/313 [==============================] - 0s 812us/step - loss: 0.3324 - accuracy: 0.8816\n"
     ]
    },
    {
     "data": {
      "text/plain": [
       "[0.33239510655403137, 0.881600022315979]"
      ]
     },
     "execution_count": 25,
     "metadata": {},
     "output_type": "execute_result"
    }
   ],
   "source": [
    "model.evaluate(x_test, y_test)  # 还有batch_size，sample_weight等参数"
   ]
  },
  {
   "cell_type": "code",
   "execution_count": 26,
   "id": "64e3a6c8-c743-4267-9d6b-75d769e1de21",
   "metadata": {},
   "outputs": [
    {
     "data": {
      "text/plain": [
       "array([[0.   , 0.   , 0.   , 0.   , 0.   , 0.003, 0.   , 0.013, 0.   ,\n",
       "        0.984],\n",
       "       [0.   , 0.   , 0.999, 0.   , 0.001, 0.   , 0.   , 0.   , 0.   ,\n",
       "        0.   ],\n",
       "       [0.   , 1.   , 0.   , 0.   , 0.   , 0.   , 0.   , 0.   , 0.   ,\n",
       "        0.   ]], dtype=float32)"
      ]
     },
     "execution_count": 26,
     "metadata": {},
     "output_type": "execute_result"
    }
   ],
   "source": [
    "x_new = x_test[:3]\n",
    "y_proba = model.predict(x_new)\n",
    "y_proba.round(3)  # predict() 输出概率"
   ]
  },
  {
   "cell_type": "code",
   "execution_count": 27,
   "id": "6c9c3005-135e-4e96-92ad-cbf8a5aca844",
   "metadata": {},
   "outputs": [
    {
     "data": {
      "text/plain": [
       "array([9, 2, 1], dtype=int64)"
      ]
     },
     "execution_count": 27,
     "metadata": {},
     "output_type": "execute_result"
    }
   ],
   "source": [
    "import numpy as np\n",
    "y_pred = np.argmax(model.predict(x_new), axis=-1)  # 现在只能用np.argmax()方法\n",
    "y_pred"
   ]
  },
  {
   "cell_type": "code",
   "execution_count": 28,
   "id": "3af58f5d-d308-406c-b26b-d36303566d83",
   "metadata": {},
   "outputs": [
    {
     "data": {
      "text/plain": [
       "array(['Ankle boot', 'Pullover', 'Trouser'], dtype='<U11')"
      ]
     },
     "execution_count": 28,
     "metadata": {},
     "output_type": "execute_result"
    }
   ],
   "source": [
    "np.array(class_names)[y_pred]  # 对照名称输出"
   ]
  },
  {
   "cell_type": "code",
   "execution_count": 29,
   "id": "00f263b3-a9a0-4c1b-8453-56eb932b9471",
   "metadata": {},
   "outputs": [
    {
     "data": {
      "text/plain": [
       "array([9, 2, 1], dtype=uint8)"
      ]
     },
     "execution_count": 29,
     "metadata": {},
     "output_type": "execute_result"
    }
   ],
   "source": [
    "y_new = y_test[:3]\n",
    "y_new  # 检查真实标签，可以发现归类正确"
   ]
  },
  {
   "cell_type": "markdown",
   "id": "b73c016d-d0fe-4136-aeec-d2da6e7a906e",
   "metadata": {},
   "source": [
    "# 顺序API构建回归MLP"
   ]
  },
  {
   "cell_type": "code",
   "execution_count": 30,
   "id": "cb861cf0-52ea-4625-86da-77c5468162d9",
   "metadata": {},
   "outputs": [],
   "source": [
    "from sklearn.datasets import fetch_california_housing\n",
    "from sklearn.model_selection import train_test_split\n",
    "from sklearn.preprocessing import StandardScaler"
   ]
  },
  {
   "cell_type": "code",
   "execution_count": 31,
   "id": "c1a8719e-f608-4b0b-a772-ac8a0b085cb8",
   "metadata": {},
   "outputs": [],
   "source": [
    "housing = fetch_california_housing()\n",
    "x_train_full, x_test, y_train_full, y_test = train_test_split(housing.data, housing.target)\n",
    "x_train, x_valid, y_train, y_valid = train_test_split(x_train_full, y_train_full)"
   ]
  },
  {
   "cell_type": "code",
   "execution_count": 32,
   "id": "0e2b4e5a-2db9-4969-90ca-183ceed48976",
   "metadata": {},
   "outputs": [],
   "source": [
    "scaler = StandardScaler()\n",
    "x_train = scaler.fit_transform(x_train)\n",
    "x_valid = scaler.transform(x_valid)\n",
    "x_test = scaler.transform(x_test)"
   ]
  },
  {
   "cell_type": "code",
   "execution_count": 33,
   "id": "33988f96-6b2d-4220-8e7a-3fa77ede0a12",
   "metadata": {},
   "outputs": [
    {
     "data": {
      "text/plain": [
       "(11610, 8)"
      ]
     },
     "execution_count": 33,
     "metadata": {},
     "output_type": "execute_result"
    }
   ],
   "source": [
    "x_train.shape"
   ]
  },
  {
   "cell_type": "code",
   "execution_count": 34,
   "id": "fe90c0a2-8197-4e8c-8188-c08ac6eff0a1",
   "metadata": {},
   "outputs": [
    {
     "data": {
      "text/plain": [
       "(8,)"
      ]
     },
     "execution_count": 34,
     "metadata": {},
     "output_type": "execute_result"
    }
   ],
   "source": [
    "x_train.shape[1:]"
   ]
  },
  {
   "cell_type": "code",
   "execution_count": 35,
   "id": "74e6f737-f821-4eea-a54f-b01760faa8d5",
   "metadata": {
    "collapsed": true,
    "jupyter": {
     "outputs_hidden": true
    },
    "tags": []
   },
   "outputs": [
    {
     "data": {
      "text/plain": [
       "array([[-0.07674998, -1.62899571, -0.15932493, ..., -0.0574223 ,\n",
       "         1.39544332, -0.96816812],\n",
       "       [ 2.17135801,  0.67494355,  0.22767014, ..., -0.0560652 ,\n",
       "         1.06409971, -1.48177252],\n",
       "       [-1.42027667,  0.67494355, -0.52585811, ...,  0.00942699,\n",
       "        -0.70462179,  1.12115466],\n",
       "       ...,\n",
       "       [-0.81187034,  0.0393741 , -0.09373249, ..., -0.02891188,\n",
       "         1.74078736, -1.06291068],\n",
       "       [ 0.49433178,  1.31051301, -0.03514451, ..., -0.04823425,\n",
       "         0.98943073, -1.46182672],\n",
       "       [ 0.87552675,  0.11882028,  0.12712801, ..., -0.01552752,\n",
       "        -1.30197364,  1.18099206]])"
      ]
     },
     "execution_count": 35,
     "metadata": {},
     "output_type": "execute_result"
    }
   ],
   "source": [
    "x_test"
   ]
  },
  {
   "cell_type": "code",
   "execution_count": 36,
   "id": "41c4ab62-e9eb-4dfd-8d06-45a40b670d92",
   "metadata": {
    "collapsed": true,
    "jupyter": {
     "outputs_hidden": true
    },
    "tags": []
   },
   "outputs": [
    {
     "name": "stdout",
     "output_type": "stream",
     "text": [
      "Epoch 1/20\n",
      "363/363 [==============================] - 1s 887us/step - loss: 0.7865 - val_loss: 0.6178\n",
      "Epoch 2/20\n",
      "363/363 [==============================] - 0s 681us/step - loss: 2.7287 - val_loss: 0.4909\n",
      "Epoch 3/20\n",
      "363/363 [==============================] - 0s 703us/step - loss: 0.5189 - val_loss: 0.4431\n",
      "Epoch 4/20\n",
      "363/363 [==============================] - 0s 678us/step - loss: 0.4561 - val_loss: 0.4184\n",
      "Epoch 5/20\n",
      "363/363 [==============================] - 0s 694us/step - loss: 0.4358 - val_loss: 0.4667\n",
      "Epoch 6/20\n",
      "363/363 [==============================] - 0s 728us/step - loss: 0.5962 - val_loss: 0.4097\n",
      "Epoch 7/20\n",
      "363/363 [==============================] - 0s 694us/step - loss: 0.4456 - val_loss: 0.4187\n",
      "Epoch 8/20\n",
      "363/363 [==============================] - 0s 689us/step - loss: 0.4293 - val_loss: 0.4029\n",
      "Epoch 9/20\n",
      "363/363 [==============================] - 0s 680us/step - loss: 0.4129 - val_loss: 0.3920\n",
      "Epoch 10/20\n",
      "363/363 [==============================] - 0s 675us/step - loss: 0.4101 - val_loss: 0.3932\n",
      "Epoch 11/20\n",
      "363/363 [==============================] - 0s 683us/step - loss: 0.4283 - val_loss: 0.3851\n",
      "Epoch 12/20\n",
      "363/363 [==============================] - 0s 736us/step - loss: 0.3982 - val_loss: 0.3799\n",
      "Epoch 13/20\n",
      "363/363 [==============================] - 0s 708us/step - loss: 0.4092 - val_loss: 0.3896\n",
      "Epoch 14/20\n",
      "363/363 [==============================] - 0s 697us/step - loss: 0.3938 - val_loss: 0.3799\n",
      "Epoch 15/20\n",
      "363/363 [==============================] - 0s 675us/step - loss: 0.3892 - val_loss: 0.3734\n",
      "Epoch 16/20\n",
      "363/363 [==============================] - 0s 689us/step - loss: 0.3895 - val_loss: 0.3712\n",
      "Epoch 17/20\n",
      "363/363 [==============================] - 0s 675us/step - loss: 0.3853 - val_loss: 0.3681\n",
      "Epoch 18/20\n",
      "363/363 [==============================] - 0s 697us/step - loss: 0.3915 - val_loss: 0.3673\n",
      "Epoch 19/20\n",
      "363/363 [==============================] - 0s 752us/step - loss: 0.3823 - val_loss: 0.3617\n",
      "Epoch 20/20\n",
      "363/363 [==============================] - 0s 716us/step - loss: 0.3811 - val_loss: 0.3584\n",
      "162/162 [==============================] - 0s 490us/step - loss: 0.3613\n"
     ]
    }
   ],
   "source": [
    "model = keras.models.Sequential([\n",
    "    keras.layers.Dense(30, activation='relu', input_shape=x_train.shape[1:]),  # 输入层8个神经元（特征）\n",
    "    keras.layers.Dense(1),  # 输出层1个神经元（返回一个值）\n",
    "])\n",
    "model.compile(loss='mean_squared_error', optimizer='sgd')\n",
    "history = model.fit(x_train, y_train, epochs=20, \n",
    "                    validation_data=(x_valid, y_valid))\n",
    "\n",
    "mse_test = model.evaluate(x_test, y_test)\n",
    "x_new = x_test[:3]\n",
    "y_pred = model.predict(x_new)"
   ]
  },
  {
   "cell_type": "code",
   "execution_count": 37,
   "id": "920ca9dd-e364-4693-8421-20d353191827",
   "metadata": {
    "tags": []
   },
   "outputs": [
    {
     "name": "stdout",
     "output_type": "stream",
     "text": [
      "Model: \"sequential_1\"\n",
      "_________________________________________________________________\n",
      " Layer (type)                Output Shape              Param #   \n",
      "=================================================================\n",
      " dense_3 (Dense)             (None, 30)                270       \n",
      "                                                                 \n",
      " dense_4 (Dense)             (None, 1)                 31        \n",
      "                                                                 \n",
      "=================================================================\n",
      "Total params: 301\n",
      "Trainable params: 301\n",
      "Non-trainable params: 0\n",
      "_________________________________________________________________\n"
     ]
    }
   ],
   "source": [
    "model.summary()"
   ]
  },
  {
   "cell_type": "code",
   "execution_count": 38,
   "id": "5d2f2778-f5a1-455f-b700-406f64dfa4b9",
   "metadata": {},
   "outputs": [
    {
     "data": {
      "text/html": [
       "<div>\n",
       "<style scoped>\n",
       "    .dataframe tbody tr th:only-of-type {\n",
       "        vertical-align: middle;\n",
       "    }\n",
       "\n",
       "    .dataframe tbody tr th {\n",
       "        vertical-align: top;\n",
       "    }\n",
       "\n",
       "    .dataframe thead th {\n",
       "        text-align: right;\n",
       "    }\n",
       "</style>\n",
       "<table border=\"1\" class=\"dataframe\">\n",
       "  <thead>\n",
       "    <tr style=\"text-align: right;\">\n",
       "      <th></th>\n",
       "      <th>loss</th>\n",
       "      <th>val_loss</th>\n",
       "    </tr>\n",
       "  </thead>\n",
       "  <tbody>\n",
       "    <tr>\n",
       "      <th>0</th>\n",
       "      <td>0.786461</td>\n",
       "      <td>0.617785</td>\n",
       "    </tr>\n",
       "    <tr>\n",
       "      <th>1</th>\n",
       "      <td>2.728662</td>\n",
       "      <td>0.490946</td>\n",
       "    </tr>\n",
       "    <tr>\n",
       "      <th>2</th>\n",
       "      <td>0.518901</td>\n",
       "      <td>0.443066</td>\n",
       "    </tr>\n",
       "    <tr>\n",
       "      <th>3</th>\n",
       "      <td>0.456138</td>\n",
       "      <td>0.418413</td>\n",
       "    </tr>\n",
       "    <tr>\n",
       "      <th>4</th>\n",
       "      <td>0.435787</td>\n",
       "      <td>0.466656</td>\n",
       "    </tr>\n",
       "  </tbody>\n",
       "</table>\n",
       "</div>"
      ],
      "text/plain": [
       "       loss  val_loss\n",
       "0  0.786461  0.617785\n",
       "1  2.728662  0.490946\n",
       "2  0.518901  0.443066\n",
       "3  0.456138  0.418413\n",
       "4  0.435787  0.466656"
      ]
     },
     "execution_count": 38,
     "metadata": {},
     "output_type": "execute_result"
    }
   ],
   "source": [
    "pd.DataFrame(history.history).head()"
   ]
  },
  {
   "cell_type": "code",
   "execution_count": 39,
   "id": "9d3c91ae-c1ad-40d5-81dd-87daf5a43f06",
   "metadata": {},
   "outputs": [
    {
     "data": {
      "image/png": "[encoded data removed]",
      "text/plain": [
       "<Figure size 432x288 with 1 Axes>"
      ]
     },
     "metadata": {
      "needs_background": "light"
     },
     "output_type": "display_data"
    }
   ],
   "source": [
    "pd.DataFrame(history.history).plot()\n",
    "plt.grid(True)\n",
    "plt.gca().set_ylim(0, 1)\n",
    "plt.show()"
   ]
  },
  {
   "cell_type": "markdown",
   "id": "a7e8cf19-18cc-49a1-a34e-3f8f8ee03d22",
   "metadata": {},
   "source": [
    "# 使用函数式API（宽深）"
   ]
  },
  {
   "cell_type": "markdown",
   "id": "31380b71-7381-4523-8d37-226b577e850a",
   "metadata": {},
   "source": [
    "非顺序神经网络的一个示例——宽深神经网络，这种架构既可以实现常规深度学习，也可以通过短路径执行简单规则（可以提供手动设计的特征工程）\n",
    "\n",
    "宽路径指跨越隐藏层的较短路径，深路径指包含多个隐藏层的较长路径"
   ]
  },
  {
   "attachments": {
    "ddf137c1-008e-421b-a0b4-a1b7cbe9a803.png": {
     "image/png": "[encoded data removed]"
    }
   },
   "cell_type": "markdown",
   "id": "43c827be-7ed1-4462-aa00-145bf5aac8c3",
   "metadata": {},
   "source": [
    "![image.png](attachment:ddf137c1-008e-421b-a0b4-a1b7cbe9a803.png)"
   ]
  },
  {
   "cell_type": "code",
   "execution_count": 40,
   "id": "73ccdbd4-1f4d-4567-863c-728f2e9be41a",
   "metadata": {},
   "outputs": [],
   "source": [
    "input_ = keras.layers.Input(shape=x_train.shape[1:])\n",
    "hidden1 = keras.layers.Dense(30, activation='relu')(input_)  # 类似调用函数，将输入层作文参数传入该层\n",
    "hidden2 = keras.layers.Dense(30, activation='relu')(hidden1)\n",
    "concat = keras.layers.Concatenate()([input_, hidden2])  # 连接输入层和第二隐藏层\n",
    "output = keras.layers.Dense(1)(concat)\n",
    "\n",
    "model = keras.Model(inputs=[input_], outputs=[output])"
   ]
  },
  {
   "cell_type": "code",
   "execution_count": 41,
   "id": "4cfb9277-7f38-42bd-a686-9f96a2b3ec04",
   "metadata": {},
   "outputs": [
    {
     "name": "stdout",
     "output_type": "stream",
     "text": [
      "Model: \"model\"\n",
      "__________________________________________________________________________________________________\n",
      " Layer (type)                   Output Shape         Param #     Connected to                     \n",
      "==================================================================================================\n",
      " input_1 (InputLayer)           [(None, 8)]          0           []                               \n",
      "                                                                                                  \n",
      " dense_5 (Dense)                (None, 30)           270         ['input_1[0][0]']                \n",
      "                                                                                                  \n",
      " dense_6 (Dense)                (None, 30)           930         ['dense_5[0][0]']                \n",
      "                                                                                                  \n",
      " concatenate (Concatenate)      (None, 38)           0           ['input_1[0][0]',                \n",
      "                                                                  'dense_6[0][0]']                \n",
      "                                                                                                  \n",
      " dense_7 (Dense)                (None, 1)            39          ['concatenate[0][0]']            \n",
      "                                                                                                  \n",
      "==================================================================================================\n",
      "Total params: 1,239\n",
      "Trainable params: 1,239\n",
      "Non-trainable params: 0\n",
      "__________________________________________________________________________________________________\n"
     ]
    }
   ],
   "source": [
    "model.summary()"
   ]
  },
  {
   "cell_type": "code",
   "execution_count": 42,
   "id": "5d13040f-ff98-4632-890f-ef27cd4fc735",
   "metadata": {
    "collapsed": true,
    "jupyter": {
     "outputs_hidden": true
    },
    "tags": []
   },
   "outputs": [
    {
     "name": "stdout",
     "output_type": "stream",
     "text": [
      "Epoch 1/10\n",
      "363/363 [==============================] - 1s 1ms/step - loss: 2.0999 - val_loss: 0.7421\n",
      "Epoch 2/10\n",
      "363/363 [==============================] - 0s 758us/step - loss: 0.7135 - val_loss: 0.6092\n",
      "Epoch 3/10\n",
      "363/363 [==============================] - 0s 906us/step - loss: 0.6325 - val_loss: 0.5934\n",
      "Epoch 4/10\n",
      "363/363 [==============================] - 0s 804us/step - loss: 0.6073 - val_loss: 0.5690\n",
      "Epoch 5/10\n",
      "363/363 [==============================] - 0s 747us/step - loss: 0.5922 - val_loss: 0.5586\n",
      "Epoch 6/10\n",
      "363/363 [==============================] - 0s 733us/step - loss: 0.5812 - val_loss: 0.5487\n",
      "Epoch 7/10\n",
      "363/363 [==============================] - 0s 739us/step - loss: 0.5696 - val_loss: 0.5407\n",
      "Epoch 8/10\n",
      "363/363 [==============================] - 0s 758us/step - loss: 0.5622 - val_loss: 0.5324\n",
      "Epoch 9/10\n",
      "363/363 [==============================] - 0s 738us/step - loss: 0.5544 - val_loss: 0.5295\n",
      "Epoch 10/10\n",
      "363/363 [==============================] - 0s 730us/step - loss: 0.5513 - val_loss: 0.5208\n",
      "162/162 [==============================] - 0s 496us/step - loss: 0.5304\n"
     ]
    }
   ],
   "source": [
    "model.compile(loss=\"mean_squared_error\", optimizer=keras.optimizers.SGD(learning_rate=1e-3))\n",
    "history = model.fit(x_train, y_train, epochs=10,\n",
    "                    validation_data=(x_valid, y_valid))\n",
    "mse_test = model.evaluate(x_test, y_test)\n",
    "y_pred = model.predict(x_new)"
   ]
  },
  {
   "cell_type": "markdown",
   "id": "0bbc4778-e316-4619-967c-01280f9d6aad",
   "metadata": {},
   "source": [
    "## 区分路径"
   ]
  },
  {
   "attachments": {
    "b7539c24-b888-4bb4-98ee-f698c4c14632.png": {
     "image/png": "[encoded data removed]"
    }
   },
   "cell_type": "markdown",
   "id": "cb90b101-9f88-49c7-8731-dfcda37e99a1",
   "metadata": {},
   "source": [
    "![image.png](attachment:b7539c24-b888-4bb4-98ee-f698c4c14632.png)"
   ]
  },
  {
   "cell_type": "code",
   "execution_count": 43,
   "id": "7ea0bf7a-1780-4833-ba45-480f96b31342",
   "metadata": {},
   "outputs": [],
   "source": [
    "np.random.seed(42)\n",
    "tf.random.set_seed(42)"
   ]
  },
  {
   "cell_type": "code",
   "execution_count": 44,
   "id": "5543b017-c357-4f53-a23f-aa46b0195150",
   "metadata": {},
   "outputs": [],
   "source": [
    "# 5个特征走宽路径，6个特征走深路径，通过两个输入层定义\n",
    "\n",
    "input_A = keras.layers.Input(shape=[5], name=\"wide_input\")\n",
    "input_B = keras.layers.Input(shape=[6], name=\"deep_input\")\n",
    "hidden1 = keras.layers.Dense(30, activation=\"relu\")(input_B)\n",
    "hidden2 = keras.layers.Dense(30, activation=\"relu\")(hidden1)\n",
    "\n",
    "concat = keras.layers.concatenate([input_A, hidden2])  # 宽路径由此连接\n",
    "\n",
    "output = keras.layers.Dense(1, name=\"output\")(concat)  # 输出层\n",
    "\n",
    "model = keras.models.Model(inputs=[input_A, input_B], outputs=[output])  # 输入层指定了两个，因此传入训练集、验证集、测试集也要匹配形状"
   ]
  },
  {
   "cell_type": "code",
   "execution_count": 45,
   "id": "90e30519-179a-4f89-b8da-5d0556475817",
   "metadata": {
    "collapsed": true,
    "jupyter": {
     "outputs_hidden": true
    },
    "tags": []
   },
   "outputs": [
    {
     "name": "stdout",
     "output_type": "stream",
     "text": [
      "Epoch 1/20\n",
      "363/363 [==============================] - 1s 1ms/step - loss: 1.8861 - val_loss: 0.7814\n",
      "Epoch 2/20\n",
      "363/363 [==============================] - 0s 835us/step - loss: 0.7410 - val_loss: 0.6413\n",
      "Epoch 3/20\n",
      "363/363 [==============================] - 0s 788us/step - loss: 0.6374 - val_loss: 0.5870\n",
      "Epoch 4/20\n",
      "363/363 [==============================] - 0s 832us/step - loss: 0.6015 - val_loss: 0.5628\n",
      "Epoch 5/20\n",
      "363/363 [==============================] - 0s 766us/step - loss: 0.5814 - val_loss: 0.5457\n",
      "Epoch 6/20\n",
      "363/363 [==============================] - 0s 780us/step - loss: 0.5643 - val_loss: 0.5323\n",
      "Epoch 7/20\n",
      "363/363 [==============================] - 0s 793us/step - loss: 0.5516 - val_loss: 0.5222\n",
      "Epoch 8/20\n",
      "363/363 [==============================] - 0s 796us/step - loss: 0.5395 - val_loss: 0.5113\n",
      "Epoch 9/20\n",
      "363/363 [==============================] - 0s 782us/step - loss: 0.5319 - val_loss: 0.5046\n",
      "Epoch 10/20\n",
      "363/363 [==============================] - 0s 791us/step - loss: 0.5256 - val_loss: 0.5047\n",
      "Epoch 11/20\n",
      "363/363 [==============================] - 0s 771us/step - loss: 0.5246 - val_loss: 0.4919\n",
      "Epoch 12/20\n",
      "363/363 [==============================] - 0s 830us/step - loss: 0.5145 - val_loss: 0.4879\n",
      "Epoch 13/20\n",
      "363/363 [==============================] - 0s 807us/step - loss: 0.5110 - val_loss: 0.4860\n",
      "Epoch 14/20\n",
      "363/363 [==============================] - 0s 807us/step - loss: 0.5074 - val_loss: 0.4800\n",
      "Epoch 15/20\n",
      "363/363 [==============================] - 0s 788us/step - loss: 0.5014 - val_loss: 0.4772\n",
      "Epoch 16/20\n",
      "363/363 [==============================] - 0s 840us/step - loss: 0.4990 - val_loss: 0.4743\n",
      "Epoch 17/20\n",
      "363/363 [==============================] - 0s 794us/step - loss: 0.4951 - val_loss: 0.4705\n",
      "Epoch 18/20\n",
      "363/363 [==============================] - 0s 785us/step - loss: 0.4919 - val_loss: 0.4676\n",
      "Epoch 19/20\n",
      "363/363 [==============================] - 0s 860us/step - loss: 0.4893 - val_loss: 0.4658\n",
      "Epoch 20/20\n",
      "363/363 [==============================] - 0s 799us/step - loss: 0.4877 - val_loss: 0.4641\n",
      "162/162 [==============================] - 0s 570us/step - loss: 0.4727\n"
     ]
    }
   ],
   "source": [
    "model.compile(loss=\"mse\", optimizer=keras.optimizers.SGD(learning_rate=1e-3))\n",
    "\n",
    "x_train_A, x_train_B = x_train[:, :5], x_train[:, 2:]  # 五个特征（0~4）\n",
    "x_valid_A, x_valid_B = x_valid[:, :5], x_valid[:, 2:]  # 六个特征（2~7）\n",
    "x_test_A, x_test_B = x_test[:, :5], x_test[:, 2:]\n",
    "x_new_A, x_new_B = x_test_A[:3], x_test_B[:3]\n",
    "\n",
    "history = model.fit((x_train_A, x_train_B), y_train, epochs=20,\n",
    "                    validation_data=((x_valid_A, x_valid_B), y_valid))\n",
    "mse_test = model.evaluate((x_test_A, x_test_B), y_test)\n",
    "y_pred = model.predict((x_new_A, x_new_B))"
   ]
  },
  {
   "cell_type": "markdown",
   "id": "ad6eca45-7c9d-457d-9aae-5d1c09bf3ba5",
   "metadata": {},
   "source": [
    "## 多输出"
   ]
  },
  {
   "cell_type": "markdown",
   "id": "bcc870ec-f79e-472a-8c69-3733819448b8",
   "metadata": {},
   "source": [
    "辅助输出用于观察网络的主要部分的学习效果"
   ]
  },
  {
   "attachments": {
    "daf45782-d21a-4706-ba25-69b14cb3eb94.png": {
     "image/png": "[encoded data removed]"
    }
   },
   "cell_type": "markdown",
   "id": "6610752a-ab3f-4e3b-9c1b-6a3fbc0b0c7a",
   "metadata": {},
   "source": [
    "![image.png](attachment:daf45782-d21a-4706-ba25-69b14cb3eb94.png)"
   ]
  },
  {
   "cell_type": "code",
   "execution_count": 46,
   "id": "c653c4aa-dace-4cc3-aa3c-84328fd08527",
   "metadata": {},
   "outputs": [],
   "source": [
    "input_A = keras.layers.Input(shape=[5], name=\"wide_input\")\n",
    "input_B = keras.layers.Input(shape=[6], name=\"deep_input\")\n",
    "\n",
    "hidden1 = keras.layers.Dense(30, activation=\"relu\")(input_B)\n",
    "hidden2 = keras.layers.Dense(30, activation=\"relu\")(hidden1)\n",
    "concat = keras.layers.concatenate([input_A, hidden2])  # 合并\n",
    "\n",
    "output = keras.layers.Dense(1, name=\"main_output\")(concat)  # 主输出\n",
    "aux_output = keras.layers.Dense(1, name=\"aux_output\")(hidden2)  # 辅助输出\n",
    "\n",
    "model = keras.models.Model(inputs=[input_A, input_B],\n",
    "                           outputs=[output, aux_output])"
   ]
  },
  {
   "cell_type": "code",
   "execution_count": 47,
   "id": "c6177d79-026c-41a2-911a-ce61d9949504",
   "metadata": {},
   "outputs": [],
   "source": [
    "model.compile(loss=['mse', 'mse'], loss_weights=[0.9, 0.1], optimizer='sgd')  # 更关心主输出，设置权重9:1"
   ]
  },
  {
   "cell_type": "code",
   "execution_count": 48,
   "id": "81b5697c-6c96-4c27-8bea-cec3471becb2",
   "metadata": {
    "collapsed": true,
    "jupyter": {
     "outputs_hidden": true
    },
    "tags": []
   },
   "outputs": [
    {
     "name": "stdout",
     "output_type": "stream",
     "text": [
      "Epoch 1/20\n",
      "363/363 [==============================] - 1s 1ms/step - loss: 1.2686 - main_output_loss: 1.1843 - aux_output_loss: 2.0266 - val_loss: 0.6228 - val_main_output_loss: 0.5460 - val_aux_output_loss: 1.3141\n",
      "Epoch 2/20\n",
      "363/363 [==============================] - 0s 1ms/step - loss: 0.6123 - main_output_loss: 0.5359 - aux_output_loss: 1.2995 - val_loss: 0.5491 - val_main_output_loss: 0.4825 - val_aux_output_loss: 1.1485\n",
      "Epoch 3/20\n",
      "363/363 [==============================] - 0s 1ms/step - loss: 0.5569 - main_output_loss: 0.4929 - aux_output_loss: 1.1325 - val_loss: 0.5098 - val_main_output_loss: 0.4553 - val_aux_output_loss: 1.0006\n",
      "Epoch 4/20\n",
      "363/363 [==============================] - 0s 992us/step - loss: 0.5283 - main_output_loss: 0.4762 - aux_output_loss: 0.9971 - val_loss: 0.4853 - val_main_output_loss: 0.4400 - val_aux_output_loss: 0.8934\n",
      "Epoch 5/20\n",
      "363/363 [==============================] - 0s 1ms/step - loss: 0.5120 - main_output_loss: 0.4687 - aux_output_loss: 0.9019 - val_loss: 0.4828 - val_main_output_loss: 0.4457 - val_aux_output_loss: 0.8165\n",
      "Epoch 6/20\n",
      "363/363 [==============================] - 0s 1ms/step - loss: 0.4899 - main_output_loss: 0.4534 - aux_output_loss: 0.8182 - val_loss: 0.4585 - val_main_output_loss: 0.4262 - val_aux_output_loss: 0.7493\n",
      "Epoch 7/20\n",
      "363/363 [==============================] - 0s 992us/step - loss: 0.4768 - main_output_loss: 0.4454 - aux_output_loss: 0.7593 - val_loss: 0.4511 - val_main_output_loss: 0.4235 - val_aux_output_loss: 0.6989\n",
      "Epoch 8/20\n",
      "363/363 [==============================] - 0s 989us/step - loss: 0.4729 - main_output_loss: 0.4452 - aux_output_loss: 0.7225 - val_loss: 0.4471 - val_main_output_loss: 0.4227 - val_aux_output_loss: 0.6662\n",
      "Epoch 9/20\n",
      "363/363 [==============================] - 0s 995us/step - loss: 0.4588 - main_output_loss: 0.4336 - aux_output_loss: 0.6857 - val_loss: 0.4258 - val_main_output_loss: 0.4020 - val_aux_output_loss: 0.6399\n",
      "Epoch 10/20\n",
      "363/363 [==============================] - 0s 1ms/step - loss: 0.4443 - main_output_loss: 0.4210 - aux_output_loss: 0.6545 - val_loss: 0.4310 - val_main_output_loss: 0.4113 - val_aux_output_loss: 0.6081\n",
      "Epoch 11/20\n",
      "363/363 [==============================] - 0s 967us/step - loss: 0.4371 - main_output_loss: 0.4163 - aux_output_loss: 0.6248 - val_loss: 0.4108 - val_main_output_loss: 0.3913 - val_aux_output_loss: 0.5863\n",
      "Epoch 12/20\n",
      "363/363 [==============================] - 0s 995us/step - loss: 0.4325 - main_output_loss: 0.4124 - aux_output_loss: 0.6134 - val_loss: 0.4123 - val_main_output_loss: 0.3950 - val_aux_output_loss: 0.5685\n",
      "Epoch 13/20\n",
      "363/363 [==============================] - 0s 979us/step - loss: 0.4351 - main_output_loss: 0.4178 - aux_output_loss: 0.5910 - val_loss: 0.4002 - val_main_output_loss: 0.3832 - val_aux_output_loss: 0.5538\n",
      "Epoch 14/20\n",
      "363/363 [==============================] - 0s 970us/step - loss: 0.4267 - main_output_loss: 0.4100 - aux_output_loss: 0.5765 - val_loss: 0.3932 - val_main_output_loss: 0.3764 - val_aux_output_loss: 0.5447\n",
      "Epoch 15/20\n",
      "363/363 [==============================] - 0s 965us/step - loss: 0.4113 - main_output_loss: 0.3939 - aux_output_loss: 0.5675 - val_loss: 0.3803 - val_main_output_loss: 0.3642 - val_aux_output_loss: 0.5250\n",
      "Epoch 16/20\n",
      "363/363 [==============================] - 0s 1ms/step - loss: 0.4058 - main_output_loss: 0.3890 - aux_output_loss: 0.5575 - val_loss: 0.3748 - val_main_output_loss: 0.3588 - val_aux_output_loss: 0.5185\n",
      "Epoch 17/20\n",
      "363/363 [==============================] - 0s 973us/step - loss: 0.3968 - main_output_loss: 0.3812 - aux_output_loss: 0.5366 - val_loss: 0.3731 - val_main_output_loss: 0.3582 - val_aux_output_loss: 0.5072\n",
      "Epoch 18/20\n",
      "363/363 [==============================] - 0s 976us/step - loss: 0.3935 - main_output_loss: 0.3785 - aux_output_loss: 0.5285 - val_loss: 0.3645 - val_main_output_loss: 0.3500 - val_aux_output_loss: 0.4943\n",
      "Epoch 19/20\n",
      "363/363 [==============================] - 0s 975us/step - loss: 0.3893 - main_output_loss: 0.3753 - aux_output_loss: 0.5154 - val_loss: 0.3697 - val_main_output_loss: 0.3558 - val_aux_output_loss: 0.4943\n",
      "Epoch 20/20\n",
      "363/363 [==============================] - 0s 998us/step - loss: 0.3841 - main_output_loss: 0.3706 - aux_output_loss: 0.5061 - val_loss: 0.3720 - val_main_output_loss: 0.3592 - val_aux_output_loss: 0.4875\n"
     ]
    }
   ],
   "source": [
    "# 主输出和辅助输出应该预测出相同的结果，因此标签用[y_train, y_train]，验证集和测试集同理\n",
    "history = model.fit([x_train_A, x_train_B], [y_train, y_train], epochs=20, \n",
    "                    validation_data=([x_valid_A, x_valid_B], [y_valid, y_valid]))"
   ]
  },
  {
   "cell_type": "code",
   "execution_count": 49,
   "id": "cce825d2-57ea-4f17-8a4f-fb5c057e7ae5",
   "metadata": {},
   "outputs": [
    {
     "name": "stdout",
     "output_type": "stream",
     "text": [
      "162/162 [==============================] - 0s 700us/step - loss: 0.4008 - main_output_loss: 0.3854 - aux_output_loss: 0.5397\n"
     ]
    }
   ],
   "source": [
    "total_loss, main_loss, aux_loss = model.evaluate(\n",
    "    [x_test_A, x_test_B], [y_test, y_test])"
   ]
  },
  {
   "cell_type": "code",
   "execution_count": 50,
   "id": "a39cd7fa-c28e-4363-b28e-b55b91d5ea2b",
   "metadata": {},
   "outputs": [
    {
     "name": "stdout",
     "output_type": "stream",
     "text": [
      "WARNING:tensorflow:5 out of the last 6 calls to <function Model.make_predict_function.<locals>.predict_function at 0x000002B69A90C1F0> triggered tf.function retracing. Tracing is expensive and the excessive number of tracings could be due to (1) creating @tf.function repeatedly in a loop, (2) passing tensors with different shapes, (3) passing Python objects instead of tensors. For (1), please define your @tf.function outside of the loop. For (2), @tf.function has experimental_relax_shapes=True option that relaxes argument shapes that can avoid unnecessary retracing. For (3), please refer to https://www.tensorflow.org/guide/function#controlling_retracing and https://www.tensorflow.org/api_docs/python/tf/function for  more details.\n"
     ]
    }
   ],
   "source": [
    "y_pred_main, y_pred_aux = model.predict([x_new_A, x_new_B])"
   ]
  },
  {
   "cell_type": "code",
   "execution_count": 51,
   "id": "d1c3e4af-f7a9-4d4d-bb81-d5711f341eed",
   "metadata": {},
   "outputs": [
    {
     "data": {
      "text/plain": [
       "array([[1.2369733 ],\n",
       "       [4.0595145 ],\n",
       "       [0.56709504]], dtype=float32)"
      ]
     },
     "execution_count": 51,
     "metadata": {},
     "output_type": "execute_result"
    }
   ],
   "source": [
    "y_pred_main"
   ]
  },
  {
   "cell_type": "code",
   "execution_count": 52,
   "id": "999da243-0063-4cf0-aec4-fd1545024610",
   "metadata": {},
   "outputs": [
    {
     "data": {
      "text/plain": [
       "array([[1.2009141],\n",
       "       [3.3168094],\n",
       "       [1.1419346]], dtype=float32)"
      ]
     },
     "execution_count": 52,
     "metadata": {},
     "output_type": "execute_result"
    }
   ],
   "source": [
    "y_pred_aux"
   ]
  },
  {
   "cell_type": "markdown",
   "id": "ccfea62e-06d4-4dff-9441-5d280a61bab9",
   "metadata": {
    "tags": []
   },
   "source": [
    "# 构建动态模型（类封装）"
   ]
  },
  {
   "cell_type": "code",
   "execution_count": 53,
   "id": "198d2cbb-1004-4333-8078-59d915926151",
   "metadata": {},
   "outputs": [],
   "source": [
    "class WideAndDeepModel(keras.models.Model):  # Model子类化\n",
    "    def __init__(self, units=30, activation=\"relu\", **kwargs):\n",
    "        super().__init__(**kwargs)  # 继承父类的__init__并重写\n",
    "        self.hidden1 = keras.layers.Dense(units, activation=activation)\n",
    "        self.hidden2 = keras.layers.Dense(units, activation=activation)\n",
    "        self.main_output = keras.layers.Dense(1)\n",
    "        self.aux_output = keras.layers.Dense(1)\n",
    "        \n",
    "    def call(self, inputs):  # 重写call()\n",
    "        input_A, input_B = inputs\n",
    "        hidden1 = self.hidden1(input_B)\n",
    "        hidden2 = self.hidden2(hidden1)\n",
    "        concat = keras.layers.concatenate([input_A, hidden2])\n",
    "        main_output = self.main_output(concat)\n",
    "        aux_output = self.aux_output(hidden2)\n",
    "        return main_output, aux_output\n",
    "\n",
    "model = WideAndDeepModel(30, activation=\"relu\")"
   ]
  },
  {
   "cell_type": "code",
   "execution_count": 54,
   "id": "4d68b2d2-30f8-4553-a4ff-14d41ff861ed",
   "metadata": {
    "collapsed": true,
    "jupyter": {
     "outputs_hidden": true
    },
    "tags": []
   },
   "outputs": [
    {
     "name": "stdout",
     "output_type": "stream",
     "text": [
      "Epoch 1/10\n",
      "363/363 [==============================] - 1s 1ms/step - loss: 2.4470 - output_1_loss: 2.2738 - output_2_loss: 4.0055 - val_loss: 1.1870 - val_output_1_loss: 1.0091 - val_output_2_loss: 2.7881\n",
      "Epoch 2/10\n",
      "363/363 [==============================] - 0s 959us/step - loss: 1.0476 - output_1_loss: 0.8932 - output_2_loss: 2.4370 - val_loss: 0.8581 - val_output_1_loss: 0.7308 - val_output_2_loss: 2.0042\n",
      "Epoch 3/10\n",
      "363/363 [==============================] - 0s 948us/step - loss: 0.8237 - output_1_loss: 0.7114 - output_2_loss: 1.8346 - val_loss: 0.7310 - val_output_1_loss: 0.6406 - val_output_2_loss: 1.5442\n",
      "Epoch 4/10\n",
      "363/363 [==============================] - 0s 967us/step - loss: 0.7367 - output_1_loss: 0.6481 - output_2_loss: 1.5346 - val_loss: 0.6736 - val_output_1_loss: 0.5981 - val_output_2_loss: 1.3527\n",
      "Epoch 5/10\n",
      "363/363 [==============================] - 0s 946us/step - loss: 0.6889 - output_1_loss: 0.6117 - output_2_loss: 1.3833 - val_loss: 0.6389 - val_output_1_loss: 0.5718 - val_output_2_loss: 1.2435\n",
      "Epoch 6/10\n",
      "363/363 [==============================] - 0s 923us/step - loss: 0.6564 - output_1_loss: 0.5856 - output_2_loss: 1.2933 - val_loss: 0.6134 - val_output_1_loss: 0.5502 - val_output_2_loss: 1.1815\n",
      "Epoch 7/10\n",
      "363/363 [==============================] - 0s 956us/step - loss: 0.6320 - output_1_loss: 0.5650 - output_2_loss: 1.2344 - val_loss: 0.5928 - val_output_1_loss: 0.5319 - val_output_2_loss: 1.1413\n",
      "Epoch 8/10\n",
      "363/363 [==============================] - 0s 932us/step - loss: 0.6128 - output_1_loss: 0.5481 - output_2_loss: 1.1947 - val_loss: 0.5769 - val_output_1_loss: 0.5183 - val_output_2_loss: 1.1037\n",
      "Epoch 9/10\n",
      "363/363 [==============================] - 0s 1ms/step - loss: 0.5978 - output_1_loss: 0.5356 - output_2_loss: 1.1582 - val_loss: 0.5647 - val_output_1_loss: 0.5078 - val_output_2_loss: 1.0775\n",
      "Epoch 10/10\n",
      "363/363 [==============================] - 0s 948us/step - loss: 0.5855 - output_1_loss: 0.5249 - output_2_loss: 1.1308 - val_loss: 0.5563 - val_output_1_loss: 0.5011 - val_output_2_loss: 1.0529\n",
      "162/162 [==============================] - 0s 645us/step - loss: 0.5720 - output_1_loss: 0.5092 - output_2_loss: 1.1375\n",
      "WARNING:tensorflow:6 out of the last 7 calls to <function Model.make_predict_function.<locals>.predict_function at 0x000002B68254DA60> triggered tf.function retracing. Tracing is expensive and the excessive number of tracings could be due to (1) creating @tf.function repeatedly in a loop, (2) passing tensors with different shapes, (3) passing Python objects instead of tensors. For (1), please define your @tf.function outside of the loop. For (2), @tf.function has experimental_relax_shapes=True option that relaxes argument shapes that can avoid unnecessary retracing. For (3), please refer to https://www.tensorflow.org/guide/function#controlling_retracing and https://www.tensorflow.org/api_docs/python/tf/function for  more details.\n"
     ]
    }
   ],
   "source": [
    "model.compile(loss=\"mse\", loss_weights=[0.9, 0.1], optimizer=keras.optimizers.SGD(learning_rate=1e-3))\n",
    "history = model.fit((x_train_A, x_train_B), (y_train, y_train), epochs=10,\n",
    "                    validation_data=((x_valid_A, x_valid_B), (y_valid, y_valid)))\n",
    "total_loss, main_loss, aux_loss = model.evaluate((x_test_A, x_test_B), (y_test, y_test))\n",
    "y_pred_main, y_pred_aux = model.predict((x_new_A, x_new_B))"
   ]
  },
  {
   "cell_type": "markdown",
   "id": "a16db124-903f-4f4d-8892-4c81c23d744d",
   "metadata": {},
   "source": [
    "# 保存和还原模型"
   ]
  },
  {
   "cell_type": "markdown",
   "id": "e84f8391-3bdd-4405-859f-f26109c63682",
   "metadata": {},
   "source": [
    "```\n",
    "model.save('my_keras_model.h5')  # 保存\n",
    "\n",
    "model = kareas.models.load_model('my_seras_model.h5')  # 读取\n",
    "```"
   ]
  },
  {
   "cell_type": "markdown",
   "id": "643da4a8-296c-4580-abbf-2add66a568fb",
   "metadata": {},
   "source": [
    "# 回调函数（断点续传）"
   ]
  },
  {
   "cell_type": "markdown",
   "id": "d8d6d0b1-a3f7-4169-ba28-1428947066ce",
   "metadata": {},
   "source": [
    "## 定期保存"
   ]
  },
  {
   "cell_type": "code",
   "execution_count": 55,
   "id": "bf76a6f7-c6a0-4ef5-a53d-4d9f2bceadc5",
   "metadata": {},
   "outputs": [],
   "source": [
    "keras.backend.clear_session()"
   ]
  },
  {
   "cell_type": "code",
   "execution_count": 56,
   "id": "a7dab646-620a-4671-a6be-fa430e420123",
   "metadata": {},
   "outputs": [],
   "source": [
    "model = keras.models.Sequential([\n",
    "    keras.layers.Dense(30, activation=\"relu\", input_shape=[8]),\n",
    "    keras.layers.Dense(30, activation=\"relu\"),\n",
    "    keras.layers.Dense(1)\n",
    "])\n",
    "model.compile(loss=\"mse\", optimizer=keras.optimizers.SGD(learning_rate=1e-3))"
   ]
  },
  {
   "cell_type": "code",
   "execution_count": 57,
   "id": "95f95a83-d31b-41fc-a808-d6f3f299ade2",
   "metadata": {},
   "outputs": [],
   "source": [
    "checkpoint_cb = keras.callbacks.ModelCheckpoint(r\"model/my_keras_model.h5\", save_best_only=True)\n",
    "# 保存最佳模型"
   ]
  },
  {
   "cell_type": "code",
   "execution_count": 58,
   "id": "0ee58df1-b69b-485f-8003-712f5eded5d0",
   "metadata": {
    "collapsed": true,
    "jupyter": {
     "outputs_hidden": true
    },
    "tags": []
   },
   "outputs": [
    {
     "name": "stdout",
     "output_type": "stream",
     "text": [
      "Epoch 1/10\n",
      "363/363 [==============================] - 1s 1ms/step - loss: 2.2958 - val_loss: 1.0936\n",
      "Epoch 2/10\n",
      "363/363 [==============================] - 0s 884us/step - loss: 0.9789 - val_loss: 0.8937\n",
      "Epoch 3/10\n",
      "363/363 [==============================] - 0s 838us/step - loss: 0.7115 - val_loss: 0.6168\n",
      "Epoch 4/10\n",
      "363/363 [==============================] - 0s 824us/step - loss: 0.6370 - val_loss: 0.5808\n",
      "Epoch 5/10\n",
      "363/363 [==============================] - 0s 973us/step - loss: 0.6069 - val_loss: 0.5611\n",
      "Epoch 6/10\n",
      "363/363 [==============================] - 0s 970us/step - loss: 0.5844 - val_loss: 0.5427\n",
      "Epoch 7/10\n",
      "363/363 [==============================] - 0s 926us/step - loss: 0.5666 - val_loss: 0.5280\n",
      "Epoch 8/10\n",
      "363/363 [==============================] - 0s 827us/step - loss: 0.5521 - val_loss: 0.5166\n",
      "Epoch 9/10\n",
      "363/363 [==============================] - 0s 799us/step - loss: 0.5404 - val_loss: 0.5066\n",
      "Epoch 10/10\n",
      "363/363 [==============================] - 0s 810us/step - loss: 0.5298 - val_loss: 0.4990\n"
     ]
    }
   ],
   "source": [
    "history = model.fit(x_train, y_train, epochs=10,\n",
    "                    validation_data=(x_valid, y_valid),\n",
    "                    callbacks=[checkpoint_cb])"
   ]
  },
  {
   "cell_type": "code",
   "execution_count": 59,
   "id": "85aa8fec-f3e7-4afe-8f7c-2744919252a3",
   "metadata": {},
   "outputs": [
    {
     "name": "stdout",
     "output_type": "stream",
     "text": [
      "162/162 [==============================] - 0s 527us/step - loss: 0.5046\n"
     ]
    }
   ],
   "source": [
    "model = keras.models.load_model(r\"model/my_keras_model.h5\") # 取得最佳模型\n",
    "mse_test = model.evaluate(x_test, y_test)"
   ]
  },
  {
   "cell_type": "markdown",
   "id": "59e6ff39-783f-4ca6-8d48-0ea9f2a4edbd",
   "metadata": {},
   "source": [
    "## 提前停止"
   ]
  },
  {
   "cell_type": "markdown",
   "id": "f9ba24ca-4519-45fc-bbc7-65ce94ab7f15",
   "metadata": {},
   "source": [
    "在`patience`轮验证集上的效果无明显进展时，停止训练，自动保存最佳模型"
   ]
  },
  {
   "cell_type": "code",
   "execution_count": 60,
   "id": "51d332a9-7ab1-42b9-b4a0-07b877cf423b",
   "metadata": {},
   "outputs": [],
   "source": [
    "early_stopping_cb = keras.callbacks.EarlyStopping(patience=10,\n",
    "                                                  restore_best_weights=True)"
   ]
  },
  {
   "cell_type": "markdown",
   "id": "636c892b-58e8-4b4d-8897-90a426269fbd",
   "metadata": {},
   "source": [
    "## 合并使用"
   ]
  },
  {
   "cell_type": "code",
   "execution_count": 61,
   "id": "e0ab00eb-bc76-4e70-b085-0ec16817557f",
   "metadata": {
    "collapsed": true,
    "jupyter": {
     "outputs_hidden": true
    },
    "tags": []
   },
   "outputs": [
    {
     "name": "stdout",
     "output_type": "stream",
     "text": [
      "Epoch 1/10\n",
      "363/363 [==============================] - 0s 846us/step - loss: 0.5209 - val_loss: 0.4916\n",
      "Epoch 2/10\n",
      "363/363 [==============================] - 0s 846us/step - loss: 0.5132 - val_loss: 0.4838\n",
      "Epoch 3/10\n",
      "363/363 [==============================] - 0s 873us/step - loss: 0.5066 - val_loss: 0.4795\n",
      "Epoch 4/10\n",
      "363/363 [==============================] - 0s 862us/step - loss: 0.5004 - val_loss: 0.4728\n",
      "Epoch 5/10\n",
      "363/363 [==============================] - 0s 843us/step - loss: 0.4949 - val_loss: 0.4694\n",
      "Epoch 6/10\n",
      "363/363 [==============================] - 0s 824us/step - loss: 0.4898 - val_loss: 0.4648\n",
      "Epoch 7/10\n",
      "363/363 [==============================] - 0s 824us/step - loss: 0.4852 - val_loss: 0.4596\n",
      "Epoch 8/10\n",
      "363/363 [==============================] - 0s 832us/step - loss: 0.4812 - val_loss: 0.4566\n",
      "Epoch 9/10\n",
      "363/363 [==============================] - 0s 815us/step - loss: 0.4777 - val_loss: 0.4527\n",
      "Epoch 10/10\n",
      "363/363 [==============================] - 0s 794us/step - loss: 0.4740 - val_loss: 0.4508\n",
      "162/162 [==============================] - 0s 527us/step - loss: 0.4562\n"
     ]
    }
   ],
   "source": [
    "history = model.fit(x_train, y_train, epochs=10,  # 在大型数据集可以设置较高的轮次，如1000\n",
    "                    validation_data=(x_valid, y_valid),\n",
    "                    callbacks=[checkpoint_cb, early_stopping_cb])  # 合并\n",
    "mse_test = model.evaluate(x_test, y_test)"
   ]
  },
  {
   "cell_type": "markdown",
   "id": "32ea84f8-ddca-4335-9ecd-7a6c665795d8",
   "metadata": {},
   "source": [
    "# 自定义回调函数"
   ]
  },
  {
   "cell_type": "markdown",
   "id": "78a66a62-c7a4-42d7-a569-fb078bfeed3b",
   "metadata": {},
   "source": [
    "自定义额外的控制，比如每轮训练返回验证集和训练集损失比率，用于观察拟合情况"
   ]
  },
  {
   "cell_type": "code",
   "execution_count": 62,
   "id": "149e02c9-f3d8-4932-a692-8ed7ddddf8ed",
   "metadata": {},
   "outputs": [],
   "source": [
    "class PrintValTrainRatioCallback(keras.callbacks.Callback):\n",
    "    def on_epoch_end(self, epoch, logs):\n",
    "        print(\"\\nval/train: {:.2f}\".format(logs[\"val_loss\"] / logs[\"loss\"]))"
   ]
  },
  {
   "cell_type": "code",
   "execution_count": 63,
   "id": "40946c71-add8-4b67-8e77-761e2340ccb4",
   "metadata": {},
   "outputs": [
    {
     "name": "stdout",
     "output_type": "stream",
     "text": [
      "Epoch 1/2\n",
      "332/363 [==========================>...] - ETA: 0s - loss: 0.4643\n",
      "val/train: 0.95\n",
      "363/363 [==============================] - 0s 849us/step - loss: 0.4708 - val_loss: 0.4479\n",
      "Epoch 2/2\n",
      "308/363 [========================>.....] - ETA: 0s - loss: 0.4734\n",
      "val/train: 0.95\n",
      "363/363 [==============================] - 0s 824us/step - loss: 0.4678 - val_loss: 0.4441\n"
     ]
    }
   ],
   "source": [
    "val_train_ratio_cb = PrintValTrainRatioCallback()\n",
    "history = model.fit(x_train, y_train, epochs=2,\n",
    "                    validation_data=(x_valid, y_valid),\n",
    "                    callbacks=[val_train_ratio_cb])"
   ]
  },
  {
   "cell_type": "markdown",
   "id": "0444f66c-bc46-4909-b49b-81763a765bb9",
   "metadata": {},
   "source": [
    "# TensorBoard可视化"
   ]
  },
  {
   "cell_type": "code",
   "execution_count": 68,
   "id": "59e784f3-bdfd-4147-9a51-49e8f358977b",
   "metadata": {},
   "outputs": [],
   "source": [
    "import os   \n",
    "root_logdir = os.path.join(os.curdir, 'my_logs')  # 相对路径\n",
    "\n",
    "def get_run_logdir():\n",
    "    import time\n",
    "    run_id = time.strftime('run_%Y_%m_%d-%H_%M_%S')  # 返回本地时间\n",
    "    return os.path.join(root_logdir, run_id)\n",
    "run_logdir = get_run_logdir()  # 取得当前时间命名的摘要文件位置"
   ]
  },
  {
   "cell_type": "code",
   "execution_count": 69,
   "id": "579bd5a1-eeae-4f62-b6d3-fbd17ec9def9",
   "metadata": {},
   "outputs": [
    {
     "data": {
      "text/plain": [
       "'.\\\\my_logs\\\\run_2022_02_10-12_08_10'"
      ]
     },
     "execution_count": 69,
     "metadata": {},
     "output_type": "execute_result"
    }
   ],
   "source": [
    "run_logdir"
   ]
  },
  {
   "cell_type": "code",
   "execution_count": 76,
   "id": "f3d8ad35-85a6-4ef9-a7cd-4a440f699c1c",
   "metadata": {
    "collapsed": true,
    "jupyter": {
     "outputs_hidden": true
    },
    "scrolled": true,
    "tags": []
   },
   "outputs": [
    {
     "name": "stdout",
     "output_type": "stream",
     "text": [
      "Epoch 1/20\n",
      "363/363 [==============================] - 0s 956us/step - loss: 0.4422 - val_loss: 0.4227\n",
      "Epoch 2/20\n",
      "363/363 [==============================] - 0s 923us/step - loss: 0.4408 - val_loss: 0.4203\n",
      "Epoch 3/20\n",
      "363/363 [==============================] - 0s 939us/step - loss: 0.4398 - val_loss: 0.4204\n",
      "Epoch 4/20\n",
      "363/363 [==============================] - 0s 959us/step - loss: 0.4384 - val_loss: 0.4179\n",
      "Epoch 5/20\n",
      "363/363 [==============================] - 0s 984us/step - loss: 0.4373 - val_loss: 0.4178\n",
      "Epoch 6/20\n",
      "363/363 [==============================] - 0s 888us/step - loss: 0.4360 - val_loss: 0.4167\n",
      "Epoch 7/20\n",
      "363/363 [==============================] - 0s 857us/step - loss: 0.4348 - val_loss: 0.4148\n",
      "Epoch 8/20\n",
      "363/363 [==============================] - 0s 1ms/step - loss: 0.4339 - val_loss: 0.4147\n",
      "Epoch 9/20\n",
      "363/363 [==============================] - 0s 992us/step - loss: 0.4330 - val_loss: 0.4127\n",
      "Epoch 10/20\n",
      "363/363 [==============================] - 0s 962us/step - loss: 0.4315 - val_loss: 0.4133\n",
      "Epoch 11/20\n",
      "363/363 [==============================] - 0s 978us/step - loss: 0.4304 - val_loss: 0.4108\n",
      "Epoch 12/20\n",
      "363/363 [==============================] - 0s 1ms/step - loss: 0.4294 - val_loss: 0.4108\n",
      "Epoch 13/20\n",
      "363/363 [==============================] - 0s 970us/step - loss: 0.4286 - val_loss: 0.4105\n",
      "Epoch 14/20\n",
      "363/363 [==============================] - 0s 981us/step - loss: 0.4278 - val_loss: 0.4085\n",
      "Epoch 15/20\n",
      "363/363 [==============================] - 0s 939us/step - loss: 0.4264 - val_loss: 0.4076\n",
      "Epoch 16/20\n",
      "363/363 [==============================] - 0s 1ms/step - loss: 0.4256 - val_loss: 0.4074\n",
      "Epoch 17/20\n",
      "363/363 [==============================] - 0s 995us/step - loss: 0.4249 - val_loss: 0.4059\n",
      "Epoch 18/20\n",
      "363/363 [==============================] - 0s 953us/step - loss: 0.4234 - val_loss: 0.4041\n",
      "Epoch 19/20\n",
      "363/363 [==============================] - 0s 959us/step - loss: 0.4226 - val_loss: 0.4046\n",
      "Epoch 20/20\n",
      "363/363 [==============================] - 0s 978us/step - loss: 0.4217 - val_loss: 0.4032\n"
     ]
    }
   ],
   "source": [
    "tensorboard_cb = keras.callbacks.TensorBoard(run_logdir)  # 传入文件名（路径）即可\n",
    "history = model.fit(x_train, y_train, epochs=20,\n",
    "                    validation_data=(x_valid, y_valid),\n",
    "                    callbacks=[tensorboard_cb, checkpoint_cb])  \n",
    "# 回调参数引用定义的tensorboard_cb和保存最佳模型的checkpoint_cb"
   ]
  },
  {
   "cell_type": "markdown",
   "id": "bbaa1e38-bb68-47e1-a4ec-00d0648c4579",
   "metadata": {},
   "source": [
    "在prompt终端输入命令：\n",
    "`tensorboard --logdir=./my_logs --port=6006`\n",
    "打开`tensorboard`\n",
    "\n",
    "注意路径，必须带有路径"
   ]
  },
  {
   "cell_type": "markdown",
   "id": "fc96b4da-440f-4e30-89ba-72f0316d226f",
   "metadata": {},
   "source": [
    "# 微调神经网络超参数"
   ]
  },
  {
   "cell_type": "code",
   "execution_count": 121,
   "id": "d5b81b9e-a335-4a19-b47e-cc601248c8b4",
   "metadata": {},
   "outputs": [],
   "source": [
    "keras.backend.clear_session()\n",
    "np.random.seed(42)\n",
    "tf.random.set_seed(42)"
   ]
  },
  {
   "cell_type": "code",
   "execution_count": 139,
   "id": "c1df5057-7635-4235-8c80-7badd3ae0d4d",
   "metadata": {},
   "outputs": [],
   "source": [
    "# 创建一个函数用于根据参数生成并编译模型\n",
    "def build_model(n_hidden=1, n_neurons=30, learning_rate=3e-3, input_shape=[8]):\n",
    "    model = keras.models.Sequential()\n",
    "    model.add(keras.layers.InputLayer(input_shape=input_shape))  # 添加输入层\n",
    "    for layer in range(n_hidden):\n",
    "        model.add(keras.layers.Dense(n_neurons, activation=\"relu\"))  # 添加隐藏层\n",
    "    model.add(keras.layers.Dense(1))\n",
    "    optimizer = keras.optimizers.SGD(learning_rate=learning_rate)  # 优化器\n",
    "    model.compile(loss=\"mse\", optimizer=optimizer)  # 编译\n",
    "    return model"
   ]
  },
  {
   "cell_type": "code",
   "execution_count": 128,
   "id": "b2c99033-97df-49f3-b318-d4952037843f",
   "metadata": {},
   "outputs": [
    {
     "data": {
      "text/plain": [
       "(11610, 8)"
      ]
     },
     "execution_count": 128,
     "metadata": {},
     "output_type": "execute_result"
    }
   ],
   "source": [
    "x_train.shape"
   ]
  },
  {
   "cell_type": "markdown",
   "id": "9e2ddcfb-9c3c-4c50-9cd1-b118ff481c18",
   "metadata": {},
   "source": [
    "## 模仿sklearn包装模型\n",
    "\n",
    "包装之后可以类似`sklearn`调用`fit`，`score`和`predict`"
   ]
  },
  {
   "cell_type": "code",
   "execution_count": 255,
   "id": "464fd5d8-a0dd-426c-83af-84cabc599eb0",
   "metadata": {},
   "outputs": [],
   "source": [
    "from scikeras.wrappers import KerasRegressor  # KerasClassifier()从tf.keras独立出来了\n",
    "keras_reg = KerasRegressor(build_model, n_neurons=1, n_hidden=1, learning_rate=0.01)  # 包装\n",
    "# 定义KerasRegressor()实例时必须初始化必要的参数，否则网格搜索报错"
   ]
  },
  {
   "cell_type": "code",
   "execution_count": 256,
   "id": "2c34166e-3f5b-4fbf-a171-bb4eb84ba320",
   "metadata": {
    "collapsed": true,
    "jupyter": {
     "outputs_hidden": true
    },
    "tags": []
   },
   "outputs": [
    {
     "name": "stdout",
     "output_type": "stream",
     "text": [
      "Epoch 1/10\n",
      "363/363 [==============================] - 1s 989us/step - loss: 1.3900 - val_loss: 0.7544\n",
      "Epoch 2/10\n",
      "363/363 [==============================] - 0s 835us/step - loss: 0.7023 - val_loss: 0.6037\n",
      "Epoch 3/10\n",
      "363/363 [==============================] - 0s 763us/step - loss: 0.6110 - val_loss: 0.5508\n",
      "Epoch 4/10\n",
      "363/363 [==============================] - 0s 782us/step - loss: 0.5577 - val_loss: 0.5071\n",
      "Epoch 5/10\n",
      "363/363 [==============================] - 0s 785us/step - loss: 0.5239 - val_loss: 0.4865\n",
      "Epoch 6/10\n",
      "363/363 [==============================] - 0s 860us/step - loss: 0.5048 - val_loss: 0.4707\n",
      "Epoch 7/10\n",
      "363/363 [==============================] - 0s 766us/step - loss: 0.5031 - val_loss: 0.4916\n",
      "Epoch 8/10\n",
      "363/363 [==============================] - 0s 774us/step - loss: 0.5060 - val_loss: 0.4695\n",
      "Epoch 9/10\n",
      "363/363 [==============================] - 0s 780us/step - loss: 0.4909 - val_loss: 0.4621\n",
      "Epoch 10/10\n",
      "363/363 [==============================] - 0s 722us/step - loss: 0.4926 - val_loss: 0.5285\n"
     ]
    },
    {
     "data": {
      "text/plain": [
       "KerasRegressor(\n",
       "\tmodel=<function build_model at 0x000002B68704B670>\n",
       "\tbuild_fn=None\n",
       "\twarm_start=False\n",
       "\trandom_state=None\n",
       "\toptimizer=rmsprop\n",
       "\tloss=None\n",
       "\tmetrics=None\n",
       "\tbatch_size=None\n",
       "\tvalidation_batch_size=None\n",
       "\tverbose=1\n",
       "\tcallbacks=None\n",
       "\tvalidation_split=0.0\n",
       "\tshuffle=True\n",
       "\trun_eagerly=False\n",
       "\tepochs=1\n",
       "\tn_neurons=1\n",
       "\tn_hidden=1\n",
       "\tlearning_rate=0.01\n",
       ")"
      ]
     },
     "execution_count": 256,
     "metadata": {},
     "output_type": "execute_result"
    }
   ],
   "source": [
    "# 包装完毕后可以调用类似sklearn的方法，如fit, score, predict\n",
    "keras_reg.fit(x_train, y_train, epochs=10,\n",
    "              validation_data=(x_valid, y_valid),\n",
    "              callbacks=[keras.callbacks.EarlyStopping(patience=10)])"
   ]
  },
  {
   "cell_type": "code",
   "execution_count": 257,
   "id": "fb716662-b5d5-42fc-9623-3ac77519f830",
   "metadata": {},
   "outputs": [
    {
     "name": "stdout",
     "output_type": "stream",
     "text": [
      "162/162 [==============================] - 0s 514us/step\n",
      "1/1 [==============================] - 0s 12ms/step\n"
     ]
    }
   ],
   "source": [
    "mse_test = keras_reg.score(x_test, y_test)\n",
    "y_pred = keras_reg.predict(x_new)"
   ]
  },
  {
   "cell_type": "code",
   "execution_count": 258,
   "id": "9811600a-a409-41ee-b883-ac9912549b0f",
   "metadata": {},
   "outputs": [
    {
     "data": {
      "text/plain": [
       "0.6075695222166689"
      ]
     },
     "execution_count": 258,
     "metadata": {},
     "output_type": "execute_result"
    }
   ],
   "source": [
    "mse_test"
   ]
  },
  {
   "cell_type": "code",
   "execution_count": 259,
   "id": "dc32bc02-3618-4f95-ba7b-240c78293345",
   "metadata": {},
   "outputs": [
    {
     "data": {
      "text/plain": [
       "array([1.1503806 , 4.263288  , 0.96167964], dtype=float32)"
      ]
     },
     "execution_count": 259,
     "metadata": {},
     "output_type": "execute_result"
    }
   ],
   "source": [
    "y_pred"
   ]
  },
  {
   "cell_type": "markdown",
   "id": "ecf63f13-3d62-458a-880e-ab5b71d52cc6",
   "metadata": {},
   "source": [
    "## 网格搜索"
   ]
  },
  {
   "cell_type": "code",
   "execution_count": 272,
   "id": "1fc9c9c5-802c-495e-aa61-28a0dbc4b9eb",
   "metadata": {},
   "outputs": [
    {
     "data": {
      "text/plain": [
       "(array([531., 132.,  79.,  57.,  40.,  48.,  26.,  29.,  26.,  32.]),\n",
       " array([0.00030025, 0.00325421, 0.00620817, 0.00916213, 0.01211609,\n",
       "        0.01507005, 0.01802402, 0.02097798, 0.02393194, 0.0268859 ,\n",
       "        0.02983986]),\n",
       " <BarContainer object of 10 artists>)"
      ]
     },
     "execution_count": 272,
     "metadata": {},
     "output_type": "execute_result"
    },
    {
     "data": {
      "image/png": "[encoded data removed]",
      "text/plain": [
       "<Figure size 432x288 with 1 Axes>"
      ]
     },
     "metadata": {
      "needs_background": "light"
     },
     "output_type": "display_data"
    }
   ],
   "source": [
    "# 参数比较多，采用随机网格搜索\n",
    "from scipy.stats import reciprocal  # 生成指定区间内的（倒数/反比例）随机变量\n",
    "from sklearn.model_selection import RandomizedSearchCV\n",
    "\n",
    "import matplotlib.pyplot as plt\n",
    "plt.hist(reciprocal(3e-4, 3e-2).rvs(1000))  # 反比例函数形式，仅用于展示reciprocal用途"
   ]
  },
  {
   "cell_type": "code",
   "execution_count": 261,
   "id": "5a226795-9045-40e4-b4b1-c2738ed88ffe",
   "metadata": {},
   "outputs": [],
   "source": [
    "param_distribs = {\n",
    "    \"n_hidden\": [0, 1, 2],\n",
    "    \"n_neurons\": np.arange(1, 5).tolist(),\n",
    "    \"learning_rate\": reciprocal(3e-4, 3e-2).rvs(5).tolist(),\n",
    "}\n",
    "\n",
    "rnd_search_cv = RandomizedSearchCV(keras_reg, param_distribs, n_iter=10, cv=3, verbose=2)"
   ]
  },
  {
   "cell_type": "code",
   "execution_count": 262,
   "id": "44c5d333-39f2-4c4e-a083-82ce5911c3ce",
   "metadata": {
    "collapsed": true,
    "jupyter": {
     "outputs_hidden": true
    },
    "tags": []
   },
   "outputs": [
    {
     "name": "stdout",
     "output_type": "stream",
     "text": [
      "Fitting 3 folds for each of 10 candidates, totalling 30 fits\n",
      "Epoch 1/10\n",
      "242/242 [==============================] - 0s 1ms/step - loss: 6.7010 - val_loss: 4.7335\n",
      "Epoch 2/10\n",
      "242/242 [==============================] - 0s 832us/step - loss: 4.2953 - val_loss: 3.2142\n",
      "Epoch 3/10\n",
      "242/242 [==============================] - 0s 844us/step - loss: 2.9315 - val_loss: 2.2965\n",
      "Epoch 4/10\n",
      "242/242 [==============================] - 0s 973us/step - loss: 2.1188 - val_loss: 1.7214\n",
      "Epoch 5/10\n",
      "242/242 [==============================] - 0s 824us/step - loss: 1.6149 - val_loss: 1.3502\n",
      "Epoch 6/10\n",
      "242/242 [==============================] - 0s 935us/step - loss: 1.2922 - val_loss: 1.1061\n",
      "Epoch 7/10\n",
      "242/242 [==============================] - 0s 1ms/step - loss: 1.0804 - val_loss: 0.9427\n",
      "Epoch 8/10\n",
      "242/242 [==============================] - 0s 1ms/step - loss: 0.9391 - val_loss: 0.8325\n",
      "Epoch 9/10\n",
      "242/242 [==============================] - 0s 939us/step - loss: 0.8434 - val_loss: 0.7572\n",
      "Epoch 10/10\n",
      "242/242 [==============================] - 0s 977us/step - loss: 0.7779 - val_loss: 0.7054\n",
      "121/121 [==============================] - 0s 598us/step\n",
      "[CV] END learning_rate=0.0003885626779073971, n_hidden=0, n_neurons=4; total time=   2.5s\n",
      "Epoch 1/10\n",
      "242/242 [==============================] - 0s 1ms/step - loss: 6.7502 - val_loss: 5.4140\n",
      "Epoch 2/10\n",
      "242/242 [==============================] - 0s 956us/step - loss: 4.7685 - val_loss: 3.8802\n",
      "Epoch 3/10\n",
      "242/242 [==============================] - 0s 973us/step - loss: 3.4751 - val_loss: 2.8687\n",
      "Epoch 4/10\n",
      "242/242 [==============================] - 0s 923us/step - loss: 2.6188 - val_loss: 2.1946\n",
      "Epoch 5/10\n",
      "242/242 [==============================] - 0s 877us/step - loss: 2.0452 - val_loss: 1.7399\n",
      "Epoch 6/10\n",
      "242/242 [==============================] - 0s 939us/step - loss: 1.6566 - val_loss: 1.4310\n",
      "Epoch 7/10\n",
      "242/242 [==============================] - 0s 1ms/step - loss: 1.3911 - val_loss: 1.2195\n",
      "Epoch 8/10\n",
      "242/242 [==============================] - 0s 981us/step - loss: 1.2083 - val_loss: 1.0742\n",
      "Epoch 9/10\n",
      "242/242 [==============================] - 0s 935us/step - loss: 1.0810 - val_loss: 0.9728\n",
      "Epoch 10/10\n",
      "242/242 [==============================] - 0s 964us/step - loss: 0.9916 - val_loss: 0.9020\n",
      "121/121 [==============================] - 0s 474us/step\n",
      "[CV] END learning_rate=0.0003885626779073971, n_hidden=0, n_neurons=4; total time=   2.6s\n",
      "Epoch 1/10\n",
      "242/242 [==============================] - 0s 1ms/step - loss: 6.3501 - val_loss: 5.2614\n",
      "Epoch 2/10\n",
      "242/242 [==============================] - 0s 915us/step - loss: 4.3696 - val_loss: 3.7401\n",
      "Epoch 3/10\n",
      "242/242 [==============================] - 0s 869us/step - loss: 3.1344 - val_loss: 2.7743\n",
      "Epoch 4/10\n",
      "242/242 [==============================] - 0s 910us/step - loss: 2.3473 - val_loss: 2.1457\n",
      "Epoch 5/10\n",
      "242/242 [==============================] - 0s 1ms/step - loss: 1.8351 - val_loss: 1.7285\n",
      "Epoch 6/10\n",
      "242/242 [==============================] - 0s 960us/step - loss: 1.4962 - val_loss: 1.4466\n",
      "Epoch 7/10\n",
      "242/242 [==============================] - 0s 848us/step - loss: 1.2682 - val_loss: 1.2521\n",
      "Epoch 8/10\n",
      "242/242 [==============================] - 0s 886us/step - loss: 1.1124 - val_loss: 1.1159\n",
      "Epoch 9/10\n",
      "242/242 [==============================] - 0s 902us/step - loss: 1.0043 - val_loss: 1.0184\n",
      "Epoch 10/10\n",
      "242/242 [==============================] - 0s 1ms/step - loss: 0.9282 - val_loss: 0.9474\n",
      "121/121 [==============================] - 0s 515us/step\n",
      "[CV] END learning_rate=0.0003885626779073971, n_hidden=0, n_neurons=4; total time=   2.5s\n",
      "Epoch 1/10\n",
      "242/242 [==============================] - 0s 1ms/step - loss: 3.8217 - val_loss: 1.9299\n",
      "Epoch 2/10\n",
      "242/242 [==============================] - 0s 1ms/step - loss: 1.5201 - val_loss: 1.1518\n",
      "Epoch 3/10\n",
      "242/242 [==============================] - 0s 981us/step - loss: 1.0511 - val_loss: 0.8754\n",
      "Epoch 4/10\n",
      "242/242 [==============================] - ETA: 0s - loss: 0.846 - 0s 956us/step - loss: 0.8466 - val_loss: 0.7449\n",
      "Epoch 5/10\n",
      "242/242 [==============================] - 0s 1ms/step - loss: 0.7499 - val_loss: 0.6903\n",
      "Epoch 6/10\n",
      "242/242 [==============================] - 0s 977us/step - loss: 0.7094 - val_loss: 0.6667\n",
      "Epoch 7/10\n",
      "242/242 [==============================] - 0s 985us/step - loss: 0.6900 - val_loss: 0.6544\n",
      "Epoch 8/10\n",
      "242/242 [==============================] - 0s 993us/step - loss: 0.6786 - val_loss: 0.6446\n",
      "Epoch 9/10\n",
      "242/242 [==============================] - 0s 989us/step - loss: 0.6698 - val_loss: 0.6364\n",
      "Epoch 10/10\n",
      "242/242 [==============================] - 0s 1ms/step - loss: 0.6615 - val_loss: 0.6286\n",
      "121/121 [==============================] - 1s 515us/step\n",
      "[CV] END learning_rate=0.0017385239188414362, n_hidden=1, n_neurons=2; total time=   3.4s\n",
      "Epoch 1/10\n",
      "242/242 [==============================] - 0s 1ms/step - loss: 3.1742 - val_loss: 2.0738\n",
      "Epoch 2/10\n",
      "242/242 [==============================] - 0s 1ms/step - loss: 1.7681 - val_loss: 1.4211\n",
      "Epoch 3/10\n",
      "242/242 [==============================] - 0s 1ms/step - loss: 1.2817 - val_loss: 1.0614\n",
      "Epoch 4/10\n",
      "242/242 [==============================] - 0s 1ms/step - loss: 0.9564 - val_loss: 0.7952\n",
      "Epoch 5/10\n",
      "242/242 [==============================] - 0s 935us/step - loss: 0.7430 - val_loss: 0.6390\n",
      "Epoch 6/10\n",
      "242/242 [==============================] - 0s 824us/step - loss: 0.6328 - val_loss: 0.5767\n",
      "Epoch 7/10\n",
      "242/242 [==============================] - 0s 824us/step - loss: 0.5890 - val_loss: 0.5504\n",
      "Epoch 8/10\n",
      "242/242 [==============================] - 0s 824us/step - loss: 0.5657 - val_loss: 0.5329\n",
      "Epoch 9/10\n",
      "242/242 [==============================] - 0s 1ms/step - loss: 0.5506 - val_loss: 0.5204\n",
      "Epoch 10/10\n",
      "242/242 [==============================] - 0s 774us/step - loss: 0.5403 - val_loss: 0.5122\n",
      "121/121 [==============================] - 0s 449us/step\n",
      "[CV] END learning_rate=0.0017385239188414362, n_hidden=1, n_neurons=2; total time=   2.6s\n",
      "Epoch 1/10\n",
      "242/242 [==============================] - 0s 1ms/step - loss: 3.5491 - val_loss: 2.1342\n",
      "Epoch 2/10\n",
      "242/242 [==============================] - 0s 820us/step - loss: 1.8842 - val_loss: 1.5453\n",
      "Epoch 3/10\n",
      "242/242 [==============================] - 0s 828us/step - loss: 1.5036 - val_loss: 1.3183\n",
      "Epoch 4/10\n",
      "242/242 [==============================] - 0s 807us/step - loss: 1.3443 - val_loss: 1.2191\n",
      "Epoch 5/10\n",
      "242/242 [==============================] - 0s 811us/step - loss: 1.2691 - val_loss: 1.1677\n",
      "Epoch 6/10\n",
      "242/242 [==============================] - 0s 824us/step - loss: 1.2231 - val_loss: 1.1297\n",
      "Epoch 7/10\n",
      "242/242 [==============================] - 0s 799us/step - loss: 1.1850 - val_loss: 1.0926\n",
      "Epoch 8/10\n",
      "242/242 [==============================] - 0s 799us/step - loss: 1.1477 - val_loss: 1.0549\n",
      "Epoch 9/10\n",
      "242/242 [==============================] - 0s 774us/step - loss: 1.1091 - val_loss: 1.0167\n",
      "Epoch 10/10\n",
      "242/242 [==============================] - 0s 815us/step - loss: 1.0693 - val_loss: 0.9796\n",
      "121/121 [==============================] - 0s 475us/step\n",
      "[CV] END learning_rate=0.0017385239188414362, n_hidden=1, n_neurons=2; total time=   2.2s\n",
      "Epoch 1/10\n",
      "242/242 [==============================] - 0s 1ms/step - loss: 4.0367 - val_loss: 3.2808\n",
      "Epoch 2/10\n",
      "242/242 [==============================] - 0s 815us/step - loss: 2.9419 - val_loss: 2.4546\n",
      "Epoch 3/10\n",
      "242/242 [==============================] - 0s 807us/step - loss: 2.2777 - val_loss: 1.9211\n",
      "Epoch 4/10\n",
      "242/242 [==============================] - 0s 799us/step - loss: 1.8157 - val_loss: 1.5259\n",
      "Epoch 5/10\n",
      "242/242 [==============================] - 0s 786us/step - loss: 1.4572 - val_loss: 1.2137\n",
      "Epoch 6/10\n",
      "242/242 [==============================] - 0s 811us/step - loss: 1.1732 - val_loss: 0.9733\n",
      "Epoch 7/10\n",
      "242/242 [==============================] - 0s 877us/step - loss: 0.9576 - val_loss: 0.8040\n",
      "Epoch 8/10\n",
      "242/242 [==============================] - 0s 940us/step - loss: 0.8111 - val_loss: 0.6970\n",
      "Epoch 9/10\n",
      "242/242 [==============================] - 0s 811us/step - loss: 0.7194 - val_loss: 0.6330\n",
      "Epoch 10/10\n",
      "242/242 [==============================] - 0s 778us/step - loss: 0.6647 - val_loss: 0.5968\n",
      "121/121 [==============================] - 0s 457us/step\n",
      "[CV] END learning_rate=0.0003885626779073971, n_hidden=1, n_neurons=2; total time=   2.3s\n",
      "Epoch 1/10\n",
      "242/242 [==============================] - 0s 1ms/step - loss: 4.3202 - val_loss: 3.3386\n",
      "Epoch 2/10\n",
      "242/242 [==============================] - 0s 795us/step - loss: 3.0457 - val_loss: 2.5324\n",
      "Epoch 3/10\n",
      "242/242 [==============================] - 0s 782us/step - loss: 2.3833 - val_loss: 2.0578\n",
      "Epoch 4/10\n",
      "242/242 [==============================] - 0s 757us/step - loss: 1.9696 - val_loss: 1.7320\n",
      "Epoch 5/10\n",
      "242/242 [==============================] - 0s 815us/step - loss: 1.6750 - val_loss: 1.4888\n",
      "Epoch 6/10\n",
      "242/242 [==============================] - 0s 869us/step - loss: 1.4547 - val_loss: 1.3052\n",
      "Epoch 7/10\n",
      "242/242 [==============================] - 0s 931us/step - loss: 1.2894 - val_loss: 1.1676\n",
      "Epoch 8/10\n",
      "242/242 [==============================] - 0s 869us/step - loss: 1.1669 - val_loss: 1.0681\n",
      "Epoch 9/10\n",
      "242/242 [==============================] - 0s 803us/step - loss: 1.0783 - val_loss: 0.9996\n",
      "Epoch 10/10\n",
      "242/242 [==============================] - 0s 803us/step - loss: 1.0168 - val_loss: 0.9529\n",
      "121/121 [==============================] - 0s 474us/step\n",
      "[CV] END learning_rate=0.0003885626779073971, n_hidden=1, n_neurons=2; total time=   2.3s\n",
      "Epoch 1/10\n",
      "242/242 [==============================] - 0s 1ms/step - loss: 4.6912 - val_loss: 3.2321\n",
      "Epoch 2/10\n",
      "242/242 [==============================] - 0s 803us/step - loss: 2.7278 - val_loss: 2.0453\n",
      "Epoch 3/10\n",
      "242/242 [==============================] - 0s 795us/step - loss: 1.7947 - val_loss: 1.4206\n",
      "Epoch 4/10\n",
      "242/242 [==============================] - 0s 803us/step - loss: 1.2914 - val_loss: 1.0866\n",
      "Epoch 5/10\n",
      "242/242 [==============================] - 0s 778us/step - loss: 1.0219 - val_loss: 0.9062\n",
      "Epoch 6/10\n",
      "242/242 [==============================] - 0s 753us/step - loss: 0.8760 - val_loss: 0.8044\n",
      "Epoch 7/10\n",
      "242/242 [==============================] - 0s 770us/step - loss: 0.7918 - val_loss: 0.7382\n",
      "Epoch 8/10\n",
      "242/242 [==============================] - 0s 795us/step - loss: 0.7378 - val_loss: 0.6929\n",
      "Epoch 9/10\n",
      "242/242 [==============================] - 0s 770us/step - loss: 0.7000 - val_loss: 0.6590\n",
      "Epoch 10/10\n",
      "242/242 [==============================] - 0s 774us/step - loss: 0.6721 - val_loss: 0.6327\n",
      "121/121 [==============================] - 0s 449us/step\n",
      "[CV] END learning_rate=0.0003885626779073971, n_hidden=1, n_neurons=2; total time=   2.2s\n",
      "Epoch 1/10\n",
      "242/242 [==============================] - 0s 1ms/step - loss: 2.6743 - val_loss: 1.4666\n",
      "Epoch 2/10\n",
      "242/242 [==============================] - 0s 778us/step - loss: 1.3960 - val_loss: 1.2789\n",
      "Epoch 3/10\n",
      "242/242 [==============================] - 0s 807us/step - loss: 1.3344 - val_loss: 1.2704\n",
      "Epoch 4/10\n",
      "242/242 [==============================] - 0s 807us/step - loss: 1.3312 - val_loss: 1.2703\n",
      "Epoch 5/10\n",
      "242/242 [==============================] - 0s 790us/step - loss: 1.3312 - val_loss: 1.2703\n",
      "Epoch 6/10\n",
      "242/242 [==============================] - 0s 774us/step - loss: 1.3312 - val_loss: 1.2703\n",
      "Epoch 7/10\n",
      "242/242 [==============================] - 0s 778us/step - loss: 1.3310 - val_loss: 1.2706\n",
      "Epoch 8/10\n",
      "242/242 [==============================] - 0s 803us/step - loss: 1.3311 - val_loss: 1.2704\n",
      "Epoch 9/10\n",
      "242/242 [==============================] - 0s 807us/step - loss: 1.3311 - val_loss: 1.2704\n",
      "Epoch 10/10\n",
      "242/242 [==============================] - 0s 820us/step - loss: 1.3311 - val_loss: 1.2704\n",
      "121/121 [==============================] - 0s 482us/step\n",
      "[CV] END learning_rate=0.003097032220712561, n_hidden=2, n_neurons=1; total time=   2.2s\n",
      "Epoch 1/10\n",
      "242/242 [==============================] - 0s 1ms/step - loss: 2.6803 - val_loss: 1.4739\n",
      "Epoch 2/10\n",
      "242/242 [==============================] - 0s 799us/step - loss: 1.4020 - val_loss: 1.2789\n",
      "Epoch 3/10\n",
      "242/242 [==============================] - 0s 787us/step - loss: 1.3381 - val_loss: 1.2703\n",
      "Epoch 4/10\n",
      "242/242 [==============================] - 0s 778us/step - loss: 1.3352 - val_loss: 1.2703\n",
      "Epoch 5/10\n",
      "242/242 [==============================] - 0s 956us/step - loss: 1.3352 - val_loss: 1.2703\n",
      "Epoch 6/10\n",
      "242/242 [==============================] - 0s 939us/step - loss: 1.3352 - val_loss: 1.2704\n",
      "Epoch 7/10\n",
      "242/242 [==============================] - 0s 790us/step - loss: 1.3352 - val_loss: 1.2704\n",
      "Epoch 8/10\n",
      "242/242 [==============================] - 0s 799us/step - loss: 1.3352 - val_loss: 1.2704\n",
      "Epoch 9/10\n",
      "242/242 [==============================] - 0s 774us/step - loss: 1.3352 - val_loss: 1.2703\n",
      "Epoch 10/10\n",
      "242/242 [==============================] - 0s 786us/step - loss: 1.3352 - val_loss: 1.2704\n",
      "121/121 [==============================] - 0s 482us/step\n",
      "[CV] END learning_rate=0.003097032220712561, n_hidden=2, n_neurons=1; total time=   2.3s\n",
      "Epoch 1/10\n",
      "242/242 [==============================] - 0s 1ms/step - loss: 2.7474 - val_loss: 1.4580\n",
      "Epoch 2/10\n",
      "242/242 [==============================] - 0s 761us/step - loss: 1.4269 - val_loss: 1.2826\n",
      "Epoch 3/10\n",
      "242/242 [==============================] - 0s 782us/step - loss: 1.3617 - val_loss: 1.2710\n",
      "Epoch 4/10\n",
      "242/242 [==============================] - 0s 778us/step - loss: 1.3543 - val_loss: 1.2673\n",
      "Epoch 5/10\n",
      "242/242 [==============================] - 0s 762us/step - loss: 1.3510 - val_loss: 1.2647\n",
      "Epoch 6/10\n",
      "242/242 [==============================] - 0s 828us/step - loss: 1.3477 - val_loss: 1.2618\n",
      "Epoch 7/10\n",
      "242/242 [==============================] - 0s 803us/step - loss: 1.3436 - val_loss: 1.2571\n",
      "Epoch 8/10\n",
      "242/242 [==============================] - 0s 778us/step - loss: 1.3376 - val_loss: 1.2504\n",
      "Epoch 9/10\n",
      "242/242 [==============================] - 0s 836us/step - loss: 1.3278 - val_loss: 1.2392\n",
      "Epoch 10/10\n",
      "242/242 [==============================] - 0s 795us/step - loss: 1.3134 - val_loss: 1.2234\n",
      "121/121 [==============================] - 0s 507us/step\n",
      "[CV] END learning_rate=0.003097032220712561, n_hidden=2, n_neurons=1; total time=   2.3s\n",
      "Epoch 1/10\n",
      "242/242 [==============================] - 0s 1ms/step - loss: 2.4006 - val_loss: 1.1474\n",
      "Epoch 2/10\n",
      "242/242 [==============================] - 0s 836us/step - loss: 1.0358 - val_loss: 0.8395\n",
      "Epoch 3/10\n",
      "242/242 [==============================] - 0s 861us/step - loss: 0.8130 - val_loss: 0.7149\n",
      "Epoch 4/10\n",
      "242/242 [==============================] - 0s 790us/step - loss: 0.7169 - val_loss: 0.6465\n",
      "Epoch 5/10\n",
      "242/242 [==============================] - 0s 969us/step - loss: 0.6606 - val_loss: 0.6072\n",
      "Epoch 6/10\n",
      "242/242 [==============================] - 0s 977us/step - loss: 0.6278 - val_loss: 0.5816\n",
      "Epoch 7/10\n",
      "242/242 [==============================] - 0s 857us/step - loss: 0.6025 - val_loss: 0.5624\n",
      "Epoch 8/10\n",
      "242/242 [==============================] - 0s 836us/step - loss: 0.5833 - val_loss: 0.5425\n",
      "Epoch 9/10\n",
      "242/242 [==============================] - 0s 820us/step - loss: 0.5662 - val_loss: 0.5267\n",
      "Epoch 10/10\n",
      "242/242 [==============================] - 0s 911us/step - loss: 0.5505 - val_loss: 0.5135\n",
      "121/121 [==============================] - 0s 524us/step\n",
      "[CV] END learning_rate=0.0017385239188414362, n_hidden=2, n_neurons=3; total time=   2.4s\n",
      "Epoch 1/10\n",
      "242/242 [==============================] - 0s 1ms/step - loss: 2.4321 - val_loss: 1.3193\n",
      "Epoch 2/10\n",
      "242/242 [==============================] - 0s 824us/step - loss: 1.3547 - val_loss: 1.0806\n",
      "Epoch 3/10\n",
      "242/242 [==============================] - 0s 886us/step - loss: 0.9487 - val_loss: 0.8229\n",
      "Epoch 4/10\n",
      "242/242 [==============================] - 0s 1ms/step - loss: 0.8109 - val_loss: 0.7378\n",
      "Epoch 5/10\n",
      "242/242 [==============================] - 0s 840us/step - loss: 0.7415 - val_loss: 0.6961\n",
      "Epoch 6/10\n",
      "242/242 [==============================] - 0s 819us/step - loss: 0.7046 - val_loss: 0.6682\n",
      "Epoch 7/10\n",
      "242/242 [==============================] - 0s 906us/step - loss: 0.6782 - val_loss: 0.6466\n",
      "Epoch 8/10\n",
      "242/242 [==============================] - 0s 815us/step - loss: 0.6558 - val_loss: 0.6270\n",
      "Epoch 9/10\n",
      "242/242 [==============================] - 0s 832us/step - loss: 0.6346 - val_loss: 0.6048\n",
      "Epoch 10/10\n",
      "242/242 [==============================] - 0s 1ms/step - loss: 0.6085 - val_loss: 0.5778\n",
      "121/121 [==============================] - 0s 507us/step\n",
      "[CV] END learning_rate=0.0017385239188414362, n_hidden=2, n_neurons=3; total time=   2.5s\n",
      "Epoch 1/10\n",
      "242/242 [==============================] - 0s 1ms/step - loss: 3.3215 - val_loss: 1.8524\n",
      "Epoch 2/10\n",
      "242/242 [==============================] - 0s 824us/step - loss: 1.6147 - val_loss: 1.3408\n",
      "Epoch 3/10\n",
      "242/242 [==============================] - 0s 882us/step - loss: 1.3680 - val_loss: 1.2576\n",
      "Epoch 4/10\n",
      "242/242 [==============================] - 0s 969us/step - loss: 1.3026 - val_loss: 1.2173\n",
      "Epoch 5/10\n",
      "242/242 [==============================] - 0s 985us/step - loss: 1.2603 - val_loss: 1.1836\n",
      "Epoch 6/10\n",
      "242/242 [==============================] - 0s 981us/step - loss: 1.2234 - val_loss: 1.1475\n",
      "Epoch 7/10\n",
      "242/242 [==============================] - ETA: 0s - loss: 1.184 - 0s 981us/step - loss: 1.1825 - val_loss: 1.1055\n",
      "Epoch 8/10\n",
      "242/242 [==============================] - 0s 989us/step - loss: 1.1330 - val_loss: 1.0512\n",
      "Epoch 9/10\n",
      "242/242 [==============================] - 0s 836us/step - loss: 1.0672 - val_loss: 0.9773\n",
      "Epoch 10/10\n",
      "242/242 [==============================] - 0s 1ms/step - loss: 0.9775 - val_loss: 0.8829\n",
      "121/121 [==============================] - 0s 549us/step\n",
      "[CV] END learning_rate=0.0017385239188414362, n_hidden=2, n_neurons=3; total time=   2.6s\n",
      "Epoch 1/10\n",
      "242/242 [==============================] - 0s 1ms/step - loss: 7.0452 - val_loss: 4.7714\n",
      "Epoch 2/10\n",
      "242/242 [==============================] - 0s 815us/step - loss: 4.5591 - val_loss: 3.2975\n",
      "Epoch 3/10\n",
      "242/242 [==============================] - 0s 774us/step - loss: 3.1165 - val_loss: 2.3694\n",
      "Epoch 4/10\n",
      "242/242 [==============================] - 0s 745us/step - loss: 2.2378 - val_loss: 1.7704\n",
      "Epoch 5/10\n",
      "242/242 [==============================] - 0s 894us/step - loss: 1.6855 - val_loss: 1.3754\n",
      "Epoch 6/10\n",
      "242/242 [==============================] - 0s 757us/step - loss: 1.3284 - val_loss: 1.1124\n",
      "Epoch 7/10\n",
      "242/242 [==============================] - 0s 790us/step - loss: 1.0928 - val_loss: 0.9356\n",
      "Epoch 8/10\n",
      "242/242 [==============================] - 0s 869us/step - loss: 0.9361 - val_loss: 0.8164\n",
      "Epoch 9/10\n",
      "242/242 [==============================] - 0s 766us/step - loss: 0.8304 - val_loss: 0.7354\n",
      "Epoch 10/10\n",
      "242/242 [==============================] - 0s 745us/step - loss: 0.7585 - val_loss: 0.6801\n",
      "121/121 [==============================] - 0s 416us/step\n",
      "[CV] END learning_rate=0.0003885626779073971, n_hidden=0, n_neurons=3; total time=   2.2s\n",
      "Epoch 1/10\n",
      "242/242 [==============================] - 0s 1ms/step - loss: 5.6313 - val_loss: 4.7460\n",
      "Epoch 2/10\n",
      "242/242 [==============================] - 0s 741us/step - loss: 4.1206 - val_loss: 3.4899\n",
      "Epoch 3/10\n",
      "242/242 [==============================] - 0s 741us/step - loss: 3.0793 - val_loss: 2.6235\n",
      "Epoch 4/10\n",
      "242/242 [==============================] - 0s 758us/step - loss: 2.3598 - val_loss: 2.0254\n",
      "Epoch 5/10\n",
      "242/242 [==============================] - 0s 741us/step - loss: 1.8606 - val_loss: 1.6104\n",
      "Epoch 6/10\n",
      "242/242 [==============================] - 0s 799us/step - loss: 1.5129 - val_loss: 1.3222\n",
      "Epoch 7/10\n",
      "242/242 [==============================] - 0s 869us/step - loss: 1.2700 - val_loss: 1.1213\n",
      "Epoch 8/10\n",
      "242/242 [==============================] - 0s 807us/step - loss: 1.0996 - val_loss: 0.9813\n",
      "Epoch 9/10\n",
      "242/242 [==============================] - 0s 757us/step - loss: 0.9792 - val_loss: 0.8826\n",
      "Epoch 10/10\n",
      "242/242 [==============================] - 0s 778us/step - loss: 0.8938 - val_loss: 0.8132\n",
      "121/121 [==============================] - 0s 424us/step\n",
      "[CV] END learning_rate=0.0003885626779073971, n_hidden=0, n_neurons=3; total time=   2.1s\n",
      "Epoch 1/10\n",
      "242/242 [==============================] - 0s 1ms/step - loss: 6.8959 - val_loss: 5.8432\n",
      "Epoch 2/10\n",
      "242/242 [==============================] - 0s 782us/step - loss: 4.9460 - val_loss: 4.2339\n",
      "Epoch 3/10\n",
      "242/242 [==============================] - 0s 733us/step - loss: 3.6191 - val_loss: 3.1353\n",
      "Epoch 4/10\n",
      "242/242 [==============================] - 0s 766us/step - loss: 2.7120 - val_loss: 2.3820\n",
      "Epoch 5/10\n",
      "242/242 [==============================] - 0s 778us/step - loss: 2.0890 - val_loss: 1.8632\n",
      "Epoch 6/10\n",
      "242/242 [==============================] - 0s 737us/step - loss: 1.6596 - val_loss: 1.5045\n",
      "Epoch 7/10\n",
      "242/242 [==============================] - 0s 757us/step - loss: 1.3621 - val_loss: 1.2546\n",
      "Epoch 8/10\n",
      "242/242 [==============================] - 0s 766us/step - loss: 1.1546 - val_loss: 1.0792\n",
      "Epoch 9/10\n",
      "242/242 [==============================] - 0s 757us/step - loss: 1.0090 - val_loss: 0.9553\n",
      "Epoch 10/10\n",
      "242/242 [==============================] - 0s 749us/step - loss: 0.9060 - val_loss: 0.8669\n",
      "121/121 [==============================] - 0s 507us/step\n",
      "[CV] END learning_rate=0.0003885626779073971, n_hidden=0, n_neurons=3; total time=   2.1s\n",
      "Epoch 1/10\n",
      "242/242 [==============================] - 0s 1ms/step - loss: 3.8892 - val_loss: 2.5163\n",
      "Epoch 2/10\n",
      "242/242 [==============================] - 0s 857us/step - loss: 2.1469 - val_loss: 1.5099\n",
      "Epoch 3/10\n",
      "242/242 [==============================] - 0s 832us/step - loss: 1.3407 - val_loss: 1.0019\n",
      "Epoch 4/10\n",
      "242/242 [==============================] - 0s 849us/step - loss: 1.0389 - val_loss: 0.8372\n",
      "Epoch 5/10\n",
      "242/242 [==============================] - 0s 820us/step - loss: 0.8841 - val_loss: 0.7429\n",
      "Epoch 6/10\n",
      "242/242 [==============================] - 0s 865us/step - loss: 0.7953 - val_loss: 0.6832\n",
      "Epoch 7/10\n",
      "242/242 [==============================] - 0s 799us/step - loss: 0.7391 - val_loss: 0.6469\n",
      "Epoch 8/10\n",
      "242/242 [==============================] - 0s 803us/step - loss: 0.7005 - val_loss: 0.6193\n",
      "Epoch 9/10\n",
      "242/242 [==============================] - 0s 824us/step - loss: 0.6729 - val_loss: 0.6011\n",
      "Epoch 10/10\n",
      "242/242 [==============================] - 0s 832us/step - loss: 0.6521 - val_loss: 0.5871\n",
      "121/121 [==============================] - 0s 474us/step\n",
      "[CV] END learning_rate=0.0006344564654937622, n_hidden=2, n_neurons=2; total time=   2.3s\n",
      "Epoch 1/10\n",
      "242/242 [==============================] - 0s 1ms/step - loss: 4.4889 - val_loss: 2.9393\n",
      "Epoch 2/10\n",
      "242/242 [==============================] - 0s 857us/step - loss: 2.2663 - val_loss: 1.6527\n",
      "Epoch 3/10\n",
      "242/242 [==============================] - 0s 836us/step - loss: 1.4632 - val_loss: 1.2497\n",
      "Epoch 4/10\n",
      "242/242 [==============================] - 0s 873us/step - loss: 1.2388 - val_loss: 1.1401\n",
      "Epoch 5/10\n",
      "242/242 [==============================] - 0s 998us/step - loss: 1.1633 - val_loss: 1.0840\n",
      "Epoch 6/10\n",
      "242/242 [==============================] - 0s 1ms/step - loss: 1.1113 - val_loss: 1.0349\n",
      "Epoch 7/10\n",
      "242/242 [==============================] - 0s 857us/step - loss: 1.0621 - val_loss: 0.9859\n",
      "Epoch 8/10\n",
      "242/242 [==============================] - 0s 865us/step - loss: 1.0117 - val_loss: 0.9373\n",
      "Epoch 9/10\n",
      "242/242 [==============================] - 0s 894us/step - loss: 0.9625 - val_loss: 0.8916\n",
      "Epoch 10/10\n",
      "242/242 [==============================] - 0s 861us/step - loss: 0.9167 - val_loss: 0.8511\n",
      "121/121 [==============================] - 0s 491us/step\n",
      "[CV] END learning_rate=0.0006344564654937622, n_hidden=2, n_neurons=2; total time=   2.5s\n",
      "Epoch 1/10\n",
      "242/242 [==============================] - 0s 1ms/step - loss: 2.1478 - val_loss: 1.5430\n",
      "Epoch 2/10\n",
      "242/242 [==============================] - 0s 853us/step - loss: 1.3920 - val_loss: 1.2164\n",
      "Epoch 3/10\n",
      "242/242 [==============================] - 0s 840us/step - loss: 1.1485 - val_loss: 1.0390\n",
      "Epoch 4/10\n",
      "242/242 [==============================] - 0s 807us/step - loss: 1.0112 - val_loss: 0.9352\n",
      "Epoch 5/10\n",
      "242/242 [==============================] - 0s 819us/step - loss: 0.9296 - val_loss: 0.8706\n",
      "Epoch 6/10\n",
      "242/242 [==============================] - 0s 848us/step - loss: 0.8759 - val_loss: 0.8251\n",
      "Epoch 7/10\n",
      "242/242 [==============================] - 0s 811us/step - loss: 0.8399 - val_loss: 0.7944\n",
      "Epoch 8/10\n",
      "242/242 [==============================] - 0s 1ms/step - loss: 0.8118 - val_loss: 0.7693\n",
      "Epoch 9/10\n",
      "242/242 [==============================] - 0s 849us/step - loss: 0.7894 - val_loss: 0.7492\n",
      "Epoch 10/10\n",
      "242/242 [==============================] - 0s 811us/step - loss: 0.7707 - val_loss: 0.7325\n",
      "121/121 [==============================] - 0s 491us/step\n",
      "[CV] END learning_rate=0.0006344564654937622, n_hidden=2, n_neurons=2; total time=   2.4s\n",
      "Epoch 1/10\n",
      "242/242 [==============================] - 0s 1ms/step - loss: 4.9598 - val_loss: 4.1493\n",
      "Epoch 2/10\n",
      "242/242 [==============================] - 0s 853us/step - loss: 3.6978 - val_loss: 3.1400\n",
      "Epoch 3/10\n",
      "242/242 [==============================] - 0s 865us/step - loss: 2.8620 - val_loss: 2.4618\n",
      "Epoch 4/10\n",
      "242/242 [==============================] - 0s 910us/step - loss: 2.2980 - val_loss: 2.0013\n",
      "Epoch 5/10\n",
      "242/242 [==============================] - 0s 881us/step - loss: 1.9147 - val_loss: 1.6860\n",
      "Epoch 6/10\n",
      "242/242 [==============================] - 0s 906us/step - loss: 1.6506 - val_loss: 1.4656\n",
      "Epoch 7/10\n",
      "242/242 [==============================] - 0s 906us/step - loss: 1.4651 - val_loss: 1.3092\n",
      "Epoch 8/10\n",
      "242/242 [==============================] - 0s 902us/step - loss: 1.3303 - val_loss: 1.1937\n",
      "Epoch 9/10\n",
      "242/242 [==============================] - 0s 902us/step - loss: 1.2268 - val_loss: 1.1032\n",
      "Epoch 10/10\n",
      "242/242 [==============================] - 0s 840us/step - loss: 1.1430 - val_loss: 1.0290\n",
      "121/121 [==============================] - 0s 540us/step\n",
      "[CV] END learning_rate=0.0003885626779073971, n_hidden=1, n_neurons=1; total time=   2.5s\n",
      "Epoch 1/10\n",
      "242/242 [==============================] - 0s 1ms/step - loss: 5.0568 - val_loss: 3.9747\n",
      "Epoch 2/10\n",
      "242/242 [==============================] - 0s 861us/step - loss: 3.8242 - val_loss: 3.4010\n",
      "Epoch 3/10\n",
      "242/242 [==============================] - 0s 778us/step - loss: 3.2834 - val_loss: 2.9684\n",
      "Epoch 4/10\n",
      "242/242 [==============================] - 0s 795us/step - loss: 2.8859 - val_loss: 2.6264\n",
      "Epoch 5/10\n",
      "242/242 [==============================] - 0s 757us/step - loss: 2.5734 - val_loss: 2.3476\n",
      "Epoch 6/10\n",
      "242/242 [==============================] - 0s 795us/step - loss: 2.3169 - val_loss: 2.1135\n",
      "Epoch 7/10\n",
      "242/242 [==============================] - 0s 799us/step - loss: 2.0979 - val_loss: 1.9082\n",
      "Epoch 8/10\n",
      "242/242 [==============================] - 0s 865us/step - loss: 1.9039 - val_loss: 1.7232\n",
      "Epoch 9/10\n",
      "242/242 [==============================] - 0s 799us/step - loss: 1.7158 - val_loss: 1.5213\n",
      "Epoch 10/10\n",
      "242/242 [==============================] - 0s 791us/step - loss: 1.5071 - val_loss: 1.3046\n",
      "121/121 [==============================] - 0s 507us/step\n",
      "[CV] END learning_rate=0.0003885626779073971, n_hidden=1, n_neurons=1; total time=   2.3s\n",
      "Epoch 1/10\n",
      "242/242 [==============================] - 0s 1ms/step - loss: 4.1742 - val_loss: 3.5652\n",
      "Epoch 2/10\n",
      "242/242 [==============================] - 0s 840us/step - loss: 3.3730 - val_loss: 2.9147\n",
      "Epoch 3/10\n",
      "242/242 [==============================] - 0s 761us/step - loss: 2.7344 - val_loss: 2.3521\n",
      "Epoch 4/10\n",
      "242/242 [==============================] - 0s 832us/step - loss: 2.1781 - val_loss: 1.8523\n",
      "Epoch 5/10\n",
      "242/242 [==============================] - 0s 828us/step - loss: 1.7191 - val_loss: 1.4619\n",
      "Epoch 6/10\n",
      "242/242 [==============================] - 0s 819us/step - loss: 1.3773 - val_loss: 1.1664\n",
      "Epoch 7/10\n",
      "242/242 [==============================] - 0s 803us/step - loss: 1.1096 - val_loss: 0.9273\n",
      "Epoch 8/10\n",
      "242/242 [==============================] - 0s 836us/step - loss: 0.8843 - val_loss: 0.7340\n",
      "Epoch 9/10\n",
      "242/242 [==============================] - 0s 828us/step - loss: 0.7279 - val_loss: 0.6262\n",
      "Epoch 10/10\n",
      "242/242 [==============================] - 0s 844us/step - loss: 0.6479 - val_loss: 0.5755\n",
      "121/121 [==============================] - 0s 499us/step\n",
      "[CV] END learning_rate=0.0003885626779073971, n_hidden=1, n_neurons=1; total time=   2.3s\n",
      "Epoch 1/10\n",
      "242/242 [==============================] - 0s 1ms/step - loss: 3.6070 - val_loss: 1.7908\n",
      "Epoch 2/10\n",
      "242/242 [==============================] - 0s 819us/step - loss: 1.3055 - val_loss: 0.9116\n",
      "Epoch 3/10\n",
      "242/242 [==============================] - 0s 753us/step - loss: 0.8476 - val_loss: 0.7192\n",
      "Epoch 4/10\n",
      "242/242 [==============================] - 0s 741us/step - loss: 0.7335 - val_loss: 0.6664\n",
      "Epoch 5/10\n",
      "242/242 [==============================] - 0s 811us/step - loss: 0.6905 - val_loss: 0.6396\n",
      "Epoch 6/10\n",
      "242/242 [==============================] - 0s 915us/step - loss: 0.6668 - val_loss: 0.6216\n",
      "Epoch 7/10\n",
      "242/242 [==============================] - 0s 898us/step - loss: 0.6498 - val_loss: 0.6077\n",
      "Epoch 8/10\n",
      "242/242 [==============================] - 0s 1ms/step - loss: 0.6349 - val_loss: 0.5955\n",
      "Epoch 9/10\n",
      "242/242 [==============================] - 0s 910us/step - loss: 0.6223 - val_loss: 0.5841\n",
      "Epoch 10/10\n",
      "242/242 [==============================] - 0s 844us/step - loss: 0.6118 - val_loss: 0.5749\n",
      "121/121 [==============================] - 0s 416us/step\n",
      "[CV] END learning_rate=0.0017385239188414362, n_hidden=0, n_neurons=3; total time=   2.4s\n",
      "Epoch 1/10\n",
      "242/242 [==============================] - 0s 1ms/step - loss: 4.6386 - val_loss: 2.0252\n",
      "Epoch 2/10\n",
      "242/242 [==============================] - 0s 766us/step - loss: 1.4417 - val_loss: 0.9860\n",
      "Epoch 3/10\n",
      "242/242 [==============================] - 0s 782us/step - loss: 0.8914 - val_loss: 0.7506\n",
      "Epoch 4/10\n",
      "242/242 [==============================] - 0s 745us/step - loss: 0.7532 - val_loss: 0.6856\n",
      "Epoch 5/10\n",
      "242/242 [==============================] - 0s 741us/step - loss: 0.7030 - val_loss: 0.6561\n",
      "Epoch 6/10\n",
      "242/242 [==============================] - 0s 753us/step - loss: 0.6754 - val_loss: 0.6351\n",
      "Epoch 7/10\n",
      "242/242 [==============================] - 0s 815us/step - loss: 0.6573 - val_loss: 0.6207\n",
      "Epoch 8/10\n",
      "242/242 [==============================] - 0s 741us/step - loss: 0.6410 - val_loss: 0.6061\n",
      "Epoch 9/10\n",
      "242/242 [==============================] - 0s 745us/step - loss: 0.6276 - val_loss: 0.5939\n",
      "Epoch 10/10\n",
      "242/242 [==============================] - 0s 848us/step - loss: 0.6171 - val_loss: 0.5839\n",
      "121/121 [==============================] - 0s 449us/step\n",
      "[CV] END learning_rate=0.0017385239188414362, n_hidden=0, n_neurons=3; total time=   2.1s\n",
      "Epoch 1/10\n",
      "242/242 [==============================] - 0s 1ms/step - loss: 4.0954 - val_loss: 1.8985\n",
      "Epoch 2/10\n",
      "242/242 [==============================] - 0s 774us/step - loss: 1.2144 - val_loss: 0.9222\n",
      "Epoch 3/10\n",
      "242/242 [==============================] - 0s 795us/step - loss: 0.7470 - val_loss: 0.7077\n",
      "Epoch 4/10\n",
      "242/242 [==============================] - 0s 774us/step - loss: 0.6441 - val_loss: 0.6366\n",
      "Epoch 5/10\n",
      "242/242 [==============================] - 0s 762us/step - loss: 0.6117 - val_loss: 0.5999\n",
      "Epoch 6/10\n",
      "242/242 [==============================] - 0s 956us/step - loss: 0.5958 - val_loss: 0.5763\n",
      "Epoch 7/10\n",
      "242/242 [==============================] - 0s 782us/step - loss: 0.5855 - val_loss: 0.5598\n",
      "Epoch 8/10\n",
      "242/242 [==============================] - 0s 815us/step - loss: 0.5778 - val_loss: 0.5479\n",
      "Epoch 9/10\n",
      "242/242 [==============================] - 0s 749us/step - loss: 0.5718 - val_loss: 0.5391\n",
      "Epoch 10/10\n",
      "242/242 [==============================] - 0s 803us/step - loss: 0.5670 - val_loss: 0.5326\n",
      "121/121 [==============================] - 0s 449us/step\n",
      "[CV] END learning_rate=0.0017385239188414362, n_hidden=0, n_neurons=3; total time=   2.2s\n",
      "Epoch 1/10\n",
      "242/242 [==============================] - 0s 1ms/step - loss: 3.7554 - val_loss: 2.4390\n",
      "Epoch 2/10\n",
      "242/242 [==============================] - 0s 836us/step - loss: 2.0345 - val_loss: 1.4122\n",
      "Epoch 3/10\n",
      "242/242 [==============================] - 0s 869us/step - loss: 1.2229 - val_loss: 0.9016\n",
      "Epoch 4/10\n",
      "242/242 [==============================] - 0s 819us/step - loss: 0.8433 - val_loss: 0.6794\n",
      "Epoch 5/10\n",
      "242/242 [==============================] - 0s 807us/step - loss: 0.6807 - val_loss: 0.5931\n",
      "Epoch 6/10\n",
      "242/242 [==============================] - 0s 807us/step - loss: 0.6180 - val_loss: 0.5570\n",
      "Epoch 7/10\n",
      "242/242 [==============================] - 0s 786us/step - loss: 0.5883 - val_loss: 0.5390\n",
      "Epoch 8/10\n",
      "242/242 [==============================] - 0s 782us/step - loss: 0.5722 - val_loss: 0.5280\n",
      "Epoch 9/10\n",
      "242/242 [==============================] - 0s 836us/step - loss: 0.5624 - val_loss: 0.5208\n",
      "Epoch 10/10\n",
      "242/242 [==============================] - 0s 799us/step - loss: 0.5556 - val_loss: 0.5161\n",
      "121/121 [==============================] - 0s 465us/step\n",
      "[CV] END learning_rate=0.0006344564654937622, n_hidden=1, n_neurons=3; total time=   2.3s\n",
      "Epoch 1/10\n",
      "242/242 [==============================] - 0s 1ms/step - loss: 3.2608 - val_loss: 2.4360\n",
      "Epoch 2/10\n",
      "242/242 [==============================] - 0s 766us/step - loss: 2.2587 - val_loss: 1.8071\n",
      "Epoch 3/10\n",
      "242/242 [==============================] - 0s 790us/step - loss: 1.7259 - val_loss: 1.4404\n",
      "Epoch 4/10\n",
      "242/242 [==============================] - 0s 778us/step - loss: 1.4186 - val_loss: 1.2180\n",
      "Epoch 5/10\n",
      "242/242 [==============================] - 0s 786us/step - loss: 1.2023 - val_loss: 1.0573\n",
      "Epoch 6/10\n",
      "242/242 [==============================] - 0s 774us/step - loss: 1.0494 - val_loss: 0.9434\n",
      "Epoch 7/10\n",
      "242/242 [==============================] - 0s 824us/step - loss: 0.9429 - val_loss: 0.8642\n",
      "Epoch 8/10\n",
      "242/242 [==============================] - 0s 795us/step - loss: 0.8698 - val_loss: 0.8096\n",
      "Epoch 9/10\n",
      "242/242 [==============================] - 0s 786us/step - loss: 0.8197 - val_loss: 0.7719\n",
      "Epoch 10/10\n",
      "242/242 [==============================] - 0s 770us/step - loss: 0.7853 - val_loss: 0.7457\n",
      "121/121 [==============================] - 0s 466us/step\n",
      "[CV] END learning_rate=0.0006344564654937622, n_hidden=1, n_neurons=3; total time=   2.2s\n",
      "Epoch 1/10\n",
      "242/242 [==============================] - 0s 1ms/step - loss: 5.8570 - val_loss: 3.7529\n",
      "Epoch 2/10\n",
      "242/242 [==============================] - 0s 790us/step - loss: 3.2465 - val_loss: 2.6369\n",
      "Epoch 3/10\n",
      "242/242 [==============================] - 0s 832us/step - loss: 2.4541 - val_loss: 2.0674\n",
      "Epoch 4/10\n",
      "242/242 [==============================] - 0s 815us/step - loss: 1.9845 - val_loss: 1.6904\n",
      "Epoch 5/10\n",
      "242/242 [==============================] - 0s 857us/step - loss: 1.6501 - val_loss: 1.4074\n",
      "Epoch 6/10\n",
      "242/242 [==============================] - 0s 815us/step - loss: 1.3983 - val_loss: 1.1990\n",
      "Epoch 7/10\n",
      "242/242 [==============================] - 0s 803us/step - loss: 1.2072 - val_loss: 1.0388\n",
      "Epoch 8/10\n",
      "242/242 [==============================] - 0s 799us/step - loss: 1.0583 - val_loss: 0.9182\n",
      "Epoch 9/10\n",
      "242/242 [==============================] - 0s 803us/step - loss: 0.9483 - val_loss: 0.8336\n",
      "Epoch 10/10\n",
      "242/242 [==============================] - 0s 828us/step - loss: 0.8708 - val_loss: 0.7767\n",
      "121/121 [==============================] - 0s 432us/step\n",
      "[CV] END learning_rate=0.0006344564654937622, n_hidden=1, n_neurons=3; total time=   2.3s\n",
      "Epoch 1/10\n",
      "363/363 [==============================] - 0s 849us/step - loss: 3.4449 - val_loss: 1.1815\n",
      "Epoch 2/10\n",
      "363/363 [==============================] - 0s 689us/step - loss: 0.8531 - val_loss: 0.6140\n",
      "Epoch 3/10\n",
      "363/363 [==============================] - 0s 703us/step - loss: 0.6168 - val_loss: 0.5481\n",
      "Epoch 4/10\n",
      "363/363 [==============================] - 0s 686us/step - loss: 0.5819 - val_loss: 0.5341\n",
      "Epoch 5/10\n",
      "363/363 [==============================] - 0s 670us/step - loss: 0.5740 - val_loss: 0.5290\n",
      "Epoch 6/10\n",
      "363/363 [==============================] - 0s 680us/step - loss: 0.5680 - val_loss: 0.5244\n",
      "Epoch 7/10\n",
      "363/363 [==============================] - 0s 681us/step - loss: 0.5657 - val_loss: 0.5215\n",
      "Epoch 8/10\n",
      "363/363 [==============================] - 0s 711us/step - loss: 0.5595 - val_loss: 0.5191\n",
      "Epoch 9/10\n",
      "363/363 [==============================] - 0s 672us/step - loss: 0.5577 - val_loss: 0.5159\n",
      "Epoch 10/10\n",
      "363/363 [==============================] - 0s 669us/step - loss: 0.5570 - val_loss: 0.5148\n"
     ]
    },
    {
     "data": {
      "text/plain": [
       "RandomizedSearchCV(cv=3,\n",
       "                   estimator=KerasRegressor(learning_rate=0.01, model=<function build_model at 0x000002B68704B670>, n_hidden=1, n_neurons=1),\n",
       "                   param_distributions={'learning_rate': [0.0003885626779073971,\n",
       "                                                          0.003097032220712561,\n",
       "                                                          0.0017385239188414362,\n",
       "                                                          0.002678976859111158,\n",
       "                                                          0.0006344564654937622],\n",
       "                                        'n_hidden': [0, 1, 2],\n",
       "                                        'n_neurons': [1, 2, 3, 4]},\n",
       "                   verbose=2)"
      ]
     },
     "execution_count": 262,
     "metadata": {},
     "output_type": "execute_result"
    }
   ],
   "source": [
    "rnd_search_cv.fit(x_train, y_train, epochs=10,\n",
    "                  validation_data=(x_valid, y_valid),\n",
    "                  callbacks=[keras.callbacks.EarlyStopping(patience=10)])\n",
    "# 要搜索相当多的参数组合，谨慎运行"
   ]
  },
  {
   "cell_type": "code",
   "execution_count": 263,
   "id": "9933b8af-3dcb-4ca4-8bf5-35a77179b3d4",
   "metadata": {},
   "outputs": [
    {
     "data": {
      "text/plain": [
       "{'n_neurons': 3, 'n_hidden': 0, 'learning_rate': 0.0017385239188414362}"
      ]
     },
     "execution_count": 263,
     "metadata": {},
     "output_type": "execute_result"
    }
   ],
   "source": [
    "rnd_search_cv.best_params_"
   ]
  },
  {
   "cell_type": "code",
   "execution_count": 264,
   "id": "e3c18c7d-cf92-42e4-8ca1-3ea5caebb7bf",
   "metadata": {},
   "outputs": [
    {
     "data": {
      "text/plain": [
       "0.5464287929834919"
      ]
     },
     "execution_count": 264,
     "metadata": {},
     "output_type": "execute_result"
    }
   ],
   "source": [
    "rnd_search_cv.best_score_"
   ]
  },
  {
   "cell_type": "code",
   "execution_count": 265,
   "id": "093bb416-3b91-422f-b76b-5bd0a04789bf",
   "metadata": {},
   "outputs": [
    {
     "data": {
      "text/plain": [
       "KerasRegressor(\n",
       "\tmodel=<function build_model at 0x000002B68704B670>\n",
       "\tbuild_fn=None\n",
       "\twarm_start=False\n",
       "\trandom_state=None\n",
       "\toptimizer=rmsprop\n",
       "\tloss=None\n",
       "\tmetrics=None\n",
       "\tbatch_size=None\n",
       "\tvalidation_batch_size=None\n",
       "\tverbose=1\n",
       "\tcallbacks=None\n",
       "\tvalidation_split=0.0\n",
       "\tshuffle=True\n",
       "\trun_eagerly=False\n",
       "\tepochs=1\n",
       "\tn_neurons=3\n",
       "\tn_hidden=0\n",
       "\tlearning_rate=0.0017385239188414362\n",
       ")"
      ]
     },
     "execution_count": 265,
     "metadata": {},
     "output_type": "execute_result"
    }
   ],
   "source": [
    "rnd_search_cv.best_estimator_"
   ]
  },
  {
   "cell_type": "code",
   "execution_count": 266,
   "id": "637b2da1-167e-4a01-ab87-71a8b371ed98",
   "metadata": {},
   "outputs": [
    {
     "name": "stdout",
     "output_type": "stream",
     "text": [
      "162/162 [==============================] - 0s 459us/step\n"
     ]
    },
    {
     "data": {
      "text/plain": [
       "0.6149956528613277"
      ]
     },
     "execution_count": 266,
     "metadata": {},
     "output_type": "execute_result"
    }
   ],
   "source": [
    "rnd_search_cv.score(x_test, y_test)"
   ]
  },
  {
   "cell_type": "markdown",
   "id": "69472ff4-0c93-4ab2-be9b-d5bd9bf461b1",
   "metadata": {},
   "source": [
    "此时的`model`不是`tensorflow`模型，可能与`scikeras`有关，因此不再有`evaluate`方法，`score`方法返回的值即可参考"
   ]
  },
  {
   "cell_type": "code",
   "execution_count": 269,
   "id": "6a76854f-6e82-4f93-b19e-540e03b96c86",
   "metadata": {},
   "outputs": [
    {
     "data": {
      "text/plain": [
       "KerasRegressor(\n",
       "\tmodel=<function build_model at 0x000002B68704B670>\n",
       "\tbuild_fn=None\n",
       "\twarm_start=False\n",
       "\trandom_state=None\n",
       "\toptimizer=rmsprop\n",
       "\tloss=None\n",
       "\tmetrics=None\n",
       "\tbatch_size=None\n",
       "\tvalidation_batch_size=None\n",
       "\tverbose=1\n",
       "\tcallbacks=None\n",
       "\tvalidation_split=0.0\n",
       "\tshuffle=True\n",
       "\trun_eagerly=False\n",
       "\tepochs=1\n",
       "\tn_neurons=3\n",
       "\tn_hidden=0\n",
       "\tlearning_rate=0.0017385239188414362\n",
       ")"
      ]
     },
     "execution_count": 269,
     "metadata": {},
     "output_type": "execute_result"
    }
   ],
   "source": [
    "model = rnd_search_cv.best_estimator_\n",
    "model"
   ]
  },
  {
   "cell_type": "markdown",
   "id": "a13c8ef0-d18b-491b-86ef-13d84475df8b",
   "metadata": {},
   "source": [
    "## 其他超参数"
   ]
  },
  {
   "cell_type": "markdown",
   "id": "d8c8f9ce-4496-4729-9fa8-78bbd78ab0c2",
   "metadata": {},
   "source": [
    "1. 隐藏层数量：对于简单问题，从一两个隐藏层开始\n",
    "2. 每个隐藏层的神经元数量：第一层的大于其他层的神经元数量，有时候是有帮助的\n",
    "3. 学习率：一般最佳学习率约为最大学习率的一半，如果作学习率和损失的图像，最佳学习率在损失率刚刚开始回升的学习率的下方（低约10倍）\n",
    "4. 优化器：除了SGD，还可以尝试其他优化器\n",
    "5. 批量大小：一种策略是尝试使用大批量处理，慢慢最佳学习率，如果训练不稳定或结果不佳，再尝试小批量处理，一般默认为32个一组处理"
   ]
  },
  {
   "cell_type": "code",
   "execution_count": null,
   "id": "0b19a429",
   "metadata": {},
   "outputs": [],
   "source": []
  },
  {
   "cell_type": "code",
   "execution_count": null,
   "id": "e6998630",
   "metadata": {},
   "outputs": [],
   "source": []
  },
  {
   "cell_type": "code",
   "execution_count": null,
   "id": "776d26b7",
   "metadata": {},
   "outputs": [],
   "source": []
  },
  {
   "cell_type": "code",
   "execution_count": null,
   "id": "4319bdea",
   "metadata": {},
   "outputs": [],
   "source": []
  }
 ],
 "metadata": {
  "kernelspec": {
   "display_name": "Python 3 (ipykernel)",
   "language": "python",
   "name": "python3"
  },
  "language_info": {
   "codemirror_mode": {
    "name": "ipython",
    "version": 3
   },
   "file_extension": ".py",
   "mimetype": "text/x-python",
   "name": "python",
   "nbconvert_exporter": "python",
   "pygments_lexer": "ipython3",
   "version": "3.10.12"
  },
  "toc": {
   "base_numbering": 1,
   "nav_menu": {},
   "number_sections": true,
   "sideBar": true,
   "skip_h1_title": false,
   "title_cell": "Table of Contents",
   "title_sidebar": "Contents",
   "toc_cell": false,
   "toc_position": {
    "height": "calc(100% - 180px)",
    "left": "10px",
    "top": "150px",
    "width": "255.675px"
   },
   "toc_section_display": true,
   "toc_window_display": true
  },
  "toc-autonumbering": true,
  "toc-showcode": false,
  "toc-showmarkdowntxt": false,
  "varInspector": {
   "cols": {
    "lenName": 16,
    "lenType": 16,
    "lenVar": 40
   },
   "kernels_config": {
    "python": {
     "delete_cmd_postfix": "",
     "delete_cmd_prefix": "del ",
     "library": "var_list.py",
     "varRefreshCmd": "print(var_dic_list())"
    },
    "r": {
     "delete_cmd_postfix": ") ",
     "delete_cmd_prefix": "rm(",
     "library": "var_list.r",
     "varRefreshCmd": "cat(var_dic_list()) "
    }
   },
   "types_to_exclude": [
    "module",
    "function",
    "builtin_function_or_method",
    "instance",
    "_Feature"
   ],
   "window_display": false
  },
  "widgets": {
   "application/vnd.jupyter.widget-state+json": {
    "state": {},
    "version_major": 2,
    "version_minor": 0
   }
  }
 },
 "nbformat": 4,
 "nbformat_minor": 5
}
