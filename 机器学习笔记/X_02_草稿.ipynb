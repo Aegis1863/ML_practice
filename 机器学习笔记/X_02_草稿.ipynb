{
 "cells": [
  {
   "cell_type": "code",
   "execution_count": 15,
   "metadata": {},
   "outputs": [],
   "source": [
    "import numpy as np\n",
    "\n",
    "# 假设有三个数组\n",
    "array1 = np.array([[1, 2, 3], \n",
    "                   [4, 5, 6]])  # 形状为 (2, 3)\n",
    "\n",
    "array2 = np.array([[7,   8,  9], \n",
    "                   [10, 11, 12]])  # 形状为 (2, 3)\n",
    "\n",
    "array3 = np.array([[5,  23,  2], \n",
    "                   [13, 11, 32]])  # 形状为 (2, 3)\n",
    "\n",
    "array = [array1, array2, array3]"
   ]
  },
  {
   "cell_type": "code",
   "execution_count": 30,
   "metadata": {},
   "outputs": [
    {
     "data": {
      "text/plain": [
       "[array([[1, 2, 3],\n",
       "        [4, 5, 6]]),\n",
       " array([[ 7,  8,  9],\n",
       "        [10, 11, 12]]),\n",
       " array([[ 5, 23,  2],\n",
       "        [13, 11, 32]])]"
      ]
     },
     "execution_count": 30,
     "metadata": {},
     "output_type": "execute_result"
    }
   ],
   "source": [
    "array"
   ]
  },
  {
   "cell_type": "code",
   "execution_count": 27,
   "metadata": {},
   "outputs": [
    {
     "data": {
      "text/plain": [
       "array([[[ 1,  2,  3],\n",
       "        [ 4,  5,  6]],\n",
       "\n",
       "       [[ 7,  8,  9],\n",
       "        [10, 11, 12]],\n",
       "\n",
       "       [[ 5, 23,  2],\n",
       "        [13, 11, 32]]])"
      ]
     },
     "execution_count": 27,
     "metadata": {},
     "output_type": "execute_result"
    }
   ],
   "source": [
    "for i in range(len(array)):\n",
    "    if i == 0:\n",
    "        # 在每个样本上添加一个维度\n",
    "        array_expanded = np.expand_dims(array[i], axis=0)  # 形状从 (2, 3) 变为 (1, 2, 3)\n",
    "        continue\n",
    "    # 垂直拼接两个数组\n",
    "    array_expanded = np.vstack((array_expanded, np.expand_dims(array[i], axis=0)))\n",
    "\n",
    "# 输出结果\n",
    "array_expanded"
   ]
  },
  {
   "cell_type": "code",
   "execution_count": 28,
   "metadata": {},
   "outputs": [
    {
     "data": {
      "text/plain": [
       "(3, 2, 3)"
      ]
     },
     "execution_count": 28,
     "metadata": {},
     "output_type": "execute_result"
    }
   ],
   "source": [
    "array_expanded.shape  # 转好了"
   ]
  },
  {
   "cell_type": "code",
   "execution_count": 2,
   "metadata": {},
   "outputs": [
    {
     "data": {
      "text/plain": [
       "torch.return_types.sort(\n",
       "values=tensor([0.0970, 0.2764, 0.4207, 0.4482, 0.4954, 0.7378, 0.8313, 0.8407, 0.9138,\n",
       "        0.9701]),\n",
       "indices=tensor([1, 5, 3, 6, 8, 7, 2, 4, 0, 9]))"
      ]
     },
     "execution_count": 2,
     "metadata": {},
     "output_type": "execute_result"
    }
   ],
   "source": [
    "import torch\n",
    "\n",
    "torch.sort(torch.rand(10))"
   ]
  },
  {
   "cell_type": "code",
   "execution_count": null,
   "metadata": {},
   "outputs": [],
   "source": []
  }
 ],
 "metadata": {
  "kernelspec": {
   "display_name": "base",
   "language": "python",
   "name": "python3"
  },
  "language_info": {
   "codemirror_mode": {
    "name": "ipython",
    "version": 3
   },
   "file_extension": ".py",
   "mimetype": "text/x-python",
   "name": "python",
   "nbconvert_exporter": "python",
   "pygments_lexer": "ipython3",
   "version": "3.11.5"
  },
  "orig_nbformat": 4
 },
 "nbformat": 4,
 "nbformat_minor": 2
}
