{
 "cells": [
  {
   "cell_type": "code",
   "execution_count": 1,
   "metadata": {},
   "outputs": [
    {
     "name": "stdout",
     "output_type": "stream",
     "text": [
      "背包中能装入的物品的最大总价值为: [[0, 0, 0, 0, 0, 0, 0, 0, 0, 0, 0, 0, 0, 0, 0, 0, 0, 0, 0, 0, 0, 0, 0, 0, 0, 0, 0, 0, 0, 0, 0, 0, 0, 0, 0, 0, 0, 0, 0, 0, 0, 0, 0, 0, 0, 0, 0, 0, 0, 0, 0], [0, 0, 0, 0, 0, 0, 0, 0, 0, 0, 60, 60, 60, 60, 60, 60, 60, 60, 60, 60, 60, 60, 60, 60, 60, 60, 60, 60, 60, 60, 60, 60, 60, 60, 60, 60, 60, 60, 60, 60, 60, 60, 60, 60, 60, 60, 60, 60, 60, 60, 60], [0, 0, 0, 0, 0, 0, 0, 0, 0, 0, 60, 60, 60, 60, 60, 60, 60, 60, 60, 60, 100, 100, 100, 100, 100, 100, 100, 100, 100, 100, 160, 160, 160, 160, 160, 160, 160, 160, 160, 160, 160, 160, 160, 160, 160, 160, 160, 160, 160, 160, 160], [0, 0, 0, 0, 0, 0, 0, 0, 0, 0, 60, 60, 60, 60, 60, 60, 60, 60, 60, 60, 100, 100, 100, 100, 100, 100, 100, 100, 100, 100, 160, 160, 160, 160, 160, 160, 160, 160, 160, 160, 180, 180, 180, 180, 180, 180, 180, 180, 180, 180, 220]]\n"
     ]
    }
   ],
   "source": [
    "def knapsack(values, weights, capacity):\n",
    "    n = len(values)\n",
    "    dp = [[0 for _ in range(capacity + 1)] for _ in range(n + 1)]\n",
    "\n",
    "    for i in range(1, n + 1):\n",
    "        for j in range(1, capacity + 1):\n",
    "            if weights[i - 1] <= j:\n",
    "                dp[i][j] = max(dp[i - 1][j], values[i - 1] + dp[i - 1][j - weights[i - 1]])\n",
    "            else:\n",
    "                dp[i][j] = dp[i - 1][j]\n",
    "\n",
    "    return dp\n",
    "\n",
    "\n",
    "# 示例用法\n",
    "values = [60, 100, 120]  # 物品价值\n",
    "weights = [10, 20, 30]  # 物品重量\n",
    "capacity = 50  # 背包容量\n",
    "\n",
    "max_value = knapsack(values, weights, capacity)\n",
    "print(\"背包中能装入的物品的最大总价值为:\", max_value)"
   ]
  },
  {
   "cell_type": "code",
   "execution_count": 4,
   "metadata": {},
   "outputs": [
    {
     "name": "stdout",
     "output_type": "stream",
     "text": [
      "[[  0   0   0   0   0   0   0   0   0   0   0   0   0   0   0   0   0   0\n",
      "    0   0   0   0   0   0   0   0   0   0   0   0   0   0   0   0   0   0\n",
      "    0   0   0   0   0   0   0   0   0   0   0   0   0   0   0]\n",
      " [  0   0   0   0   0   0   0   0   0   0  60  60  60  60  60  60  60  60\n",
      "   60  60  60  60  60  60  60  60  60  60  60  60  60  60  60  60  60  60\n",
      "   60  60  60  60  60  60  60  60  60  60  60  60  60  60  60]\n",
      " [  0   0   0   0   0   0   0   0   0   0  60  60  60  60  60  60  60  60\n",
      "   60  60 100 100 100 100 100 100 100 100 100 100 160 160 160 160 160 160\n",
      "  160 160 160 160 160 160 160 160 160 160 160 160 160 160 160]\n",
      " [  0   0   0   0   0   0   0   0   0   0  60  60  60  60  60  60  60  60\n",
      "   60  60 100 100 100 100 100 100 100 100 100 100 160 160 160 160 160 160\n",
      "  160 160 160 160 180 180 180 180 180 180 180 180 180 180 220]]\n"
     ]
    }
   ],
   "source": [
    "import numpy as np\n",
    "print(np.array(max_value))"
   ]
  },
  {
   "cell_type": "code",
   "execution_count": 5,
   "metadata": {},
   "outputs": [
    {
     "name": "stdout",
     "output_type": "stream",
     "text": [
      "7\n",
      "4\n",
      "2\n",
      "15\n",
      "6\n",
      "14\n",
      "16\n",
      "17\n",
      "19\n",
      "1\n",
      "12\n",
      "11\n",
      "8\n",
      "10\n",
      "9\n",
      "5\n",
      "13\n",
      "20\n",
      "18\n",
      "3\n"
     ]
    }
   ],
   "source": [
    "import random\n",
    "import time\n",
    "\n",
    "# 生成1到22的数字列表\n",
    "numbers = list(range(1, 21))\n",
    "\n",
    "# 使用random模块的shuffle函数进行随机排序\n",
    "random.shuffle(numbers)\n",
    "\n",
    "# 输出排序后的数字列表\n",
    "for number in numbers:\n",
    "    time.sleep(1)\n",
    "    print(number)"
   ]
  },
  {
   "cell_type": "code",
   "execution_count": null,
   "metadata": {},
   "outputs": [],
   "source": []
  }
 ],
 "metadata": {
  "kernelspec": {
   "display_name": "base",
   "language": "python",
   "name": "python3"
  },
  "language_info": {
   "codemirror_mode": {
    "name": "ipython",
    "version": 3
   },
   "file_extension": ".py",
   "mimetype": "text/x-python",
   "name": "python",
   "nbconvert_exporter": "python",
   "pygments_lexer": "ipython3",
   "version": "3.10.12"
  },
  "orig_nbformat": 4
 },
 "nbformat": 4,
 "nbformat_minor": 2
}
