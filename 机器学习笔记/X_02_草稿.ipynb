{
 "cells": [
  {
   "cell_type": "code",
   "execution_count": 2,
   "metadata": {},
   "outputs": [],
   "source": [
    "import numpy as np\n",
    "import time\n",
    "import pandas as pd\n",
    "import matplotlib.pyplot as plt\n",
    "from tqdm import tqdm"
   ]
  },
  {
   "cell_type": "code",
   "execution_count": 5,
   "metadata": {},
   "outputs": [],
   "source": [
    "raw = pd.read_excel('E:\\\\Documents\\\\WeChat Files\\\\wxid_7986969869712\\\\FileStorage\\\\File\\\\2023-10\\\\data2.xlsx', header=None)"
   ]
  },
  {
   "cell_type": "code",
   "execution_count": 13,
   "metadata": {},
   "outputs": [
    {
     "data": {
      "text/plain": [
       "0      2137.453000\n",
       "1      3186.910740\n",
       "2      3932.432489\n",
       "3      4422.167493\n",
       "4      4704.265000\n",
       "          ...     \n",
       "664    3433.157000\n",
       "665    3435.266441\n",
       "666    3440.475306\n",
       "667    3449.669268\n",
       "668    3463.734000\n",
       "Name: 0, Length: 669, dtype: float64"
      ]
     },
     "execution_count": 13,
     "metadata": {},
     "output_type": "execute_result"
    }
   ],
   "source": [
    "raw[0]"
   ]
  },
  {
   "cell_type": "code",
   "execution_count": 7,
   "metadata": {},
   "outputs": [
    {
     "data": {
      "text/plain": [
       "(669, 13)"
      ]
     },
     "execution_count": 7,
     "metadata": {},
     "output_type": "execute_result"
    }
   ],
   "source": [
    "raw.shape"
   ]
  },
  {
   "cell_type": "code",
   "execution_count": 8,
   "metadata": {},
   "outputs": [],
   "source": [
    "data = raw[0]"
   ]
  },
  {
   "cell_type": "code",
   "execution_count": 9,
   "metadata": {},
   "outputs": [
    {
     "data": {
      "text/plain": [
       "[<matplotlib.lines.Line2D at 0x1a4545fe0d0>]"
      ]
     },
     "execution_count": 9,
     "metadata": {},
     "output_type": "execute_result"
    },
    {
     "data": {
      "image/png": "[encoded data removed]",
      "text/plain": [
       "<Figure size 640x480 with 1 Axes>"
      ]
     },
     "metadata": {},
     "output_type": "display_data"
    }
   ],
   "source": [
    "plt.plot(range(len(data)), data)"
   ]
  },
  {
   "cell_type": "code",
   "execution_count": 10,
   "metadata": {},
   "outputs": [],
   "source": [
    "data = data.reset_index(drop=True)"
   ]
  },
  {
   "cell_type": "code",
   "execution_count": 11,
   "metadata": {},
   "outputs": [
    {
     "data": {
      "text/plain": [
       "0      2137.453000\n",
       "1      3186.910740\n",
       "2      3932.432489\n",
       "3      4422.167493\n",
       "4      4704.265000\n",
       "          ...     \n",
       "664    3433.157000\n",
       "665    3435.266441\n",
       "666    3440.475306\n",
       "667    3449.669268\n",
       "668    3463.734000\n",
       "Name: 0, Length: 669, dtype: float64"
      ]
     },
     "execution_count": 11,
     "metadata": {},
     "output_type": "execute_result"
    }
   ],
   "source": [
    "data"
   ]
  },
  {
   "cell_type": "code",
   "execution_count": 19,
   "metadata": {},
   "outputs": [
    {
     "name": "stderr",
     "output_type": "stream",
     "text": [
      "                                                       \r"
     ]
    },
    {
     "name": "stdout",
     "output_type": "stream",
     "text": [
      "统计量计算用时:64.26799464225769\n",
      "延迟时间tau:5,时间窗口tw:59,嵌入维数m:12\n"
     ]
    },
    {
     "name": "stderr",
     "output_type": "stream",
     "text": [
      "                                                       \r"
     ]
    },
    {
     "name": "stdout",
     "output_type": "stream",
     "text": [
      "统计量计算用时:63.01974558830261\n",
      "延迟时间tau:14,时间窗口tw:74,嵌入维数m:6\n"
     ]
    },
    {
     "name": "stderr",
     "output_type": "stream",
     "text": [
      "                                                       \r"
     ]
    },
    {
     "name": "stdout",
     "output_type": "stream",
     "text": [
      "统计量计算用时:63.135024070739746\n",
      "延迟时间tau:6,时间窗口tw:74,嵌入维数m:13\n"
     ]
    },
    {
     "name": "stderr",
     "output_type": "stream",
     "text": [
      "                                                       \r"
     ]
    },
    {
     "name": "stdout",
     "output_type": "stream",
     "text": [
      "统计量计算用时:63.14297151565552\n",
      "延迟时间tau:10,时间窗口tw:54,嵌入维数m:6\n"
     ]
    },
    {
     "name": "stderr",
     "output_type": "stream",
     "text": [
      "                                                       \r"
     ]
    },
    {
     "name": "stdout",
     "output_type": "stream",
     "text": [
      "统计量计算用时:64.13340306282043\n",
      "延迟时间tau:6,时间窗口tw:39,嵌入维数m:7\n"
     ]
    },
    {
     "name": "stderr",
     "output_type": "stream",
     "text": [
      "                                                       \r"
     ]
    },
    {
     "name": "stdout",
     "output_type": "stream",
     "text": [
      "统计量计算用时:65.2256247997284\n",
      "延迟时间tau:4,时间窗口tw:59,嵌入维数m:15\n"
     ]
    },
    {
     "name": "stderr",
     "output_type": "stream",
     "text": [
      "                                                       \r"
     ]
    },
    {
     "name": "stdout",
     "output_type": "stream",
     "text": [
      "统计量计算用时:63.433521032333374\n",
      "延迟时间tau:6,时间窗口tw:55,嵌入维数m:10\n"
     ]
    },
    {
     "name": "stderr",
     "output_type": "stream",
     "text": [
      "                                                       \r"
     ]
    },
    {
     "name": "stdout",
     "output_type": "stream",
     "text": [
      "统计量计算用时:62.53501081466675\n",
      "延迟时间tau:4,时间窗口tw:54,嵌入维数m:14\n"
     ]
    },
    {
     "name": "stderr",
     "output_type": "stream",
     "text": [
      "                                                       \r"
     ]
    },
    {
     "name": "stdout",
     "output_type": "stream",
     "text": [
      "统计量计算用时:62.79011869430542\n",
      "延迟时间tau:6,时间窗口tw:54,嵌入维数m:10\n"
     ]
    },
    {
     "name": "stderr",
     "output_type": "stream",
     "text": [
      "                                                       \r"
     ]
    },
    {
     "name": "stdout",
     "output_type": "stream",
     "text": [
      "统计量计算用时:62.131911277770996\n",
      "延迟时间tau:4,时间窗口tw:54,嵌入维数m:14\n"
     ]
    },
    {
     "name": "stderr",
     "output_type": "stream",
     "text": [
      "                                                       \r"
     ]
    },
    {
     "name": "stdout",
     "output_type": "stream",
     "text": [
      "统计量计算用时:62.68142771720886\n",
      "延迟时间tau:4,时间窗口tw:6,嵌入维数m:2\n"
     ]
    },
    {
     "name": "stderr",
     "output_type": "stream",
     "text": [
      "                                                       \r"
     ]
    },
    {
     "name": "stdout",
     "output_type": "stream",
     "text": [
      "统计量计算用时:62.59657669067383\n",
      "延迟时间tau:8,时间窗口tw:96,嵌入维数m:13\n"
     ]
    },
    {
     "name": "stderr",
     "output_type": "stream",
     "text": [
      "                                                       "
     ]
    },
    {
     "name": "stdout",
     "output_type": "stream",
     "text": [
      "统计量计算用时:63.35727882385254\n",
      "延迟时间tau:2,时间窗口tw:59,嵌入维数m:30\n"
     ]
    },
    {
     "name": "stderr",
     "output_type": "stream",
     "text": [
      "\r"
     ]
    }
   ],
   "source": [
    "def CCMethod(data, max_d):\n",
    "    \"\"\"\n",
    "    该函数用于计算延迟时间tau和时间窗口tw\n",
    "    data:输入的时间序列-->1维向量\n",
    "    max_d:最大延迟时间\n",
    "    \"\"\"\n",
    "    N = len(data)  # 168\n",
    "    S_mean = np.zeros([1, max_d])  # 重构的每个维度的均值初始化\n",
    "    Sdelta_mean = np.zeros([1, max_d])\n",
    "    Scor = np.zeros([1, max_d])\n",
    "    sigma = np.std(data)  # 标准差\n",
    "    r_division = list(range(1, 5))\n",
    "    m_list = list(range(2, 6))\n",
    "    # r的取值是自己定的\n",
    "    # m-->[2,5]\n",
    "    # r-->[sigma/2, 2sigma]\n",
    "    # 将sigma拆分成4等分:[sigma/2,sigma,3sigma/2,2sigma]=sigma/2*[1,2,3,4]\n",
    "\n",
    "    for t in range(1, max_d+1):  # 1到100\n",
    "        with tqdm(total=len(m_list), desc='<%d/%d>' % (t, max_d), leave=False) as pbar:\n",
    "            S = np.zeros([len(m_list), len(r_division)])  # (4,4)\n",
    "            S_delta = np.zeros([1, len(m_list)])  # (1,4)\n",
    "            for m in m_list:  # 2到5\n",
    "                for r_d in r_division:  # 1到4\n",
    "                    r = sigma/2 * r_d\n",
    "                    # 分解成t个不相交的时间序列\n",
    "                    sub_data = subdivide(data, t)  # 对的(int(N/t), t)\n",
    "                    s = 0\n",
    "                    Cs1 = np.zeros([t])  # t个\n",
    "                    # Cs1 = np.zeros([t+1])\n",
    "                    Cs = np.zeros([t])\n",
    "                    # Cs = np.zeros([t+1])\n",
    "                    # 索引为t+1\n",
    "                    # for tau in range(t):# t=0-->1,t=4-->5\n",
    "                    for tau in range(1, t+1):  # 1,..,t\n",
    "                        N_t = N // t\n",
    "                        # Y = sub_data[:, tau]\n",
    "                        Y = sub_data[:, tau-1]  # 索引值为tau-1-->(N_t, 1)\n",
    "                        for i in range(N_t-1):\n",
    "                            for j in range(i, N_t):\n",
    "                                d1 = np.abs(Y[i] - Y[j])\n",
    "                                if r > d1:\n",
    "                                    # Cs1[tau] += 1\n",
    "                                    Cs1[tau-1] += 1\n",
    "                        # Cs1[tau] = 2*Cs1[tau] / (N_t*(N_t-1)) # 延迟为tau的关联积分\n",
    "                        Cs1[tau-1] = 2 * Cs1[tau-1] / (N_t * (N_t-1))\n",
    "                        Z = reconstruction(Y, m, 1)  # (m, N_t-(m-1))\n",
    "                        # 相空间重构\n",
    "                        M = N_t - (m - 1)\n",
    "                        # print(M)\n",
    "                        # 计算C(m, N/t, r, t)\n",
    "                        # Cs[tau] = correlation_integral(Z, M, r)\n",
    "                        Cs[tau-1] = correlation_integral(Z, M, r)\n",
    "                        # 对t个不相关的时间序列求和\n",
    "                        s += Cs[tau-1] - Cs1[tau-1]**m\n",
    "                    # 计算每个m和r下的统计量s(m,r,t)\n",
    "                    # 对应的索引m-2, r_d-1\n",
    "                    S[m-2, r_d-1] = s/tau\n",
    "                # 差量计算\n",
    "                S_delta[0, m-2] = max(S[m-2, :])-min(S[m-2, :])\n",
    "                pbar.update(1)\n",
    "        # 计算平均值,索引其实是t-1\n",
    "        # S_mean[1, t] = np.mean(np.mean(S_delta))\n",
    "        S_mean[0, t-1] = np.mean(np.mean(S))\n",
    "        # Sdelta_mean[1, t]=np.mean(S_delta)\n",
    "        Sdelta_mean[0, t-1] = np.mean(S_delta)\n",
    "        # Scor[1, t] = abs(S_mean[1, t]+Sdelta_mean[1, t])\n",
    "        Scor[0, t-1] = np.abs(S_mean[0, t-1]+Sdelta_mean[0, t-1])\n",
    "    return Sdelta_mean, Scor\n",
    "\n",
    "# 拆分t个不相交的时间序列\n",
    "\n",
    "\n",
    "def subdivide(data, t):  # t=t+1\n",
    "    \"\"\"\n",
    "    将长度为n的时间序列拆分成n/t * t的矩阵，\n",
    "    \"\"\"\n",
    "    # t = t+1\n",
    "    n = len(data)\n",
    "    Data = np.zeros([int(n/t), t])\n",
    "    for i in range(t):\n",
    "        assert t != 0\n",
    "        for j in range(int(n/t)):\n",
    "            Data[j, i] = data[i + j * t]\n",
    "    return Data\n",
    "\n",
    "# 相空间重构\n",
    "\n",
    "\n",
    "def reconstruction(data, m, tau):\n",
    "    \"\"\"\n",
    "    该函数用来重构相空间\n",
    "    m:嵌入维数\n",
    "    tau：时间延迟\n",
    "    return:Data-->(m,n)\n",
    "    \"\"\"\n",
    "    n = len(data)\n",
    "    M = n - (m-1) * tau\n",
    "    Data = np.zeros([m, M])\n",
    "    for j in range(M):\n",
    "        for i in range(m):\n",
    "            Data[i, j] = data[i*tau+j]\n",
    "    return Data\n",
    "\n",
    "\n",
    "def correlation_integral(Z, M, r):\n",
    "    \"\"\"\n",
    "    该函数用来计算关联积分\n",
    "    return:C_I-->关联积分值\n",
    "    \"\"\"\n",
    "    sum_H = 0\n",
    "    for i in range(M-1):\n",
    "        for j in range(i+1, M):\n",
    "            # 求范数，无穷大\n",
    "            d = np.linalg.norm(Z[:, i]-Z[:, j], ord=np.inf)\n",
    "            if r > d:\n",
    "                sum_H += 1\n",
    "    C_I = 2*sum_H / (M * (M-1))\n",
    "    return C_I\n",
    "\n",
    "\n",
    "def get_tau(Sdelta_mean):  # 有可能是局部最小值,相当于第一次找到\n",
    "    Sdelta_mean = Sdelta_mean.reshape(-1)\n",
    "    for i in range(1, len(Sdelta_mean)-1):\n",
    "        if Sdelta_mean[i] < Sdelta_mean[i-1] and Sdelta_mean[i] < Sdelta_mean[i+1]:\n",
    "            tau = i\n",
    "            return tau+1\n",
    "        else:\n",
    "            continue\n",
    "\n",
    "\n",
    "def get_tw(Scor):\n",
    "    Scor = Scor.reshape(-1)\n",
    "    return np.argmin(Scor)+1\n",
    "\n",
    "\n",
    "def get_embedding_m(tau, t_w):\n",
    "    assert tau != 0\n",
    "    return int(t_w / tau) + 1\n",
    "\n",
    "\n",
    "for i in range(len(raw.columns)):\n",
    "    data = raw[i]\n",
    "    max_d = 100\n",
    "    start = time.time()\n",
    "    Sdelta_mean, Scor = CCMethod(data, max_d)\n",
    "    print(f\"统计量计算用时:{time.time()-start}\")\n",
    "    tau = get_tau(Sdelta_mean)\n",
    "    t_w = get_tw(Scor)\n",
    "    m = get_embedding_m(tau, t_w)\n",
    "    print(f\"延迟时间tau:{tau},时间窗口tw:{t_w},嵌入维数m:{m}\")"
   ]
  },
  {
   "cell_type": "code",
   "execution_count": null,
   "metadata": {},
   "outputs": [],
   "source": []
  }
 ],
 "metadata": {
  "kernelspec": {
   "display_name": "base",
   "language": "python",
   "name": "python3"
  },
  "language_info": {
   "codemirror_mode": {
    "name": "ipython",
    "version": 3
   },
   "file_extension": ".py",
   "mimetype": "text/x-python",
   "name": "python",
   "nbconvert_exporter": "python",
   "pygments_lexer": "ipython3",
   "version": "3.11.5"
  },
  "orig_nbformat": 4
 },
 "nbformat": 4,
 "nbformat_minor": 2
}
