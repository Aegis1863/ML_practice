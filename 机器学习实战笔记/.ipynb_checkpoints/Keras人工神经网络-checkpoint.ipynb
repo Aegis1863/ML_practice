{
 "cells": [
  {
   "cell_type": "code",
   "execution_count": 1,
   "id": "e05ceaa1-1ff0-42c5-90f6-cbcb94542c66",
   "metadata": {},
   "outputs": [],
   "source": [
    "import tensorflow as tf\n",
    "from tensorflow import keras"
   ]
  },
  {
   "cell_type": "code",
   "execution_count": 2,
   "id": "c58f2093-742d-4f25-b75f-adb6baa55569",
   "metadata": {},
   "outputs": [
    {
     "data": {
      "text/plain": [
       "'2.7.0'"
      ]
     },
     "execution_count": 2,
     "metadata": {},
     "output_type": "execute_result"
    }
   ],
   "source": [
    "tf.__version__"
   ]
  },
  {
   "cell_type": "code",
   "execution_count": 3,
   "id": "8b426368-a189-4641-9243-c718c6614295",
   "metadata": {},
   "outputs": [
    {
     "data": {
      "text/plain": [
       "'2.7.0'"
      ]
     },
     "execution_count": 3,
     "metadata": {},
     "output_type": "execute_result"
    }
   ],
   "source": [
    "keras.__version__"
   ]
  },
  {
   "cell_type": "markdown",
   "id": "0b369371-07e8-46bd-8950-070fdb3136c9",
   "metadata": {},
   "source": [
    "# 准备数据"
   ]
  },
  {
   "cell_type": "code",
   "execution_count": 10,
   "id": "b769b130-55d0-4711-bcc2-499be17e4282",
   "metadata": {},
   "outputs": [],
   "source": [
    "fashion_mnist = keras.datasets.fashion_mnist\n",
    "(x_train_full, y_train_full), (x_test, y_test) = fashion_mnist.load_data()"
   ]
  },
  {
   "cell_type": "code",
   "execution_count": 14,
   "id": "dfc1ac56-5cbd-4b38-a656-fab83010aa7a",
   "metadata": {},
   "outputs": [
    {
     "data": {
      "text/plain": [
       "(60000, 28, 28)"
      ]
     },
     "execution_count": 14,
     "metadata": {},
     "output_type": "execute_result"
    }
   ],
   "source": [
    "x_train_full.shape"
   ]
  },
  {
   "cell_type": "code",
   "execution_count": 17,
   "id": "1f017496-accd-40d9-8919-89a5c252419c",
   "metadata": {},
   "outputs": [
    {
     "data": {
      "text/plain": [
       "dtype('uint8')"
      ]
     },
     "execution_count": 17,
     "metadata": {},
     "output_type": "execute_result"
    }
   ],
   "source": [
    "x_train_full.dtype"
   ]
  },
  {
   "cell_type": "markdown",
   "id": "ba667c3f-546d-4d95-bea9-7ab7e6230dd7",
   "metadata": {},
   "source": [
    "## 划分验证集并缩放"
   ]
  },
  {
   "cell_type": "code",
   "execution_count": 20,
   "id": "12e67787-8980-4d05-9f07-044d4fa853bb",
   "metadata": {},
   "outputs": [],
   "source": [
    "x_valid, x_train = x_train_full[:5000] / 255, x_train_full[5000:] / 255\n",
    "y_valid, y_train = y_train_full[:5000], y_train_full[5000:]"
   ]
  },
  {
   "cell_type": "code",
   "execution_count": 23,
   "id": "35495da5-a8c1-4590-8eb7-00532ab7c71c",
   "metadata": {},
   "outputs": [],
   "source": [
    "class_names = ['T-shirt/top', 'Trouser', 'Pullover', 'Dress', 'Coat', 'Sandal', 'Shirt', 'Snearker', 'Bag', 'Ankle boot']"
   ]
  },
  {
   "cell_type": "code",
   "execution_count": 25,
   "id": "87cffc90-9e3d-4dd4-9407-069c06139703",
   "metadata": {},
   "outputs": [
    {
     "data": {
      "text/plain": [
       "'Coat'"
      ]
     },
     "execution_count": 25,
     "metadata": {},
     "output_type": "execute_result"
    }
   ],
   "source": [
    "class_names[y_train[0]]"
   ]
  },
  {
   "cell_type": "markdown",
   "id": "b5b1272b-a58c-468e-8ee8-07d5c7ffc73d",
   "metadata": {},
   "source": [
    "# 构建模型"
   ]
  },
  {
   "cell_type": "code",
   "execution_count": 30,
   "id": "53b0c064-b76b-45f9-9ed0-61ce753ff282",
   "metadata": {},
   "outputs": [],
   "source": [
    "model = keras.models.Sequential([\n",
    "    keras.layers.Flatten(input_shape=[28, 28]),\n",
    "    keras.layers.Dense(300, activation='relu'),\n",
    "    keras.layers.Dense(100, activation='relu'),\n",
    "    keras.layers.Dense(10, activation='softmax')\n",
    "])"
   ]
  },
  {
   "cell_type": "code",
   "execution_count": 31,
   "id": "dc787e6e-282a-4673-bbd5-b5204ce78fa0",
   "metadata": {},
   "outputs": [
    {
     "name": "stdout",
     "output_type": "stream",
     "text": [
      "Model: \"sequential_3\"\n",
      "_________________________________________________________________\n",
      " Layer (type)                Output Shape              Param #   \n",
      "=================================================================\n",
      " flatten_3 (Flatten)         (None, 784)               0         \n",
      "                                                                 \n",
      " dense_9 (Dense)             (None, 300)               235500    \n",
      "                                                                 \n",
      " dense_10 (Dense)            (None, 100)               30100     \n",
      "                                                                 \n",
      " dense_11 (Dense)            (None, 10)                1010      \n",
      "                                                                 \n",
      "=================================================================\n",
      "Total params: 266,610\n",
      "Trainable params: 266,610\n",
      "Non-trainable params: 0\n",
      "_________________________________________________________________\n"
     ]
    }
   ],
   "source": [
    "model.summary()"
   ]
  },
  {
   "cell_type": "code",
   "execution_count": 32,
   "id": "950c30ea-c7e9-4837-818b-e5e27a9611c0",
   "metadata": {},
   "outputs": [
    {
     "data": {
      "text/plain": [
       "[<keras.layers.core.flatten.Flatten at 0x1dfc27d7700>,\n",
       " <keras.layers.core.dense.Dense at 0x1dfc27d7820>,\n",
       " <keras.layers.core.dense.Dense at 0x1dfc2df6dc0>,\n",
       " <keras.layers.core.dense.Dense at 0x1dfc2df6fd0>]"
      ]
     },
     "execution_count": 32,
     "metadata": {},
     "output_type": "execute_result"
    }
   ],
   "source": [
    "model.layers  # 层列表"
   ]
  },
  {
   "cell_type": "code",
   "execution_count": 33,
   "id": "8c8ba2a3-3d21-495a-ad7d-28c9cf0689d8",
   "metadata": {},
   "outputs": [],
   "source": [
    "hidden1 = model.layers[1]"
   ]
  },
  {
   "cell_type": "code",
   "execution_count": 34,
   "id": "613f9350-8bce-4e02-b2b6-133649e2f327",
   "metadata": {},
   "outputs": [
    {
     "data": {
      "text/plain": [
       "<keras.layers.core.dense.Dense at 0x1dfc27d7820>"
      ]
     },
     "execution_count": 34,
     "metadata": {},
     "output_type": "execute_result"
    }
   ],
   "source": [
    "hidden1"
   ]
  },
  {
   "cell_type": "code",
   "execution_count": 35,
   "id": "37a39794-66b1-4534-9e3d-7eb76825b05a",
   "metadata": {},
   "outputs": [
    {
     "data": {
      "text/plain": [
       "'dense_9'"
      ]
     },
     "execution_count": 35,
     "metadata": {},
     "output_type": "execute_result"
    }
   ],
   "source": [
    "hidden1.name"
   ]
  },
  {
   "cell_type": "code",
   "execution_count": 47,
   "id": "a18025f6-8576-4215-a289-5a906023bac2",
   "metadata": {},
   "outputs": [
    {
     "data": {
      "text/plain": [
       "<keras.layers.core.dense.Dense at 0x1dfc27d7820>"
      ]
     },
     "execution_count": 47,
     "metadata": {},
     "output_type": "execute_result"
    }
   ],
   "source": [
    "model.get_layer('dense_9')  # 按名称获取层"
   ]
  },
  {
   "cell_type": "code",
   "execution_count": 43,
   "id": "cbdca0e1-c3e0-4468-a6e0-71c780d00887",
   "metadata": {},
   "outputs": [],
   "source": [
    "weights, biases = hidden1.get_weights()  # 获取权重参数和偏置项参数"
   ]
  },
  {
   "cell_type": "code",
   "execution_count": 44,
   "id": "cdc8e958-5ae2-4a2d-b539-cdeb30ec282b",
   "metadata": {},
   "outputs": [
    {
     "data": {
      "text/plain": [
       "array([[-0.05511151, -0.02714069,  0.0420567 , ...,  0.03350724,\n",
       "         0.07103585, -0.00568399],\n",
       "       [-0.04508139, -0.00801832, -0.06267993, ..., -0.0508313 ,\n",
       "        -0.00716964,  0.05474666],\n",
       "       [-0.0428817 , -0.01672209, -0.05342979, ..., -0.02347419,\n",
       "        -0.04389402,  0.04454839],\n",
       "       ...,\n",
       "       [-0.04167753,  0.0703208 , -0.00719715, ..., -0.0171505 ,\n",
       "        -0.04852818,  0.02601258],\n",
       "       [-0.00987913,  0.07296954, -0.04417089, ...,  0.04076646,\n",
       "         0.07087436, -0.0527807 ],\n",
       "       [ 0.06370726, -0.07073297, -0.04463859, ..., -0.02147884,\n",
       "        -0.0690982 ,  0.02092235]], dtype=float32)"
      ]
     },
     "execution_count": 44,
     "metadata": {},
     "output_type": "execute_result"
    }
   ],
   "source": [
    "weights"
   ]
  },
  {
   "cell_type": "code",
   "execution_count": 45,
   "id": "2bd652aa-9ec5-4a69-9ecf-576568f09c5b",
   "metadata": {},
   "outputs": [
    {
     "data": {
      "text/plain": [
       "(784, 300)"
      ]
     },
     "execution_count": 45,
     "metadata": {},
     "output_type": "execute_result"
    }
   ],
   "source": [
    "weights.shape"
   ]
  },
  {
   "cell_type": "code",
   "execution_count": 48,
   "id": "71bef3f0-96e4-4ddb-9730-69413d1f86c9",
   "metadata": {},
   "outputs": [
    {
     "data": {
      "text/plain": [
       "array([0., 0., 0., 0., 0., 0., 0., 0., 0., 0., 0., 0., 0., 0., 0., 0., 0.,\n",
       "       0., 0., 0.], dtype=float32)"
      ]
     },
     "execution_count": 48,
     "metadata": {},
     "output_type": "execute_result"
    }
   ],
   "source": [
    "biases[:20]"
   ]
  },
  {
   "cell_type": "code",
   "execution_count": 49,
   "id": "51560eb9-e140-4619-902c-1b2a0970bc27",
   "metadata": {},
   "outputs": [
    {
     "data": {
      "text/plain": [
       "(300,)"
      ]
     },
     "execution_count": 49,
     "metadata": {},
     "output_type": "execute_result"
    }
   ],
   "source": [
    "biases.shape"
   ]
  },
  {
   "cell_type": "code",
   "execution_count": null,
   "id": "926c0082-dc11-4ca1-9eac-b3baa5eaad83",
   "metadata": {},
   "outputs": [],
   "source": []
  }
 ],
 "metadata": {
  "kernelspec": {
   "display_name": "Python 3 (ipykernel)",
   "language": "python",
   "name": "python3"
  },
  "language_info": {
   "codemirror_mode": {
    "name": "ipython",
    "version": 3
   },
   "file_extension": ".py",
   "mimetype": "text/x-python",
   "name": "python",
   "nbconvert_exporter": "python",
   "pygments_lexer": "ipython3",
   "version": "3.9.7"
  },
  "toc-autonumbering": true
 },
 "nbformat": 4,
 "nbformat_minor": 5
}
