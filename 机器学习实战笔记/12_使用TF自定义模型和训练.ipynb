{
 "cells": [
  {
   "cell_type": "code",
   "execution_count": 1,
   "id": "1b544a83",
   "metadata": {
    "ExecuteTime": {
     "end_time": "2022-02-24T04:40:50.381050Z",
     "start_time": "2022-02-24T04:40:44.515643Z"
    }
   },
   "outputs": [],
   "source": [
    "import tensorflow as tf"
   ]
  },
  {
   "cell_type": "markdown",
   "id": "860c228f",
   "metadata": {},
   "source": [
    "# Tensorflow操作"
   ]
  },
  {
   "cell_type": "markdown",
   "id": "89770a7b",
   "metadata": {},
   "source": [
    "## 张量和操作"
   ]
  },
  {
   "cell_type": "code",
   "execution_count": 4,
   "id": "491a81a6",
   "metadata": {
    "ExecuteTime": {
     "end_time": "2022-02-24T06:20:36.404914Z",
     "start_time": "2022-02-24T06:20:36.386722Z"
    }
   },
   "outputs": [],
   "source": [
    "t = tf.constant([[1, 2, 3], \n",
    "                 [4, 5, 6]])  # 2*3矩阵，类似numpy"
   ]
  },
  {
   "cell_type": "code",
   "execution_count": 5,
   "id": "7c81c79d",
   "metadata": {
    "ExecuteTime": {
     "end_time": "2022-02-24T06:20:36.729880Z",
     "start_time": "2022-02-24T06:20:36.710868Z"
    }
   },
   "outputs": [
    {
     "data": {
      "text/plain": [
       "<tf.Tensor: shape=(), dtype=int32, numpy=42>"
      ]
     },
     "execution_count": 5,
     "metadata": {},
     "output_type": "execute_result"
    }
   ],
   "source": [
    "tf.constant(42) # 标量"
   ]
  },
  {
   "cell_type": "code",
   "execution_count": 8,
   "id": "73799517",
   "metadata": {
    "ExecuteTime": {
     "end_time": "2022-02-24T06:21:24.287336Z",
     "start_time": "2022-02-24T06:21:24.268742Z"
    }
   },
   "outputs": [
    {
     "data": {
      "text/plain": [
       "<tf.Tensor: shape=(2, 2), dtype=int32, numpy=\n",
       "array([[2, 3],\n",
       "       [5, 6]])>"
      ]
     },
     "execution_count": 8,
     "metadata": {},
     "output_type": "execute_result"
    }
   ],
   "source": [
    "t[:, 1:] # 索引类似numpy，先行后列"
   ]
  },
  {
   "cell_type": "code",
   "execution_count": 15,
   "id": "de675752",
   "metadata": {
    "ExecuteTime": {
     "end_time": "2022-02-24T06:30:35.228702Z",
     "start_time": "2022-02-24T06:30:35.212368Z"
    }
   },
   "outputs": [
    {
     "data": {
      "text/plain": [
       "<tf.Tensor: shape=(2,), dtype=int32, numpy=array([2, 5])>"
      ]
     },
     "execution_count": 15,
     "metadata": {},
     "output_type": "execute_result"
    }
   ],
   "source": [
    "t[..., 1] # \"...\" 表示前（后）全部维度，即替换若干冒号"
   ]
  },
  {
   "cell_type": "code",
   "execution_count": 18,
   "id": "7985f522",
   "metadata": {
    "ExecuteTime": {
     "end_time": "2022-02-24T06:31:49.000261Z",
     "start_time": "2022-02-24T06:31:48.979292Z"
    }
   },
   "outputs": [
    {
     "data": {
      "text/plain": [
       "<tf.Tensor: shape=(2, 1), dtype=int32, numpy=\n",
       "array([[2],\n",
       "       [5]])>"
      ]
     },
     "execution_count": 18,
     "metadata": {},
     "output_type": "execute_result"
    }
   ],
   "source": [
    "t[..., 1, tf.newaxis] # tf.newaxis增加新维度，放在右侧为增加一个列维度，放在左边增加一个行维度"
   ]
  },
  {
   "cell_type": "code",
   "execution_count": 19,
   "id": "323fcbe7",
   "metadata": {
    "ExecuteTime": {
     "end_time": "2022-02-24T06:43:58.548207Z",
     "start_time": "2022-02-24T06:43:58.539330Z"
    }
   },
   "outputs": [
    {
     "data": {
      "text/plain": [
       "<tf.Tensor: shape=(2, 3), dtype=int32, numpy=\n",
       "array([[1, 2, 3],\n",
       "       [4, 5, 6]])>"
      ]
     },
     "execution_count": 19,
     "metadata": {},
     "output_type": "execute_result"
    }
   ],
   "source": [
    "t"
   ]
  },
  {
   "cell_type": "code",
   "execution_count": 20,
   "id": "16c3b65e",
   "metadata": {
    "ExecuteTime": {
     "end_time": "2022-02-24T06:44:03.858086Z",
     "start_time": "2022-02-24T06:44:03.831359Z"
    }
   },
   "outputs": [
    {
     "data": {
      "text/plain": [
       "<tf.Tensor: shape=(2, 3), dtype=int32, numpy=\n",
       "array([[11, 12, 13],\n",
       "       [14, 15, 16]])>"
      ]
     },
     "execution_count": 20,
     "metadata": {},
     "output_type": "execute_result"
    }
   ],
   "source": [
    "t + 10"
   ]
  },
  {
   "cell_type": "code",
   "execution_count": 21,
   "id": "c2f4a4b7",
   "metadata": {
    "ExecuteTime": {
     "end_time": "2022-02-24T06:51:26.030590Z",
     "start_time": "2022-02-24T06:51:26.018589Z"
    }
   },
   "outputs": [
    {
     "data": {
      "text/plain": [
       "<tf.Tensor: shape=(2, 3), dtype=int32, numpy=\n",
       "array([[ 1,  4,  9],\n",
       "       [16, 25, 36]])>"
      ]
     },
     "execution_count": 21,
     "metadata": {},
     "output_type": "execute_result"
    }
   ],
   "source": [
    "tf.square(t) # 平方"
   ]
  },
  {
   "cell_type": "code",
   "execution_count": 23,
   "id": "69d88c0a",
   "metadata": {
    "ExecuteTime": {
     "end_time": "2022-02-24T06:51:47.381341Z",
     "start_time": "2022-02-24T06:51:47.359536Z"
    }
   },
   "outputs": [
    {
     "data": {
      "text/plain": [
       "<tf.Tensor: shape=(3, 2), dtype=int32, numpy=\n",
       "array([[1, 4],\n",
       "       [2, 5],\n",
       "       [3, 6]])>"
      ]
     },
     "execution_count": 23,
     "metadata": {},
     "output_type": "execute_result"
    }
   ],
   "source": [
    "tf.transpose(t) # 转置"
   ]
  },
  {
   "cell_type": "code",
   "execution_count": 24,
   "id": "87c2788f",
   "metadata": {
    "ExecuteTime": {
     "end_time": "2022-02-24T06:52:42.349219Z",
     "start_time": "2022-02-24T06:52:42.327435Z"
    }
   },
   "outputs": [
    {
     "data": {
      "text/plain": [
       "<tf.Tensor: shape=(2, 2), dtype=int32, numpy=\n",
       "array([[14, 32],\n",
       "       [32, 77]])>"
      ]
     },
     "execution_count": 24,
     "metadata": {},
     "output_type": "execute_result"
    }
   ],
   "source": [
    "t @ tf.transpose(t) # 矩阵乘法"
   ]
  },
  {
   "cell_type": "code",
   "execution_count": 27,
   "id": "f2349119",
   "metadata": {
    "ExecuteTime": {
     "end_time": "2022-02-24T06:57:38.267278Z",
     "start_time": "2022-02-24T06:57:38.253287Z"
    }
   },
   "outputs": [
    {
     "data": {
      "text/plain": [
       "<tf.Tensor: shape=(2, 2), dtype=int32, numpy=\n",
       "array([[14, 32],\n",
       "       [32, 77]])>"
      ]
     },
     "execution_count": 27,
     "metadata": {},
     "output_type": "execute_result"
    }
   ],
   "source": [
    "tf.matmul(t, tf.transpose(t)) # 矩阵乘法"
   ]
  },
  {
   "cell_type": "code",
   "execution_count": 25,
   "id": "0cd7b468",
   "metadata": {
    "ExecuteTime": {
     "end_time": "2022-02-24T06:56:22.925199Z",
     "start_time": "2022-02-24T06:56:22.899571Z"
    }
   },
   "outputs": [
    {
     "data": {
      "text/plain": [
       "<tf.Tensor: shape=(), dtype=int32, numpy=6>"
      ]
     },
     "execution_count": 25,
     "metadata": {},
     "output_type": "execute_result"
    }
   ],
   "source": [
    "tf.reduce_max(t)"
   ]
  },
  {
   "cell_type": "code",
   "execution_count": 26,
   "id": "2b51c070",
   "metadata": {
    "ExecuteTime": {
     "end_time": "2022-02-24T06:57:12.885214Z",
     "start_time": "2022-02-24T06:57:12.873223Z"
    }
   },
   "outputs": [
    {
     "data": {
      "text/plain": [
       "<tf.Tensor: shape=(), dtype=int32, numpy=21>"
      ]
     },
     "execution_count": 26,
     "metadata": {},
     "output_type": "execute_result"
    }
   ],
   "source": [
    "tf.reduce_sum(t)"
   ]
  },
  {
   "cell_type": "markdown",
   "id": "ca47c558",
   "metadata": {},
   "source": [
    "## 张量与Numpy配合"
   ]
  },
  {
   "cell_type": "code",
   "execution_count": 30,
   "id": "927848d2",
   "metadata": {
    "ExecuteTime": {
     "end_time": "2022-02-24T06:59:54.909240Z",
     "start_time": "2022-02-24T06:59:54.900797Z"
    }
   },
   "outputs": [],
   "source": [
    "import numpy as np"
   ]
  },
  {
   "cell_type": "code",
   "execution_count": 31,
   "id": "fb56dbfa",
   "metadata": {
    "ExecuteTime": {
     "end_time": "2022-02-24T06:59:55.174090Z",
     "start_time": "2022-02-24T06:59:55.171600Z"
    }
   },
   "outputs": [],
   "source": [
    "a = np.array([2, 4, 5])"
   ]
  },
  {
   "cell_type": "code",
   "execution_count": 32,
   "id": "67571224",
   "metadata": {
    "ExecuteTime": {
     "end_time": "2022-02-24T07:00:13.910073Z",
     "start_time": "2022-02-24T07:00:13.901545Z"
    }
   },
   "outputs": [
    {
     "data": {
      "text/plain": [
       "<tf.Tensor: shape=(3,), dtype=int32, numpy=array([2, 4, 5])>"
      ]
     },
     "execution_count": 32,
     "metadata": {},
     "output_type": "execute_result"
    }
   ],
   "source": [
    "tf.constant(a)"
   ]
  },
  {
   "cell_type": "code",
   "execution_count": 33,
   "id": "118d65f8",
   "metadata": {
    "ExecuteTime": {
     "end_time": "2022-02-24T07:00:28.374355Z",
     "start_time": "2022-02-24T07:00:28.355549Z"
    }
   },
   "outputs": [
    {
     "data": {
      "text/plain": [
       "array([[1, 2, 3],\n",
       "       [4, 5, 6]])"
      ]
     },
     "execution_count": 33,
     "metadata": {},
     "output_type": "execute_result"
    }
   ],
   "source": [
    "t.numpy()"
   ]
  },
  {
   "cell_type": "code",
   "execution_count": 34,
   "id": "f987b4dd",
   "metadata": {
    "ExecuteTime": {
     "end_time": "2022-02-24T07:00:41.733933Z",
     "start_time": "2022-02-24T07:00:41.720789Z"
    }
   },
   "outputs": [
    {
     "data": {
      "text/plain": [
       "<tf.Tensor: shape=(2, 3), dtype=int32, numpy=\n",
       "array([[ 1,  4,  9],\n",
       "       [16, 25, 36]])>"
      ]
     },
     "execution_count": 34,
     "metadata": {},
     "output_type": "execute_result"
    }
   ],
   "source": [
    "tf.square(t)"
   ]
  },
  {
   "cell_type": "code",
   "execution_count": 36,
   "id": "9b4c5b8e",
   "metadata": {
    "ExecuteTime": {
     "end_time": "2022-02-24T07:00:51.229997Z",
     "start_time": "2022-02-24T07:00:51.215696Z"
    }
   },
   "outputs": [
    {
     "data": {
      "text/plain": [
       "array([[ 1,  4,  9],\n",
       "       [16, 25, 36]], dtype=int32)"
      ]
     },
     "execution_count": 36,
     "metadata": {},
     "output_type": "execute_result"
    }
   ],
   "source": [
    "np.square(t)"
   ]
  },
  {
   "cell_type": "markdown",
   "id": "aa32b81b",
   "metadata": {},
   "source": [
    "## 类型转换"
   ]
  },
  {
   "cell_type": "markdown",
   "id": "38d80eae",
   "metadata": {},
   "source": [
    "必须要注意数据类型，比如浮点张量不能和整数张量相加，不能相加32位浮点张量和64位浮点张量。\n",
    "\n",
    "tensorflow默认使用32位精度，Numpy默认64位"
   ]
  },
  {
   "cell_type": "code",
   "execution_count": 43,
   "id": "c930ad1d",
   "metadata": {
    "ExecuteTime": {
     "end_time": "2022-02-24T07:11:45.431373Z",
     "start_time": "2022-02-24T07:11:45.398971Z"
    }
   },
   "outputs": [
    {
     "ename": "InvalidArgumentError",
     "evalue": "cannot compute AddV2 as input #1(zero-based) was expected to be a float tensor but is a int32 tensor [Op:AddV2]",
     "output_type": "error",
     "traceback": [
      "\u001b[1;31m---------------------------------------------------------------------------\u001b[0m",
      "\u001b[1;31mInvalidArgumentError\u001b[0m                      Traceback (most recent call last)",
      "\u001b[1;32m~\\AppData\\Local\\Temp/ipykernel_17380/2129067455.py\u001b[0m in \u001b[0;36m<module>\u001b[1;34m\u001b[0m\n\u001b[1;32m----> 1\u001b[1;33m \u001b[0mtf\u001b[0m\u001b[1;33m.\u001b[0m\u001b[0mconstant\u001b[0m\u001b[1;33m(\u001b[0m\u001b[1;36m2.\u001b[0m\u001b[1;33m)\u001b[0m \u001b[1;33m+\u001b[0m \u001b[0mtf\u001b[0m\u001b[1;33m.\u001b[0m\u001b[0mconstant\u001b[0m\u001b[1;33m(\u001b[0m\u001b[1;36m40\u001b[0m\u001b[1;33m)\u001b[0m \u001b[1;31m# 报错\u001b[0m\u001b[1;33m\u001b[0m\u001b[1;33m\u001b[0m\u001b[0m\n\u001b[0m",
      "\u001b[1;32mD:\\anaconda3\\lib\\site-packages\\tensorflow\\python\\util\\traceback_utils.py\u001b[0m in \u001b[0;36merror_handler\u001b[1;34m(*args, **kwargs)\u001b[0m\n\u001b[0;32m    151\u001b[0m     \u001b[1;32mexcept\u001b[0m \u001b[0mException\u001b[0m \u001b[1;32mas\u001b[0m \u001b[0me\u001b[0m\u001b[1;33m:\u001b[0m\u001b[1;33m\u001b[0m\u001b[1;33m\u001b[0m\u001b[0m\n\u001b[0;32m    152\u001b[0m       \u001b[0mfiltered_tb\u001b[0m \u001b[1;33m=\u001b[0m \u001b[0m_process_traceback_frames\u001b[0m\u001b[1;33m(\u001b[0m\u001b[0me\u001b[0m\u001b[1;33m.\u001b[0m\u001b[0m__traceback__\u001b[0m\u001b[1;33m)\u001b[0m\u001b[1;33m\u001b[0m\u001b[1;33m\u001b[0m\u001b[0m\n\u001b[1;32m--> 153\u001b[1;33m       \u001b[1;32mraise\u001b[0m \u001b[0me\u001b[0m\u001b[1;33m.\u001b[0m\u001b[0mwith_traceback\u001b[0m\u001b[1;33m(\u001b[0m\u001b[0mfiltered_tb\u001b[0m\u001b[1;33m)\u001b[0m \u001b[1;32mfrom\u001b[0m \u001b[1;32mNone\u001b[0m\u001b[1;33m\u001b[0m\u001b[1;33m\u001b[0m\u001b[0m\n\u001b[0m\u001b[0;32m    154\u001b[0m     \u001b[1;32mfinally\u001b[0m\u001b[1;33m:\u001b[0m\u001b[1;33m\u001b[0m\u001b[1;33m\u001b[0m\u001b[0m\n\u001b[0;32m    155\u001b[0m       \u001b[1;32mdel\u001b[0m \u001b[0mfiltered_tb\u001b[0m\u001b[1;33m\u001b[0m\u001b[1;33m\u001b[0m\u001b[0m\n",
      "\u001b[1;32mD:\\anaconda3\\lib\\site-packages\\tensorflow\\python\\framework\\ops.py\u001b[0m in \u001b[0;36mraise_from_not_ok_status\u001b[1;34m(e, name)\u001b[0m\n\u001b[0;32m   7184\u001b[0m \u001b[1;32mdef\u001b[0m \u001b[0mraise_from_not_ok_status\u001b[0m\u001b[1;33m(\u001b[0m\u001b[0me\u001b[0m\u001b[1;33m,\u001b[0m \u001b[0mname\u001b[0m\u001b[1;33m)\u001b[0m\u001b[1;33m:\u001b[0m\u001b[1;33m\u001b[0m\u001b[1;33m\u001b[0m\u001b[0m\n\u001b[0;32m   7185\u001b[0m   \u001b[0me\u001b[0m\u001b[1;33m.\u001b[0m\u001b[0mmessage\u001b[0m \u001b[1;33m+=\u001b[0m \u001b[1;33m(\u001b[0m\u001b[1;34m\" name: \"\u001b[0m \u001b[1;33m+\u001b[0m \u001b[0mname\u001b[0m \u001b[1;32mif\u001b[0m \u001b[0mname\u001b[0m \u001b[1;32mis\u001b[0m \u001b[1;32mnot\u001b[0m \u001b[1;32mNone\u001b[0m \u001b[1;32melse\u001b[0m \u001b[1;34m\"\"\u001b[0m\u001b[1;33m)\u001b[0m\u001b[1;33m\u001b[0m\u001b[1;33m\u001b[0m\u001b[0m\n\u001b[1;32m-> 7186\u001b[1;33m   \u001b[1;32mraise\u001b[0m \u001b[0mcore\u001b[0m\u001b[1;33m.\u001b[0m\u001b[0m_status_to_exception\u001b[0m\u001b[1;33m(\u001b[0m\u001b[0me\u001b[0m\u001b[1;33m)\u001b[0m \u001b[1;32mfrom\u001b[0m \u001b[1;32mNone\u001b[0m  \u001b[1;31m# pylint: disable=protected-access\u001b[0m\u001b[1;33m\u001b[0m\u001b[1;33m\u001b[0m\u001b[0m\n\u001b[0m\u001b[0;32m   7187\u001b[0m \u001b[1;33m\u001b[0m\u001b[0m\n\u001b[0;32m   7188\u001b[0m \u001b[1;33m\u001b[0m\u001b[0m\n",
      "\u001b[1;31mInvalidArgumentError\u001b[0m: cannot compute AddV2 as input #1(zero-based) was expected to be a float tensor but is a int32 tensor [Op:AddV2]"
     ]
    }
   ],
   "source": [
    "tf.constant(2.) + tf.constant(40) # 报错"
   ]
  },
  {
   "cell_type": "code",
   "execution_count": 44,
   "id": "34681979",
   "metadata": {
    "ExecuteTime": {
     "end_time": "2022-02-24T07:11:45.711397Z",
     "start_time": "2022-02-24T07:11:45.694385Z"
    }
   },
   "outputs": [],
   "source": [
    "t2 = tf.constant(40, dtype=tf.float64)"
   ]
  },
  {
   "cell_type": "code",
   "execution_count": 45,
   "id": "b8f26ac3",
   "metadata": {
    "ExecuteTime": {
     "end_time": "2022-02-24T07:11:46.147579Z",
     "start_time": "2022-02-24T07:11:46.133426Z"
    }
   },
   "outputs": [
    {
     "data": {
      "text/plain": [
       "<tf.Tensor: shape=(), dtype=float32, numpy=42.0>"
      ]
     },
     "execution_count": 45,
     "metadata": {},
     "output_type": "execute_result"
    }
   ],
   "source": [
    "tf.constant(2.0) + tf.cast(t2, tf.float32) # tf.cast() 转换类型"
   ]
  },
  {
   "cell_type": "markdown",
   "id": "0e3a35c7",
   "metadata": {},
   "source": [
    "## 变量\n",
    "\n",
    "tf.Tensor 自身值是不变的，tf.Variable则可以变化"
   ]
  },
  {
   "cell_type": "code",
   "execution_count": 46,
   "id": "01e5a1a2",
   "metadata": {
    "ExecuteTime": {
     "end_time": "2022-02-24T07:17:45.197451Z",
     "start_time": "2022-02-24T07:17:45.163293Z"
    }
   },
   "outputs": [],
   "source": [
    "v = tf.Variable([[1., 2., 3.],[4., 5., 6.]])"
   ]
  },
  {
   "cell_type": "code",
   "execution_count": 47,
   "id": "70d1bbb4",
   "metadata": {
    "ExecuteTime": {
     "end_time": "2022-02-24T07:17:45.896852Z",
     "start_time": "2022-02-24T07:17:45.872929Z"
    }
   },
   "outputs": [
    {
     "data": {
      "text/plain": [
       "<tf.Variable 'Variable:0' shape=(2, 3) dtype=float32, numpy=\n",
       "array([[1., 2., 3.],\n",
       "       [4., 5., 6.]], dtype=float32)>"
      ]
     },
     "execution_count": 47,
     "metadata": {},
     "output_type": "execute_result"
    }
   ],
   "source": [
    "v"
   ]
  },
  {
   "cell_type": "code",
   "execution_count": 50,
   "id": "b4b1a0a6",
   "metadata": {
    "ExecuteTime": {
     "end_time": "2022-02-24T07:19:30.543182Z",
     "start_time": "2022-02-24T07:19:30.529174Z"
    }
   },
   "outputs": [
    {
     "data": {
      "text/plain": [
       "<tf.Variable 'UnreadVariable' shape=(2, 3) dtype=float32, numpy=\n",
       "array([[ 4.,  8., 12.],\n",
       "       [16., 20., 24.]], dtype=float32)>"
      ]
     },
     "execution_count": 50,
     "metadata": {},
     "output_type": "execute_result"
    }
   ],
   "source": [
    "v.assign(2 * v) # 分配值"
   ]
  },
  {
   "cell_type": "code",
   "execution_count": 52,
   "id": "da45528e",
   "metadata": {
    "ExecuteTime": {
     "end_time": "2022-02-24T07:19:53.548728Z",
     "start_time": "2022-02-24T07:19:53.526568Z"
    }
   },
   "outputs": [
    {
     "data": {
      "text/plain": [
       "<tf.Variable 'UnreadVariable' shape=(2, 3) dtype=float32, numpy=\n",
       "array([[ 4., 42., 12.],\n",
       "       [16., 20., 24.]], dtype=float32)>"
      ]
     },
     "execution_count": 52,
     "metadata": {},
     "output_type": "execute_result"
    }
   ],
   "source": [
    "v[0, 1].assign(42) # 指定位置重新分配值"
   ]
  },
  {
   "cell_type": "code",
   "execution_count": 57,
   "id": "a066c67d",
   "metadata": {
    "ExecuteTime": {
     "end_time": "2022-02-24T08:23:23.695218Z",
     "start_time": "2022-02-24T08:23:23.676405Z"
    }
   },
   "outputs": [
    {
     "data": {
      "text/plain": [
       "<tf.Variable 'UnreadVariable' shape=(2, 3) dtype=float32, numpy=\n",
       "array([[100.,  42.,  12.],\n",
       "       [ 16.,  20., 200.]], dtype=float32)>"
      ]
     },
     "execution_count": 57,
     "metadata": {},
     "output_type": "execute_result"
    }
   ],
   "source": [
    "v.scatter_nd_update(indices=[[0, 0], [1, 2]], updates=[100., 200.]) # 指定位置和更新值"
   ]
  },
  {
   "cell_type": "markdown",
   "id": "634cbc76",
   "metadata": {},
   "source": [
    "## 其他数据结构\n",
    "\n",
    "书337"
   ]
  },
  {
   "cell_type": "markdown",
   "id": "2ae25fa2",
   "metadata": {},
   "source": [
    "# 定制模型和训练算法"
   ]
  },
  {
   "cell_type": "markdown",
   "id": "296106db",
   "metadata": {},
   "source": [
    "## 自定义损失函数"
   ]
  },
  {
   "attachments": {
    "image-2.png": {
     "image/png": "[encoded data removed]"
    },
    "image.png": {
     "image/png": "[encoded data removed]"
    }
   },
   "cell_type": "markdown",
   "id": "ece865c3",
   "metadata": {},
   "source": [
    "Huber损失——平滑平均绝对误差，替代MSE\n",
    "\n",
    "![image.png](attachment:image.png)\n",
    "\n",
    "![image-2.png](attachment:image-2.png)"
   ]
  },
  {
   "cell_type": "code",
   "execution_count": 1,
   "id": "fbecc8ce",
   "metadata": {
    "ExecuteTime": {
     "end_time": "2022-02-24T08:41:46.272369Z",
     "start_time": "2022-02-24T08:41:46.263370Z"
    }
   },
   "outputs": [],
   "source": [
    "from tensorflow import keras"
   ]
  },
  {
   "cell_type": "code",
   "execution_count": 2,
   "id": "b5ab8c07",
   "metadata": {
    "ExecuteTime": {
     "end_time": "2022-02-24T08:44:52.694241Z",
     "start_time": "2022-02-24T08:44:52.670711Z"
    }
   },
   "outputs": [],
   "source": [
    "# 提取数据\n",
    "from sklearn.datasets import fetch_california_housing\n",
    "from sklearn.model_selection import train_test_split\n",
    "from sklearn.preprocessing import StandardScaler\n",
    "\n",
    "housing = fetch_california_housing()\n",
    "X_train_full, X_test, y_train_full, y_test = train_test_split(\n",
    "    housing.data, housing.target.reshape(-1, 1), random_state=42)\n",
    "X_train, X_valid, y_train, y_valid = train_test_split(\n",
    "    X_train_full, y_train_full, random_state=42)\n",
    "\n",
    "scaler = StandardScaler()\n",
    "X_train_scaled = scaler.fit_transform(X_train)\n",
    "X_valid_scaled = scaler.transform(X_valid)\n",
    "X_test_scaled = scaler.transform(X_test)"
   ]
  },
  {
   "cell_type": "code",
   "execution_count": 76,
   "id": "1d4ce8e5",
   "metadata": {
    "ExecuteTime": {
     "end_time": "2022-02-24T08:45:03.526420Z",
     "start_time": "2022-02-24T08:45:03.492392Z"
    }
   },
   "outputs": [],
   "source": [
    "input_shape = X_train.shape[1:]\n",
    "\n",
    "model = keras.models.Sequential([\n",
    "    keras.layers.Dense(30, activation=\"selu\", kernel_initializer=\"lecun_normal\",\n",
    "                       input_shape=input_shape),\n",
    "    keras.layers.Dense(1),\n",
    "])"
   ]
  },
  {
   "cell_type": "code",
   "execution_count": 19,
   "id": "6abada87",
   "metadata": {
    "ExecuteTime": {
     "end_time": "2022-02-24T08:41:46.082860Z",
     "start_time": "2022-02-24T08:41:46.072648Z"
    }
   },
   "outputs": [],
   "source": [
    "def create_huber(threshold=1.0):\n",
    "    def huber_fn(y_true, y_pred):\n",
    "        error = y_true - y_pred\n",
    "        is_small_error = tf.abs(error) < threshold\n",
    "        squared_loss = tf.square(error) / 2\n",
    "        linear_loss  = threshold * tf.abs(error) - threshold**2 / 2\n",
    "        return tf.where(is_small_error, squared_loss, linear_loss)\n",
    "    return huber_fn"
   ]
  },
  {
   "cell_type": "code",
   "execution_count": 77,
   "id": "4ac8da59",
   "metadata": {
    "ExecuteTime": {
     "end_time": "2022-02-24T08:45:04.037980Z",
     "start_time": "2022-02-24T08:45:04.030982Z"
    }
   },
   "outputs": [],
   "source": [
    "model.compile(loss=create_huber(2), optimizer='nadam')  # 指定自定义的损失函数 create_huber()"
   ]
  },
  {
   "cell_type": "code",
   "execution_count": 78,
   "id": "45252388",
   "metadata": {
    "ExecuteTime": {
     "end_time": "2022-02-24T08:45:12.892464Z",
     "start_time": "2022-02-24T08:45:11.918003Z"
    }
   },
   "outputs": [
    {
     "name": "stdout",
     "output_type": "stream",
     "text": [
      "Epoch 1/2\n",
      "363/363 [==============================] - 1s 846us/step - loss: 0.7910 - val_loss: 0.4718\n",
      "Epoch 2/2\n",
      "363/363 [==============================] - 0s 657us/step - loss: 0.2530 - val_loss: 0.3770\n"
     ]
    },
    {
     "data": {
      "text/plain": [
       "<keras.callbacks.History at 0x201da19dee0>"
      ]
     },
     "execution_count": 78,
     "metadata": {},
     "output_type": "execute_result"
    }
   ],
   "source": [
    "model.fit(X_train_scaled, y_train, epochs=2,\n",
    "          validation_data=(X_valid_scaled, y_valid))"
   ]
  },
  {
   "cell_type": "markdown",
   "id": "36fe399f",
   "metadata": {},
   "source": [
    "## 保存加载包含自定义组件的模型"
   ]
  },
  {
   "cell_type": "code",
   "execution_count": 82,
   "id": "4bfabf47",
   "metadata": {
    "ExecuteTime": {
     "end_time": "2022-02-24T09:11:24.276956Z",
     "start_time": "2022-02-24T09:11:24.226241Z"
    }
   },
   "outputs": [],
   "source": [
    "model.save(r\"model\\my_model_with_a_custom_loss_threshold_2.h5\")\n",
    "# 直接保存不会保存损失函数的阈值\n",
    "model = keras.models.load_model(r\"model\\my_model_with_a_custom_loss_threshold_2.h5\",\n",
    "                                custom_objects={\"huber_fn\": create_huber(2.0)})"
   ]
  },
  {
   "cell_type": "code",
   "execution_count": 12,
   "id": "a6b73f32",
   "metadata": {
    "ExecuteTime": {
     "end_time": "2022-02-24T09:15:14.635322Z",
     "start_time": "2022-02-24T09:15:14.625316Z"
    }
   },
   "outputs": [],
   "source": [
    "# 通过创建keras.losses.Loss类的子类，然后实现get_config()方法来保存参数\n",
    "class HuberLoss(keras.losses.Loss):\n",
    "    def __init__(self, threshold=1.0, **kwargs):\n",
    "        self.threshold = threshold\n",
    "        super().__init__(**kwargs)\n",
    "    def call(self, y_true, y_pred):\n",
    "        error = y_true - y_pred\n",
    "        is_small_error = tf.abs(error) < self.threshold\n",
    "        squared_loss = tf.square(error) / 2\n",
    "        linear_loss = self.threshold * tf.abs(error) - self.threshold**2 / 2\n",
    "        return tf.where(is_small_error, squared_loss, linear_loss)\n",
    "    def get_config(self):\n",
    "        base_config = super().get_config() # 继承keras.losses.Loss的get_config()方法来保存参数\n",
    "        return {**base_config, 'threshold': self.threshold}"
   ]
  },
  {
   "cell_type": "code",
   "execution_count": 15,
   "id": "2a363e90",
   "metadata": {
    "ExecuteTime": {
     "end_time": "2022-02-24T09:15:14.853784Z",
     "start_time": "2022-02-24T09:15:14.845783Z"
    }
   },
   "outputs": [],
   "source": [
    "model.compile(loss=HuberLoss(2.), optimizer='nadam')"
   ]
  },
  {
   "cell_type": "code",
   "execution_count": 93,
   "id": "cf8a56f9",
   "metadata": {
    "ExecuteTime": {
     "end_time": "2022-02-24T09:16:34.376211Z",
     "start_time": "2022-02-24T09:16:34.360211Z"
    }
   },
   "outputs": [],
   "source": [
    "model.save(r\"model\\my_model_with_a_custom_loss_threshold_2.h5\")\n",
    "# 保存模型时，keras调用损失实例的get_config()方法，并将配置JSON格式保存到HDF5文件中，加载模型时将参数传递给函数"
   ]
  },
  {
   "cell_type": "code",
   "execution_count": 14,
   "id": "8c172f34",
   "metadata": {
    "ExecuteTime": {
     "end_time": "2022-02-24T09:16:34.580495Z",
     "start_time": "2022-02-24T09:16:34.553324Z"
    }
   },
   "outputs": [],
   "source": [
    "model = keras.models.load_model(r\"model\\my_model_with_a_custom_loss_threshold_2.h5\",\n",
    "                               custom_objects={'HuberLoss': HuberLoss})\n",
    "# 无需再指定阈值"
   ]
  },
  {
   "cell_type": "markdown",
   "id": "751a8645-2a5d-46a6-9300-ddd03b0e84f7",
   "metadata": {},
   "source": [
    "## 自定义激活函数、初始化、正则化和约束"
   ]
  },
  {
   "cell_type": "code",
   "execution_count": 1,
   "id": "cb740b1d-df0f-43e5-8612-93b2d91fd0f0",
   "metadata": {
    "ExecuteTime": {
     "end_time": "2022-02-27T09:16:41.186937Z",
     "start_time": "2022-02-27T09:16:34.579924Z"
    }
   },
   "outputs": [],
   "source": [
    "import tensorflow as tf\n",
    "from tensorflow import keras"
   ]
  },
  {
   "cell_type": "code",
   "execution_count": 6,
   "id": "6e01e04e-0d49-4ce1-8e4e-7dc2c895c4fa",
   "metadata": {},
   "outputs": [],
   "source": [
    "def my_softplus(z): # 相当于tf.nn.softplus(z)\n",
    "    return tf.math.log(tf.exp(z) + 1.0)\n",
    "\n",
    "def my_glorot_initializer(shape, dtype=tf.float32):  # 相当于glorot_initializer(shape)\n",
    "    stddev = tf.sqrt(2. / (shape[0] + shape[1]))\n",
    "    return tf.random.normal(shape, stddev=stddev, dtype=dtype)\n",
    "\n",
    "def my_l1_regularizer(weights):\n",
    "    return tf.reduce_sum(tf.abs(0.01 * weight))\n",
    "\n",
    "def my_positive_weights(weights): # 相当于tf.nn.relu(weights)，约束权重大于0\n",
    "    return tf.where(weights < 0., tf.zeros_like(weights), weights)"
   ]
  },
  {
   "cell_type": "code",
   "execution_count": 7,
   "id": "2aed24d6-4d63-47bb-90df-26e862d92c22",
   "metadata": {},
   "outputs": [],
   "source": [
    "layer = keras.layers.Dense(30, activation=my_softplus,\n",
    "                          kernel_initializer=my_glorot_initializer,\n",
    "                          kernel_regularizer=my_l1_regularizer,\n",
    "                          kernel_constraint=my_positive_weights)"
   ]
  },
  {
   "cell_type": "code",
   "execution_count": 10,
   "id": "e54ba886-ff7c-4b3e-99de-47823faea685",
   "metadata": {},
   "outputs": [],
   "source": [
    "# 保存正则化参数的l1正则化的简单类\n",
    "class MyL1Regularizer(keras.regularizers.Regularizer):\n",
    "    def __init__(self, factor):\n",
    "        self.factor = factor\n",
    "    def __call__(self, weights):\n",
    "        return tf.reduce_sum(tf.abs(self.factor * weights))\n",
    "    def get_config(self):  # 不用调用父类构造函数\n",
    "        return {'factor': self.factor}"
   ]
  },
  {
   "cell_type": "markdown",
   "id": "bd0a062a-f52d-4e5c-ad6d-1a70b93523e2",
   "metadata": {},
   "source": [
    "> 必须为损失、层（包括激活函数）和模型实现call()方法，或者为正则化、初始化和约束实现__call__()方法，对于指标则情况不同。"
   ]
  },
  {
   "cell_type": "markdown",
   "id": "04d04c27-3fc5-4239-a9cb-77034e5d8f2d",
   "metadata": {},
   "source": [
    "##  自定义指标"
   ]
  },
  {
   "cell_type": "markdown",
   "id": "fe48f002-8c4f-4f77-87fe-ec244049ed65",
   "metadata": {},
   "source": [
    "损失（如交叉熵）被梯度下降用来训练模型，因此他们必须是可微的（至少在求值的地方），并且梯度在任何地方都不应为0，另外损失如果不容易被人类理解也没有问题。\n",
    "\n",
    "相反，指标（如准确率）用于评估模型，他们必须更容易被解释，并且可以是不可微的或在各处具有0梯度。\n",
    "\n",
    "大多数情况下，定义一个自定义指标函数与定义一个自定义损失函数完全相同，实际上，我们甚至可以将之前创建的Huber损失函数用作指标（但是建议用MSE或MAE）。"
   ]
  },
  {
   "cell_type": "code",
   "execution_count": 20,
   "id": "0be3a20c-019d-436a-84f6-744e9b35cd1a",
   "metadata": {},
   "outputs": [],
   "source": [
    "model.compile(loss='mse', optimizer='nadam', metrics=[create_huber(2.0)])"
   ]
  },
  {
   "cell_type": "code",
   "execution_count": 21,
   "id": "4d3225a6-a46e-465a-97dc-be328fea63b3",
   "metadata": {},
   "outputs": [],
   "source": [
    "# keras.metrics.Precision类可以跟踪真正的数量和假正的数量\n",
    "precision = keras.metrics.Precision()"
   ]
  },
  {
   "cell_type": "code",
   "execution_count": 22,
   "id": "b0fc24ff-476c-4bef-878c-ade00b9adb9f",
   "metadata": {},
   "outputs": [
    {
     "data": {
      "text/plain": [
       "<tf.Tensor: shape=(), dtype=float32, numpy=0.8>"
      ]
     },
     "execution_count": 22,
     "metadata": {},
     "output_type": "execute_result"
    }
   ],
   "source": [
    "precision([0, 1, 1, 1, 0, 1, 0, 1], [1, 1, 0, 1, 0, 1, 0, 1])"
   ]
  },
  {
   "cell_type": "code",
   "execution_count": 24,
   "id": "7a66b229-b34a-4f54-b7de-6d4f0fd4d014",
   "metadata": {},
   "outputs": [
    {
     "data": {
      "text/plain": [
       "<tf.Tensor: shape=(), dtype=float32, numpy=0.8>"
      ]
     },
     "execution_count": 24,
     "metadata": {},
     "output_type": "execute_result"
    }
   ],
   "source": [
    "# 可以调用result()方法来获取指标的当前值，可以使用variables属性查看其变量，并且可以使用reset_states()方法重置这些变量\n",
    "precision.result()"
   ]
  },
  {
   "cell_type": "code",
   "execution_count": 25,
   "id": "a5e57f9a-c743-4314-a896-af76ab5123f8",
   "metadata": {},
   "outputs": [
    {
     "data": {
      "text/plain": [
       "[<tf.Variable 'true_positives:0' shape=(1,) dtype=float32, numpy=array([4.], dtype=float32)>,\n",
       " <tf.Variable 'false_positives:0' shape=(1,) dtype=float32, numpy=array([1.], dtype=float32)>]"
      ]
     },
     "execution_count": 25,
     "metadata": {},
     "output_type": "execute_result"
    }
   ],
   "source": [
    "precision.variables"
   ]
  },
  {
   "cell_type": "code",
   "execution_count": 27,
   "id": "ea6bb4ac-86a4-4ee4-8f25-9f90d9b9de69",
   "metadata": {},
   "outputs": [],
   "source": [
    "precision.reset_states() # 变量重新设为0"
   ]
  },
  {
   "cell_type": "code",
   "execution_count": 29,
   "id": "18b7b181-819e-4c34-aee7-9ad619005e2e",
   "metadata": {},
   "outputs": [
    {
     "data": {
      "text/plain": [
       "[<tf.Variable 'true_positives:0' shape=(1,) dtype=float32, numpy=array([0.], dtype=float32)>,\n",
       " <tf.Variable 'false_positives:0' shape=(1,) dtype=float32, numpy=array([0.], dtype=float32)>]"
      ]
     },
     "execution_count": 29,
     "metadata": {},
     "output_type": "execute_result"
    }
   ],
   "source": [
    "precision.variables"
   ]
  },
  {
   "cell_type": "code",
   "execution_count": 31,
   "id": "a049ec59-aeb0-4739-8743-e3c3808e4a38",
   "metadata": {},
   "outputs": [],
   "source": [
    "class HuberMetric(keras.metrics.Metric):\n",
    "    def __init__(self, threshold=1.0, **kwargs):\n",
    "        super().__init__(**kwargs) # 处理接收基本参数 (e.g., dtype)\n",
    "        self.threshold = threshold\n",
    "        self.huber_fn = create_huber(threshold)\n",
    "        self.total = self.add_weight(\"total\", initializer=\"zeros\") # 用于跟踪所有Huber损失的总和\n",
    "        self.count = self.add_weight(\"count\", initializer=\"zeros\") # 用于跟踪目前的实例数\n",
    "    def update_state(self, y_true, y_pred, sample_weight=None): # 用于更新变量\n",
    "        metric = self.huber_fn(y_true, y_pred) # 更新度量指标\n",
    "        self.total.assign_add(tf.reduce_sum(metric)) # 更新损失的总和\n",
    "        self.count.assign_add(tf.cast(tf.size(y_true), tf.float32)) # 更新实例数，tf.cast()于转换数据类型\n",
    "    def result(self):\n",
    "        return self.total / self.count # 计算返回最终结果\n",
    "    def get_config(self): # 确保threshold与模型一起被保存\n",
    "        base_config = super().get_config()\n",
    "        return {**base_config, \"threshold\": self.threshold}"
   ]
  },
  {
   "cell_type": "markdown",
   "id": "6365704e-6062-43cf-a196-556bc4f3bf5e",
   "metadata": {},
   "source": [
    "## 自定义层"
   ]
  },
  {
   "cell_type": "code",
   "execution_count": 3,
   "id": "bbcf9ed2",
   "metadata": {
    "ExecuteTime": {
     "end_time": "2022-03-03T06:50:21.580799Z",
     "start_time": "2022-03-03T06:50:21.570791Z"
    }
   },
   "outputs": [],
   "source": [
    "import tensorflow as tf\n",
    "from tensorflow import keras\n",
    "import numpy as np"
   ]
  },
  {
   "cell_type": "markdown",
   "id": "3f88f83e",
   "metadata": {},
   "source": [
    "### 单输入、单输出"
   ]
  },
  {
   "cell_type": "code",
   "execution_count": 3,
   "id": "33462e62-e660-467c-a127-bc1efba80664",
   "metadata": {
    "ExecuteTime": {
     "end_time": "2022-03-03T04:42:26.946923Z",
     "start_time": "2022-03-03T04:42:26.934923Z"
    }
   },
   "outputs": [],
   "source": [
    "class MyDense(keras.layers.Layer):\n",
    "    def __init__(self, units, activation=None, **kwargs):\n",
    "        super().__init__(**kwargs)\n",
    "        self.units = units # 神经元个数\n",
    "        self.activation = keras.activation.get(activation) # 传入激活函数名称，'relu'等\n",
    "    def build(self, batch_input_shape):\n",
    "        self.kernel = self.add_weight( # 创建层的变量\n",
    "            name='kernel', shape=[batch_input_shape[-1], self.units],\n",
    "            initializer='glorot_normal')\n",
    "        self.bias = self.add_weight( # 创建偏置项\n",
    "            name='bias', shape=[self.units], initializer='zeros')\n",
    "        super().build(batch_input_shape) # 最后调用父类built()，执行创建层命令（必要）\n",
    "    def call(self, X):\n",
    "        return self.activation(X @ self.kernel + self.bias) \n",
    "        # call()方法执行所需的操作，此时计算X与层内核的矩阵乘积并加上偏置项，对结果应用激活函数，获得层的输出\n",
    "    def compute_output_shape(self, batch_input_shape): \n",
    "        # 返回该层输出的形状，最后一个维度背替换为该层神经元数量，有时可以省略\n",
    "        return tf.TensorShape(batch_input_shape.as_list()[:-1] + [self.units])\n",
    "    def get_config(self):\n",
    "        base_config = super().get_config()\n",
    "        return {**base_config, 'units':self.units, # 保存其他参数（**base_config）加上两个自定义需要的参数\n",
    "                'activation':keras.activations.serialize(self.activation)}"
   ]
  },
  {
   "cell_type": "markdown",
   "id": "12f0532b",
   "metadata": {
    "ExecuteTime": {
     "end_time": "2022-03-03T03:58:25.004077Z",
     "start_time": "2022-03-03T03:58:24.984022Z"
    }
   },
   "source": [
    "### 多输入、多输出"
   ]
  },
  {
   "cell_type": "markdown",
   "id": "bad0b61e",
   "metadata": {},
   "source": [
    "Concatenate层一般是多输入或输出，因此在call()和compute_output_shape()应该有对应数量的输入、输出"
   ]
  },
  {
   "cell_type": "code",
   "execution_count": 4,
   "id": "37e6c944",
   "metadata": {
    "ExecuteTime": {
     "end_time": "2022-03-03T04:42:28.208722Z",
     "start_time": "2022-03-03T04:42:28.202723Z"
    }
   },
   "outputs": [],
   "source": [
    "class MyMultiLayer(keras.layers.Layer):\n",
    "    def call(self, X):\n",
    "        X1, X2 = X\n",
    "        return [X1 + X2, X1 * X2, X1 / X2] # 三个输出\n",
    "    def compute_output_shape(self, batch_input_shape):\n",
    "        b1, b2 = batch_input_shape\n",
    "        return [b1, b1, b1] # 三个输出形状"
   ]
  },
  {
   "cell_type": "markdown",
   "id": "a15c6881",
   "metadata": {},
   "source": [
    "### 测试和训练期间行为不同的层"
   ]
  },
  {
   "cell_type": "markdown",
   "id": "39471326",
   "metadata": {},
   "source": [
    "创建一个训练期间添加高斯噪声（正则化）但在测试期间不执行任何操作的层\n",
    "\n",
    "> keras.layers.GaussianNoise 功能相同"
   ]
  },
  {
   "cell_type": "code",
   "execution_count": 5,
   "id": "3c0db689",
   "metadata": {
    "ExecuteTime": {
     "end_time": "2022-03-03T04:52:00.571208Z",
     "start_time": "2022-03-03T04:52:00.558109Z"
    }
   },
   "outputs": [],
   "source": [
    "class MyGaussianNoise(keras.layers.Layer):\n",
    "    def __init__(self, stddev, **kwargs):\n",
    "        super().__init__(**kwargs)\n",
    "        self.stddev = stddev\n",
    "    def call(self, X, training=None): # training=None 不训练时不加入噪音\n",
    "        if training:\n",
    "            noise = tf.random.normal(tf.shape(X), stddev=self.stddev)\n",
    "            return X + noise\n",
    "        else:\n",
    "            return X\n",
    "    def compute_output_shape(self, batch_input_shape):\n",
    "        return batch_input_shape"
   ]
  },
  {
   "cell_type": "markdown",
   "id": "f86d4f95",
   "metadata": {},
   "source": [
    "## 自定义模型"
   ]
  },
  {
   "cell_type": "markdown",
   "id": "d45525de",
   "metadata": {},
   "source": [
    "加利福尼亚房价回归任务"
   ]
  },
  {
   "cell_type": "code",
   "execution_count": 10,
   "id": "e5a06e60",
   "metadata": {
    "ExecuteTime": {
     "end_time": "2022-03-03T06:52:36.424379Z",
     "start_time": "2022-03-03T06:52:35.983265Z"
    }
   },
   "outputs": [],
   "source": [
    "from sklearn.datasets import fetch_california_housing\n",
    "from sklearn.model_selection import train_test_split\n",
    "from sklearn.preprocessing import StandardScaler\n",
    "\n",
    "housing = fetch_california_housing()\n",
    "X_train_full, X_test, y_train_full, y_test = train_test_split(\n",
    "    housing.data, housing.target.reshape(-1, 1), random_state=42)\n",
    "X_train, X_valid, y_train, y_valid = train_test_split(\n",
    "    X_train_full, y_train_full, random_state=42)\n",
    "\n",
    "scaler = StandardScaler()\n",
    "X_train_scaled = scaler.fit_transform(X_train)\n",
    "X_valid_scaled = scaler.transform(X_valid)\n",
    "X_test_scaled = scaler.transform(X_test)\n"
   ]
  },
  {
   "cell_type": "code",
   "execution_count": 7,
   "id": "adfe780f",
   "metadata": {
    "ExecuteTime": {
     "end_time": "2022-03-03T06:53:29.951359Z",
     "start_time": "2022-03-03T06:53:29.928349Z"
    }
   },
   "outputs": [
    {
     "data": {
      "text/plain": [
       "((11610, 4), (11610, 4))"
      ]
     },
     "execution_count": 7,
     "metadata": {},
     "output_type": "execute_result"
    }
   ],
   "source": [
    "def split_data(data):\n",
    "    columns_count = data.shape[-1]\n",
    "    half = columns_count // 2\n",
    "    return data[:, :half], data[:, half:]\n",
    "\n",
    "X_train_scaled_A, X_train_scaled_B = split_data(X_train_scaled)\n",
    "X_valid_scaled_A, X_valid_scaled_B = split_data(X_valid_scaled)\n",
    "X_test_scaled_A, X_test_scaled_B = split_data(X_test_scaled)\n",
    "\n",
    "# Printing the splitted data shapes\n",
    "X_train_scaled_A.shape, X_train_scaled_B.shape"
   ]
  },
  {
   "cell_type": "code",
   "execution_count": 8,
   "id": "37cefdd7",
   "metadata": {
    "ExecuteTime": {
     "end_time": "2022-03-03T06:53:54.265281Z",
     "start_time": "2022-03-03T06:53:54.251282Z"
    }
   },
   "outputs": [],
   "source": [
    "X_new_scaled = X_test_scaled"
   ]
  },
  {
   "cell_type": "markdown",
   "id": "7b4dd57d",
   "metadata": {},
   "source": [
    "该模型没有什么意义，只是作为示例"
   ]
  },
  {
   "cell_type": "markdown",
   "id": "3fe16694",
   "metadata": {},
   "source": [
    "![image-2.png](attachment:image-2.png)"
   ]
  },
  {
   "cell_type": "code",
   "execution_count": 9,
   "id": "2cc7a140",
   "metadata": {
    "ExecuteTime": {
     "end_time": "2022-03-03T06:50:31.368090Z",
     "start_time": "2022-03-03T06:50:31.355098Z"
    }
   },
   "outputs": [],
   "source": [
    "# 先建立一个残差层\n",
    "class ResidualBlock(keras.layers.Layer):\n",
    "    def __init__(self, n_layers, n_neurons, **kwargs):\n",
    "        super().__init__(**kwargs)\n",
    "        self.hidden = [keras.layers.Dense(n_neurons, activation='elu',\n",
    "                                         kernel_initializer='he_normal') for _ in range(n_layers)]\n",
    "        # 建立含有n_layers个密集层的隐藏层\n",
    "        def call(self, inputs):\n",
    "            Z = inputs\n",
    "            for layer in self.hidden: # input在隐藏层循环一轮再输出\n",
    "                Z = layer(Z)\n",
    "            return inputs + Z # 返回原始输入值加上其通过隐藏层后的输出"
   ]
  },
  {
   "cell_type": "code",
   "execution_count": 10,
   "id": "350bd17d",
   "metadata": {
    "ExecuteTime": {
     "end_time": "2022-03-03T06:50:54.045640Z",
     "start_time": "2022-03-03T06:50:54.026849Z"
    }
   },
   "outputs": [],
   "source": [
    "# 建立模型\n",
    "class ResidualRegressor(keras.Model): # 继承Model类\n",
    "    def __init__(self, output_dim, **kwargs):\n",
    "        super().__init__(**kwargs)\n",
    "        self.hidden1 = keras.layers.Dense(30, activation='elu', kernel_initializer='he_normal')\n",
    "        self.block1 = ResidualBlock(2, 30) # 第一个残差层，包括2个隐藏层，每层30个神经元\n",
    "        self.block2 = ResidualBlock(2, 30) # 第二个残差层\n",
    "        self.out = keras.layers.Dense(output_dim)\n",
    "    def call(self, inputs):\n",
    "        Z = self.hidden1(inputs)\n",
    "        for _ in range(1 + 3):\n",
    "            Z = self.block1(Z)\n",
    "        Z = self.block2(Z)\n",
    "        return self.out(Z)"
   ]
  },
  {
   "cell_type": "markdown",
   "id": "042b34a0",
   "metadata": {},
   "source": [
    "若要实现保存参数，则在ResidualBlock类和ResidualRegressor类中都实现get_config()方法"
   ]
  },
  {
   "cell_type": "code",
   "execution_count": 11,
   "id": "34e3e717",
   "metadata": {
    "ExecuteTime": {
     "end_time": "2022-03-03T06:53:32.819256Z",
     "start_time": "2022-03-03T06:53:32.799258Z"
    }
   },
   "outputs": [],
   "source": [
    "keras.backend.clear_session()\n",
    "np.random.seed(42)\n",
    "tf.random.set_seed(42)\n",
    "\n",
    "model = ResidualRegressor(1)\n",
    "model.compile(loss=\"mse\", optimizer=\"nadam\")"
   ]
  },
  {
   "cell_type": "code",
   "execution_count": 12,
   "id": "e925a0cd",
   "metadata": {
    "ExecuteTime": {
     "end_time": "2022-03-03T06:53:34.206582Z",
     "start_time": "2022-03-03T06:53:32.971024Z"
    }
   },
   "outputs": [
    {
     "name": "stdout",
     "output_type": "stream",
     "text": [
      "Epoch 1/5\n",
      "363/363 [==============================] - 1s 517us/step - loss: 1.8269\n",
      "Epoch 2/5\n",
      "363/363 [==============================] - 0s 518us/step - loss: 0.8722\n",
      "Epoch 3/5\n",
      "363/363 [==============================] - 0s 530us/step - loss: 0.6647\n",
      "Epoch 4/5\n",
      "363/363 [==============================] - 0s 519us/step - loss: 0.5604\n",
      "Epoch 5/5\n",
      "363/363 [==============================] - 0s 507us/step - loss: 0.4961\n"
     ]
    }
   ],
   "source": [
    "history = model.fit(X_train_scaled, y_train, epochs=5)"
   ]
  },
  {
   "cell_type": "code",
   "execution_count": 13,
   "id": "b69a5c91",
   "metadata": {
    "ExecuteTime": {
     "end_time": "2022-03-03T06:55:32.951204Z",
     "start_time": "2022-03-03T06:55:32.783175Z"
    }
   },
   "outputs": [
    {
     "name": "stdout",
     "output_type": "stream",
     "text": [
      "162/162 [==============================] - 0s 434us/step - loss: 0.4268\n"
     ]
    }
   ],
   "source": [
    "score = model.evaluate(X_test_scaled, y_test)\n",
    "y_pred = model.predict(X_new_scaled)"
   ]
  },
  {
   "cell_type": "code",
   "execution_count": 14,
   "id": "abe7df7b",
   "metadata": {
    "ExecuteTime": {
     "end_time": "2022-03-03T06:55:34.434284Z",
     "start_time": "2022-03-03T06:55:34.424285Z"
    }
   },
   "outputs": [
    {
     "name": "stdout",
     "output_type": "stream",
     "text": [
      "Model: \"residual_regressor\"\n",
      "_________________________________________________________________\n",
      " Layer (type)                Output Shape              Param #   \n",
      "=================================================================\n",
      " dense (Dense)               multiple                  270       \n",
      "                                                                 \n",
      " residual_block (ResidualBlo  multiple                 0         \n",
      " ck)                                                             \n",
      "                                                                 \n",
      " residual_block_1 (ResidualB  multiple                 0         \n",
      " lock)                                                           \n",
      "                                                                 \n",
      " dense_5 (Dense)             multiple                  31        \n",
      "                                                                 \n",
      "=================================================================\n",
      "Total params: 301\n",
      "Trainable params: 301\n",
      "Non-trainable params: 0\n",
      "_________________________________________________________________\n"
     ]
    }
   ],
   "source": [
    "model.summary()"
   ]
  },
  {
   "cell_type": "markdown",
   "id": "5a0d94c0",
   "metadata": {},
   "source": [
    "也可以用顺序API构建"
   ]
  },
  {
   "cell_type": "code",
   "execution_count": 15,
   "id": "5e450bd4",
   "metadata": {
    "ExecuteTime": {
     "end_time": "2022-03-03T06:58:13.061642Z",
     "start_time": "2022-03-03T06:58:11.731813Z"
    }
   },
   "outputs": [
    {
     "name": "stdout",
     "output_type": "stream",
     "text": [
      "Epoch 1/5\n",
      "363/363 [==============================] - 0s 511us/step - loss: 1.9205\n",
      "Epoch 2/5\n",
      "363/363 [==============================] - 0s 515us/step - loss: 0.5843\n",
      "Epoch 3/5\n",
      "363/363 [==============================] - 0s 515us/step - loss: 0.4984\n",
      "Epoch 4/5\n",
      "363/363 [==============================] - 0s 529us/step - loss: 0.4710\n",
      "Epoch 5/5\n",
      "363/363 [==============================] - 0s 514us/step - loss: 0.4561\n",
      "162/162 [==============================] - 0s 505us/step - loss: 0.4414\n"
     ]
    }
   ],
   "source": [
    "block1 = ResidualBlock(2, 30)\n",
    "model = keras.models.Sequential([ # 顺序API构建\n",
    "    keras.layers.Dense(30, activation=\"elu\", kernel_initializer=\"he_normal\"),\n",
    "    block1, block1, block1, block1,\n",
    "    ResidualBlock(2, 30),\n",
    "    keras.layers.Dense(1)\n",
    "])\n",
    "model.compile(loss=\"mse\", optimizer=\"nadam\")\n",
    "history = model.fit(X_train_scaled, y_train, epochs=5)\n",
    "score = model.evaluate(X_test_scaled, y_test)\n",
    "y_pred = model.predict(X_new_scaled)"
   ]
  },
  {
   "cell_type": "markdown",
   "id": "fa37711e",
   "metadata": {},
   "source": [
    "## 基于模型内部的损失和指标"
   ]
  },
  {
   "cell_type": "code",
   "execution_count": 16,
   "id": "a9122381",
   "metadata": {
    "ExecuteTime": {
     "end_time": "2022-03-03T07:05:34.643093Z",
     "start_time": "2022-03-03T07:05:34.637093Z"
    }
   },
   "outputs": [],
   "source": [
    "class ReconstructingRegressor(keras.Model):\n",
    "    def __init__(self, output_dim, **kwargs):\n",
    "        super().__init__(**kwargs)\n",
    "        self.hidden = [keras.layers.Dense(30, activation=\"selu\",\n",
    "                                          kernel_initializer=\"lecun_normal\")\n",
    "                       for _ in range(5)]\n",
    "        self.out = keras.layers.Dense(output_dim)\n",
    "        self.reconstruction_mean = keras.metrics.Mean(name=\"reconstruction_error\")\n",
    "\n",
    "    def build(self, batch_input_shape):\n",
    "        n_inputs = batch_input_shape[-1]\n",
    "        self.reconstruct = keras.layers.Dense(n_inputs)\n",
    "        # super().build(batch_input_shape) # 调用报错\n",
    "\n",
    "    def call(self, inputs, training=None):\n",
    "        Z = inputs\n",
    "        for layer in self.hidden:\n",
    "            Z = layer(Z)\n",
    "        reconstruction = self.reconstruct(Z)\n",
    "        recon_loss = tf.reduce_mean(tf.square(reconstruction - inputs))\n",
    "        self.add_loss(0.05 * recon_loss) # 将重建损失添加到模型的损失列表中，0.05是超参数\n",
    "        if training:\n",
    "            result = self.reconstruction_mean(recon_loss)\n",
    "            self.add_metric(result)\n",
    "        return self.out(Z)"
   ]
  },
  {
   "cell_type": "code",
   "execution_count": 17,
   "id": "c9163cd3",
   "metadata": {
    "ExecuteTime": {
     "end_time": "2022-03-03T07:02:47.418143Z",
     "start_time": "2022-03-03T07:02:46.366914Z"
    }
   },
   "outputs": [
    {
     "name": "stdout",
     "output_type": "stream",
     "text": [
      "Epoch 1/2\n",
      "363/363 [==============================] - 1s 639us/step - loss: 0.7088 - reconstruction_error: 0.6006\n",
      "Epoch 2/2\n",
      "363/363 [==============================] - 0s 625us/step - loss: 0.4236 - reconstruction_error: 0.3393\n"
     ]
    }
   ],
   "source": [
    "model = ReconstructingRegressor(1)\n",
    "model.compile(loss=\"mse\", optimizer=\"nadam\")\n",
    "history = model.fit(X_train_scaled, y_train, epochs=2)\n",
    "y_pred = model.predict(X_test_scaled)"
   ]
  },
  {
   "cell_type": "markdown",
   "id": "b8e435d1",
   "metadata": {},
   "source": [
    "## 自动微分计算梯度"
   ]
  },
  {
   "cell_type": "code",
   "execution_count": 18,
   "id": "a517a96f",
   "metadata": {},
   "outputs": [],
   "source": [
    "def f(w1, w2):\n",
    "    return 3 * w1 ** 2 + 2 * w1 * w2\n",
    "w1, w2 = 5, 3\n",
    "eps = 1e-6"
   ]
  },
  {
   "cell_type": "code",
   "execution_count": 19,
   "id": "69c5ab1d",
   "metadata": {},
   "outputs": [
    {
     "data": {
      "text/plain": [
       "36.000003007075065"
      ]
     },
     "execution_count": 19,
     "metadata": {},
     "output_type": "execute_result"
    }
   ],
   "source": [
    "(f(w1 + eps, w2) - f(w1, w2)) / eps # 导数定义求梯度"
   ]
  },
  {
   "cell_type": "code",
   "execution_count": 20,
   "id": "897e66e5",
   "metadata": {},
   "outputs": [
    {
     "data": {
      "text/plain": [
       "10.000000003174137"
      ]
     },
     "execution_count": 20,
     "metadata": {},
     "output_type": "execute_result"
    }
   ],
   "source": [
    "(f(w1, w2 + eps) - f(w1, w2)) / eps # 导数定义求梯度"
   ]
  },
  {
   "cell_type": "code",
   "execution_count": 21,
   "id": "767fa78b",
   "metadata": {},
   "outputs": [],
   "source": [
    "w1, w2 = tf.Variable(5.), tf.Variable(3.) # 定义连哥哥变量w1，w2"
   ]
  },
  {
   "cell_type": "code",
   "execution_count": 22,
   "id": "fa4bc5a9",
   "metadata": {},
   "outputs": [],
   "source": [
    "with tf.GradientTape() as tape:\n",
    "    z = f(w1, w2)\n",
    "\n",
    "gradients = tape.gradient(z, [w1, w2]) # 自动微分"
   ]
  },
  {
   "cell_type": "code",
   "execution_count": 23,
   "id": "f3f6555c",
   "metadata": {},
   "outputs": [
    {
     "data": {
      "text/plain": [
       "[<tf.Tensor: shape=(), dtype=float32, numpy=36.0>,\n",
       " <tf.Tensor: shape=(), dtype=float32, numpy=10.0>]"
      ]
     },
     "execution_count": 23,
     "metadata": {},
     "output_type": "execute_result"
    }
   ],
   "source": [
    "gradients"
   ]
  },
  {
   "cell_type": "markdown",
   "id": "4c54f2e7",
   "metadata": {},
   "source": [
    "调用tape的gradient()后，tape会被立即自动删除，因此如果尝试两次调用gradient()，则会出现异常\n",
    "\n",
    "如果要多次调用，使用超参数tf.GradientTpae(persistent=True)，使用后将tape删除释放资源"
   ]
  },
  {
   "cell_type": "code",
   "execution_count": 24,
   "id": "d7b33da8",
   "metadata": {},
   "outputs": [
    {
     "data": {
      "text/plain": [
       "(<tf.Tensor: shape=(), dtype=float32, numpy=36.0>,\n",
       " <tf.Tensor: shape=(), dtype=float32, numpy=10.0>)"
      ]
     },
     "execution_count": 24,
     "metadata": {},
     "output_type": "execute_result"
    }
   ],
   "source": [
    "with tf.GradientTape(persistent=True) as tape:\n",
    "    z = f(w1, w2)\n",
    "\n",
    "dz_dw1 = tape.gradient(z, w1)\n",
    "dz_dw2 = tape.gradient(z, w2)\n",
    "del tape\n",
    "\n",
    "dz_dw1, dz_dw2"
   ]
  },
  {
   "cell_type": "markdown",
   "id": "a5982ca9",
   "metadata": {},
   "source": [
    "tape 默认只跟踪设计变量的操作，因此如果尝试针对变量以外的其他变量（如c1）计算z的梯度，结果为None"
   ]
  },
  {
   "cell_type": "code",
   "execution_count": 25,
   "metadata": {},
   "outputs": [
    {
     "data": {
      "text/plain": [
       "[None, None]"
      ]
     },
     "execution_count": 25,
     "metadata": {},
     "output_type": "execute_result"
    }
   ],
   "source": [
    "c1, c2 = tf.constant(5.), tf.constant(3.)\n",
    "with tf.GradientTape() as tape:\n",
    "    z = f(c1, c2)\n",
    "\n",
    "gradients = tape.gradient(z, [c1, c2]) # 自动微分\n",
    "gradients"
   ]
  },
  {
   "cell_type": "markdown",
   "id": "617e90b9",
   "metadata": {},
   "source": [
    "也可以强制观察其他变量"
   ]
  },
  {
   "cell_type": "code",
   "execution_count": 26,
   "id": "039d4162",
   "metadata": {},
   "outputs": [
    {
     "data": {
      "text/plain": [
       "[<tf.Tensor: shape=(), dtype=float32, numpy=36.0>,\n",
       " <tf.Tensor: shape=(), dtype=float32, numpy=10.0>]"
      ]
     },
     "execution_count": 26,
     "metadata": {},
     "output_type": "execute_result"
    }
   ],
   "source": [
    "c1, c2 = tf.constant(5.), tf.constant(3.)\n",
    "with tf.GradientTape() as tape:\n",
    "    tape.watch(c1)\n",
    "    tape.watch(c2)\n",
    "    z = f(c1, c2)\n",
    "\n",
    "gradients = tape.gradient(z, [c1, c2]) # 自动微分\n",
    "gradients"
   ]
  },
  {
   "cell_type": "markdown",
   "id": "8254bbce",
   "metadata": {},
   "source": [
    "大多数情况下，反向自动微分只需执行一次正向传播和一次反向传播即可获得所有梯度，如果需要获取单独的梯度，则必须使用tape的jacobian()方法，也可以计算二阶偏导"
   ]
  },
  {
   "cell_type": "markdown",
   "id": "0f3b001b",
   "metadata": {},
   "source": [
    "有时候需要阻止梯度在神经网络的某些部分反向传播，使用tf.stop_gradient()函数"
   ]
  },
  {
   "cell_type": "code",
   "execution_count": 30,
   "id": "b98710e5",
   "metadata": {},
   "outputs": [],
   "source": [
    "def f(w1, w2):\n",
    "    return 3 * w1 ** 2 + tf.stop_gradient(2 * w1 * w2) # 无法对加号后面部分微分\n",
    "\n",
    "with tf.GradientTape() as tape:\n",
    "    z = f(w1, w2)\n",
    "\n",
    "gradients = tape.gradient(z, [w1, w2])"
   ]
  },
  {
   "cell_type": "code",
   "execution_count": 32,
   "id": "273e4db5",
   "metadata": {},
   "outputs": [
    {
     "data": {
      "text/plain": [
       "[<tf.Tensor: shape=(), dtype=float32, numpy=30.0>, None]"
      ]
     },
     "execution_count": 32,
     "metadata": {},
     "output_type": "execute_result"
    }
   ],
   "source": [
    "gradients # 第二个输出为None"
   ]
  },
  {
   "cell_type": "code",
   "execution_count": 7,
   "id": "5620e413",
   "metadata": {},
   "outputs": [],
   "source": [
    "def my_softplus(x):\n",
    "    return tf.math.log(1 + tf.exp(x))"
   ]
  },
  {
   "cell_type": "code",
   "execution_count": 13,
   "id": "ddd47bec",
   "metadata": {},
   "outputs": [
    {
     "data": {
      "text/plain": [
       "[<tf.Tensor: shape=(1,), dtype=float32, numpy=array([nan], dtype=float32)>]"
      ]
     },
     "execution_count": 13,
     "metadata": {},
     "output_type": "execute_result"
    }
   ],
   "source": [
    "x = tf.Variable([100.])\n",
    "with tf.GradientTape() as tape:\n",
    "    z = my_softplus(x)\n",
    "\n",
    "tape.gradient(z, [x])"
   ]
  },
  {
   "cell_type": "markdown",
   "id": "735cc7eb",
   "metadata": {},
   "source": [
    "由于浮点精度误差，自动微分无法计算无穷除以无穷（返回NaN），下面两种方法解决（第一种暂不明确含义，见书P353）"
   ]
  },
  {
   "cell_type": "code",
   "execution_count": 14,
   "id": "fe83ea50",
   "metadata": {},
   "outputs": [],
   "source": [
    "@tf.custom_gradient\n",
    "def my_better_softplus(z):\n",
    "    exp = tf.exp(z)\n",
    "    def my_softplus_gradients(grad):\n",
    "        return grad / (1+ 1 / exp)\n",
    "    return tf.math.log(exp + 1), my_softplus_gradients"
   ]
  },
  {
   "cell_type": "code",
   "execution_count": 15,
   "id": "51f1cbfe",
   "metadata": {},
   "outputs": [],
   "source": [
    "# 或者\n",
    "def my_better_softplus(z):\n",
    "    return tf.where(z > 30., z, tf.math.log(tf.exp(z) + 1.))"
   ]
  },
  {
   "cell_type": "code",
   "execution_count": 16,
   "id": "7e3c798a",
   "metadata": {},
   "outputs": [
    {
     "data": {
      "text/plain": [
       "(<tf.Tensor: shape=(1,), dtype=float32, numpy=array([1000.], dtype=float32)>,\n",
       " [<tf.Tensor: shape=(1,), dtype=float32, numpy=array([nan], dtype=float32)>])"
      ]
     },
     "execution_count": 16,
     "metadata": {},
     "output_type": "execute_result"
    }
   ],
   "source": [
    "x = tf.Variable([1000.])\n",
    "with tf.GradientTape() as tape:\n",
    "    z = my_better_softplus(x)\n",
    "\n",
    "z, tape.gradient(z, [x])"
   ]
  },
  {
   "cell_type": "markdown",
   "id": "9221f8fd",
   "metadata": {},
   "source": [
    "## 自定义训练循环\n",
    "\n",
    "除非真的需要额外的灵活性，否则应该更倾向于使用`fit()`方法，而不是用自己实现的训练循环"
   ]
  },
  {
   "cell_type": "code",
   "execution_count": 4,
   "id": "7faf190c",
   "metadata": {},
   "outputs": [],
   "source": [
    "# 建立一个简单的模型，无需编译，后面手动处理循环\n",
    "l2_reg = keras.regularizers.l2(0.05)\n",
    "\n",
    "model = keras.models.Sequential([\n",
    "    keras.layers.Dense(30, activation='elu', kernel_initializer='he_normal',\n",
    "        kernel_regularizer=l2_reg),\n",
    "    keras.layers.Dense(1, kernel_regularizer=l2_reg),\n",
    "])"
   ]
  },
  {
   "cell_type": "code",
   "execution_count": 5,
   "id": "63ba1d95",
   "metadata": {},
   "outputs": [],
   "source": [
    "# 随机按批量（32）取数\n",
    "def random_batch(X, y, batch_size=32):\n",
    "    idx = np.random.randint(len(X), size=batch_size)\n",
    "    return X[idx], y[idx] # 随机按批量（32）取数"
   ]
  },
  {
   "cell_type": "code",
   "execution_count": 6,
   "id": "d6a26cfd",
   "metadata": {},
   "outputs": [],
   "source": [
    "# 显示状态，含有进度条，也可以用tqdm库实现\n",
    "def print_status_bar(iteration, total, loss, metrics=None):\n",
    "    metrics = ' - '.join(['{}: {:4f}'.format(m.name, m.result()) for m in [loss] + (metrics or [])])\n",
    "    end = '' if iteration < total else '\\n'\n",
    "    print('\\r{}/{} - '.format(iteration, total) + metrics, end=end)"
   ]
  },
  {
   "cell_type": "code",
   "execution_count": 33,
   "id": "edf47c14",
   "metadata": {},
   "outputs": [],
   "source": [
    "# 定义一些超参数\n",
    "n_epochs = 5\n",
    "batch_size = 32\n",
    "n_steps = len(X_train) // batch_size # 取数次数，实际上不一定能全部取到，甚至有重复取到的情况，但是也可以接受\n",
    "optimizer = keras.optimizers.Nadam(learning_rate=0.01)\n",
    "loss_fn = keras.losses.mean_squared_error\n",
    "mean_loss = keras.metrics.Mean()\n",
    "metrics = [keras.metrics.MeanAbsoluteError()]"
   ]
  },
  {
   "cell_type": "code",
   "execution_count": 57,
   "id": "d91beaab",
   "metadata": {},
   "outputs": [
    {
     "name": "stdout",
     "output_type": "stream",
     "text": [
      "Epoch 1/5\n",
      "11610/11610 - mean: 0.636177 - mean_absolute_error: 0.510248\n",
      "Epoch 2/5\n",
      "11610/11610 - mean: 0.603780 - mean_absolute_error: 0.500410\n",
      "Epoch 3/5\n",
      "11610/11610 - mean: 0.627343 - mean_absolute_error: 0.507777\n",
      "Epoch 4/5\n",
      "11610/11610 - mean: 0.615942 - mean_absolute_error: 0.504816\n",
      "Epoch 5/5\n",
      "11610/11610 - mean: 0.625158 - mean_absolute_error: 0.511287\n"
     ]
    }
   ],
   "source": [
    "for epoch in range(1, n_epochs + 1):\n",
    "    print(\"Epoch {}/{}\".format(epoch, n_epochs))\n",
    "    for step in range(1, n_steps + 1): # 取n次数\n",
    "        X_batch, y_batch = random_batch(X_train_scaled, y_train) # 每次从数据中批量取32个\n",
    "        with tf.GradientTape() as tape:\n",
    "            y_pred = model(X_batch, training=True) # 训练该批次数据\n",
    "            main_loss = tf.reduce_mean(loss_fn(y_batch, y_pred)) # 该批次平均损失\n",
    "            loss = tf.add_n([main_loss] + model.losses) # 损失求和，model.losses包含一个主损失和一个正则化损失\n",
    "        gradients = tape.gradient(loss, model.trainable_variables) # 计算可训练变量的梯度\n",
    "        # 可以在执行梯度下降之前对梯度应用其他变换\n",
    "        optimizer.apply_gradients(zip(gradients, model.trainable_variables))\n",
    "        # ↑ 执行梯度下降更新权重，在此之后还可以对权重增加其他操作，如增加约束\n",
    "        mean_loss(loss) # keras.metrics.Mean()，求均值\n",
    "        for metric in metrics: # 更新平均损失和指标（不懂）\n",
    "            metric(y_batch, y_pred)\n",
    "        print_status_bar(step * batch_size, len(y_train), mean_loss, metrics) # 显示状态\n",
    "    print_status_bar(len(y_train), len(y_train), mean_loss, metrics)\n",
    "    for metric in [mean_loss] + metrics: # 重置损失和指标\n",
    "        metric.reset_states()"
   ]
  },
  {
   "cell_type": "markdown",
   "id": "d75e1cf8",
   "metadata": {},
   "source": [
    "实际上除了优化器，其他部分很少自定义"
   ]
  },
  {
   "cell_type": "markdown",
   "id": "65d0db7c",
   "metadata": {},
   "source": [
    "## 自定义优化器\n",
    "\n",
    "下面是一个示例"
   ]
  },
  {
   "cell_type": "code",
   "execution_count": 58,
   "id": "a8d4a1e8",
   "metadata": {},
   "outputs": [],
   "source": [
    "class MyMomentumOptimizer(keras.optimizers.Optimizer): # 继承优化器方法\n",
    "    def __init__(self, learning_rate=0.001, momentum=0.9, name=\"MyMomentumOptimizer\", **kwargs):\n",
    "        \"\"\"调用super().__init__() 并使用 _set_hyper() 来储存超参数\"\"\"\n",
    "        super().__init__(name, **kwargs)\n",
    "        self._set_hyper(\"learning_rate\", kwargs.get(\"lr\", learning_rate)) # handle lr=learning_rate\n",
    "        self._set_hyper(\"decay\", self._initial_decay)\n",
    "        self._set_hyper(\"momentum\", momentum)\n",
    "    \n",
    "    def _create_slots(self, var_list):\n",
    "        \"\"\"对于每一个模型变量，创造与之相关的优化器变量\n",
    "        TensorFlow 称这些变量为 \"slots\"（槽）.\n",
    "        对于动量优化，我们需要每个模型变量一个动量槽.\n",
    "        \"\"\"\n",
    "        for var in var_list:\n",
    "            self.add_slot(var, \"momentum\")\n",
    "\n",
    "    @tf.function\n",
    "    def _resource_apply_dense(self, grad, var):\n",
    "        \"\"\"\n",
    "        更新槽并对一个模型变量执行一个优化步骤\n",
    "        \"\"\"\n",
    "        var_dtype = var.dtype.base_dtype\n",
    "        lr_t = self._decayed_lr(var_dtype) # handle learning rate decay\n",
    "        momentum_var = self.get_slot(var, \"momentum\")\n",
    "        momentum_hyper = self._get_hyper(\"momentum\", var_dtype)\n",
    "        momentum_var.assign(momentum_var * momentum_hyper - (1. - momentum_hyper)* grad)\n",
    "        var.assign_add(momentum_var * lr_t)\n",
    "\n",
    "    def _resource_apply_sparse(self, grad, var):\n",
    "        raise NotImplementedError\n",
    "\n",
    "    def get_config(self):\n",
    "        base_config = super().get_config()\n",
    "        return {\n",
    "            **base_config,\n",
    "            \"learning_rate\": self._serialize_hyperparameter(\"learning_rate\"),\n",
    "            \"decay\": self._serialize_hyperparameter(\"decay\"),\n",
    "            \"momentum\": self._serialize_hyperparameter(\"momentum\"),\n",
    "        }"
   ]
  },
  {
   "cell_type": "code",
   "execution_count": 59,
   "id": "9d825e1e",
   "metadata": {},
   "outputs": [],
   "source": [
    "model = keras.models.Sequential([keras.layers.Dense(1, input_shape=[8])])\n",
    "model.compile(loss=\"mse\", optimizer=MyMomentumOptimizer())"
   ]
  },
  {
   "cell_type": "markdown",
   "id": "6561d2da",
   "metadata": {},
   "source": [
    "# Tensorflow函数和图 "
   ]
  },
  {
   "cell_type": "code",
   "execution_count": 68,
   "id": "7ca2fce5",
   "metadata": {},
   "outputs": [],
   "source": [
    "def cube(x):\n",
    "    return x ** 3"
   ]
  },
  {
   "cell_type": "code",
   "execution_count": 69,
   "id": "2bcb68da",
   "metadata": {},
   "outputs": [
    {
     "data": {
      "text/plain": [
       "8"
      ]
     },
     "execution_count": 69,
     "metadata": {},
     "output_type": "execute_result"
    }
   ],
   "source": [
    "cube(2)"
   ]
  },
  {
   "cell_type": "code",
   "execution_count": 63,
   "id": "df6e753d",
   "metadata": {},
   "outputs": [
    {
     "data": {
      "text/plain": [
       "<tf.Tensor: shape=(), dtype=float32, numpy=8.0>"
      ]
     },
     "execution_count": 63,
     "metadata": {},
     "output_type": "execute_result"
    }
   ],
   "source": [
    "cube(tf.constant(2.))"
   ]
  },
  {
   "cell_type": "markdown",
   "id": "a1b77a11",
   "metadata": {},
   "source": [
    "转化为tf函数，即生成等效的计算图，TF可以优化计算图，修建未使用的节点，在keras中使用时，会自动将函数转化为TF函数"
   ]
  },
  {
   "cell_type": "code",
   "execution_count": 65,
   "id": "0cfb4c40",
   "metadata": {},
   "outputs": [],
   "source": [
    "tf_cube = tf.function(cube)"
   ]
  },
  {
   "cell_type": "code",
   "execution_count": 66,
   "id": "d54a6d5b",
   "metadata": {},
   "outputs": [
    {
     "data": {
      "text/plain": [
       "<tf.Tensor: shape=(), dtype=int32, numpy=8>"
      ]
     },
     "execution_count": 66,
     "metadata": {},
     "output_type": "execute_result"
    }
   ],
   "source": [
    "tf_cube(2)"
   ]
  },
  {
   "cell_type": "code",
   "execution_count": 70,
   "id": "9d07e8f6",
   "metadata": {},
   "outputs": [],
   "source": [
    "# 可以使用tf.function作为修饰器，效果相同\n",
    "@tf.function\n",
    "def tf_cube(x):\n",
    "    return x ** 3"
   ]
  },
  {
   "cell_type": "markdown",
   "id": "dc7caa2e",
   "metadata": {},
   "source": [
    "在本示例中几乎没有需要优化的东西，因此`tf_cube()`的运行实际上比`cube()`慢得多"
   ]
  },
  {
   "cell_type": "markdown",
   "id": "a5101589",
   "metadata": {},
   "source": [
    "## 自动图和跟踪"
   ]
  },
  {
   "cell_type": "markdown",
   "id": "3ec28c31",
   "metadata": {},
   "source": [
    "书P358"
   ]
  },
  {
   "cell_type": "markdown",
   "id": "b3c26089",
   "metadata": {},
   "source": [
    "## TF函数规则"
   ]
  },
  {
   "cell_type": "markdown",
   "id": "856ad3bf",
   "metadata": {},
   "source": [
    "书P359"
   ]
  }
 ],
 "metadata": {
  "kernelspec": {
   "display_name": "Python 3 (ipykernel)",
   "language": "python",
   "name": "python3"
  },
  "language_info": {
   "codemirror_mode": {
    "name": "ipython",
    "version": 3
   },
   "file_extension": ".py",
   "mimetype": "text/x-python",
   "name": "python",
   "nbconvert_exporter": "python",
   "pygments_lexer": "ipython3",
   "version": "3.9.7"
  },
  "toc": {
   "base_numbering": 1,
   "nav_menu": {
    "height": "358.002px",
    "width": "343.021px"
   },
   "number_sections": true,
   "sideBar": true,
   "skip_h1_title": false,
   "title_cell": "Table of Contents",
   "title_sidebar": "Contents",
   "toc_cell": false,
   "toc_position": {
    "height": "calc(100% - 180px)",
    "left": "10px",
    "top": "150px",
    "width": "212.197px"
   },
   "toc_section_display": true,
   "toc_window_display": true
  },
  "toc-autonumbering": true
 },
 "nbformat": 4,
 "nbformat_minor": 5
}
